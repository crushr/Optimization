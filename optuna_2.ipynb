{
 "cells": [
  {
   "cell_type": "code",
   "execution_count": 1,
   "source": [
    "import os\n",
    "import optuna\n",
    "from optuna.trial import TrialState\n",
    "import torch\n",
    "import torch.nn as nn\n",
    "import torch.nn.functional as F\n",
    "import torch.optim as optim\n",
    "import torch.utils.data\n",
    "from torchvision import datasets\n",
    "from torchvision import transforms"
   ],
   "outputs": [],
   "metadata": {}
  },
  {
   "cell_type": "code",
   "execution_count": 2,
   "source": [
    "DEVICE = torch.device(\"cpu\")\n",
    "BATCHSIZE = 128\n",
    "CLASSES = 10     #10分类\n",
    "DIR = os.getcwd()#'/Users/zhongshannan/Documents/Finetune/'\n",
    "EPOCHS = 10\n",
    "LOG_INTERVAL = 10\n",
    "N_TRAIN_EXAMPLES = BATCHSIZE * 30  #128*30\n",
    "N_VALID_EXAMPLES = BATCHSIZE * 10  #128*10"
   ],
   "outputs": [],
   "metadata": {}
  },
  {
   "cell_type": "code",
   "execution_count": 3,
   "source": [
    "def define_model(trial):\n",
    "    # 优化layers层数量、每一层的隐藏单元和dropout率\n",
    "    n_layers = trial.suggest_int(\"n_layers\", 1, 3) #设置层数为1-3\n",
    "    layers = []\n",
    "\n",
    "    in_features = 28 * 28\n",
    "    for i in range(n_layers):\n",
    "        out_features = trial.suggest_int(\"n_units_l{}\".format(i), 4, 128)#隐藏单元4-128\n",
    "        layers.append(nn.Linear(in_features, out_features))\n",
    "        layers.append(nn.ReLU())\n",
    "        # dropout_ratio越大舍弃的信息越多，loss下降的越慢，准确率增加的越慢\n",
    "        p = trial.suggest_float(\"dropout_l{}\".format(i), 0.2, 0.5)#dropout_ratio从0.2-0.5\n",
    "        layers.append(nn.Dropout(p))\n",
    "\n",
    "        in_features = out_features\n",
    "    layers.append(nn.Linear(in_features, CLASSES))\n",
    "    layers.append(nn.LogSoftmax(dim=1))\n",
    "\n",
    "    return nn.Sequential(*layers)"
   ],
   "outputs": [],
   "metadata": {}
  },
  {
   "cell_type": "code",
   "execution_count": 4,
   "source": [
    "def get_mnist():\n",
    "    # Load FashionMNIST dataset.\n",
    "    train_loader = torch.utils.data.DataLoader(\n",
    "        datasets.FashionMNIST(DIR, train=True, download=True, transform=transforms.ToTensor()),\n",
    "        batch_size=BATCHSIZE,\n",
    "        shuffle=True,\n",
    "    )\n",
    "    valid_loader = torch.utils.data.DataLoader(\n",
    "        datasets.FashionMNIST(DIR, train=False, transform=transforms.ToTensor()),\n",
    "        batch_size=BATCHSIZE,\n",
    "        shuffle=True,\n",
    "    )\n",
    "    return train_loader, valid_loader"
   ],
   "outputs": [],
   "metadata": {}
  },
  {
   "cell_type": "code",
   "execution_count": 5,
   "source": [
    "def objective(trial):\n",
    "\n",
    "    # Generate the model.\n",
    "    model = define_model(trial).to(DEVICE)\n",
    "\n",
    "    # Generate the optimizers.\n",
    "    #生成优化器 [\"Adam\", \"RMSprop\", \"SGD\"]\n",
    "    optimizer_name = trial.suggest_categorical(\"optimizer\", [\"Adam\", \"RMSprop\", \"SGD\"])\n",
    "    #设置学习率 1e-5到1e-1\n",
    "    lr = trial.suggest_float(\"lr\", 1e-5, 1e-1, log=True)\n",
    "    optimizer = getattr(optim, optimizer_name)(model.parameters(), lr=lr)\n",
    "\n",
    "    # Get the FashionMNIST dataset.\n",
    "    train_loader, valid_loader = get_mnist()\n",
    "\n",
    "    # Training of the model.\n",
    "    for epoch in range(EPOCHS):\n",
    "        model.train()\n",
    "        for batch_idx, (data, target) in enumerate(train_loader):\n",
    "            # Limiting training data for faster epochs.\n",
    "            if batch_idx * BATCHSIZE >= N_TRAIN_EXAMPLES:#batch_idx*128>30*128\n",
    "                break\n",
    "\n",
    "            data, target = data.view(data.size(0), -1).to(DEVICE), target.to(DEVICE)\n",
    "            \n",
    "            optimizer.zero_grad()#清空过往梯度，设为0\n",
    "            output = model(data)\n",
    "            loss = F.nll_loss(output, target)#计算损失\n",
    "            loss.backward()#反向传播，计算当前梯度\n",
    "            optimizer.step()#根据梯度更新网络参数\n",
    "\n",
    "        # 评估模型\n",
    "        model.eval()\n",
    "        correct = 0\n",
    "        with torch.no_grad():\n",
    "            for batch_idx, (data, target) in enumerate(valid_loader):\n",
    "                # Limiting validation data.\n",
    "                if batch_idx * BATCHSIZE >= N_VALID_EXAMPLES: #batch_idx*128>=30*128\n",
    "                    break\n",
    "                data, target = data.view(data.size(0), -1).to(DEVICE), target.to(DEVICE)\n",
    "                output = model(data)\n",
    "                # Get the index of the max log-probability.\n",
    "                #获得最大log概率的索引\n",
    "                pred = output.argmax(dim=1, keepdim=True)\n",
    "                correct += pred.eq(target.view_as(pred)).sum().item()\n",
    "\n",
    "        accuracy = correct / min(len(valid_loader.dataset), N_VALID_EXAMPLES)\n",
    "\n",
    "        trial.report(accuracy, epoch)\n",
    "\n",
    "        # 剪枝\n",
    "        if trial.should_prune():\n",
    "            raise optuna.exceptions.TrialPruned()\n",
    "    return accuracy"
   ],
   "outputs": [],
   "metadata": {}
  },
  {
   "cell_type": "code",
   "execution_count": 6,
   "source": [
    "if __name__ == \"__main__\":\n",
    "    study = optuna.create_study(direction=\"maximize\")\n",
    "    study.optimize(objective, n_trials=100, timeout=600)\n",
    "\n",
    "    pruned_trials = study.get_trials(deepcopy=False, states=[TrialState.PRUNED])\n",
    "    complete_trials = study.get_trials(deepcopy=False, states=[TrialState.COMPLETE])\n",
    "\n",
    "    print(\"Study statistics: \")\n",
    "    print(\"  Number of finished trials: \", len(study.trials))\n",
    "    print(\"  Number of pruned trials: \", len(pruned_trials))\n",
    "    print(\"  Number of complete trials: \", len(complete_trials))\n",
    "\n",
    "    print(\"Best trial:\")\n",
    "    trial = study.best_trial\n",
    "\n",
    "    print(\"  Value: \", trial.value)\n",
    "\n",
    "    print(\"  Params: \")\n",
    "    for key, value in trial.params.items():\n",
    "        print(\"    {}: {}\".format(key, value))"
   ],
   "outputs": [
    {
     "output_type": "stream",
     "name": "stderr",
     "text": [
      "\u001b[32m[I 2022-03-25 12:15:29,270]\u001b[0m A new study created in memory with name: no-name-18546704-e0af-4361-a8cd-46f87ce96699\u001b[0m\n",
      "\u001b[32m[I 2022-03-25 12:15:32,350]\u001b[0m Trial 0 finished with value: 0.75859375 and parameters: {'n_layers': 1, 'n_units_l0': 102, 'dropout_l0': 0.43718999380914475, 'optimizer': 'RMSprop', 'lr': 0.01147261821316032}. Best is trial 0 with value: 0.75859375.\u001b[0m\n",
      "\u001b[32m[I 2022-03-25 12:15:35,454]\u001b[0m Trial 1 finished with value: 0.76875 and parameters: {'n_layers': 1, 'n_units_l0': 106, 'dropout_l0': 0.283085437461691, 'optimizer': 'RMSprop', 'lr': 0.00027637306281355314}. Best is trial 1 with value: 0.76875.\u001b[0m\n",
      "\u001b[32m[I 2022-03-25 12:15:38,553]\u001b[0m Trial 2 finished with value: 0.7703125 and parameters: {'n_layers': 3, 'n_units_l0': 51, 'dropout_l0': 0.3554200290842655, 'n_units_l1': 82, 'dropout_l1': 0.37662123644914547, 'n_units_l2': 127, 'dropout_l2': 0.4889829187826453, 'optimizer': 'RMSprop', 'lr': 0.0008908392574833357}. Best is trial 2 with value: 0.7703125.\u001b[0m\n",
      "\u001b[32m[I 2022-03-25 12:15:41,398]\u001b[0m Trial 3 finished with value: 0.54140625 and parameters: {'n_layers': 1, 'n_units_l0': 55, 'dropout_l0': 0.4639586790341955, 'optimizer': 'Adam', 'lr': 2.0214298553408453e-05}. Best is trial 2 with value: 0.7703125.\u001b[0m\n",
      "\u001b[32m[I 2022-03-25 12:15:44,399]\u001b[0m Trial 4 finished with value: 0.23125 and parameters: {'n_layers': 2, 'n_units_l0': 76, 'dropout_l0': 0.25919543891524666, 'n_units_l1': 6, 'dropout_l1': 0.43775990528706277, 'optimizer': 'Adam', 'lr': 1.2201961194106102e-05}. Best is trial 2 with value: 0.7703125.\u001b[0m\n",
      "\u001b[32m[I 2022-03-25 12:15:44,718]\u001b[0m Trial 5 pruned. \u001b[0m\n",
      "\u001b[32m[I 2022-03-25 12:15:47,785]\u001b[0m Trial 6 finished with value: 0.784375 and parameters: {'n_layers': 1, 'n_units_l0': 104, 'dropout_l0': 0.2617046363242525, 'optimizer': 'RMSprop', 'lr': 0.0002662384585104854}. Best is trial 6 with value: 0.784375.\u001b[0m\n",
      "\u001b[32m[I 2022-03-25 12:15:48,114]\u001b[0m Trial 7 pruned. \u001b[0m\n",
      "\u001b[32m[I 2022-03-25 12:15:48,428]\u001b[0m Trial 8 pruned. \u001b[0m\n",
      "\u001b[32m[I 2022-03-25 12:15:49,291]\u001b[0m Trial 9 pruned. \u001b[0m\n",
      "\u001b[32m[I 2022-03-25 12:15:49,585]\u001b[0m Trial 10 pruned. \u001b[0m\n",
      "\u001b[32m[I 2022-03-25 12:15:49,885]\u001b[0m Trial 11 pruned. \u001b[0m\n",
      "\u001b[32m[I 2022-03-25 12:15:50,246]\u001b[0m Trial 12 pruned. \u001b[0m\n",
      "\u001b[32m[I 2022-03-25 12:15:50,529]\u001b[0m Trial 13 pruned. \u001b[0m\n",
      "\u001b[32m[I 2022-03-25 12:15:50,856]\u001b[0m Trial 14 pruned. \u001b[0m\n",
      "\u001b[32m[I 2022-03-25 12:15:51,139]\u001b[0m Trial 15 pruned. \u001b[0m\n",
      "\u001b[32m[I 2022-03-25 12:15:51,505]\u001b[0m Trial 16 pruned. \u001b[0m\n",
      "\u001b[32m[I 2022-03-25 12:15:52,148]\u001b[0m Trial 17 pruned. \u001b[0m\n",
      "\u001b[32m[I 2022-03-25 12:15:52,459]\u001b[0m Trial 18 pruned. \u001b[0m\n",
      "\u001b[32m[I 2022-03-25 12:15:52,776]\u001b[0m Trial 19 pruned. \u001b[0m\n",
      "\u001b[32m[I 2022-03-25 12:15:55,902]\u001b[0m Trial 20 finished with value: 0.79296875 and parameters: {'n_layers': 2, 'n_units_l0': 84, 'dropout_l0': 0.31622848895758304, 'n_units_l1': 125, 'dropout_l1': 0.3248849387313869, 'optimizer': 'RMSprop', 'lr': 0.000727014562120323}. Best is trial 20 with value: 0.79296875.\u001b[0m\n",
      "\u001b[32m[I 2022-03-25 12:15:59,045]\u001b[0m Trial 21 finished with value: 0.803125 and parameters: {'n_layers': 2, 'n_units_l0': 86, 'dropout_l0': 0.3182778561410944, 'n_units_l1': 127, 'dropout_l1': 0.32609153387447776, 'optimizer': 'RMSprop', 'lr': 0.0006026004414926364}. Best is trial 21 with value: 0.803125.\u001b[0m\n",
      "\u001b[32m[I 2022-03-25 12:15:59,387]\u001b[0m Trial 22 pruned. \u001b[0m\n",
      "\u001b[32m[I 2022-03-25 12:15:59,718]\u001b[0m Trial 23 pruned. \u001b[0m\n",
      "\u001b[32m[I 2022-03-25 12:16:00,055]\u001b[0m Trial 24 pruned. \u001b[0m\n",
      "\u001b[32m[I 2022-03-25 12:16:03,114]\u001b[0m Trial 25 finished with value: 0.82265625 and parameters: {'n_layers': 1, 'n_units_l0': 114, 'dropout_l0': 0.3325771827892222, 'optimizer': 'RMSprop', 'lr': 0.0007495640609430359}. Best is trial 25 with value: 0.82265625.\u001b[0m\n",
      "\u001b[32m[I 2022-03-25 12:16:03,475]\u001b[0m Trial 26 pruned. \u001b[0m\n",
      "\u001b[32m[I 2022-03-25 12:16:03,787]\u001b[0m Trial 27 pruned. \u001b[0m\n",
      "\u001b[32m[I 2022-03-25 12:16:04,153]\u001b[0m Trial 28 pruned. \u001b[0m\n",
      "\u001b[32m[I 2022-03-25 12:16:04,776]\u001b[0m Trial 29 pruned. \u001b[0m\n",
      "\u001b[32m[I 2022-03-25 12:16:07,831]\u001b[0m Trial 30 finished with value: 0.8015625 and parameters: {'n_layers': 1, 'n_units_l0': 112, 'dropout_l0': 0.40435300202572966, 'optimizer': 'RMSprop', 'lr': 0.0004955602947195298}. Best is trial 25 with value: 0.82265625.\u001b[0m\n",
      "\u001b[32m[I 2022-03-25 12:16:10,895]\u001b[0m Trial 31 finished with value: 0.7953125 and parameters: {'n_layers': 1, 'n_units_l0': 110, 'dropout_l0': 0.42392966496525736, 'optimizer': 'RMSprop', 'lr': 0.000504566851146788}. Best is trial 25 with value: 0.82265625.\u001b[0m\n",
      "\u001b[32m[I 2022-03-25 12:16:11,229]\u001b[0m Trial 32 pruned. \u001b[0m\n",
      "\u001b[32m[I 2022-03-25 12:16:14,329]\u001b[0m Trial 33 finished with value: 0.80625 and parameters: {'n_layers': 1, 'n_units_l0': 119, 'dropout_l0': 0.42435850715378454, 'optimizer': 'RMSprop', 'lr': 0.0011712835608839658}. Best is trial 25 with value: 0.82265625.\u001b[0m\n",
      "\u001b[32m[I 2022-03-25 12:16:17,446]\u001b[0m Trial 34 finished with value: 0.81953125 and parameters: {'n_layers': 1, 'n_units_l0': 119, 'dropout_l0': 0.4368277804039493, 'optimizer': 'RMSprop', 'lr': 0.0012569415864406293}. Best is trial 25 with value: 0.82265625.\u001b[0m\n",
      "\u001b[32m[I 2022-03-25 12:16:20,549]\u001b[0m Trial 35 finished with value: 0.81875 and parameters: {'n_layers': 1, 'n_units_l0': 121, 'dropout_l0': 0.4423752050919681, 'optimizer': 'RMSprop', 'lr': 0.001149405761889584}. Best is trial 25 with value: 0.82265625.\u001b[0m\n",
      "\u001b[32m[I 2022-03-25 12:16:23,689]\u001b[0m Trial 36 finished with value: 0.809375 and parameters: {'n_layers': 1, 'n_units_l0': 123, 'dropout_l0': 0.43832960510344693, 'optimizer': 'RMSprop', 'lr': 0.0032375657733783045}. Best is trial 25 with value: 0.82265625.\u001b[0m\n",
      "\u001b[32m[I 2022-03-25 12:16:26,876]\u001b[0m Trial 37 finished with value: 0.8140625 and parameters: {'n_layers': 1, 'n_units_l0': 122, 'dropout_l0': 0.44903022517946345, 'optimizer': 'Adam', 'lr': 0.004932927287192196}. Best is trial 25 with value: 0.82265625.\u001b[0m\n",
      "\u001b[32m[I 2022-03-25 12:16:27,512]\u001b[0m Trial 38 pruned. \u001b[0m\n",
      "\u001b[32m[I 2022-03-25 12:16:28,163]\u001b[0m Trial 39 pruned. \u001b[0m\n",
      "\u001b[32m[I 2022-03-25 12:16:31,324]\u001b[0m Trial 40 finished with value: 0.81171875 and parameters: {'n_layers': 1, 'n_units_l0': 105, 'dropout_l0': 0.4462302782485359, 'optimizer': 'Adam', 'lr': 0.0020845642548068363}. Best is trial 25 with value: 0.82265625.\u001b[0m\n",
      "\u001b[32m[I 2022-03-25 12:16:31,656]\u001b[0m Trial 41 pruned. \u001b[0m\n",
      "\u001b[32m[I 2022-03-25 12:16:32,000]\u001b[0m Trial 42 pruned. \u001b[0m\n",
      "\u001b[32m[I 2022-03-25 12:16:35,326]\u001b[0m Trial 43 finished with value: 0.83046875 and parameters: {'n_layers': 1, 'n_units_l0': 116, 'dropout_l0': 0.4989383422903709, 'optimizer': 'Adam', 'lr': 0.0047413666155978135}. Best is trial 43 with value: 0.83046875.\u001b[0m\n",
      "\u001b[32m[I 2022-03-25 12:16:38,673]\u001b[0m Trial 44 finished with value: 0.82890625 and parameters: {'n_layers': 1, 'n_units_l0': 115, 'dropout_l0': 0.4947565975768271, 'optimizer': 'Adam', 'lr': 0.004255257503590244}. Best is trial 43 with value: 0.83046875.\u001b[0m\n",
      "\u001b[32m[I 2022-03-25 12:16:41,919]\u001b[0m Trial 45 finished with value: 0.821875 and parameters: {'n_layers': 1, 'n_units_l0': 115, 'dropout_l0': 0.49028936225938113, 'optimizer': 'Adam', 'lr': 0.003814707251015672}. Best is trial 43 with value: 0.83046875.\u001b[0m\n",
      "\u001b[32m[I 2022-03-25 12:16:45,086]\u001b[0m Trial 46 finished with value: 0.81796875 and parameters: {'n_layers': 1, 'n_units_l0': 115, 'dropout_l0': 0.49706173873531306, 'optimizer': 'Adam', 'lr': 0.009801551572938444}. Best is trial 43 with value: 0.83046875.\u001b[0m\n",
      "\u001b[32m[I 2022-03-25 12:16:48,136]\u001b[0m Trial 47 finished with value: 0.8125 and parameters: {'n_layers': 1, 'n_units_l0': 92, 'dropout_l0': 0.4802779097010503, 'optimizer': 'Adam', 'lr': 0.003946018235988518}. Best is trial 43 with value: 0.83046875.\u001b[0m\n",
      "\u001b[32m[I 2022-03-25 12:16:48,457]\u001b[0m Trial 48 pruned. \u001b[0m\n",
      "\u001b[32m[I 2022-03-25 12:16:48,784]\u001b[0m Trial 49 pruned. \u001b[0m\n",
      "\u001b[32m[I 2022-03-25 12:16:52,000]\u001b[0m Trial 50 finished with value: 0.85234375 and parameters: {'n_layers': 1, 'n_units_l0': 128, 'dropout_l0': 0.4693805468746302, 'optimizer': 'Adam', 'lr': 0.005036196303833372}. Best is trial 50 with value: 0.85234375.\u001b[0m\n",
      "\u001b[32m[I 2022-03-25 12:16:55,229]\u001b[0m Trial 51 finished with value: 0.81953125 and parameters: {'n_layers': 1, 'n_units_l0': 127, 'dropout_l0': 0.470196692382145, 'optimizer': 'Adam', 'lr': 0.005615970540485408}. Best is trial 50 with value: 0.85234375.\u001b[0m\n",
      "\u001b[32m[I 2022-03-25 12:16:56,175]\u001b[0m Trial 52 pruned. \u001b[0m\n",
      "\u001b[32m[I 2022-03-25 12:16:59,346]\u001b[0m Trial 53 finished with value: 0.80703125 and parameters: {'n_layers': 1, 'n_units_l0': 116, 'dropout_l0': 0.46032165781843243, 'optimizer': 'Adam', 'lr': 0.005291184567973463}. Best is trial 50 with value: 0.85234375.\u001b[0m\n",
      "\u001b[32m[I 2022-03-25 12:17:02,573]\u001b[0m Trial 54 finished with value: 0.8140625 and parameters: {'n_layers': 1, 'n_units_l0': 127, 'dropout_l0': 0.48890544568246536, 'optimizer': 'Adam', 'lr': 0.0033521761077312585}. Best is trial 50 with value: 0.85234375.\u001b[0m\n",
      "\u001b[32m[I 2022-03-25 12:17:05,746]\u001b[0m Trial 55 finished with value: 0.8140625 and parameters: {'n_layers': 1, 'n_units_l0': 114, 'dropout_l0': 0.3613100865476153, 'optimizer': 'Adam', 'lr': 0.011944166164514651}. Best is trial 50 with value: 0.85234375.\u001b[0m\n",
      "\u001b[32m[I 2022-03-25 12:17:08,966]\u001b[0m Trial 56 finished with value: 0.784375 and parameters: {'n_layers': 1, 'n_units_l0': 128, 'dropout_l0': 0.47502468604861336, 'optimizer': 'Adam', 'lr': 0.00623257160163903}. Best is trial 50 with value: 0.85234375.\u001b[0m\n",
      "\u001b[32m[I 2022-03-25 12:17:09,266]\u001b[0m Trial 57 pruned. \u001b[0m\n",
      "\u001b[32m[I 2022-03-25 12:17:09,583]\u001b[0m Trial 58 pruned. \u001b[0m\n",
      "\u001b[32m[I 2022-03-25 12:17:10,524]\u001b[0m Trial 59 pruned. \u001b[0m\n",
      "\u001b[32m[I 2022-03-25 12:17:10,848]\u001b[0m Trial 60 pruned. \u001b[0m\n",
      "\u001b[32m[I 2022-03-25 12:17:14,021]\u001b[0m Trial 61 finished with value: 0.821875 and parameters: {'n_layers': 1, 'n_units_l0': 124, 'dropout_l0': 0.42888703680665413, 'optimizer': 'Adam', 'lr': 0.008474965034909935}. Best is trial 50 with value: 0.85234375.\u001b[0m\n",
      "\u001b[32m[I 2022-03-25 12:17:17,224]\u001b[0m Trial 62 finished with value: 0.8171875 and parameters: {'n_layers': 1, 'n_units_l0': 124, 'dropout_l0': 0.4964453999797898, 'optimizer': 'Adam', 'lr': 0.009021655715837231}. Best is trial 50 with value: 0.85234375.\u001b[0m\n",
      "\u001b[32m[I 2022-03-25 12:17:17,561]\u001b[0m Trial 63 pruned. \u001b[0m\n",
      "\u001b[32m[I 2022-03-25 12:17:19,163]\u001b[0m Trial 64 pruned. \u001b[0m\n",
      "\u001b[32m[I 2022-03-25 12:17:19,503]\u001b[0m Trial 65 pruned. \u001b[0m\n",
      "\u001b[32m[I 2022-03-25 12:17:19,838]\u001b[0m Trial 66 pruned. \u001b[0m\n",
      "\u001b[32m[I 2022-03-25 12:17:20,173]\u001b[0m Trial 67 pruned. \u001b[0m\n",
      "\u001b[32m[I 2022-03-25 12:17:20,488]\u001b[0m Trial 68 pruned. \u001b[0m\n",
      "\u001b[32m[I 2022-03-25 12:17:20,830]\u001b[0m Trial 69 pruned. \u001b[0m\n",
      "\u001b[32m[I 2022-03-25 12:17:21,163]\u001b[0m Trial 70 pruned. \u001b[0m\n",
      "\u001b[32m[I 2022-03-25 12:17:23,725]\u001b[0m Trial 71 pruned. \u001b[0m\n",
      "\u001b[32m[I 2022-03-25 12:17:24,383]\u001b[0m Trial 72 pruned. \u001b[0m\n",
      "\u001b[32m[I 2022-03-25 12:17:24,670]\u001b[0m Trial 73 pruned. \u001b[0m\n",
      "\u001b[32m[I 2022-03-25 12:17:27,583]\u001b[0m Trial 74 finished with value: 0.828125 and parameters: {'n_layers': 1, 'n_units_l0': 61, 'dropout_l0': 0.48141908024113966, 'optimizer': 'Adam', 'lr': 0.006825726006144624}. Best is trial 50 with value: 0.85234375.\u001b[0m\n",
      "\u001b[32m[I 2022-03-25 12:17:28,469]\u001b[0m Trial 75 pruned. \u001b[0m\n",
      "\u001b[32m[I 2022-03-25 12:17:28,768]\u001b[0m Trial 76 pruned. \u001b[0m\n",
      "\u001b[32m[I 2022-03-25 12:17:30,820]\u001b[0m Trial 77 pruned. \u001b[0m\n",
      "\u001b[32m[I 2022-03-25 12:17:31,126]\u001b[0m Trial 78 pruned. \u001b[0m\n",
      "\u001b[32m[I 2022-03-25 12:17:31,720]\u001b[0m Trial 79 pruned. \u001b[0m\n",
      "\u001b[32m[I 2022-03-25 12:17:32,031]\u001b[0m Trial 80 pruned. \u001b[0m\n",
      "\u001b[32m[I 2022-03-25 12:17:34,983]\u001b[0m Trial 81 finished with value: 0.8234375 and parameters: {'n_layers': 1, 'n_units_l0': 68, 'dropout_l0': 0.4840652397109048, 'optimizer': 'Adam', 'lr': 0.006759876865059418}. Best is trial 50 with value: 0.85234375.\u001b[0m\n",
      "\u001b[32m[I 2022-03-25 12:17:35,588]\u001b[0m Trial 82 pruned. \u001b[0m\n",
      "\u001b[32m[I 2022-03-25 12:17:36,180]\u001b[0m Trial 83 pruned. \u001b[0m\n",
      "\u001b[32m[I 2022-03-25 12:17:36,466]\u001b[0m Trial 84 pruned. \u001b[0m\n",
      "\u001b[32m[I 2022-03-25 12:17:36,757]\u001b[0m Trial 85 pruned. \u001b[0m\n",
      "\u001b[32m[I 2022-03-25 12:17:39,911]\u001b[0m Trial 86 finished with value: 0.84140625 and parameters: {'n_layers': 1, 'n_units_l0': 109, 'dropout_l0': 0.47235261041938625, 'optimizer': 'Adam', 'lr': 0.005059091380400898}. Best is trial 50 with value: 0.85234375.\u001b[0m\n",
      "\u001b[32m[I 2022-03-25 12:17:42,990]\u001b[0m Trial 87 finished with value: 0.80390625 and parameters: {'n_layers': 1, 'n_units_l0': 96, 'dropout_l0': 0.4775814183503312, 'optimizer': 'Adam', 'lr': 0.007307883906389784}. Best is trial 50 with value: 0.85234375.\u001b[0m\n",
      "\u001b[32m[I 2022-03-25 12:17:43,336]\u001b[0m Trial 88 pruned. \u001b[0m\n",
      "\u001b[32m[I 2022-03-25 12:17:46,564]\u001b[0m Trial 89 finished with value: 0.80546875 and parameters: {'n_layers': 1, 'n_units_l0': 117, 'dropout_l0': 0.4988993293710469, 'optimizer': 'Adam', 'lr': 0.004358744302459413}. Best is trial 50 with value: 0.85234375.\u001b[0m\n",
      "\u001b[32m[I 2022-03-25 12:17:46,899]\u001b[0m Trial 90 pruned. \u001b[0m\n",
      "\u001b[32m[I 2022-03-25 12:17:50,127]\u001b[0m Trial 91 finished with value: 0.8296875 and parameters: {'n_layers': 1, 'n_units_l0': 122, 'dropout_l0': 0.46606955896208685, 'optimizer': 'Adam', 'lr': 0.005011762643282525}. Best is trial 50 with value: 0.85234375.\u001b[0m\n",
      "\u001b[32m[I 2022-03-25 12:17:50,786]\u001b[0m Trial 92 pruned. \u001b[0m\n",
      "\u001b[32m[I 2022-03-25 12:17:51,127]\u001b[0m Trial 93 pruned. \u001b[0m\n",
      "\u001b[32m[I 2022-03-25 12:17:54,288]\u001b[0m Trial 94 finished with value: 0.83359375 and parameters: {'n_layers': 1, 'n_units_l0': 109, 'dropout_l0': 0.450167721668257, 'optimizer': 'Adam', 'lr': 0.008046057793422504}. Best is trial 50 with value: 0.85234375.\u001b[0m\n",
      "\u001b[32m[I 2022-03-25 12:17:55,248]\u001b[0m Trial 95 pruned. \u001b[0m\n",
      "\u001b[32m[I 2022-03-25 12:17:58,295]\u001b[0m Trial 96 finished with value: 0.85234375 and parameters: {'n_layers': 1, 'n_units_l0': 88, 'dropout_l0': 0.4416515903359379, 'optimizer': 'Adam', 'lr': 0.009579943905521596}. Best is trial 50 with value: 0.85234375.\u001b[0m\n",
      "\u001b[32m[I 2022-03-25 12:17:58,598]\u001b[0m Trial 97 pruned. \u001b[0m\n",
      "\u001b[32m[I 2022-03-25 12:18:01,664]\u001b[0m Trial 98 finished with value: 0.809375 and parameters: {'n_layers': 1, 'n_units_l0': 87, 'dropout_l0': 0.4439384906006282, 'optimizer': 'Adam', 'lr': 0.004855807371130868}. Best is trial 50 with value: 0.85234375.\u001b[0m\n",
      "\u001b[32m[I 2022-03-25 12:18:01,982]\u001b[0m Trial 99 pruned. \u001b[0m\n"
     ]
    },
    {
     "output_type": "stream",
     "name": "stdout",
     "text": [
      "Study statistics: \n",
      "  Number of finished trials:  100\n",
      "  Number of pruned trials:  61\n",
      "  Number of complete trials:  39\n",
      "Best trial:\n",
      "  Value:  0.85234375\n",
      "  Params: \n",
      "    n_layers: 1\n",
      "    n_units_l0: 128\n",
      "    dropout_l0: 0.4693805468746302\n",
      "    optimizer: Adam\n",
      "    lr: 0.005036196303833372\n"
     ]
    }
   ],
   "metadata": {}
  },
  {
   "cell_type": "code",
   "execution_count": 7,
   "source": [
    "import optuna\n",
    "\n",
    "# 这个冗长的更改只是为了简化笔记本的输出\n",
    "optuna.logging.set_verbosity(optuna.logging.WARNING)\n",
    "\n",
    "study = optuna.create_study(direction='maximize', pruner=optuna.pruners.MedianPruner())\n",
    "study.optimize(objective, n_trials=100)"
   ],
   "outputs": [],
   "metadata": {}
  },
  {
   "cell_type": "code",
   "execution_count": 8,
   "source": [
    "optuna.visualization.plot_contour(study)"
   ],
   "outputs": [
    {
     "output_type": "stream",
     "name": "stderr",
     "text": [
      "\u001b[33m[W 2022-03-25 12:20:36,493]\u001b[0m Param dropout_l2 unique value length is less than 2.\u001b[0m\n",
      "\u001b[33m[W 2022-03-25 12:20:36,557]\u001b[0m Param n_units_l2 unique value length is less than 2.\u001b[0m\n",
      "\u001b[33m[W 2022-03-25 12:20:36,592]\u001b[0m Param dropout_l2 unique value length is less than 2.\u001b[0m\n",
      "\u001b[33m[W 2022-03-25 12:20:36,626]\u001b[0m Param n_units_l2 unique value length is less than 2.\u001b[0m\n",
      "\u001b[33m[W 2022-03-25 12:20:36,642]\u001b[0m Param dropout_l2 unique value length is less than 2.\u001b[0m\n",
      "\u001b[33m[W 2022-03-25 12:20:36,646]\u001b[0m Param dropout_l2 unique value length is less than 2.\u001b[0m\n",
      "\u001b[33m[W 2022-03-25 12:20:36,655]\u001b[0m Param dropout_l2 unique value length is less than 2.\u001b[0m\n",
      "\u001b[33m[W 2022-03-25 12:20:36,662]\u001b[0m Param dropout_l2 unique value length is less than 2.\u001b[0m\n",
      "\u001b[33m[W 2022-03-25 12:20:36,667]\u001b[0m Param dropout_l2 unique value length is less than 2.\u001b[0m\n",
      "\u001b[33m[W 2022-03-25 12:20:36,673]\u001b[0m Param dropout_l2 unique value length is less than 2.\u001b[0m\n",
      "\u001b[33m[W 2022-03-25 12:20:36,678]\u001b[0m Param dropout_l2 unique value length is less than 2.\u001b[0m\n",
      "\u001b[33m[W 2022-03-25 12:20:36,683]\u001b[0m Param dropout_l2 unique value length is less than 2.\u001b[0m\n",
      "\u001b[33m[W 2022-03-25 12:20:36,721]\u001b[0m Param dropout_l2 unique value length is less than 2.\u001b[0m\n",
      "\u001b[33m[W 2022-03-25 12:20:36,774]\u001b[0m Param n_units_l2 unique value length is less than 2.\u001b[0m\n",
      "\u001b[33m[W 2022-03-25 12:20:36,811]\u001b[0m Param dropout_l2 unique value length is less than 2.\u001b[0m\n",
      "\u001b[33m[W 2022-03-25 12:20:36,846]\u001b[0m Param n_units_l2 unique value length is less than 2.\u001b[0m\n",
      "\u001b[33m[W 2022-03-25 12:20:36,883]\u001b[0m Param dropout_l2 unique value length is less than 2.\u001b[0m\n",
      "\u001b[33m[W 2022-03-25 12:20:36,924]\u001b[0m Param n_units_l2 unique value length is less than 2.\u001b[0m\n",
      "\u001b[33m[W 2022-03-25 12:20:36,955]\u001b[0m Param dropout_l2 unique value length is less than 2.\u001b[0m\n",
      "\u001b[33m[W 2022-03-25 12:20:36,988]\u001b[0m Param n_units_l2 unique value length is less than 2.\u001b[0m\n",
      "\u001b[33m[W 2022-03-25 12:20:37,003]\u001b[0m Param n_units_l2 unique value length is less than 2.\u001b[0m\n",
      "\u001b[33m[W 2022-03-25 12:20:37,008]\u001b[0m Param n_units_l2 unique value length is less than 2.\u001b[0m\n",
      "\u001b[33m[W 2022-03-25 12:20:37,013]\u001b[0m Param n_units_l2 unique value length is less than 2.\u001b[0m\n",
      "\u001b[33m[W 2022-03-25 12:20:37,018]\u001b[0m Param n_units_l2 unique value length is less than 2.\u001b[0m\n",
      "\u001b[33m[W 2022-03-25 12:20:37,026]\u001b[0m Param n_units_l2 unique value length is less than 2.\u001b[0m\n",
      "\u001b[33m[W 2022-03-25 12:20:37,033]\u001b[0m Param n_units_l2 unique value length is less than 2.\u001b[0m\n",
      "\u001b[33m[W 2022-03-25 12:20:37,040]\u001b[0m Param n_units_l2 unique value length is less than 2.\u001b[0m\n",
      "\u001b[33m[W 2022-03-25 12:20:37,054]\u001b[0m Param n_units_l2 unique value length is less than 2.\u001b[0m\n",
      "\u001b[33m[W 2022-03-25 12:20:37,087]\u001b[0m Param dropout_l2 unique value length is less than 2.\u001b[0m\n",
      "\u001b[33m[W 2022-03-25 12:20:37,131]\u001b[0m Param n_units_l2 unique value length is less than 2.\u001b[0m\n"
     ]
    },
    {
     "output_type": "display_data",
     "data": {
      "application/vnd.plotly.v1+json": {
       "data": [
        {
         "type": "scatter",
         "xaxis": "x",
         "yaxis": "y"
        },
        {
         "colorbar": {
          "title": {
           "text": "Objective Value"
          }
         },
         "colorscale": [
          [
           0,
           "rgb(5,10,172)"
          ],
          [
           0.35,
           "rgb(40,60,190)"
          ],
          [
           0.5,
           "rgb(70,100,245)"
          ],
          [
           0.6,
           "rgb(90,120,245)"
          ],
          [
           0.7,
           "rgb(106,137,247)"
          ],
          [
           1,
           "rgb(220,220,220)"
          ]
         ],
         "connectgaps": true,
         "contours": {
          "coloring": "heatmap"
         },
         "hoverinfo": "none",
         "line": {
          "smoothing": 1.3
         },
         "reversescale": false,
         "showscale": true,
         "x": [
          0.248275589893297,
          0.2602582011379707,
          0.3011076442904499,
          0.31142092876329847,
          0.3137100739972145,
          0.3323342684111329,
          0.35759235212834356,
          0.36240001462367805,
          0.36632574841742344,
          0.3685731816408453,
          0.3692586483413988,
          0.3723356224932886,
          0.3737372338667225,
          0.3761735825467473,
          0.37747245570380256,
          0.3797448746025178,
          0.3857251388692347,
          0.3888201842287104,
          0.39184565558866635,
          0.3961548705464534,
          0.4016458131395273,
          0.40166090993047754,
          0.4030854733372593,
          0.403261496622062,
          0.4046193543658363,
          0.4052337530396442,
          0.4057318763556791,
          0.41011538188858293,
          0.416272641715248,
          0.4162774804789908,
          0.4176252415919155,
          0.4205542892566232,
          0.42654856202727615,
          0.43517892309348855,
          0.4467898927373322,
          0.4599786517682562,
          0.49004871993820337,
          0.49991042603144453,
          0.5118930372761182
         ],
         "y": [
          0.20236892342683915,
          0.21575438576317588,
          0.2442535129253178,
          0.28047450280396624,
          0.43022829131923823,
          0.48346363248991037,
          0.49684909482624706
         ],
         "z": [
          [
           null,
           null,
           null,
           null,
           null,
           null,
           null,
           null,
           null,
           null,
           null,
           null,
           null,
           null,
           null,
           null,
           null,
           null,
           null,
           null,
           null,
           null,
           null,
           null,
           null,
           null,
           null,
           null,
           null,
           null,
           null,
           null,
           null,
           null,
           null,
           null,
           null,
           null,
           null
          ],
          [
           null,
           null,
           0.67265625,
           null,
           null,
           null,
           null,
           null,
           null,
           null,
           null,
           null,
           null,
           null,
           null,
           null,
           null,
           null,
           null,
           null,
           null,
           null,
           null,
           null,
           null,
           null,
           null,
           null,
           null,
           null,
           null,
           null,
           null,
           null,
           null,
           null,
           null,
           null,
           null
          ],
          [
           null,
           null,
           null,
           null,
           null,
           null,
           null,
           null,
           null,
           null,
           null,
           null,
           null,
           null,
           null,
           null,
           null,
           null,
           null,
           null,
           null,
           null,
           null,
           null,
           null,
           null,
           null,
           null,
           null,
           null,
           null,
           null,
           null,
           null,
           null,
           0.765625,
           null,
           null,
           null
          ],
          [
           null,
           null,
           null,
           null,
           null,
           null,
           null,
           null,
           null,
           null,
           null,
           null,
           null,
           null,
           null,
           null,
           null,
           null,
           null,
           null,
           null,
           null,
           null,
           null,
           null,
           null,
           null,
           null,
           null,
           null,
           null,
           null,
           null,
           null,
           null,
           null,
           null,
           0.64140625,
           null
          ],
          [
           null,
           null,
           null,
           null,
           null,
           0.7421875,
           null,
           null,
           null,
           null,
           null,
           null,
           null,
           null,
           null,
           null,
           null,
           null,
           null,
           null,
           null,
           null,
           null,
           null,
           null,
           null,
           null,
           null,
           null,
           null,
           null,
           null,
           null,
           null,
           null,
           null,
           null,
           null,
           null
          ],
          [
           null,
           null,
           null,
           null,
           null,
           null,
           null,
           null,
           null,
           null,
           null,
           null,
           null,
           null,
           null,
           null,
           null,
           null,
           null,
           null,
           null,
           null,
           null,
           null,
           null,
           null,
           null,
           null,
           null,
           null,
           null,
           null,
           null,
           null,
           0.72421875,
           null,
           null,
           null,
           null
          ],
          [
           null,
           null,
           null,
           null,
           null,
           null,
           null,
           null,
           null,
           null,
           null,
           null,
           null,
           null,
           null,
           null,
           null,
           null,
           null,
           null,
           null,
           null,
           null,
           null,
           null,
           null,
           null,
           null,
           null,
           null,
           null,
           null,
           null,
           null,
           null,
           null,
           null,
           null,
           null
          ]
         ],
         "type": "contour",
         "xaxis": "x10",
         "yaxis": "y10"
        },
        {
         "marker": {
          "color": "black",
          "line": {
           "color": "Grey",
           "width": 0.5
          }
         },
         "mode": "markers",
         "showlegend": false,
         "x": [
          0.49991042603144453,
          0.4467898927373322,
          0.3011076442904499,
          0.4599786517682562,
          0.3323342684111329
         ],
         "y": [
          0.28047450280396624,
          0.48346363248991037,
          0.21575438576317588,
          0.2442535129253178,
          0.43022829131923823
         ],
         "type": "scatter",
         "xaxis": "x10",
         "yaxis": "y10"
        },
        {
         "showscale": false,
         "type": "contour",
         "xaxis": "x19",
         "yaxis": "y19"
        },
        {
         "type": "scatter",
         "xaxis": "x19",
         "yaxis": "y19"
        },
        {
         "colorbar": {
          "title": {
           "text": "Objective Value"
          }
         },
         "colorscale": [
          [
           0,
           "rgb(5,10,172)"
          ],
          [
           0.35,
           "rgb(40,60,190)"
          ],
          [
           0.5,
           "rgb(70,100,245)"
          ],
          [
           0.6,
           "rgb(90,120,245)"
          ],
          [
           0.7,
           "rgb(106,137,247)"
          ],
          [
           1,
           "rgb(220,220,220)"
          ]
         ],
         "connectgaps": true,
         "contours": {
          "coloring": "heatmap"
         },
         "hoverinfo": "none",
         "line": {
          "smoothing": 1.3
         },
         "reversescale": false,
         "showscale": false,
         "x": [
          0.248275589893297,
          0.2602582011379707,
          0.3011076442904499,
          0.31142092876329847,
          0.3137100739972145,
          0.3323342684111329,
          0.35759235212834356,
          0.36240001462367805,
          0.36632574841742344,
          0.3685731816408453,
          0.3692586483413988,
          0.3723356224932886,
          0.3737372338667225,
          0.3761735825467473,
          0.37747245570380256,
          0.3797448746025178,
          0.3857251388692347,
          0.3888201842287104,
          0.39184565558866635,
          0.3961548705464534,
          0.4016458131395273,
          0.40166090993047754,
          0.4030854733372593,
          0.403261496622062,
          0.4046193543658363,
          0.4052337530396442,
          0.4057318763556791,
          0.41011538188858293,
          0.416272641715248,
          0.4162774804789908,
          0.4176252415919155,
          0.4205542892566232,
          0.42654856202727615,
          0.43517892309348855,
          0.4467898927373322,
          0.4599786517682562,
          0.49004871993820337,
          0.49991042603144453,
          0.5118930372761182
         ],
         "y": [
          0.00004352144897506373,
          0.00005876258245472198,
          0.000059340666785345773,
          0.00006886403802372456,
          0.00013263632710883237,
          0.00016128853914478672,
          0.0005932598479371538,
          0.000809462846076977,
          0.0016107198356598163,
          0.0023267868036857165,
          0.0023377374445239987,
          0.002472706434914364,
          0.0026367205477363796,
          0.002745567533351846,
          0.00287060969037103,
          0.003158647044441662,
          0.0033980135026560787,
          0.003685350786811878,
          0.003990868655044566,
          0.004498324859394809,
          0.0045394573000566854,
          0.004903316858108346,
          0.005144944816934204,
          0.005146767582885322,
          0.005859850579234026,
          0.006103753537831752,
          0.006743180886093113,
          0.006814264748541518,
          0.0077818194942438626,
          0.00862979796607314,
          0.008854263806897779,
          0.00925112703353322,
          0.011635067929552913,
          0.013122970251652976,
          0.014140165464131263,
          0.01578188798534642,
          0.021155633400604067,
          0.02382601574276138,
          0.03216984378102199
         ],
         "z": [
          [
           null,
           null,
           null,
           null,
           null,
           null,
           null,
           null,
           null,
           null,
           null,
           null,
           null,
           null,
           null,
           null,
           null,
           null,
           null,
           null,
           null,
           null,
           null,
           null,
           null,
           null,
           null,
           null,
           null,
           null,
           null,
           null,
           null,
           null,
           null,
           null,
           null,
           null,
           null
          ],
          [
           null,
           0.6484375,
           null,
           null,
           null,
           null,
           null,
           null,
           null,
           null,
           null,
           null,
           null,
           null,
           null,
           null,
           null,
           null,
           null,
           null,
           null,
           null,
           null,
           null,
           null,
           null,
           null,
           null,
           null,
           null,
           null,
           null,
           null,
           null,
           null,
           null,
           null,
           null,
           null
          ],
          [
           null,
           null,
           null,
           null,
           null,
           null,
           null,
           null,
           null,
           null,
           null,
           null,
           null,
           null,
           null,
           null,
           null,
           null,
           null,
           null,
           null,
           null,
           null,
           null,
           null,
           null,
           null,
           null,
           null,
           null,
           null,
           null,
           null,
           null,
           null,
           null,
           null,
           0.64140625,
           null
          ],
          [
           null,
           null,
           null,
           null,
           null,
           null,
           null,
           null,
           null,
           null,
           null,
           null,
           null,
           null,
           null,
           null,
           null,
           null,
           null,
           null,
           null,
           null,
           null,
           null,
           null,
           null,
           null,
           null,
           null,
           null,
           null,
           null,
           null,
           null,
           null,
           null,
           0.6625,
           null,
           null
          ],
          [
           null,
           null,
           0.67265625,
           null,
           null,
           null,
           null,
           null,
           null,
           null,
           null,
           null,
           null,
           null,
           null,
           null,
           null,
           null,
           null,
           null,
           null,
           null,
           null,
           null,
           null,
           null,
           null,
           null,
           null,
           null,
           null,
           null,
           null,
           null,
           null,
           null,
           null,
           null,
           null
          ],
          [
           null,
           null,
           null,
           null,
           null,
           null,
           null,
           null,
           null,
           null,
           null,
           null,
           null,
           null,
           null,
           null,
           null,
           null,
           null,
           null,
           null,
           null,
           null,
           null,
           null,
           null,
           null,
           null,
           null,
           null,
           null,
           null,
           null,
           null,
           0.72421875,
           null,
           null,
           null,
           null
          ],
          [
           null,
           null,
           null,
           null,
           null,
           null,
           null,
           null,
           null,
           0.771875,
           null,
           null,
           null,
           null,
           null,
           null,
           null,
           null,
           null,
           null,
           null,
           null,
           null,
           null,
           null,
           null,
           null,
           null,
           null,
           null,
           null,
           null,
           null,
           null,
           null,
           null,
           null,
           null,
           null
          ],
          [
           null,
           null,
           null,
           null,
           null,
           null,
           null,
           null,
           null,
           null,
           null,
           null,
           null,
           null,
           null,
           null,
           null,
           null,
           null,
           null,
           null,
           null,
           null,
           null,
           null,
           null,
           null,
           null,
           null,
           0.815625,
           null,
           null,
           null,
           null,
           null,
           null,
           null,
           null,
           null
          ],
          [
           null,
           null,
           null,
           null,
           null,
           null,
           null,
           null,
           null,
           null,
           null,
           null,
           null,
           null,
           null,
           null,
           null,
           null,
           null,
           null,
           null,
           null,
           null,
           null,
           null,
           null,
           null,
           null,
           null,
           null,
           null,
           null,
           null,
           null,
           null,
           0.765625,
           null,
           null,
           null
          ],
          [
           null,
           null,
           null,
           null,
           null,
           null,
           null,
           null,
           null,
           null,
           null,
           null,
           0.79296875,
           null,
           null,
           null,
           null,
           null,
           null,
           null,
           null,
           null,
           null,
           null,
           null,
           null,
           null,
           null,
           null,
           null,
           null,
           null,
           null,
           null,
           null,
           null,
           null,
           null,
           null
          ],
          [
           null,
           null,
           null,
           null,
           null,
           null,
           null,
           0.83203125,
           null,
           null,
           null,
           null,
           null,
           null,
           null,
           null,
           null,
           null,
           null,
           null,
           null,
           null,
           null,
           null,
           null,
           null,
           null,
           null,
           null,
           null,
           null,
           null,
           null,
           null,
           null,
           null,
           null,
           null,
           null
          ],
          [
           null,
           null,
           null,
           null,
           null,
           null,
           null,
           null,
           null,
           null,
           null,
           null,
           null,
           0.8359375,
           null,
           null,
           null,
           null,
           null,
           null,
           null,
           null,
           null,
           null,
           null,
           null,
           null,
           null,
           null,
           null,
           null,
           null,
           null,
           null,
           null,
           null,
           null,
           null,
           null
          ],
          [
           null,
           null,
           null,
           null,
           null,
           null,
           null,
           null,
           null,
           null,
           0.81328125,
           null,
           null,
           null,
           null,
           null,
           null,
           null,
           null,
           null,
           null,
           null,
           null,
           null,
           null,
           null,
           null,
           null,
           null,
           null,
           null,
           null,
           null,
           null,
           null,
           null,
           null,
           null,
           null
          ],
          [
           null,
           null,
           null,
           null,
           null,
           null,
           null,
           null,
           null,
           null,
           null,
           null,
           null,
           null,
           null,
           0.83671875,
           null,
           null,
           null,
           null,
           null,
           null,
           null,
           null,
           null,
           null,
           null,
           null,
           null,
           null,
           null,
           null,
           null,
           null,
           null,
           null,
           null,
           null,
           null
          ],
          [
           null,
           null,
           null,
           null,
           null,
           null,
           null,
           null,
           null,
           null,
           null,
           null,
           null,
           null,
           null,
           null,
           null,
           null,
           null,
           null,
           null,
           null,
           null,
           null,
           null,
           0.7921875,
           null,
           null,
           null,
           null,
           null,
           null,
           null,
           null,
           null,
           null,
           null,
           null,
           null
          ],
          [
           null,
           null,
           null,
           null,
           null,
           0.7421875,
           null,
           null,
           null,
           null,
           null,
           null,
           null,
           null,
           null,
           null,
           null,
           null,
           null,
           null,
           null,
           null,
           null,
           null,
           null,
           null,
           null,
           null,
           null,
           null,
           null,
           null,
           null,
           null,
           null,
           null,
           null,
           null,
           null
          ],
          [
           null,
           null,
           null,
           null,
           null,
           null,
           null,
           null,
           null,
           null,
           null,
           null,
           null,
           null,
           null,
           null,
           null,
           null,
           null,
           null,
           null,
           null,
           null,
           null,
           null,
           null,
           null,
           null,
           null,
           null,
           null,
           0.82578125,
           null,
           null,
           null,
           null,
           null,
           null,
           null
          ],
          [
           null,
           null,
           null,
           null,
           null,
           null,
           null,
           null,
           null,
           null,
           null,
           null,
           null,
           null,
           null,
           null,
           null,
           0.82421875,
           null,
           null,
           null,
           null,
           null,
           null,
           null,
           null,
           null,
           null,
           null,
           null,
           null,
           null,
           null,
           null,
           null,
           null,
           null,
           null,
           null
          ],
          [
           null,
           null,
           null,
           null,
           null,
           null,
           0.825,
           null,
           null,
           null,
           null,
           null,
           null,
           null,
           null,
           null,
           null,
           null,
           null,
           null,
           null,
           null,
           null,
           null,
           null,
           null,
           null,
           null,
           null,
           null,
           null,
           null,
           null,
           null,
           null,
           null,
           null,
           null,
           null
          ],
          [
           null,
           null,
           null,
           null,
           null,
           null,
           null,
           null,
           null,
           null,
           null,
           0.8140625,
           null,
           null,
           null,
           null,
           null,
           null,
           null,
           null,
           null,
           null,
           null,
           null,
           null,
           null,
           null,
           null,
           null,
           null,
           null,
           null,
           null,
           null,
           null,
           null,
           null,
           null,
           null
          ],
          [
           null,
           null,
           null,
           null,
           null,
           null,
           null,
           null,
           null,
           null,
           null,
           null,
           null,
           null,
           0.8140625,
           null,
           null,
           null,
           null,
           null,
           null,
           null,
           null,
           null,
           null,
           null,
           null,
           null,
           null,
           null,
           null,
           null,
           null,
           null,
           null,
           null,
           null,
           null,
           null
          ],
          [
           null,
           null,
           null,
           null,
           null,
           null,
           null,
           null,
           null,
           null,
           null,
           null,
           null,
           null,
           null,
           null,
           null,
           null,
           null,
           null,
           null,
           null,
           null,
           null,
           null,
           null,
           0.834375,
           null,
           null,
           null,
           null,
           null,
           null,
           null,
           null,
           null,
           null,
           null,
           null
          ],
          [
           null,
           null,
           null,
           null,
           null,
           null,
           null,
           null,
           null,
           null,
           null,
           null,
           null,
           null,
           null,
           null,
           null,
           null,
           null,
           null,
           null,
           null,
           null,
           null,
           0.815625,
           null,
           null,
           null,
           null,
           null,
           null,
           null,
           null,
           null,
           null,
           null,
           null,
           null,
           null
          ],
          [
           null,
           null,
           null,
           null,
           null,
           null,
           null,
           null,
           null,
           null,
           null,
           null,
           null,
           null,
           null,
           null,
           null,
           null,
           null,
           null,
           null,
           null,
           null,
           0.81953125,
           null,
           null,
           null,
           null,
           null,
           null,
           null,
           null,
           null,
           null,
           null,
           null,
           null,
           null,
           null
          ],
          [
           null,
           null,
           null,
           null,
           null,
           null,
           null,
           null,
           null,
           null,
           null,
           null,
           null,
           null,
           null,
           null,
           null,
           null,
           null,
           null,
           null,
           null,
           null,
           null,
           null,
           null,
           null,
           null,
           null,
           null,
           null,
           null,
           0.82890625,
           null,
           null,
           null,
           null,
           null,
           null
          ],
          [
           null,
           null,
           null,
           null,
           null,
           null,
           null,
           null,
           null,
           null,
           null,
           null,
           null,
           null,
           null,
           null,
           null,
           null,
           null,
           null,
           null,
           null,
           null,
           null,
           null,
           null,
           null,
           null,
           null,
           null,
           0.8140625,
           null,
           null,
           null,
           null,
           null,
           null,
           null,
           null
          ],
          [
           null,
           null,
           null,
           null,
           null,
           null,
           null,
           null,
           null,
           null,
           null,
           null,
           null,
           null,
           null,
           null,
           null,
           null,
           null,
           null,
           null,
           null,
           null,
           null,
           null,
           null,
           null,
           null,
           0.83125,
           null,
           null,
           null,
           null,
           null,
           null,
           null,
           null,
           null,
           null
          ],
          [
           null,
           null,
           null,
           null,
           null,
           null,
           null,
           null,
           null,
           null,
           null,
           null,
           null,
           null,
           null,
           null,
           null,
           null,
           null,
           null,
           null,
           null,
           0.8125,
           null,
           null,
           null,
           null,
           null,
           null,
           null,
           null,
           null,
           null,
           null,
           null,
           null,
           null,
           null,
           null
          ],
          [
           null,
           null,
           null,
           null,
           0.803125,
           null,
           null,
           null,
           null,
           null,
           null,
           null,
           null,
           null,
           null,
           null,
           null,
           null,
           null,
           null,
           null,
           null,
           null,
           null,
           null,
           null,
           null,
           null,
           null,
           null,
           null,
           null,
           null,
           null,
           null,
           null,
           null,
           null,
           null
          ],
          [
           null,
           null,
           null,
           0.7828125,
           null,
           null,
           null,
           null,
           null,
           null,
           null,
           null,
           null,
           null,
           null,
           null,
           null,
           null,
           null,
           null,
           null,
           null,
           null,
           null,
           null,
           null,
           null,
           null,
           null,
           null,
           null,
           null,
           null,
           null,
           null,
           null,
           null,
           null,
           null
          ],
          [
           null,
           null,
           null,
           null,
           null,
           null,
           null,
           null,
           null,
           null,
           null,
           null,
           null,
           null,
           null,
           null,
           0.81015625,
           null,
           null,
           null,
           null,
           null,
           null,
           null,
           null,
           null,
           null,
           null,
           null,
           null,
           null,
           null,
           null,
           null,
           null,
           null,
           null,
           null,
           null
          ],
          [
           null,
           null,
           null,
           null,
           null,
           null,
           null,
           null,
           null,
           null,
           null,
           null,
           null,
           null,
           null,
           null,
           null,
           null,
           null,
           null,
           null,
           0.82109375,
           null,
           null,
           null,
           null,
           null,
           null,
           null,
           null,
           null,
           null,
           null,
           null,
           null,
           null,
           null,
           null,
           null
          ],
          [
           null,
           null,
           null,
           null,
           null,
           null,
           null,
           null,
           null,
           null,
           null,
           null,
           null,
           null,
           null,
           null,
           null,
           null,
           null,
           null,
           null,
           null,
           null,
           null,
           null,
           null,
           null,
           null,
           null,
           null,
           null,
           null,
           null,
           0.81015625,
           null,
           null,
           null,
           null,
           null
          ],
          [
           null,
           null,
           null,
           null,
           null,
           null,
           null,
           null,
           null,
           null,
           null,
           null,
           null,
           null,
           null,
           null,
           null,
           null,
           null,
           0.81640625,
           null,
           null,
           null,
           null,
           null,
           null,
           null,
           null,
           null,
           null,
           null,
           null,
           null,
           null,
           null,
           null,
           null,
           null,
           null
          ],
          [
           null,
           null,
           null,
           null,
           null,
           null,
           null,
           null,
           null,
           null,
           null,
           null,
           null,
           null,
           null,
           null,
           null,
           null,
           0.80546875,
           null,
           null,
           null,
           null,
           null,
           null,
           null,
           null,
           null,
           null,
           null,
           null,
           null,
           null,
           null,
           null,
           null,
           null,
           null,
           null
          ],
          [
           null,
           null,
           null,
           null,
           null,
           null,
           null,
           null,
           0.80546875,
           null,
           null,
           null,
           null,
           null,
           null,
           null,
           null,
           null,
           null,
           null,
           null,
           null,
           null,
           null,
           null,
           null,
           null,
           null,
           null,
           null,
           null,
           null,
           null,
           null,
           null,
           null,
           null,
           null,
           null
          ],
          [
           null,
           null,
           null,
           null,
           null,
           null,
           null,
           null,
           null,
           null,
           null,
           null,
           null,
           null,
           null,
           null,
           null,
           null,
           null,
           null,
           null,
           null,
           null,
           null,
           null,
           null,
           null,
           0.80078125,
           null,
           null,
           null,
           null,
           null,
           null,
           null,
           null,
           null,
           null,
           null
          ],
          [
           null,
           null,
           null,
           null,
           null,
           null,
           null,
           null,
           null,
           null,
           null,
           null,
           null,
           null,
           null,
           null,
           null,
           null,
           null,
           null,
           0.78359375,
           null,
           null,
           null,
           null,
           null,
           null,
           null,
           null,
           null,
           null,
           null,
           null,
           null,
           null,
           null,
           null,
           null,
           null
          ],
          [
           null,
           null,
           null,
           null,
           null,
           null,
           null,
           null,
           null,
           null,
           null,
           null,
           null,
           null,
           null,
           null,
           null,
           null,
           null,
           null,
           null,
           null,
           null,
           null,
           null,
           null,
           null,
           null,
           null,
           null,
           null,
           null,
           null,
           null,
           null,
           null,
           null,
           null,
           null
          ]
         ],
         "type": "contour",
         "xaxis": "x28",
         "yaxis": "y28"
        },
        {
         "marker": {
          "color": "black",
          "line": {
           "color": "Grey",
           "width": 0.5
          }
         },
         "mode": "markers",
         "showlegend": false,
         "x": [
          0.49991042603144453,
          0.4467898927373322,
          0.49004871993820337,
          0.2602582011379707,
          0.3011076442904499,
          0.4599786517682562,
          0.3323342684111329,
          0.31142092876329847,
          0.416272641715248,
          0.40166090993047754,
          0.3685731816408453,
          0.3137100739972145,
          0.4176252415919155,
          0.4162774804789908,
          0.41011538188858293,
          0.42654856202727615,
          0.3797448746025178,
          0.3761735825467473,
          0.3737372338667225,
          0.4052337530396442,
          0.36632574841742344,
          0.4016458131395273,
          0.36240001462367805,
          0.3961548705464534,
          0.39184565558866635,
          0.4057318763556791,
          0.403261496622062,
          0.3888201842287104,
          0.3723356224932886,
          0.4205542892566232,
          0.4030854733372593,
          0.3857251388692347,
          0.37747245570380256,
          0.4046193543658363,
          0.43517892309348855,
          0.35759235212834356,
          0.3692586483413988
         ],
         "y": [
          0.000059340666785345773,
          0.00016128853914478672,
          0.00006886403802372456,
          0.00005876258245472198,
          0.00013263632710883237,
          0.0016107198356598163,
          0.003158647044441662,
          0.00862979796607314,
          0.006743180886093113,
          0.00925112703353322,
          0.0005932598479371538,
          0.0077818194942438626,
          0.006103753537831752,
          0.000809462846076977,
          0.021155633400604067,
          0.005859850579234026,
          0.002745567533351846,
          0.002472706434914364,
          0.0023267868036857165,
          0.00287060969037103,
          0.01578188798534642,
          0.02382601574276138,
          0.0023377374445239987,
          0.013122970251652976,
          0.014140165464131263,
          0.004903316858108346,
          0.005146767582885322,
          0.003685350786811878,
          0.004498324859394809,
          0.0033980135026560787,
          0.006814264748541518,
          0.008854263806897779,
          0.0045394573000566854,
          0.005144944816934204,
          0.011635067929552913,
          0.003990868655044566,
          0.0026367205477363796
         ],
         "type": "scatter",
         "xaxis": "x28",
         "yaxis": "y28"
        },
        {
         "colorbar": {
          "title": {
           "text": "Objective Value"
          }
         },
         "colorscale": [
          [
           0,
           "rgb(5,10,172)"
          ],
          [
           0.35,
           "rgb(40,60,190)"
          ],
          [
           0.5,
           "rgb(70,100,245)"
          ],
          [
           0.6,
           "rgb(90,120,245)"
          ],
          [
           0.7,
           "rgb(106,137,247)"
          ],
          [
           1,
           "rgb(220,220,220)"
          ]
         ],
         "connectgaps": true,
         "contours": {
          "coloring": "heatmap"
         },
         "hoverinfo": "none",
         "line": {
          "smoothing": 1.3
         },
         "reversescale": false,
         "showscale": false,
         "x": [
          0.248275589893297,
          0.2602582011379707,
          0.3011076442904499,
          0.31142092876329847,
          0.3137100739972145,
          0.3323342684111329,
          0.35759235212834356,
          0.36240001462367805,
          0.36632574841742344,
          0.3685731816408453,
          0.3692586483413988,
          0.3723356224932886,
          0.3737372338667225,
          0.3761735825467473,
          0.37747245570380256,
          0.3797448746025178,
          0.3857251388692347,
          0.3888201842287104,
          0.39184565558866635,
          0.3961548705464534,
          0.4016458131395273,
          0.40166090993047754,
          0.4030854733372593,
          0.403261496622062,
          0.4046193543658363,
          0.4052337530396442,
          0.4057318763556791,
          0.41011538188858293,
          0.416272641715248,
          0.4162774804789908,
          0.4176252415919155,
          0.4205542892566232,
          0.42654856202727615,
          0.43517892309348855,
          0.4467898927373322,
          0.4599786517682562,
          0.49004871993820337,
          0.49991042603144453,
          0.5118930372761182
         ],
         "y": [
          0.9,
          1,
          2,
          3,
          3.1
         ],
         "z": [
          [
           null,
           null,
           null,
           null,
           null,
           null,
           null,
           null,
           null,
           null,
           null,
           null,
           null,
           null,
           null,
           null,
           null,
           null,
           null,
           null,
           null,
           null,
           null,
           null,
           null,
           null,
           null,
           null,
           null,
           null,
           null,
           null,
           null,
           null,
           null,
           null,
           null,
           null,
           null
          ],
          [
           null,
           0.6484375,
           null,
           0.7828125,
           0.803125,
           null,
           0.825,
           0.83203125,
           0.80546875,
           0.771875,
           0.81328125,
           0.8140625,
           0.79296875,
           0.8359375,
           0.8140625,
           0.83671875,
           0.81015625,
           0.82421875,
           0.80546875,
           0.81640625,
           0.78359375,
           0.82109375,
           0.8125,
           0.81953125,
           0.815625,
           0.7921875,
           0.834375,
           0.80078125,
           0.83125,
           0.815625,
           0.8140625,
           0.82578125,
           0.82890625,
           0.81015625,
           null,
           null,
           0.6625,
           null,
           null
          ],
          [
           null,
           null,
           0.67265625,
           null,
           null,
           0.7421875,
           null,
           null,
           null,
           null,
           null,
           null,
           null,
           null,
           null,
           null,
           null,
           null,
           null,
           null,
           null,
           null,
           null,
           null,
           null,
           null,
           null,
           null,
           null,
           null,
           null,
           null,
           null,
           null,
           0.72421875,
           null,
           null,
           0.64140625,
           null
          ],
          [
           null,
           null,
           null,
           null,
           null,
           null,
           null,
           null,
           null,
           null,
           null,
           null,
           null,
           null,
           null,
           null,
           null,
           null,
           null,
           null,
           null,
           null,
           null,
           null,
           null,
           null,
           null,
           null,
           null,
           null,
           null,
           null,
           null,
           null,
           null,
           0.765625,
           null,
           null,
           null
          ],
          [
           null,
           null,
           null,
           null,
           null,
           null,
           null,
           null,
           null,
           null,
           null,
           null,
           null,
           null,
           null,
           null,
           null,
           null,
           null,
           null,
           null,
           null,
           null,
           null,
           null,
           null,
           null,
           null,
           null,
           null,
           null,
           null,
           null,
           null,
           null,
           null,
           null,
           null,
           null
          ]
         ],
         "type": "contour",
         "xaxis": "x37",
         "yaxis": "y37"
        },
        {
         "marker": {
          "color": "black",
          "line": {
           "color": "Grey",
           "width": 0.5
          }
         },
         "mode": "markers",
         "showlegend": false,
         "x": [
          0.49991042603144453,
          0.4467898927373322,
          0.49004871993820337,
          0.2602582011379707,
          0.3011076442904499,
          0.4599786517682562,
          0.3323342684111329,
          0.31142092876329847,
          0.416272641715248,
          0.40166090993047754,
          0.3685731816408453,
          0.3137100739972145,
          0.4176252415919155,
          0.4162774804789908,
          0.41011538188858293,
          0.42654856202727615,
          0.3797448746025178,
          0.3761735825467473,
          0.3737372338667225,
          0.4052337530396442,
          0.36632574841742344,
          0.4016458131395273,
          0.36240001462367805,
          0.3961548705464534,
          0.39184565558866635,
          0.4057318763556791,
          0.403261496622062,
          0.3888201842287104,
          0.3723356224932886,
          0.4205542892566232,
          0.4030854733372593,
          0.3857251388692347,
          0.37747245570380256,
          0.4046193543658363,
          0.43517892309348855,
          0.35759235212834356,
          0.3692586483413988
         ],
         "y": [
          2,
          2,
          1,
          1,
          2,
          3,
          2,
          1,
          1,
          1,
          1,
          1,
          1,
          1,
          1,
          1,
          1,
          1,
          1,
          1,
          1,
          1,
          1,
          1,
          1,
          1,
          1,
          1,
          1,
          1,
          1,
          1,
          1,
          1,
          1,
          1,
          1
         ],
         "type": "scatter",
         "xaxis": "x37",
         "yaxis": "y37"
        },
        {
         "colorbar": {
          "title": {
           "text": "Objective Value"
          }
         },
         "colorscale": [
          [
           0,
           "rgb(5,10,172)"
          ],
          [
           0.35,
           "rgb(40,60,190)"
          ],
          [
           0.5,
           "rgb(70,100,245)"
          ],
          [
           0.6,
           "rgb(90,120,245)"
          ],
          [
           0.7,
           "rgb(106,137,247)"
          ],
          [
           1,
           "rgb(220,220,220)"
          ]
         ],
         "connectgaps": true,
         "contours": {
          "coloring": "heatmap"
         },
         "hoverinfo": "none",
         "line": {
          "smoothing": 1.3
         },
         "reversescale": false,
         "showscale": false,
         "x": [
          0.248275589893297,
          0.2602582011379707,
          0.3011076442904499,
          0.31142092876329847,
          0.3137100739972145,
          0.3323342684111329,
          0.35759235212834356,
          0.36240001462367805,
          0.36632574841742344,
          0.3685731816408453,
          0.3692586483413988,
          0.3723356224932886,
          0.3737372338667225,
          0.3761735825467473,
          0.37747245570380256,
          0.3797448746025178,
          0.3857251388692347,
          0.3888201842287104,
          0.39184565558866635,
          0.3961548705464534,
          0.4016458131395273,
          0.40166090993047754,
          0.4030854733372593,
          0.403261496622062,
          0.4046193543658363,
          0.4052337530396442,
          0.4057318763556791,
          0.41011538188858293,
          0.416272641715248,
          0.4162774804789908,
          0.4176252415919155,
          0.4205542892566232,
          0.42654856202727615,
          0.43517892309348855,
          0.4467898927373322,
          0.4599786517682562,
          0.49004871993820337,
          0.49991042603144453,
          0.5118930372761182
         ],
         "y": [
          13.649999999999999,
          19,
          40,
          46,
          53,
          55,
          57,
          61,
          62,
          65,
          71,
          73,
          82,
          85,
          86,
          88,
          89,
          90,
          92,
          93,
          94,
          98,
          101,
          104,
          111,
          113,
          114,
          119,
          121,
          123,
          126,
          131.35
         ],
         "z": [
          [
           null,
           null,
           null,
           null,
           null,
           null,
           null,
           null,
           null,
           null,
           null,
           null,
           null,
           null,
           null,
           null,
           null,
           null,
           null,
           null,
           null,
           null,
           null,
           null,
           null,
           null,
           null,
           null,
           null,
           null,
           null,
           null,
           null,
           null,
           null,
           null,
           null,
           null,
           null
          ],
          [
           null,
           null,
           null,
           null,
           null,
           0.7421875,
           null,
           null,
           null,
           null,
           null,
           null,
           null,
           null,
           null,
           null,
           null,
           null,
           null,
           null,
           null,
           null,
           null,
           null,
           null,
           null,
           null,
           null,
           null,
           null,
           null,
           null,
           null,
           null,
           null,
           null,
           null,
           null,
           null
          ],
          [
           null,
           null,
           null,
           null,
           null,
           null,
           null,
           null,
           null,
           null,
           null,
           null,
           null,
           null,
           null,
           null,
           null,
           null,
           null,
           null,
           null,
           null,
           null,
           null,
           null,
           null,
           null,
           null,
           null,
           null,
           null,
           null,
           null,
           null,
           null,
           0.765625,
           null,
           null,
           null
          ],
          [
           null,
           null,
           0.67265625,
           null,
           null,
           null,
           null,
           null,
           null,
           null,
           null,
           null,
           null,
           null,
           null,
           null,
           null,
           null,
           null,
           null,
           null,
           null,
           null,
           null,
           null,
           null,
           null,
           null,
           null,
           null,
           null,
           null,
           null,
           null,
           null,
           null,
           null,
           null,
           null
          ],
          [
           null,
           null,
           null,
           null,
           null,
           null,
           null,
           null,
           null,
           null,
           null,
           null,
           0.79296875,
           null,
           null,
           null,
           null,
           null,
           null,
           null,
           null,
           null,
           null,
           null,
           null,
           null,
           null,
           null,
           null,
           null,
           null,
           null,
           null,
           null,
           null,
           null,
           null,
           null,
           null
          ],
          [
           null,
           null,
           null,
           null,
           null,
           null,
           null,
           null,
           null,
           null,
           null,
           null,
           null,
           null,
           null,
           0.83671875,
           null,
           null,
           null,
           null,
           null,
           null,
           null,
           null,
           null,
           0.7921875,
           null,
           null,
           null,
           null,
           null,
           null,
           null,
           null,
           null,
           null,
           null,
           null,
           null
          ],
          [
           null,
           null,
           null,
           null,
           null,
           null,
           null,
           null,
           null,
           null,
           null,
           null,
           null,
           null,
           null,
           null,
           null,
           null,
           null,
           null,
           null,
           null,
           null,
           null,
           null,
           null,
           null,
           null,
           null,
           null,
           null,
           null,
           0.82890625,
           null,
           null,
           null,
           null,
           null,
           null
          ],
          [
           null,
           null,
           null,
           null,
           null,
           null,
           null,
           null,
           null,
           null,
           null,
           null,
           null,
           0.8359375,
           null,
           null,
           null,
           null,
           null,
           null,
           null,
           null,
           null,
           null,
           null,
           null,
           null,
           null,
           null,
           null,
           null,
           null,
           null,
           null,
           null,
           null,
           null,
           0.64140625,
           null
          ],
          [
           null,
           null,
           null,
           null,
           null,
           null,
           null,
           null,
           null,
           null,
           null,
           0.8140625,
           null,
           null,
           null,
           null,
           null,
           null,
           null,
           null,
           null,
           null,
           null,
           null,
           null,
           null,
           null,
           null,
           null,
           null,
           null,
           null,
           null,
           null,
           null,
           null,
           null,
           null,
           null
          ],
          [
           null,
           null,
           null,
           null,
           null,
           null,
           null,
           null,
           null,
           null,
           null,
           null,
           null,
           null,
           null,
           null,
           null,
           null,
           null,
           null,
           null,
           null,
           null,
           null,
           null,
           null,
           null,
           null,
           null,
           null,
           null,
           null,
           null,
           null,
           null,
           null,
           0.6625,
           null,
           null
          ],
          [
           null,
           null,
           null,
           null,
           null,
           null,
           null,
           null,
           null,
           null,
           null,
           null,
           null,
           null,
           null,
           null,
           null,
           null,
           null,
           null,
           0.78359375,
           null,
           null,
           null,
           null,
           null,
           null,
           null,
           null,
           null,
           null,
           null,
           null,
           null,
           null,
           null,
           null,
           null,
           null
          ],
          [
           null,
           null,
           null,
           null,
           null,
           null,
           null,
           null,
           null,
           null,
           null,
           null,
           null,
           null,
           null,
           null,
           null,
           null,
           null,
           null,
           null,
           null,
           null,
           null,
           null,
           null,
           null,
           null,
           null,
           null,
           0.8140625,
           null,
           null,
           null,
           null,
           null,
           null,
           null,
           null
          ],
          [
           null,
           0.6484375,
           null,
           null,
           null,
           null,
           null,
           null,
           null,
           null,
           null,
           null,
           null,
           null,
           null,
           null,
           null,
           null,
           null,
           null,
           null,
           null,
           null,
           null,
           null,
           null,
           null,
           null,
           null,
           null,
           null,
           null,
           null,
           null,
           null,
           null,
           null,
           null,
           null
          ],
          [
           null,
           null,
           null,
           0.7828125,
           null,
           null,
           null,
           null,
           null,
           null,
           null,
           null,
           null,
           null,
           null,
           null,
           null,
           null,
           null,
           null,
           null,
           null,
           null,
           null,
           null,
           null,
           null,
           null,
           null,
           null,
           null,
           null,
           null,
           null,
           null,
           null,
           null,
           null,
           null
          ],
          [
           null,
           null,
           null,
           null,
           null,
           null,
           null,
           null,
           0.80546875,
           null,
           null,
           null,
           null,
           null,
           null,
           null,
           null,
           null,
           null,
           null,
           null,
           null,
           null,
           null,
           null,
           null,
           null,
           null,
           null,
           null,
           null,
           null,
           null,
           null,
           null,
           null,
           null,
           null,
           null
          ],
          [
           null,
           null,
           null,
           null,
           null,
           null,
           null,
           null,
           null,
           null,
           null,
           null,
           null,
           null,
           null,
           null,
           null,
           null,
           null,
           0.81640625,
           null,
           null,
           null,
           null,
           null,
           null,
           null,
           null,
           null,
           null,
           null,
           null,
           null,
           null,
           null,
           null,
           null,
           null,
           null
          ],
          [
           null,
           null,
           null,
           null,
           null,
           null,
           null,
           null,
           null,
           null,
           null,
           null,
           null,
           null,
           null,
           null,
           null,
           null,
           null,
           null,
           null,
           null,
           null,
           null,
           null,
           null,
           0.834375,
           null,
           null,
           null,
           null,
           null,
           null,
           null,
           null,
           null,
           null,
           null,
           null
          ],
          [
           null,
           null,
           null,
           null,
           null,
           null,
           null,
           null,
           null,
           null,
           null,
           null,
           null,
           null,
           0.8140625,
           null,
           null,
           null,
           null,
           null,
           null,
           null,
           null,
           null,
           null,
           null,
           null,
           null,
           null,
           null,
           null,
           null,
           null,
           null,
           null,
           null,
           null,
           null,
           null
          ],
          [
           null,
           null,
           null,
           null,
           null,
           null,
           null,
           null,
           null,
           null,
           null,
           null,
           null,
           null,
           null,
           null,
           null,
           null,
           0.80546875,
           null,
           null,
           null,
           null,
           null,
           null,
           null,
           null,
           null,
           null,
           null,
           null,
           null,
           null,
           null,
           null,
           null,
           null,
           null,
           null
          ],
          [
           null,
           null,
           null,
           null,
           null,
           null,
           null,
           null,
           null,
           null,
           null,
           null,
           null,
           null,
           null,
           null,
           null,
           null,
           null,
           null,
           null,
           null,
           null,
           null,
           null,
           null,
           null,
           null,
           null,
           null,
           null,
           null,
           null,
           0.81015625,
           null,
           null,
           null,
           null,
           null
          ],
          [
           null,
           null,
           null,
           null,
           0.803125,
           null,
           null,
           null,
           null,
           null,
           null,
           null,
           null,
           null,
           null,
           null,
           null,
           null,
           null,
           null,
           null,
           null,
           null,
           null,
           null,
           null,
           null,
           null,
           null,
           null,
           null,
           null,
           null,
           null,
           null,
           null,
           null,
           null,
           null
          ],
          [
           null,
           null,
           null,
           null,
           null,
           null,
           0.825,
           0.83203125,
           null,
           null,
           null,
           null,
           null,
           null,
           null,
           null,
           null,
           null,
           null,
           null,
           null,
           null,
           null,
           0.81953125,
           null,
           null,
           null,
           null,
           null,
           null,
           null,
           null,
           null,
           null,
           null,
           null,
           null,
           null,
           null
          ],
          [
           null,
           null,
           null,
           null,
           null,
           null,
           null,
           null,
           null,
           null,
           null,
           null,
           null,
           null,
           null,
           null,
           null,
           null,
           null,
           null,
           null,
           null,
           null,
           null,
           0.815625,
           null,
           null,
           null,
           null,
           null,
           null,
           null,
           null,
           null,
           null,
           null,
           null,
           null,
           null
          ],
          [
           null,
           null,
           null,
           null,
           null,
           null,
           null,
           null,
           null,
           null,
           0.81328125,
           null,
           null,
           null,
           null,
           null,
           null,
           null,
           null,
           null,
           null,
           null,
           null,
           null,
           null,
           null,
           null,
           0.80078125,
           null,
           null,
           null,
           null,
           null,
           null,
           null,
           null,
           null,
           null,
           null
          ],
          [
           null,
           null,
           null,
           null,
           null,
           null,
           null,
           null,
           null,
           null,
           null,
           null,
           null,
           null,
           null,
           null,
           null,
           null,
           null,
           null,
           null,
           null,
           null,
           null,
           null,
           null,
           null,
           null,
           null,
           null,
           null,
           0.82578125,
           null,
           null,
           null,
           null,
           null,
           null,
           null
          ],
          [
           null,
           null,
           null,
           null,
           null,
           null,
           null,
           null,
           null,
           0.771875,
           null,
           null,
           null,
           null,
           null,
           null,
           null,
           null,
           null,
           null,
           null,
           null,
           null,
           null,
           null,
           null,
           null,
           null,
           null,
           null,
           null,
           null,
           null,
           null,
           null,
           null,
           null,
           null,
           null
          ],
          [
           null,
           null,
           null,
           null,
           null,
           null,
           null,
           null,
           null,
           null,
           null,
           null,
           null,
           null,
           null,
           null,
           null,
           null,
           null,
           null,
           null,
           null,
           0.8125,
           null,
           null,
           null,
           null,
           null,
           0.83125,
           null,
           null,
           null,
           null,
           null,
           null,
           null,
           null,
           null,
           null
          ],
          [
           null,
           null,
           null,
           null,
           null,
           null,
           null,
           null,
           null,
           null,
           null,
           null,
           null,
           null,
           null,
           null,
           null,
           null,
           null,
           null,
           null,
           null,
           null,
           null,
           null,
           null,
           null,
           null,
           null,
           0.815625,
           null,
           null,
           null,
           null,
           null,
           null,
           null,
           null,
           null
          ],
          [
           null,
           null,
           null,
           null,
           null,
           null,
           null,
           null,
           null,
           null,
           null,
           null,
           null,
           null,
           null,
           null,
           0.81015625,
           null,
           null,
           null,
           null,
           null,
           null,
           null,
           null,
           null,
           null,
           null,
           null,
           null,
           null,
           null,
           null,
           null,
           null,
           null,
           null,
           null,
           null
          ],
          [
           null,
           null,
           null,
           null,
           null,
           null,
           null,
           null,
           null,
           null,
           null,
           null,
           null,
           null,
           null,
           null,
           null,
           null,
           null,
           null,
           null,
           null,
           null,
           null,
           null,
           null,
           null,
           null,
           null,
           null,
           null,
           null,
           null,
           null,
           0.72421875,
           null,
           null,
           null,
           null
          ],
          [
           null,
           null,
           null,
           null,
           null,
           null,
           null,
           null,
           null,
           null,
           null,
           null,
           null,
           null,
           null,
           null,
           null,
           0.82421875,
           null,
           null,
           null,
           0.82109375,
           null,
           null,
           null,
           null,
           null,
           null,
           null,
           null,
           null,
           null,
           null,
           null,
           null,
           null,
           null,
           null,
           null
          ],
          [
           null,
           null,
           null,
           null,
           null,
           null,
           null,
           null,
           null,
           null,
           null,
           null,
           null,
           null,
           null,
           null,
           null,
           null,
           null,
           null,
           null,
           null,
           null,
           null,
           null,
           null,
           null,
           null,
           null,
           null,
           null,
           null,
           null,
           null,
           null,
           null,
           null,
           null,
           null
          ]
         ],
         "type": "contour",
         "xaxis": "x46",
         "yaxis": "y46"
        },
        {
         "marker": {
          "color": "black",
          "line": {
           "color": "Grey",
           "width": 0.5
          }
         },
         "mode": "markers",
         "showlegend": false,
         "x": [
          0.49991042603144453,
          0.4467898927373322,
          0.49004871993820337,
          0.2602582011379707,
          0.3011076442904499,
          0.4599786517682562,
          0.3323342684111329,
          0.31142092876329847,
          0.416272641715248,
          0.40166090993047754,
          0.3685731816408453,
          0.3137100739972145,
          0.4176252415919155,
          0.4162774804789908,
          0.41011538188858293,
          0.42654856202727615,
          0.3797448746025178,
          0.3761735825467473,
          0.3737372338667225,
          0.4052337530396442,
          0.36632574841742344,
          0.4016458131395273,
          0.36240001462367805,
          0.3961548705464534,
          0.39184565558866635,
          0.4057318763556791,
          0.403261496622062,
          0.3888201842287104,
          0.3723356224932886,
          0.4205542892566232,
          0.4030854733372593,
          0.3857251388692347,
          0.37747245570380256,
          0.4046193543658363,
          0.43517892309348855,
          0.35759235212834356,
          0.3692586483413988
         ],
         "y": [
          61,
          123,
          65,
          82,
          46,
          40,
          19,
          85,
          114,
          126,
          113,
          94,
          73,
          119,
          104,
          57,
          55,
          61,
          53,
          55,
          86,
          71,
          98,
          88,
          92,
          89,
          98,
          126,
          62,
          111,
          114,
          121,
          90,
          101,
          93,
          98,
          104
         ],
         "type": "scatter",
         "xaxis": "x46",
         "yaxis": "y46"
        },
        {
         "colorbar": {
          "title": {
           "text": "Objective Value"
          }
         },
         "colorscale": [
          [
           0,
           "rgb(5,10,172)"
          ],
          [
           0.35,
           "rgb(40,60,190)"
          ],
          [
           0.5,
           "rgb(70,100,245)"
          ],
          [
           0.6,
           "rgb(90,120,245)"
          ],
          [
           0.7,
           "rgb(106,137,247)"
          ],
          [
           1,
           "rgb(220,220,220)"
          ]
         ],
         "connectgaps": true,
         "contours": {
          "coloring": "heatmap"
         },
         "hoverinfo": "none",
         "line": {
          "smoothing": 1.3
         },
         "reversescale": false,
         "showscale": false,
         "x": [
          0.248275589893297,
          0.2602582011379707,
          0.3011076442904499,
          0.31142092876329847,
          0.3137100739972145,
          0.3323342684111329,
          0.35759235212834356,
          0.36240001462367805,
          0.36632574841742344,
          0.3685731816408453,
          0.3692586483413988,
          0.3723356224932886,
          0.3737372338667225,
          0.3761735825467473,
          0.37747245570380256,
          0.3797448746025178,
          0.3857251388692347,
          0.3888201842287104,
          0.39184565558866635,
          0.3961548705464534,
          0.4016458131395273,
          0.40166090993047754,
          0.4030854733372593,
          0.403261496622062,
          0.4046193543658363,
          0.4052337530396442,
          0.4057318763556791,
          0.41011538188858293,
          0.416272641715248,
          0.4162774804789908,
          0.4176252415919155,
          0.4205542892566232,
          0.42654856202727615,
          0.43517892309348855,
          0.4467898927373322,
          0.4599786517682562,
          0.49004871993820337,
          0.49991042603144453,
          0.5118930372761182
         ],
         "y": [
          39.45,
          43,
          61,
          101,
          108,
          114,
          117.55
         ],
         "z": [
          [
           null,
           null,
           null,
           null,
           null,
           null,
           null,
           null,
           null,
           null,
           null,
           null,
           null,
           null,
           null,
           null,
           null,
           null,
           null,
           null,
           null,
           null,
           null,
           null,
           null,
           null,
           null,
           null,
           null,
           null,
           null,
           null,
           null,
           null,
           null,
           null,
           null,
           null,
           null
          ],
          [
           null,
           null,
           0.67265625,
           null,
           null,
           null,
           null,
           null,
           null,
           null,
           null,
           null,
           null,
           null,
           null,
           null,
           null,
           null,
           null,
           null,
           null,
           null,
           null,
           null,
           null,
           null,
           null,
           null,
           null,
           null,
           null,
           null,
           null,
           null,
           null,
           null,
           null,
           null,
           null
          ],
          [
           null,
           null,
           null,
           null,
           null,
           0.7421875,
           null,
           null,
           null,
           null,
           null,
           null,
           null,
           null,
           null,
           null,
           null,
           null,
           null,
           null,
           null,
           null,
           null,
           null,
           null,
           null,
           null,
           null,
           null,
           null,
           null,
           null,
           null,
           null,
           null,
           null,
           null,
           null,
           null
          ],
          [
           null,
           null,
           null,
           null,
           null,
           null,
           null,
           null,
           null,
           null,
           null,
           null,
           null,
           null,
           null,
           null,
           null,
           null,
           null,
           null,
           null,
           null,
           null,
           null,
           null,
           null,
           null,
           null,
           null,
           null,
           null,
           null,
           null,
           null,
           null,
           0.765625,
           null,
           null,
           null
          ],
          [
           null,
           null,
           null,
           null,
           null,
           null,
           null,
           null,
           null,
           null,
           null,
           null,
           null,
           null,
           null,
           null,
           null,
           null,
           null,
           null,
           null,
           null,
           null,
           null,
           null,
           null,
           null,
           null,
           null,
           null,
           null,
           null,
           null,
           null,
           0.72421875,
           null,
           null,
           null,
           null
          ],
          [
           null,
           null,
           null,
           null,
           null,
           null,
           null,
           null,
           null,
           null,
           null,
           null,
           null,
           null,
           null,
           null,
           null,
           null,
           null,
           null,
           null,
           null,
           null,
           null,
           null,
           null,
           null,
           null,
           null,
           null,
           null,
           null,
           null,
           null,
           null,
           null,
           null,
           0.64140625,
           null
          ],
          [
           null,
           null,
           null,
           null,
           null,
           null,
           null,
           null,
           null,
           null,
           null,
           null,
           null,
           null,
           null,
           null,
           null,
           null,
           null,
           null,
           null,
           null,
           null,
           null,
           null,
           null,
           null,
           null,
           null,
           null,
           null,
           null,
           null,
           null,
           null,
           null,
           null,
           null,
           null
          ]
         ],
         "type": "contour",
         "xaxis": "x55",
         "yaxis": "y55"
        },
        {
         "marker": {
          "color": "black",
          "line": {
           "color": "Grey",
           "width": 0.5
          }
         },
         "mode": "markers",
         "showlegend": false,
         "x": [
          0.49991042603144453,
          0.4467898927373322,
          0.3011076442904499,
          0.4599786517682562,
          0.3323342684111329
         ],
         "y": [
          114,
          108,
          43,
          101,
          61
         ],
         "type": "scatter",
         "xaxis": "x55",
         "yaxis": "y55"
        },
        {
         "showscale": false,
         "type": "contour",
         "xaxis": "x64",
         "yaxis": "y64"
        },
        {
         "type": "scatter",
         "xaxis": "x64",
         "yaxis": "y64"
        },
        {
         "colorbar": {
          "title": {
           "text": "Objective Value"
          }
         },
         "colorscale": [
          [
           0,
           "rgb(5,10,172)"
          ],
          [
           0.35,
           "rgb(40,60,190)"
          ],
          [
           0.5,
           "rgb(70,100,245)"
          ],
          [
           0.6,
           "rgb(90,120,245)"
          ],
          [
           0.7,
           "rgb(106,137,247)"
          ],
          [
           1,
           "rgb(220,220,220)"
          ]
         ],
         "connectgaps": true,
         "contours": {
          "coloring": "heatmap"
         },
         "hoverinfo": "none",
         "line": {
          "smoothing": 1.3
         },
         "reversescale": false,
         "showscale": false,
         "x": [
          0.248275589893297,
          0.2602582011379707,
          0.3011076442904499,
          0.31142092876329847,
          0.3137100739972145,
          0.3323342684111329,
          0.35759235212834356,
          0.36240001462367805,
          0.36632574841742344,
          0.3685731816408453,
          0.3692586483413988,
          0.3723356224932886,
          0.3737372338667225,
          0.3761735825467473,
          0.37747245570380256,
          0.3797448746025178,
          0.3857251388692347,
          0.3888201842287104,
          0.39184565558866635,
          0.3961548705464534,
          0.4016458131395273,
          0.40166090993047754,
          0.4030854733372593,
          0.403261496622062,
          0.4046193543658363,
          0.4052337530396442,
          0.4057318763556791,
          0.41011538188858293,
          0.416272641715248,
          0.4162774804789908,
          0.4176252415919155,
          0.4205542892566232,
          0.42654856202727615,
          0.43517892309348855,
          0.4467898927373322,
          0.4599786517682562,
          0.49004871993820337,
          0.49991042603144453,
          0.5118930372761182
         ],
         "y": [
          "Adam",
          "RMSprop"
         ],
         "z": [
          [
           null,
           0.6484375,
           null,
           null,
           null,
           0.7421875,
           0.825,
           0.83203125,
           0.80546875,
           null,
           0.81328125,
           0.8140625,
           0.79296875,
           0.8359375,
           0.8140625,
           0.83671875,
           0.81015625,
           0.82421875,
           0.80546875,
           0.81640625,
           0.78359375,
           null,
           0.8125,
           0.81953125,
           0.815625,
           0.7921875,
           0.834375,
           0.80078125,
           0.83125,
           0.815625,
           0.8140625,
           0.82578125,
           0.82890625,
           0.81015625,
           null,
           0.765625,
           0.6625,
           0.64140625,
           null
          ],
          [
           null,
           null,
           0.67265625,
           0.7828125,
           0.803125,
           null,
           null,
           null,
           null,
           0.771875,
           null,
           null,
           null,
           null,
           null,
           null,
           null,
           null,
           null,
           null,
           null,
           0.82109375,
           null,
           null,
           null,
           null,
           null,
           null,
           null,
           null,
           null,
           null,
           null,
           null,
           0.72421875,
           null,
           null,
           null,
           null
          ]
         ],
         "type": "contour",
         "xaxis": "x73",
         "yaxis": "y73"
        },
        {
         "marker": {
          "color": "black",
          "line": {
           "color": "Grey",
           "width": 0.5
          }
         },
         "mode": "markers",
         "showlegend": false,
         "x": [
          0.49991042603144453,
          0.4467898927373322,
          0.49004871993820337,
          0.2602582011379707,
          0.3011076442904499,
          0.4599786517682562,
          0.3323342684111329,
          0.31142092876329847,
          0.416272641715248,
          0.40166090993047754,
          0.3685731816408453,
          0.3137100739972145,
          0.4176252415919155,
          0.4162774804789908,
          0.41011538188858293,
          0.42654856202727615,
          0.3797448746025178,
          0.3761735825467473,
          0.3737372338667225,
          0.4052337530396442,
          0.36632574841742344,
          0.4016458131395273,
          0.36240001462367805,
          0.3961548705464534,
          0.39184565558866635,
          0.4057318763556791,
          0.403261496622062,
          0.3888201842287104,
          0.3723356224932886,
          0.4205542892566232,
          0.4030854733372593,
          0.3857251388692347,
          0.37747245570380256,
          0.4046193543658363,
          0.43517892309348855,
          0.35759235212834356,
          0.3692586483413988
         ],
         "y": [
          "Adam",
          "RMSprop",
          "Adam",
          "Adam",
          "RMSprop",
          "Adam",
          "Adam",
          "RMSprop",
          "Adam",
          "RMSprop",
          "RMSprop",
          "RMSprop",
          "Adam",
          "Adam",
          "Adam",
          "Adam",
          "Adam",
          "Adam",
          "Adam",
          "Adam",
          "Adam",
          "Adam",
          "Adam",
          "Adam",
          "Adam",
          "Adam",
          "Adam",
          "Adam",
          "Adam",
          "Adam",
          "Adam",
          "Adam",
          "Adam",
          "Adam",
          "Adam",
          "Adam",
          "Adam"
         ],
         "type": "scatter",
         "xaxis": "x73",
         "yaxis": "y73"
        },
        {
         "colorbar": {
          "title": {
           "text": "Objective Value"
          }
         },
         "colorscale": [
          [
           0,
           "rgb(5,10,172)"
          ],
          [
           0.35,
           "rgb(40,60,190)"
          ],
          [
           0.5,
           "rgb(70,100,245)"
          ],
          [
           0.6,
           "rgb(90,120,245)"
          ],
          [
           0.7,
           "rgb(106,137,247)"
          ],
          [
           1,
           "rgb(220,220,220)"
          ]
         ],
         "connectgaps": true,
         "contours": {
          "coloring": "heatmap"
         },
         "hoverinfo": "none",
         "line": {
          "smoothing": 1.3
         },
         "reversescale": false,
         "showscale": false,
         "x": [
          0.20236892342683915,
          0.21575438576317588,
          0.2442535129253178,
          0.28047450280396624,
          0.43022829131923823,
          0.48346363248991037,
          0.49684909482624706
         ],
         "y": [
          0.248275589893297,
          0.2602582011379707,
          0.3011076442904499,
          0.31142092876329847,
          0.3137100739972145,
          0.3323342684111329,
          0.35759235212834356,
          0.36240001462367805,
          0.36632574841742344,
          0.3685731816408453,
          0.3692586483413988,
          0.3723356224932886,
          0.3737372338667225,
          0.3761735825467473,
          0.37747245570380256,
          0.3797448746025178,
          0.3857251388692347,
          0.3888201842287104,
          0.39184565558866635,
          0.3961548705464534,
          0.4016458131395273,
          0.40166090993047754,
          0.4030854733372593,
          0.403261496622062,
          0.4046193543658363,
          0.4052337530396442,
          0.4057318763556791,
          0.41011538188858293,
          0.416272641715248,
          0.4162774804789908,
          0.4176252415919155,
          0.4205542892566232,
          0.42654856202727615,
          0.43517892309348855,
          0.4467898927373322,
          0.4599786517682562,
          0.49004871993820337,
          0.49991042603144453,
          0.5118930372761182
         ],
         "z": [
          [
           null,
           null,
           null,
           null,
           null,
           null,
           null
          ],
          [
           null,
           null,
           null,
           null,
           null,
           null,
           null
          ],
          [
           null,
           0.67265625,
           null,
           null,
           null,
           null,
           null
          ],
          [
           null,
           null,
           null,
           null,
           null,
           null,
           null
          ],
          [
           null,
           null,
           null,
           null,
           null,
           null,
           null
          ],
          [
           null,
           null,
           null,
           null,
           0.7421875,
           null,
           null
          ],
          [
           null,
           null,
           null,
           null,
           null,
           null,
           null
          ],
          [
           null,
           null,
           null,
           null,
           null,
           null,
           null
          ],
          [
           null,
           null,
           null,
           null,
           null,
           null,
           null
          ],
          [
           null,
           null,
           null,
           null,
           null,
           null,
           null
          ],
          [
           null,
           null,
           null,
           null,
           null,
           null,
           null
          ],
          [
           null,
           null,
           null,
           null,
           null,
           null,
           null
          ],
          [
           null,
           null,
           null,
           null,
           null,
           null,
           null
          ],
          [
           null,
           null,
           null,
           null,
           null,
           null,
           null
          ],
          [
           null,
           null,
           null,
           null,
           null,
           null,
           null
          ],
          [
           null,
           null,
           null,
           null,
           null,
           null,
           null
          ],
          [
           null,
           null,
           null,
           null,
           null,
           null,
           null
          ],
          [
           null,
           null,
           null,
           null,
           null,
           null,
           null
          ],
          [
           null,
           null,
           null,
           null,
           null,
           null,
           null
          ],
          [
           null,
           null,
           null,
           null,
           null,
           null,
           null
          ],
          [
           null,
           null,
           null,
           null,
           null,
           null,
           null
          ],
          [
           null,
           null,
           null,
           null,
           null,
           null,
           null
          ],
          [
           null,
           null,
           null,
           null,
           null,
           null,
           null
          ],
          [
           null,
           null,
           null,
           null,
           null,
           null,
           null
          ],
          [
           null,
           null,
           null,
           null,
           null,
           null,
           null
          ],
          [
           null,
           null,
           null,
           null,
           null,
           null,
           null
          ],
          [
           null,
           null,
           null,
           null,
           null,
           null,
           null
          ],
          [
           null,
           null,
           null,
           null,
           null,
           null,
           null
          ],
          [
           null,
           null,
           null,
           null,
           null,
           null,
           null
          ],
          [
           null,
           null,
           null,
           null,
           null,
           null,
           null
          ],
          [
           null,
           null,
           null,
           null,
           null,
           null,
           null
          ],
          [
           null,
           null,
           null,
           null,
           null,
           null,
           null
          ],
          [
           null,
           null,
           null,
           null,
           null,
           null,
           null
          ],
          [
           null,
           null,
           null,
           null,
           null,
           null,
           null
          ],
          [
           null,
           null,
           null,
           null,
           null,
           0.72421875,
           null
          ],
          [
           null,
           null,
           0.765625,
           null,
           null,
           null,
           null
          ],
          [
           null,
           null,
           null,
           null,
           null,
           null,
           null
          ],
          [
           null,
           null,
           null,
           0.64140625,
           null,
           null,
           null
          ],
          [
           null,
           null,
           null,
           null,
           null,
           null,
           null
          ]
         ],
         "type": "contour",
         "xaxis": "x2",
         "yaxis": "y2"
        },
        {
         "marker": {
          "color": "black",
          "line": {
           "color": "Grey",
           "width": 0.5
          }
         },
         "mode": "markers",
         "showlegend": false,
         "x": [
          0.28047450280396624,
          0.48346363248991037,
          0.21575438576317588,
          0.2442535129253178,
          0.43022829131923823
         ],
         "y": [
          0.49991042603144453,
          0.4467898927373322,
          0.3011076442904499,
          0.4599786517682562,
          0.3323342684111329
         ],
         "type": "scatter",
         "xaxis": "x2",
         "yaxis": "y2"
        },
        {
         "type": "scatter",
         "xaxis": "x11",
         "yaxis": "y11"
        },
        {
         "showscale": false,
         "type": "contour",
         "xaxis": "x20",
         "yaxis": "y20"
        },
        {
         "type": "scatter",
         "xaxis": "x20",
         "yaxis": "y20"
        },
        {
         "colorbar": {
          "title": {
           "text": "Objective Value"
          }
         },
         "colorscale": [
          [
           0,
           "rgb(5,10,172)"
          ],
          [
           0.35,
           "rgb(40,60,190)"
          ],
          [
           0.5,
           "rgb(70,100,245)"
          ],
          [
           0.6,
           "rgb(90,120,245)"
          ],
          [
           0.7,
           "rgb(106,137,247)"
          ],
          [
           1,
           "rgb(220,220,220)"
          ]
         ],
         "connectgaps": true,
         "contours": {
          "coloring": "heatmap"
         },
         "hoverinfo": "none",
         "line": {
          "smoothing": 1.3
         },
         "reversescale": false,
         "showscale": false,
         "x": [
          0.20236892342683915,
          0.21575438576317588,
          0.2442535129253178,
          0.28047450280396624,
          0.43022829131923823,
          0.48346363248991037,
          0.49684909482624706
         ],
         "y": [
          0.00004352144897506373,
          0.00005876258245472198,
          0.000059340666785345773,
          0.00006886403802372456,
          0.00013263632710883237,
          0.00016128853914478672,
          0.0005932598479371538,
          0.000809462846076977,
          0.0016107198356598163,
          0.0023267868036857165,
          0.0023377374445239987,
          0.002472706434914364,
          0.0026367205477363796,
          0.002745567533351846,
          0.00287060969037103,
          0.003158647044441662,
          0.0033980135026560787,
          0.003685350786811878,
          0.003990868655044566,
          0.004498324859394809,
          0.0045394573000566854,
          0.004903316858108346,
          0.005144944816934204,
          0.005146767582885322,
          0.005859850579234026,
          0.006103753537831752,
          0.006743180886093113,
          0.006814264748541518,
          0.0077818194942438626,
          0.00862979796607314,
          0.008854263806897779,
          0.00925112703353322,
          0.011635067929552913,
          0.013122970251652976,
          0.014140165464131263,
          0.01578188798534642,
          0.021155633400604067,
          0.02382601574276138,
          0.03216984378102199
         ],
         "z": [
          [
           null,
           null,
           null,
           null,
           null,
           null,
           null
          ],
          [
           null,
           null,
           null,
           null,
           null,
           null,
           null
          ],
          [
           null,
           null,
           null,
           0.64140625,
           null,
           null,
           null
          ],
          [
           null,
           null,
           null,
           null,
           null,
           null,
           null
          ],
          [
           null,
           0.67265625,
           null,
           null,
           null,
           null,
           null
          ],
          [
           null,
           null,
           null,
           null,
           null,
           0.72421875,
           null
          ],
          [
           null,
           null,
           null,
           null,
           null,
           null,
           null
          ],
          [
           null,
           null,
           null,
           null,
           null,
           null,
           null
          ],
          [
           null,
           null,
           0.765625,
           null,
           null,
           null,
           null
          ],
          [
           null,
           null,
           null,
           null,
           null,
           null,
           null
          ],
          [
           null,
           null,
           null,
           null,
           null,
           null,
           null
          ],
          [
           null,
           null,
           null,
           null,
           null,
           null,
           null
          ],
          [
           null,
           null,
           null,
           null,
           null,
           null,
           null
          ],
          [
           null,
           null,
           null,
           null,
           null,
           null,
           null
          ],
          [
           null,
           null,
           null,
           null,
           null,
           null,
           null
          ],
          [
           null,
           null,
           null,
           null,
           0.7421875,
           null,
           null
          ],
          [
           null,
           null,
           null,
           null,
           null,
           null,
           null
          ],
          [
           null,
           null,
           null,
           null,
           null,
           null,
           null
          ],
          [
           null,
           null,
           null,
           null,
           null,
           null,
           null
          ],
          [
           null,
           null,
           null,
           null,
           null,
           null,
           null
          ],
          [
           null,
           null,
           null,
           null,
           null,
           null,
           null
          ],
          [
           null,
           null,
           null,
           null,
           null,
           null,
           null
          ],
          [
           null,
           null,
           null,
           null,
           null,
           null,
           null
          ],
          [
           null,
           null,
           null,
           null,
           null,
           null,
           null
          ],
          [
           null,
           null,
           null,
           null,
           null,
           null,
           null
          ],
          [
           null,
           null,
           null,
           null,
           null,
           null,
           null
          ],
          [
           null,
           null,
           null,
           null,
           null,
           null,
           null
          ],
          [
           null,
           null,
           null,
           null,
           null,
           null,
           null
          ],
          [
           null,
           null,
           null,
           null,
           null,
           null,
           null
          ],
          [
           null,
           null,
           null,
           null,
           null,
           null,
           null
          ],
          [
           null,
           null,
           null,
           null,
           null,
           null,
           null
          ],
          [
           null,
           null,
           null,
           null,
           null,
           null,
           null
          ],
          [
           null,
           null,
           null,
           null,
           null,
           null,
           null
          ],
          [
           null,
           null,
           null,
           null,
           null,
           null,
           null
          ],
          [
           null,
           null,
           null,
           null,
           null,
           null,
           null
          ],
          [
           null,
           null,
           null,
           null,
           null,
           null,
           null
          ],
          [
           null,
           null,
           null,
           null,
           null,
           null,
           null
          ],
          [
           null,
           null,
           null,
           null,
           null,
           null,
           null
          ],
          [
           null,
           null,
           null,
           null,
           null,
           null,
           null
          ]
         ],
         "type": "contour",
         "xaxis": "x29",
         "yaxis": "y29"
        },
        {
         "marker": {
          "color": "black",
          "line": {
           "color": "Grey",
           "width": 0.5
          }
         },
         "mode": "markers",
         "showlegend": false,
         "x": [
          0.28047450280396624,
          0.48346363248991037,
          0.21575438576317588,
          0.2442535129253178,
          0.43022829131923823
         ],
         "y": [
          0.000059340666785345773,
          0.00016128853914478672,
          0.00013263632710883237,
          0.0016107198356598163,
          0.003158647044441662
         ],
         "type": "scatter",
         "xaxis": "x29",
         "yaxis": "y29"
        },
        {
         "colorbar": {
          "title": {
           "text": "Objective Value"
          }
         },
         "colorscale": [
          [
           0,
           "rgb(5,10,172)"
          ],
          [
           0.35,
           "rgb(40,60,190)"
          ],
          [
           0.5,
           "rgb(70,100,245)"
          ],
          [
           0.6,
           "rgb(90,120,245)"
          ],
          [
           0.7,
           "rgb(106,137,247)"
          ],
          [
           1,
           "rgb(220,220,220)"
          ]
         ],
         "connectgaps": true,
         "contours": {
          "coloring": "heatmap"
         },
         "hoverinfo": "none",
         "line": {
          "smoothing": 1.3
         },
         "reversescale": false,
         "showscale": false,
         "x": [
          0.20236892342683915,
          0.21575438576317588,
          0.2442535129253178,
          0.28047450280396624,
          0.43022829131923823,
          0.48346363248991037,
          0.49684909482624706
         ],
         "y": [
          0.9,
          1,
          2,
          3,
          3.1
         ],
         "z": [
          [
           null,
           null,
           null,
           null,
           null,
           null,
           null
          ],
          [
           null,
           null,
           null,
           null,
           null,
           null,
           null
          ],
          [
           null,
           0.67265625,
           null,
           0.64140625,
           0.7421875,
           0.72421875,
           null
          ],
          [
           null,
           null,
           0.765625,
           null,
           null,
           null,
           null
          ],
          [
           null,
           null,
           null,
           null,
           null,
           null,
           null
          ]
         ],
         "type": "contour",
         "xaxis": "x38",
         "yaxis": "y38"
        },
        {
         "marker": {
          "color": "black",
          "line": {
           "color": "Grey",
           "width": 0.5
          }
         },
         "mode": "markers",
         "showlegend": false,
         "x": [
          0.28047450280396624,
          0.48346363248991037,
          0.21575438576317588,
          0.2442535129253178,
          0.43022829131923823
         ],
         "y": [
          2,
          2,
          2,
          3,
          2
         ],
         "type": "scatter",
         "xaxis": "x38",
         "yaxis": "y38"
        },
        {
         "colorbar": {
          "title": {
           "text": "Objective Value"
          }
         },
         "colorscale": [
          [
           0,
           "rgb(5,10,172)"
          ],
          [
           0.35,
           "rgb(40,60,190)"
          ],
          [
           0.5,
           "rgb(70,100,245)"
          ],
          [
           0.6,
           "rgb(90,120,245)"
          ],
          [
           0.7,
           "rgb(106,137,247)"
          ],
          [
           1,
           "rgb(220,220,220)"
          ]
         ],
         "connectgaps": true,
         "contours": {
          "coloring": "heatmap"
         },
         "hoverinfo": "none",
         "line": {
          "smoothing": 1.3
         },
         "reversescale": false,
         "showscale": false,
         "x": [
          0.20236892342683915,
          0.21575438576317588,
          0.2442535129253178,
          0.28047450280396624,
          0.43022829131923823,
          0.48346363248991037,
          0.49684909482624706
         ],
         "y": [
          13.649999999999999,
          19,
          40,
          46,
          53,
          55,
          57,
          61,
          62,
          65,
          71,
          73,
          82,
          85,
          86,
          88,
          89,
          90,
          92,
          93,
          94,
          98,
          101,
          104,
          111,
          113,
          114,
          119,
          121,
          123,
          126,
          131.35
         ],
         "z": [
          [
           null,
           null,
           null,
           null,
           null,
           null,
           null
          ],
          [
           null,
           null,
           null,
           null,
           0.7421875,
           null,
           null
          ],
          [
           null,
           null,
           0.765625,
           null,
           null,
           null,
           null
          ],
          [
           null,
           0.67265625,
           null,
           null,
           null,
           null,
           null
          ],
          [
           null,
           null,
           null,
           null,
           null,
           null,
           null
          ],
          [
           null,
           null,
           null,
           null,
           null,
           null,
           null
          ],
          [
           null,
           null,
           null,
           null,
           null,
           null,
           null
          ],
          [
           null,
           null,
           null,
           0.64140625,
           null,
           null,
           null
          ],
          [
           null,
           null,
           null,
           null,
           null,
           null,
           null
          ],
          [
           null,
           null,
           null,
           null,
           null,
           null,
           null
          ],
          [
           null,
           null,
           null,
           null,
           null,
           null,
           null
          ],
          [
           null,
           null,
           null,
           null,
           null,
           null,
           null
          ],
          [
           null,
           null,
           null,
           null,
           null,
           null,
           null
          ],
          [
           null,
           null,
           null,
           null,
           null,
           null,
           null
          ],
          [
           null,
           null,
           null,
           null,
           null,
           null,
           null
          ],
          [
           null,
           null,
           null,
           null,
           null,
           null,
           null
          ],
          [
           null,
           null,
           null,
           null,
           null,
           null,
           null
          ],
          [
           null,
           null,
           null,
           null,
           null,
           null,
           null
          ],
          [
           null,
           null,
           null,
           null,
           null,
           null,
           null
          ],
          [
           null,
           null,
           null,
           null,
           null,
           null,
           null
          ],
          [
           null,
           null,
           null,
           null,
           null,
           null,
           null
          ],
          [
           null,
           null,
           null,
           null,
           null,
           null,
           null
          ],
          [
           null,
           null,
           null,
           null,
           null,
           null,
           null
          ],
          [
           null,
           null,
           null,
           null,
           null,
           null,
           null
          ],
          [
           null,
           null,
           null,
           null,
           null,
           null,
           null
          ],
          [
           null,
           null,
           null,
           null,
           null,
           null,
           null
          ],
          [
           null,
           null,
           null,
           null,
           null,
           null,
           null
          ],
          [
           null,
           null,
           null,
           null,
           null,
           null,
           null
          ],
          [
           null,
           null,
           null,
           null,
           null,
           null,
           null
          ],
          [
           null,
           null,
           null,
           null,
           null,
           0.72421875,
           null
          ],
          [
           null,
           null,
           null,
           null,
           null,
           null,
           null
          ],
          [
           null,
           null,
           null,
           null,
           null,
           null,
           null
          ]
         ],
         "type": "contour",
         "xaxis": "x47",
         "yaxis": "y47"
        },
        {
         "marker": {
          "color": "black",
          "line": {
           "color": "Grey",
           "width": 0.5
          }
         },
         "mode": "markers",
         "showlegend": false,
         "x": [
          0.28047450280396624,
          0.48346363248991037,
          0.21575438576317588,
          0.2442535129253178,
          0.43022829131923823
         ],
         "y": [
          61,
          123,
          46,
          40,
          19
         ],
         "type": "scatter",
         "xaxis": "x47",
         "yaxis": "y47"
        },
        {
         "colorbar": {
          "title": {
           "text": "Objective Value"
          }
         },
         "colorscale": [
          [
           0,
           "rgb(5,10,172)"
          ],
          [
           0.35,
           "rgb(40,60,190)"
          ],
          [
           0.5,
           "rgb(70,100,245)"
          ],
          [
           0.6,
           "rgb(90,120,245)"
          ],
          [
           0.7,
           "rgb(106,137,247)"
          ],
          [
           1,
           "rgb(220,220,220)"
          ]
         ],
         "connectgaps": true,
         "contours": {
          "coloring": "heatmap"
         },
         "hoverinfo": "none",
         "line": {
          "smoothing": 1.3
         },
         "reversescale": false,
         "showscale": false,
         "x": [
          0.20236892342683915,
          0.21575438576317588,
          0.2442535129253178,
          0.28047450280396624,
          0.43022829131923823,
          0.48346363248991037,
          0.49684909482624706
         ],
         "y": [
          39.45,
          43,
          61,
          101,
          108,
          114,
          117.55
         ],
         "z": [
          [
           null,
           null,
           null,
           null,
           null,
           null,
           null
          ],
          [
           null,
           0.67265625,
           null,
           null,
           null,
           null,
           null
          ],
          [
           null,
           null,
           null,
           null,
           0.7421875,
           null,
           null
          ],
          [
           null,
           null,
           0.765625,
           null,
           null,
           null,
           null
          ],
          [
           null,
           null,
           null,
           null,
           null,
           0.72421875,
           null
          ],
          [
           null,
           null,
           null,
           0.64140625,
           null,
           null,
           null
          ],
          [
           null,
           null,
           null,
           null,
           null,
           null,
           null
          ]
         ],
         "type": "contour",
         "xaxis": "x56",
         "yaxis": "y56"
        },
        {
         "marker": {
          "color": "black",
          "line": {
           "color": "Grey",
           "width": 0.5
          }
         },
         "mode": "markers",
         "showlegend": false,
         "x": [
          0.28047450280396624,
          0.48346363248991037,
          0.21575438576317588,
          0.2442535129253178,
          0.43022829131923823
         ],
         "y": [
          114,
          108,
          43,
          101,
          61
         ],
         "type": "scatter",
         "xaxis": "x56",
         "yaxis": "y56"
        },
        {
         "showscale": false,
         "type": "contour",
         "xaxis": "x65",
         "yaxis": "y65"
        },
        {
         "type": "scatter",
         "xaxis": "x65",
         "yaxis": "y65"
        },
        {
         "colorbar": {
          "title": {
           "text": "Objective Value"
          }
         },
         "colorscale": [
          [
           0,
           "rgb(5,10,172)"
          ],
          [
           0.35,
           "rgb(40,60,190)"
          ],
          [
           0.5,
           "rgb(70,100,245)"
          ],
          [
           0.6,
           "rgb(90,120,245)"
          ],
          [
           0.7,
           "rgb(106,137,247)"
          ],
          [
           1,
           "rgb(220,220,220)"
          ]
         ],
         "connectgaps": true,
         "contours": {
          "coloring": "heatmap"
         },
         "hoverinfo": "none",
         "line": {
          "smoothing": 1.3
         },
         "reversescale": false,
         "showscale": false,
         "x": [
          0.20236892342683915,
          0.21575438576317588,
          0.2442535129253178,
          0.28047450280396624,
          0.43022829131923823,
          0.48346363248991037,
          0.49684909482624706
         ],
         "y": [
          "Adam",
          "RMSprop"
         ],
         "z": [
          [
           null,
           null,
           0.765625,
           0.64140625,
           0.7421875,
           null,
           null
          ],
          [
           null,
           0.67265625,
           null,
           null,
           null,
           0.72421875,
           null
          ]
         ],
         "type": "contour",
         "xaxis": "x74",
         "yaxis": "y74"
        },
        {
         "marker": {
          "color": "black",
          "line": {
           "color": "Grey",
           "width": 0.5
          }
         },
         "mode": "markers",
         "showlegend": false,
         "x": [
          0.28047450280396624,
          0.48346363248991037,
          0.21575438576317588,
          0.2442535129253178,
          0.43022829131923823
         ],
         "y": [
          "Adam",
          "RMSprop",
          "RMSprop",
          "Adam",
          "Adam"
         ],
         "type": "scatter",
         "xaxis": "x74",
         "yaxis": "y74"
        },
        {
         "showscale": false,
         "type": "contour",
         "xaxis": "x3",
         "yaxis": "y3"
        },
        {
         "type": "scatter",
         "xaxis": "x3",
         "yaxis": "y3"
        },
        {
         "showscale": false,
         "type": "contour",
         "xaxis": "x12",
         "yaxis": "y12"
        },
        {
         "type": "scatter",
         "xaxis": "x12",
         "yaxis": "y12"
        },
        {
         "type": "scatter",
         "xaxis": "x21",
         "yaxis": "y21"
        },
        {
         "showscale": false,
         "type": "contour",
         "xaxis": "x30",
         "yaxis": "y30"
        },
        {
         "type": "scatter",
         "xaxis": "x30",
         "yaxis": "y30"
        },
        {
         "showscale": false,
         "type": "contour",
         "xaxis": "x39",
         "yaxis": "y39"
        },
        {
         "type": "scatter",
         "xaxis": "x39",
         "yaxis": "y39"
        },
        {
         "showscale": false,
         "type": "contour",
         "xaxis": "x48",
         "yaxis": "y48"
        },
        {
         "type": "scatter",
         "xaxis": "x48",
         "yaxis": "y48"
        },
        {
         "showscale": false,
         "type": "contour",
         "xaxis": "x57",
         "yaxis": "y57"
        },
        {
         "type": "scatter",
         "xaxis": "x57",
         "yaxis": "y57"
        },
        {
         "showscale": false,
         "type": "contour",
         "xaxis": "x66",
         "yaxis": "y66"
        },
        {
         "type": "scatter",
         "xaxis": "x66",
         "yaxis": "y66"
        },
        {
         "showscale": false,
         "type": "contour",
         "xaxis": "x75",
         "yaxis": "y75"
        },
        {
         "type": "scatter",
         "xaxis": "x75",
         "yaxis": "y75"
        },
        {
         "colorbar": {
          "title": {
           "text": "Objective Value"
          }
         },
         "colorscale": [
          [
           0,
           "rgb(5,10,172)"
          ],
          [
           0.35,
           "rgb(40,60,190)"
          ],
          [
           0.5,
           "rgb(70,100,245)"
          ],
          [
           0.6,
           "rgb(90,120,245)"
          ],
          [
           0.7,
           "rgb(106,137,247)"
          ],
          [
           1,
           "rgb(220,220,220)"
          ]
         ],
         "connectgaps": true,
         "contours": {
          "coloring": "heatmap"
         },
         "hoverinfo": "none",
         "line": {
          "smoothing": 1.3
         },
         "reversescale": false,
         "showscale": false,
         "x": [
          0.00004352144897506373,
          0.00005876258245472198,
          0.000059340666785345773,
          0.00006886403802372456,
          0.00013263632710883237,
          0.00016128853914478672,
          0.0005932598479371538,
          0.000809462846076977,
          0.0016107198356598163,
          0.0023267868036857165,
          0.0023377374445239987,
          0.002472706434914364,
          0.0026367205477363796,
          0.002745567533351846,
          0.00287060969037103,
          0.003158647044441662,
          0.0033980135026560787,
          0.003685350786811878,
          0.003990868655044566,
          0.004498324859394809,
          0.0045394573000566854,
          0.004903316858108346,
          0.005144944816934204,
          0.005146767582885322,
          0.005859850579234026,
          0.006103753537831752,
          0.006743180886093113,
          0.006814264748541518,
          0.0077818194942438626,
          0.00862979796607314,
          0.008854263806897779,
          0.00925112703353322,
          0.011635067929552913,
          0.013122970251652976,
          0.014140165464131263,
          0.01578188798534642,
          0.021155633400604067,
          0.02382601574276138,
          0.03216984378102199
         ],
         "y": [
          0.248275589893297,
          0.2602582011379707,
          0.3011076442904499,
          0.31142092876329847,
          0.3137100739972145,
          0.3323342684111329,
          0.35759235212834356,
          0.36240001462367805,
          0.36632574841742344,
          0.3685731816408453,
          0.3692586483413988,
          0.3723356224932886,
          0.3737372338667225,
          0.3761735825467473,
          0.37747245570380256,
          0.3797448746025178,
          0.3857251388692347,
          0.3888201842287104,
          0.39184565558866635,
          0.3961548705464534,
          0.4016458131395273,
          0.40166090993047754,
          0.4030854733372593,
          0.403261496622062,
          0.4046193543658363,
          0.4052337530396442,
          0.4057318763556791,
          0.41011538188858293,
          0.416272641715248,
          0.4162774804789908,
          0.4176252415919155,
          0.4205542892566232,
          0.42654856202727615,
          0.43517892309348855,
          0.4467898927373322,
          0.4599786517682562,
          0.49004871993820337,
          0.49991042603144453,
          0.5118930372761182
         ],
         "z": [
          [
           null,
           null,
           null,
           null,
           null,
           null,
           null,
           null,
           null,
           null,
           null,
           null,
           null,
           null,
           null,
           null,
           null,
           null,
           null,
           null,
           null,
           null,
           null,
           null,
           null,
           null,
           null,
           null,
           null,
           null,
           null,
           null,
           null,
           null,
           null,
           null,
           null,
           null,
           null
          ],
          [
           null,
           0.6484375,
           null,
           null,
           null,
           null,
           null,
           null,
           null,
           null,
           null,
           null,
           null,
           null,
           null,
           null,
           null,
           null,
           null,
           null,
           null,
           null,
           null,
           null,
           null,
           null,
           null,
           null,
           null,
           null,
           null,
           null,
           null,
           null,
           null,
           null,
           null,
           null,
           null
          ],
          [
           null,
           null,
           null,
           null,
           0.67265625,
           null,
           null,
           null,
           null,
           null,
           null,
           null,
           null,
           null,
           null,
           null,
           null,
           null,
           null,
           null,
           null,
           null,
           null,
           null,
           null,
           null,
           null,
           null,
           null,
           null,
           null,
           null,
           null,
           null,
           null,
           null,
           null,
           null,
           null
          ],
          [
           null,
           null,
           null,
           null,
           null,
           null,
           null,
           null,
           null,
           null,
           null,
           null,
           null,
           null,
           null,
           null,
           null,
           null,
           null,
           null,
           null,
           null,
           null,
           null,
           null,
           null,
           null,
           null,
           null,
           0.7828125,
           null,
           null,
           null,
           null,
           null,
           null,
           null,
           null,
           null
          ],
          [
           null,
           null,
           null,
           null,
           null,
           null,
           null,
           null,
           null,
           null,
           null,
           null,
           null,
           null,
           null,
           null,
           null,
           null,
           null,
           null,
           null,
           null,
           null,
           null,
           null,
           null,
           null,
           null,
           0.803125,
           null,
           null,
           null,
           null,
           null,
           null,
           null,
           null,
           null,
           null
          ],
          [
           null,
           null,
           null,
           null,
           null,
           null,
           null,
           null,
           null,
           null,
           null,
           null,
           null,
           null,
           null,
           0.7421875,
           null,
           null,
           null,
           null,
           null,
           null,
           null,
           null,
           null,
           null,
           null,
           null,
           null,
           null,
           null,
           null,
           null,
           null,
           null,
           null,
           null,
           null,
           null
          ],
          [
           null,
           null,
           null,
           null,
           null,
           null,
           null,
           null,
           null,
           null,
           null,
           null,
           null,
           null,
           null,
           null,
           null,
           null,
           0.825,
           null,
           null,
           null,
           null,
           null,
           null,
           null,
           null,
           null,
           null,
           null,
           null,
           null,
           null,
           null,
           null,
           null,
           null,
           null,
           null
          ],
          [
           null,
           null,
           null,
           null,
           null,
           null,
           null,
           null,
           null,
           null,
           0.83203125,
           null,
           null,
           null,
           null,
           null,
           null,
           null,
           null,
           null,
           null,
           null,
           null,
           null,
           null,
           null,
           null,
           null,
           null,
           null,
           null,
           null,
           null,
           null,
           null,
           null,
           null,
           null,
           null
          ],
          [
           null,
           null,
           null,
           null,
           null,
           null,
           null,
           null,
           null,
           null,
           null,
           null,
           null,
           null,
           null,
           null,
           null,
           null,
           null,
           null,
           null,
           null,
           null,
           null,
           null,
           null,
           null,
           null,
           null,
           null,
           null,
           null,
           null,
           null,
           null,
           0.80546875,
           null,
           null,
           null
          ],
          [
           null,
           null,
           null,
           null,
           null,
           null,
           0.771875,
           null,
           null,
           null,
           null,
           null,
           null,
           null,
           null,
           null,
           null,
           null,
           null,
           null,
           null,
           null,
           null,
           null,
           null,
           null,
           null,
           null,
           null,
           null,
           null,
           null,
           null,
           null,
           null,
           null,
           null,
           null,
           null
          ],
          [
           null,
           null,
           null,
           null,
           null,
           null,
           null,
           null,
           null,
           null,
           null,
           null,
           0.81328125,
           null,
           null,
           null,
           null,
           null,
           null,
           null,
           null,
           null,
           null,
           null,
           null,
           null,
           null,
           null,
           null,
           null,
           null,
           null,
           null,
           null,
           null,
           null,
           null,
           null,
           null
          ],
          [
           null,
           null,
           null,
           null,
           null,
           null,
           null,
           null,
           null,
           null,
           null,
           null,
           null,
           null,
           null,
           null,
           null,
           null,
           null,
           0.8140625,
           null,
           null,
           null,
           null,
           null,
           null,
           null,
           null,
           null,
           null,
           null,
           null,
           null,
           null,
           null,
           null,
           null,
           null,
           null
          ],
          [
           null,
           null,
           null,
           null,
           null,
           null,
           null,
           null,
           null,
           0.79296875,
           null,
           null,
           null,
           null,
           null,
           null,
           null,
           null,
           null,
           null,
           null,
           null,
           null,
           null,
           null,
           null,
           null,
           null,
           null,
           null,
           null,
           null,
           null,
           null,
           null,
           null,
           null,
           null,
           null
          ],
          [
           null,
           null,
           null,
           null,
           null,
           null,
           null,
           null,
           null,
           null,
           null,
           0.8359375,
           null,
           null,
           null,
           null,
           null,
           null,
           null,
           null,
           null,
           null,
           null,
           null,
           null,
           null,
           null,
           null,
           null,
           null,
           null,
           null,
           null,
           null,
           null,
           null,
           null,
           null,
           null
          ],
          [
           null,
           null,
           null,
           null,
           null,
           null,
           null,
           null,
           null,
           null,
           null,
           null,
           null,
           null,
           null,
           null,
           null,
           null,
           null,
           null,
           0.8140625,
           null,
           null,
           null,
           null,
           null,
           null,
           null,
           null,
           null,
           null,
           null,
           null,
           null,
           null,
           null,
           null,
           null,
           null
          ],
          [
           null,
           null,
           null,
           null,
           null,
           null,
           null,
           null,
           null,
           null,
           null,
           null,
           null,
           0.83671875,
           null,
           null,
           null,
           null,
           null,
           null,
           null,
           null,
           null,
           null,
           null,
           null,
           null,
           null,
           null,
           null,
           null,
           null,
           null,
           null,
           null,
           null,
           null,
           null,
           null
          ],
          [
           null,
           null,
           null,
           null,
           null,
           null,
           null,
           null,
           null,
           null,
           null,
           null,
           null,
           null,
           null,
           null,
           null,
           null,
           null,
           null,
           null,
           null,
           null,
           null,
           null,
           null,
           null,
           null,
           null,
           null,
           0.81015625,
           null,
           null,
           null,
           null,
           null,
           null,
           null,
           null
          ],
          [
           null,
           null,
           null,
           null,
           null,
           null,
           null,
           null,
           null,
           null,
           null,
           null,
           null,
           null,
           null,
           null,
           null,
           0.82421875,
           null,
           null,
           null,
           null,
           null,
           null,
           null,
           null,
           null,
           null,
           null,
           null,
           null,
           null,
           null,
           null,
           null,
           null,
           null,
           null,
           null
          ],
          [
           null,
           null,
           null,
           null,
           null,
           null,
           null,
           null,
           null,
           null,
           null,
           null,
           null,
           null,
           null,
           null,
           null,
           null,
           null,
           null,
           null,
           null,
           null,
           null,
           null,
           null,
           null,
           null,
           null,
           null,
           null,
           null,
           null,
           null,
           0.80546875,
           null,
           null,
           null,
           null
          ],
          [
           null,
           null,
           null,
           null,
           null,
           null,
           null,
           null,
           null,
           null,
           null,
           null,
           null,
           null,
           null,
           null,
           null,
           null,
           null,
           null,
           null,
           null,
           null,
           null,
           null,
           null,
           null,
           null,
           null,
           null,
           null,
           null,
           null,
           0.81640625,
           null,
           null,
           null,
           null,
           null
          ],
          [
           null,
           null,
           null,
           null,
           null,
           null,
           null,
           null,
           null,
           null,
           null,
           null,
           null,
           null,
           null,
           null,
           null,
           null,
           null,
           null,
           null,
           null,
           null,
           null,
           null,
           null,
           null,
           null,
           null,
           null,
           null,
           null,
           null,
           null,
           null,
           null,
           null,
           0.78359375,
           null
          ],
          [
           null,
           null,
           null,
           null,
           null,
           null,
           null,
           null,
           null,
           null,
           null,
           null,
           null,
           null,
           null,
           null,
           null,
           null,
           null,
           null,
           null,
           null,
           null,
           null,
           null,
           null,
           null,
           null,
           null,
           null,
           null,
           0.82109375,
           null,
           null,
           null,
           null,
           null,
           null,
           null
          ],
          [
           null,
           null,
           null,
           null,
           null,
           null,
           null,
           null,
           null,
           null,
           null,
           null,
           null,
           null,
           null,
           null,
           null,
           null,
           null,
           null,
           null,
           null,
           null,
           null,
           null,
           null,
           null,
           0.8125,
           null,
           null,
           null,
           null,
           null,
           null,
           null,
           null,
           null,
           null,
           null
          ],
          [
           null,
           null,
           null,
           null,
           null,
           null,
           null,
           null,
           null,
           null,
           null,
           null,
           null,
           null,
           null,
           null,
           null,
           null,
           null,
           null,
           null,
           null,
           null,
           0.81953125,
           null,
           null,
           null,
           null,
           null,
           null,
           null,
           null,
           null,
           null,
           null,
           null,
           null,
           null,
           null
          ],
          [
           null,
           null,
           null,
           null,
           null,
           null,
           null,
           null,
           null,
           null,
           null,
           null,
           null,
           null,
           null,
           null,
           null,
           null,
           null,
           null,
           null,
           null,
           0.815625,
           null,
           null,
           null,
           null,
           null,
           null,
           null,
           null,
           null,
           null,
           null,
           null,
           null,
           null,
           null,
           null
          ],
          [
           null,
           null,
           null,
           null,
           null,
           null,
           null,
           null,
           null,
           null,
           null,
           null,
           null,
           null,
           0.7921875,
           null,
           null,
           null,
           null,
           null,
           null,
           null,
           null,
           null,
           null,
           null,
           null,
           null,
           null,
           null,
           null,
           null,
           null,
           null,
           null,
           null,
           null,
           null,
           null
          ],
          [
           null,
           null,
           null,
           null,
           null,
           null,
           null,
           null,
           null,
           null,
           null,
           null,
           null,
           null,
           null,
           null,
           null,
           null,
           null,
           null,
           null,
           0.834375,
           null,
           null,
           null,
           null,
           null,
           null,
           null,
           null,
           null,
           null,
           null,
           null,
           null,
           null,
           null,
           null,
           null
          ],
          [
           null,
           null,
           null,
           null,
           null,
           null,
           null,
           null,
           null,
           null,
           null,
           null,
           null,
           null,
           null,
           null,
           null,
           null,
           null,
           null,
           null,
           null,
           null,
           null,
           null,
           null,
           null,
           null,
           null,
           null,
           null,
           null,
           null,
           null,
           null,
           null,
           0.80078125,
           null,
           null
          ],
          [
           null,
           null,
           null,
           null,
           null,
           null,
           null,
           null,
           null,
           null,
           null,
           null,
           null,
           null,
           null,
           null,
           null,
           null,
           null,
           null,
           null,
           null,
           null,
           null,
           null,
           null,
           0.83125,
           null,
           null,
           null,
           null,
           null,
           null,
           null,
           null,
           null,
           null,
           null,
           null
          ],
          [
           null,
           null,
           null,
           null,
           null,
           null,
           null,
           0.815625,
           null,
           null,
           null,
           null,
           null,
           null,
           null,
           null,
           null,
           null,
           null,
           null,
           null,
           null,
           null,
           null,
           null,
           null,
           null,
           null,
           null,
           null,
           null,
           null,
           null,
           null,
           null,
           null,
           null,
           null,
           null
          ],
          [
           null,
           null,
           null,
           null,
           null,
           null,
           null,
           null,
           null,
           null,
           null,
           null,
           null,
           null,
           null,
           null,
           null,
           null,
           null,
           null,
           null,
           null,
           null,
           null,
           null,
           0.8140625,
           null,
           null,
           null,
           null,
           null,
           null,
           null,
           null,
           null,
           null,
           null,
           null,
           null
          ],
          [
           null,
           null,
           null,
           null,
           null,
           null,
           null,
           null,
           null,
           null,
           null,
           null,
           null,
           null,
           null,
           null,
           0.82578125,
           null,
           null,
           null,
           null,
           null,
           null,
           null,
           null,
           null,
           null,
           null,
           null,
           null,
           null,
           null,
           null,
           null,
           null,
           null,
           null,
           null,
           null
          ],
          [
           null,
           null,
           null,
           null,
           null,
           null,
           null,
           null,
           null,
           null,
           null,
           null,
           null,
           null,
           null,
           null,
           null,
           null,
           null,
           null,
           null,
           null,
           null,
           null,
           0.82890625,
           null,
           null,
           null,
           null,
           null,
           null,
           null,
           null,
           null,
           null,
           null,
           null,
           null,
           null
          ],
          [
           null,
           null,
           null,
           null,
           null,
           null,
           null,
           null,
           null,
           null,
           null,
           null,
           null,
           null,
           null,
           null,
           null,
           null,
           null,
           null,
           null,
           null,
           null,
           null,
           null,
           null,
           null,
           null,
           null,
           null,
           null,
           null,
           0.81015625,
           null,
           null,
           null,
           null,
           null,
           null
          ],
          [
           null,
           null,
           null,
           null,
           null,
           0.72421875,
           null,
           null,
           null,
           null,
           null,
           null,
           null,
           null,
           null,
           null,
           null,
           null,
           null,
           null,
           null,
           null,
           null,
           null,
           null,
           null,
           null,
           null,
           null,
           null,
           null,
           null,
           null,
           null,
           null,
           null,
           null,
           null,
           null
          ],
          [
           null,
           null,
           null,
           null,
           null,
           null,
           null,
           null,
           0.765625,
           null,
           null,
           null,
           null,
           null,
           null,
           null,
           null,
           null,
           null,
           null,
           null,
           null,
           null,
           null,
           null,
           null,
           null,
           null,
           null,
           null,
           null,
           null,
           null,
           null,
           null,
           null,
           null,
           null,
           null
          ],
          [
           null,
           null,
           null,
           0.6625,
           null,
           null,
           null,
           null,
           null,
           null,
           null,
           null,
           null,
           null,
           null,
           null,
           null,
           null,
           null,
           null,
           null,
           null,
           null,
           null,
           null,
           null,
           null,
           null,
           null,
           null,
           null,
           null,
           null,
           null,
           null,
           null,
           null,
           null,
           null
          ],
          [
           null,
           null,
           0.64140625,
           null,
           null,
           null,
           null,
           null,
           null,
           null,
           null,
           null,
           null,
           null,
           null,
           null,
           null,
           null,
           null,
           null,
           null,
           null,
           null,
           null,
           null,
           null,
           null,
           null,
           null,
           null,
           null,
           null,
           null,
           null,
           null,
           null,
           null,
           null,
           null
          ],
          [
           null,
           null,
           null,
           null,
           null,
           null,
           null,
           null,
           null,
           null,
           null,
           null,
           null,
           null,
           null,
           null,
           null,
           null,
           null,
           null,
           null,
           null,
           null,
           null,
           null,
           null,
           null,
           null,
           null,
           null,
           null,
           null,
           null,
           null,
           null,
           null,
           null,
           null,
           null
          ]
         ],
         "type": "contour",
         "xaxis": "x4",
         "yaxis": "y4"
        },
        {
         "marker": {
          "color": "black",
          "line": {
           "color": "Grey",
           "width": 0.5
          }
         },
         "mode": "markers",
         "showlegend": false,
         "x": [
          0.000059340666785345773,
          0.00016128853914478672,
          0.00006886403802372456,
          0.00005876258245472198,
          0.00013263632710883237,
          0.0016107198356598163,
          0.003158647044441662,
          0.00862979796607314,
          0.006743180886093113,
          0.00925112703353322,
          0.0005932598479371538,
          0.0077818194942438626,
          0.006103753537831752,
          0.000809462846076977,
          0.021155633400604067,
          0.005859850579234026,
          0.002745567533351846,
          0.002472706434914364,
          0.0023267868036857165,
          0.00287060969037103,
          0.01578188798534642,
          0.02382601574276138,
          0.0023377374445239987,
          0.013122970251652976,
          0.014140165464131263,
          0.004903316858108346,
          0.005146767582885322,
          0.003685350786811878,
          0.004498324859394809,
          0.0033980135026560787,
          0.006814264748541518,
          0.008854263806897779,
          0.0045394573000566854,
          0.005144944816934204,
          0.011635067929552913,
          0.003990868655044566,
          0.0026367205477363796
         ],
         "y": [
          0.49991042603144453,
          0.4467898927373322,
          0.49004871993820337,
          0.2602582011379707,
          0.3011076442904499,
          0.4599786517682562,
          0.3323342684111329,
          0.31142092876329847,
          0.416272641715248,
          0.40166090993047754,
          0.3685731816408453,
          0.3137100739972145,
          0.4176252415919155,
          0.4162774804789908,
          0.41011538188858293,
          0.42654856202727615,
          0.3797448746025178,
          0.3761735825467473,
          0.3737372338667225,
          0.4052337530396442,
          0.36632574841742344,
          0.4016458131395273,
          0.36240001462367805,
          0.3961548705464534,
          0.39184565558866635,
          0.4057318763556791,
          0.403261496622062,
          0.3888201842287104,
          0.3723356224932886,
          0.4205542892566232,
          0.4030854733372593,
          0.3857251388692347,
          0.37747245570380256,
          0.4046193543658363,
          0.43517892309348855,
          0.35759235212834356,
          0.3692586483413988
         ],
         "type": "scatter",
         "xaxis": "x4",
         "yaxis": "y4"
        },
        {
         "colorbar": {
          "title": {
           "text": "Objective Value"
          }
         },
         "colorscale": [
          [
           0,
           "rgb(5,10,172)"
          ],
          [
           0.35,
           "rgb(40,60,190)"
          ],
          [
           0.5,
           "rgb(70,100,245)"
          ],
          [
           0.6,
           "rgb(90,120,245)"
          ],
          [
           0.7,
           "rgb(106,137,247)"
          ],
          [
           1,
           "rgb(220,220,220)"
          ]
         ],
         "connectgaps": true,
         "contours": {
          "coloring": "heatmap"
         },
         "hoverinfo": "none",
         "line": {
          "smoothing": 1.3
         },
         "reversescale": false,
         "showscale": false,
         "x": [
          0.00004352144897506373,
          0.00005876258245472198,
          0.000059340666785345773,
          0.00006886403802372456,
          0.00013263632710883237,
          0.00016128853914478672,
          0.0005932598479371538,
          0.000809462846076977,
          0.0016107198356598163,
          0.0023267868036857165,
          0.0023377374445239987,
          0.002472706434914364,
          0.0026367205477363796,
          0.002745567533351846,
          0.00287060969037103,
          0.003158647044441662,
          0.0033980135026560787,
          0.003685350786811878,
          0.003990868655044566,
          0.004498324859394809,
          0.0045394573000566854,
          0.004903316858108346,
          0.005144944816934204,
          0.005146767582885322,
          0.005859850579234026,
          0.006103753537831752,
          0.006743180886093113,
          0.006814264748541518,
          0.0077818194942438626,
          0.00862979796607314,
          0.008854263806897779,
          0.00925112703353322,
          0.011635067929552913,
          0.013122970251652976,
          0.014140165464131263,
          0.01578188798534642,
          0.021155633400604067,
          0.02382601574276138,
          0.03216984378102199
         ],
         "y": [
          0.20236892342683915,
          0.21575438576317588,
          0.2442535129253178,
          0.28047450280396624,
          0.43022829131923823,
          0.48346363248991037,
          0.49684909482624706
         ],
         "z": [
          [
           null,
           null,
           null,
           null,
           null,
           null,
           null,
           null,
           null,
           null,
           null,
           null,
           null,
           null,
           null,
           null,
           null,
           null,
           null,
           null,
           null,
           null,
           null,
           null,
           null,
           null,
           null,
           null,
           null,
           null,
           null,
           null,
           null,
           null,
           null,
           null,
           null,
           null,
           null
          ],
          [
           null,
           null,
           null,
           null,
           0.67265625,
           null,
           null,
           null,
           null,
           null,
           null,
           null,
           null,
           null,
           null,
           null,
           null,
           null,
           null,
           null,
           null,
           null,
           null,
           null,
           null,
           null,
           null,
           null,
           null,
           null,
           null,
           null,
           null,
           null,
           null,
           null,
           null,
           null,
           null
          ],
          [
           null,
           null,
           null,
           null,
           null,
           null,
           null,
           null,
           0.765625,
           null,
           null,
           null,
           null,
           null,
           null,
           null,
           null,
           null,
           null,
           null,
           null,
           null,
           null,
           null,
           null,
           null,
           null,
           null,
           null,
           null,
           null,
           null,
           null,
           null,
           null,
           null,
           null,
           null,
           null
          ],
          [
           null,
           null,
           0.64140625,
           null,
           null,
           null,
           null,
           null,
           null,
           null,
           null,
           null,
           null,
           null,
           null,
           null,
           null,
           null,
           null,
           null,
           null,
           null,
           null,
           null,
           null,
           null,
           null,
           null,
           null,
           null,
           null,
           null,
           null,
           null,
           null,
           null,
           null,
           null,
           null
          ],
          [
           null,
           null,
           null,
           null,
           null,
           null,
           null,
           null,
           null,
           null,
           null,
           null,
           null,
           null,
           null,
           0.7421875,
           null,
           null,
           null,
           null,
           null,
           null,
           null,
           null,
           null,
           null,
           null,
           null,
           null,
           null,
           null,
           null,
           null,
           null,
           null,
           null,
           null,
           null,
           null
          ],
          [
           null,
           null,
           null,
           null,
           null,
           0.72421875,
           null,
           null,
           null,
           null,
           null,
           null,
           null,
           null,
           null,
           null,
           null,
           null,
           null,
           null,
           null,
           null,
           null,
           null,
           null,
           null,
           null,
           null,
           null,
           null,
           null,
           null,
           null,
           null,
           null,
           null,
           null,
           null,
           null
          ],
          [
           null,
           null,
           null,
           null,
           null,
           null,
           null,
           null,
           null,
           null,
           null,
           null,
           null,
           null,
           null,
           null,
           null,
           null,
           null,
           null,
           null,
           null,
           null,
           null,
           null,
           null,
           null,
           null,
           null,
           null,
           null,
           null,
           null,
           null,
           null,
           null,
           null,
           null,
           null
          ]
         ],
         "type": "contour",
         "xaxis": "x13",
         "yaxis": "y13"
        },
        {
         "marker": {
          "color": "black",
          "line": {
           "color": "Grey",
           "width": 0.5
          }
         },
         "mode": "markers",
         "showlegend": false,
         "x": [
          0.000059340666785345773,
          0.00016128853914478672,
          0.00013263632710883237,
          0.0016107198356598163,
          0.003158647044441662
         ],
         "y": [
          0.28047450280396624,
          0.48346363248991037,
          0.21575438576317588,
          0.2442535129253178,
          0.43022829131923823
         ],
         "type": "scatter",
         "xaxis": "x13",
         "yaxis": "y13"
        },
        {
         "showscale": false,
         "type": "contour",
         "xaxis": "x22",
         "yaxis": "y22"
        },
        {
         "type": "scatter",
         "xaxis": "x22",
         "yaxis": "y22"
        },
        {
         "type": "scatter",
         "xaxis": "x31",
         "yaxis": "y31"
        },
        {
         "colorbar": {
          "title": {
           "text": "Objective Value"
          }
         },
         "colorscale": [
          [
           0,
           "rgb(5,10,172)"
          ],
          [
           0.35,
           "rgb(40,60,190)"
          ],
          [
           0.5,
           "rgb(70,100,245)"
          ],
          [
           0.6,
           "rgb(90,120,245)"
          ],
          [
           0.7,
           "rgb(106,137,247)"
          ],
          [
           1,
           "rgb(220,220,220)"
          ]
         ],
         "connectgaps": true,
         "contours": {
          "coloring": "heatmap"
         },
         "hoverinfo": "none",
         "line": {
          "smoothing": 1.3
         },
         "reversescale": false,
         "showscale": false,
         "x": [
          0.00004352144897506373,
          0.00005876258245472198,
          0.000059340666785345773,
          0.00006886403802372456,
          0.00013263632710883237,
          0.00016128853914478672,
          0.0005932598479371538,
          0.000809462846076977,
          0.0016107198356598163,
          0.0023267868036857165,
          0.0023377374445239987,
          0.002472706434914364,
          0.0026367205477363796,
          0.002745567533351846,
          0.00287060969037103,
          0.003158647044441662,
          0.0033980135026560787,
          0.003685350786811878,
          0.003990868655044566,
          0.004498324859394809,
          0.0045394573000566854,
          0.004903316858108346,
          0.005144944816934204,
          0.005146767582885322,
          0.005859850579234026,
          0.006103753537831752,
          0.006743180886093113,
          0.006814264748541518,
          0.0077818194942438626,
          0.00862979796607314,
          0.008854263806897779,
          0.00925112703353322,
          0.011635067929552913,
          0.013122970251652976,
          0.014140165464131263,
          0.01578188798534642,
          0.021155633400604067,
          0.02382601574276138,
          0.03216984378102199
         ],
         "y": [
          0.9,
          1,
          2,
          3,
          3.1
         ],
         "z": [
          [
           null,
           null,
           null,
           null,
           null,
           null,
           null,
           null,
           null,
           null,
           null,
           null,
           null,
           null,
           null,
           null,
           null,
           null,
           null,
           null,
           null,
           null,
           null,
           null,
           null,
           null,
           null,
           null,
           null,
           null,
           null,
           null,
           null,
           null,
           null,
           null,
           null,
           null,
           null
          ],
          [
           null,
           0.6484375,
           null,
           0.6625,
           null,
           null,
           0.771875,
           0.815625,
           null,
           0.79296875,
           0.83203125,
           0.8359375,
           0.81328125,
           0.83671875,
           0.7921875,
           null,
           0.82578125,
           0.82421875,
           0.825,
           0.8140625,
           0.8140625,
           0.834375,
           0.815625,
           0.81953125,
           0.82890625,
           0.8140625,
           0.83125,
           0.8125,
           0.803125,
           0.7828125,
           0.81015625,
           0.82109375,
           0.81015625,
           0.81640625,
           0.80546875,
           0.80546875,
           0.80078125,
           0.78359375,
           null
          ],
          [
           null,
           null,
           0.64140625,
           null,
           0.67265625,
           0.72421875,
           null,
           null,
           null,
           null,
           null,
           null,
           null,
           null,
           null,
           0.7421875,
           null,
           null,
           null,
           null,
           null,
           null,
           null,
           null,
           null,
           null,
           null,
           null,
           null,
           null,
           null,
           null,
           null,
           null,
           null,
           null,
           null,
           null,
           null
          ],
          [
           null,
           null,
           null,
           null,
           null,
           null,
           null,
           null,
           0.765625,
           null,
           null,
           null,
           null,
           null,
           null,
           null,
           null,
           null,
           null,
           null,
           null,
           null,
           null,
           null,
           null,
           null,
           null,
           null,
           null,
           null,
           null,
           null,
           null,
           null,
           null,
           null,
           null,
           null,
           null
          ],
          [
           null,
           null,
           null,
           null,
           null,
           null,
           null,
           null,
           null,
           null,
           null,
           null,
           null,
           null,
           null,
           null,
           null,
           null,
           null,
           null,
           null,
           null,
           null,
           null,
           null,
           null,
           null,
           null,
           null,
           null,
           null,
           null,
           null,
           null,
           null,
           null,
           null,
           null,
           null
          ]
         ],
         "type": "contour",
         "xaxis": "x40",
         "yaxis": "y40"
        },
        {
         "marker": {
          "color": "black",
          "line": {
           "color": "Grey",
           "width": 0.5
          }
         },
         "mode": "markers",
         "showlegend": false,
         "x": [
          0.000059340666785345773,
          0.00016128853914478672,
          0.00006886403802372456,
          0.00005876258245472198,
          0.00013263632710883237,
          0.0016107198356598163,
          0.003158647044441662,
          0.00862979796607314,
          0.006743180886093113,
          0.00925112703353322,
          0.0005932598479371538,
          0.0077818194942438626,
          0.006103753537831752,
          0.000809462846076977,
          0.021155633400604067,
          0.005859850579234026,
          0.002745567533351846,
          0.002472706434914364,
          0.0023267868036857165,
          0.00287060969037103,
          0.01578188798534642,
          0.02382601574276138,
          0.0023377374445239987,
          0.013122970251652976,
          0.014140165464131263,
          0.004903316858108346,
          0.005146767582885322,
          0.003685350786811878,
          0.004498324859394809,
          0.0033980135026560787,
          0.006814264748541518,
          0.008854263806897779,
          0.0045394573000566854,
          0.005144944816934204,
          0.011635067929552913,
          0.003990868655044566,
          0.0026367205477363796
         ],
         "y": [
          2,
          2,
          1,
          1,
          2,
          3,
          2,
          1,
          1,
          1,
          1,
          1,
          1,
          1,
          1,
          1,
          1,
          1,
          1,
          1,
          1,
          1,
          1,
          1,
          1,
          1,
          1,
          1,
          1,
          1,
          1,
          1,
          1,
          1,
          1,
          1,
          1
         ],
         "type": "scatter",
         "xaxis": "x40",
         "yaxis": "y40"
        },
        {
         "colorbar": {
          "title": {
           "text": "Objective Value"
          }
         },
         "colorscale": [
          [
           0,
           "rgb(5,10,172)"
          ],
          [
           0.35,
           "rgb(40,60,190)"
          ],
          [
           0.5,
           "rgb(70,100,245)"
          ],
          [
           0.6,
           "rgb(90,120,245)"
          ],
          [
           0.7,
           "rgb(106,137,247)"
          ],
          [
           1,
           "rgb(220,220,220)"
          ]
         ],
         "connectgaps": true,
         "contours": {
          "coloring": "heatmap"
         },
         "hoverinfo": "none",
         "line": {
          "smoothing": 1.3
         },
         "reversescale": false,
         "showscale": false,
         "x": [
          0.00004352144897506373,
          0.00005876258245472198,
          0.000059340666785345773,
          0.00006886403802372456,
          0.00013263632710883237,
          0.00016128853914478672,
          0.0005932598479371538,
          0.000809462846076977,
          0.0016107198356598163,
          0.0023267868036857165,
          0.0023377374445239987,
          0.002472706434914364,
          0.0026367205477363796,
          0.002745567533351846,
          0.00287060969037103,
          0.003158647044441662,
          0.0033980135026560787,
          0.003685350786811878,
          0.003990868655044566,
          0.004498324859394809,
          0.0045394573000566854,
          0.004903316858108346,
          0.005144944816934204,
          0.005146767582885322,
          0.005859850579234026,
          0.006103753537831752,
          0.006743180886093113,
          0.006814264748541518,
          0.0077818194942438626,
          0.00862979796607314,
          0.008854263806897779,
          0.00925112703353322,
          0.011635067929552913,
          0.013122970251652976,
          0.014140165464131263,
          0.01578188798534642,
          0.021155633400604067,
          0.02382601574276138,
          0.03216984378102199
         ],
         "y": [
          13.649999999999999,
          19,
          40,
          46,
          53,
          55,
          57,
          61,
          62,
          65,
          71,
          73,
          82,
          85,
          86,
          88,
          89,
          90,
          92,
          93,
          94,
          98,
          101,
          104,
          111,
          113,
          114,
          119,
          121,
          123,
          126,
          131.35
         ],
         "z": [
          [
           null,
           null,
           null,
           null,
           null,
           null,
           null,
           null,
           null,
           null,
           null,
           null,
           null,
           null,
           null,
           null,
           null,
           null,
           null,
           null,
           null,
           null,
           null,
           null,
           null,
           null,
           null,
           null,
           null,
           null,
           null,
           null,
           null,
           null,
           null,
           null,
           null,
           null,
           null
          ],
          [
           null,
           null,
           null,
           null,
           null,
           null,
           null,
           null,
           null,
           null,
           null,
           null,
           null,
           null,
           null,
           0.7421875,
           null,
           null,
           null,
           null,
           null,
           null,
           null,
           null,
           null,
           null,
           null,
           null,
           null,
           null,
           null,
           null,
           null,
           null,
           null,
           null,
           null,
           null,
           null
          ],
          [
           null,
           null,
           null,
           null,
           null,
           null,
           null,
           null,
           0.765625,
           null,
           null,
           null,
           null,
           null,
           null,
           null,
           null,
           null,
           null,
           null,
           null,
           null,
           null,
           null,
           null,
           null,
           null,
           null,
           null,
           null,
           null,
           null,
           null,
           null,
           null,
           null,
           null,
           null,
           null
          ],
          [
           null,
           null,
           null,
           null,
           0.67265625,
           null,
           null,
           null,
           null,
           null,
           null,
           null,
           null,
           null,
           null,
           null,
           null,
           null,
           null,
           null,
           null,
           null,
           null,
           null,
           null,
           null,
           null,
           null,
           null,
           null,
           null,
           null,
           null,
           null,
           null,
           null,
           null,
           null,
           null
          ],
          [
           null,
           null,
           null,
           null,
           null,
           null,
           null,
           null,
           null,
           0.79296875,
           null,
           null,
           null,
           null,
           null,
           null,
           null,
           null,
           null,
           null,
           null,
           null,
           null,
           null,
           null,
           null,
           null,
           null,
           null,
           null,
           null,
           null,
           null,
           null,
           null,
           null,
           null,
           null,
           null
          ],
          [
           null,
           null,
           null,
           null,
           null,
           null,
           null,
           null,
           null,
           null,
           null,
           null,
           null,
           0.83671875,
           0.7921875,
           null,
           null,
           null,
           null,
           null,
           null,
           null,
           null,
           null,
           null,
           null,
           null,
           null,
           null,
           null,
           null,
           null,
           null,
           null,
           null,
           null,
           null,
           null,
           null
          ],
          [
           null,
           null,
           null,
           null,
           null,
           null,
           null,
           null,
           null,
           null,
           null,
           null,
           null,
           null,
           null,
           null,
           null,
           null,
           null,
           null,
           null,
           null,
           null,
           null,
           0.82890625,
           null,
           null,
           null,
           null,
           null,
           null,
           null,
           null,
           null,
           null,
           null,
           null,
           null,
           null
          ],
          [
           null,
           null,
           0.64140625,
           null,
           null,
           null,
           null,
           null,
           null,
           null,
           null,
           0.8359375,
           null,
           null,
           null,
           null,
           null,
           null,
           null,
           null,
           null,
           null,
           null,
           null,
           null,
           null,
           null,
           null,
           null,
           null,
           null,
           null,
           null,
           null,
           null,
           null,
           null,
           null,
           null
          ],
          [
           null,
           null,
           null,
           null,
           null,
           null,
           null,
           null,
           null,
           null,
           null,
           null,
           null,
           null,
           null,
           null,
           null,
           null,
           null,
           0.8140625,
           null,
           null,
           null,
           null,
           null,
           null,
           null,
           null,
           null,
           null,
           null,
           null,
           null,
           null,
           null,
           null,
           null,
           null,
           null
          ],
          [
           null,
           null,
           null,
           0.6625,
           null,
           null,
           null,
           null,
           null,
           null,
           null,
           null,
           null,
           null,
           null,
           null,
           null,
           null,
           null,
           null,
           null,
           null,
           null,
           null,
           null,
           null,
           null,
           null,
           null,
           null,
           null,
           null,
           null,
           null,
           null,
           null,
           null,
           null,
           null
          ],
          [
           null,
           null,
           null,
           null,
           null,
           null,
           null,
           null,
           null,
           null,
           null,
           null,
           null,
           null,
           null,
           null,
           null,
           null,
           null,
           null,
           null,
           null,
           null,
           null,
           null,
           null,
           null,
           null,
           null,
           null,
           null,
           null,
           null,
           null,
           null,
           null,
           null,
           0.78359375,
           null
          ],
          [
           null,
           null,
           null,
           null,
           null,
           null,
           null,
           null,
           null,
           null,
           null,
           null,
           null,
           null,
           null,
           null,
           null,
           null,
           null,
           null,
           null,
           null,
           null,
           null,
           null,
           0.8140625,
           null,
           null,
           null,
           null,
           null,
           null,
           null,
           null,
           null,
           null,
           null,
           null,
           null
          ],
          [
           null,
           0.6484375,
           null,
           null,
           null,
           null,
           null,
           null,
           null,
           null,
           null,
           null,
           null,
           null,
           null,
           null,
           null,
           null,
           null,
           null,
           null,
           null,
           null,
           null,
           null,
           null,
           null,
           null,
           null,
           null,
           null,
           null,
           null,
           null,
           null,
           null,
           null,
           null,
           null
          ],
          [
           null,
           null,
           null,
           null,
           null,
           null,
           null,
           null,
           null,
           null,
           null,
           null,
           null,
           null,
           null,
           null,
           null,
           null,
           null,
           null,
           null,
           null,
           null,
           null,
           null,
           null,
           null,
           null,
           null,
           0.7828125,
           null,
           null,
           null,
           null,
           null,
           null,
           null,
           null,
           null
          ],
          [
           null,
           null,
           null,
           null,
           null,
           null,
           null,
           null,
           null,
           null,
           null,
           null,
           null,
           null,
           null,
           null,
           null,
           null,
           null,
           null,
           null,
           null,
           null,
           null,
           null,
           null,
           null,
           null,
           null,
           null,
           null,
           null,
           null,
           null,
           null,
           0.80546875,
           null,
           null,
           null
          ],
          [
           null,
           null,
           null,
           null,
           null,
           null,
           null,
           null,
           null,
           null,
           null,
           null,
           null,
           null,
           null,
           null,
           null,
           null,
           null,
           null,
           null,
           null,
           null,
           null,
           null,
           null,
           null,
           null,
           null,
           null,
           null,
           null,
           null,
           0.81640625,
           null,
           null,
           null,
           null,
           null
          ],
          [
           null,
           null,
           null,
           null,
           null,
           null,
           null,
           null,
           null,
           null,
           null,
           null,
           null,
           null,
           null,
           null,
           null,
           null,
           null,
           null,
           null,
           0.834375,
           null,
           null,
           null,
           null,
           null,
           null,
           null,
           null,
           null,
           null,
           null,
           null,
           null,
           null,
           null,
           null,
           null
          ],
          [
           null,
           null,
           null,
           null,
           null,
           null,
           null,
           null,
           null,
           null,
           null,
           null,
           null,
           null,
           null,
           null,
           null,
           null,
           null,
           null,
           0.8140625,
           null,
           null,
           null,
           null,
           null,
           null,
           null,
           null,
           null,
           null,
           null,
           null,
           null,
           null,
           null,
           null,
           null,
           null
          ],
          [
           null,
           null,
           null,
           null,
           null,
           null,
           null,
           null,
           null,
           null,
           null,
           null,
           null,
           null,
           null,
           null,
           null,
           null,
           null,
           null,
           null,
           null,
           null,
           null,
           null,
           null,
           null,
           null,
           null,
           null,
           null,
           null,
           null,
           null,
           0.80546875,
           null,
           null,
           null,
           null
          ],
          [
           null,
           null,
           null,
           null,
           null,
           null,
           null,
           null,
           null,
           null,
           null,
           null,
           null,
           null,
           null,
           null,
           null,
           null,
           null,
           null,
           null,
           null,
           null,
           null,
           null,
           null,
           null,
           null,
           null,
           null,
           null,
           null,
           0.81015625,
           null,
           null,
           null,
           null,
           null,
           null
          ],
          [
           null,
           null,
           null,
           null,
           null,
           null,
           null,
           null,
           null,
           null,
           null,
           null,
           null,
           null,
           null,
           null,
           null,
           null,
           null,
           null,
           null,
           null,
           null,
           null,
           null,
           null,
           null,
           null,
           0.803125,
           null,
           null,
           null,
           null,
           null,
           null,
           null,
           null,
           null,
           null
          ],
          [
           null,
           null,
           null,
           null,
           null,
           null,
           null,
           null,
           null,
           null,
           0.83203125,
           null,
           null,
           null,
           null,
           null,
           null,
           null,
           0.825,
           null,
           null,
           null,
           null,
           0.81953125,
           null,
           null,
           null,
           null,
           null,
           null,
           null,
           null,
           null,
           null,
           null,
           null,
           null,
           null,
           null
          ],
          [
           null,
           null,
           null,
           null,
           null,
           null,
           null,
           null,
           null,
           null,
           null,
           null,
           null,
           null,
           null,
           null,
           null,
           null,
           null,
           null,
           null,
           null,
           0.815625,
           null,
           null,
           null,
           null,
           null,
           null,
           null,
           null,
           null,
           null,
           null,
           null,
           null,
           null,
           null,
           null
          ],
          [
           null,
           null,
           null,
           null,
           null,
           null,
           null,
           null,
           null,
           null,
           null,
           null,
           0.81328125,
           null,
           null,
           null,
           null,
           null,
           null,
           null,
           null,
           null,
           null,
           null,
           null,
           null,
           null,
           null,
           null,
           null,
           null,
           null,
           null,
           null,
           null,
           null,
           0.80078125,
           null,
           null
          ],
          [
           null,
           null,
           null,
           null,
           null,
           null,
           null,
           null,
           null,
           null,
           null,
           null,
           null,
           null,
           null,
           null,
           0.82578125,
           null,
           null,
           null,
           null,
           null,
           null,
           null,
           null,
           null,
           null,
           null,
           null,
           null,
           null,
           null,
           null,
           null,
           null,
           null,
           null,
           null,
           null
          ],
          [
           null,
           null,
           null,
           null,
           null,
           null,
           0.771875,
           null,
           null,
           null,
           null,
           null,
           null,
           null,
           null,
           null,
           null,
           null,
           null,
           null,
           null,
           null,
           null,
           null,
           null,
           null,
           null,
           null,
           null,
           null,
           null,
           null,
           null,
           null,
           null,
           null,
           null,
           null,
           null
          ],
          [
           null,
           null,
           null,
           null,
           null,
           null,
           null,
           null,
           null,
           null,
           null,
           null,
           null,
           null,
           null,
           null,
           null,
           null,
           null,
           null,
           null,
           null,
           null,
           null,
           null,
           null,
           0.83125,
           0.8125,
           null,
           null,
           null,
           null,
           null,
           null,
           null,
           null,
           null,
           null,
           null
          ],
          [
           null,
           null,
           null,
           null,
           null,
           null,
           null,
           0.815625,
           null,
           null,
           null,
           null,
           null,
           null,
           null,
           null,
           null,
           null,
           null,
           null,
           null,
           null,
           null,
           null,
           null,
           null,
           null,
           null,
           null,
           null,
           null,
           null,
           null,
           null,
           null,
           null,
           null,
           null,
           null
          ],
          [
           null,
           null,
           null,
           null,
           null,
           null,
           null,
           null,
           null,
           null,
           null,
           null,
           null,
           null,
           null,
           null,
           null,
           null,
           null,
           null,
           null,
           null,
           null,
           null,
           null,
           null,
           null,
           null,
           null,
           null,
           0.81015625,
           null,
           null,
           null,
           null,
           null,
           null,
           null,
           null
          ],
          [
           null,
           null,
           null,
           null,
           null,
           0.72421875,
           null,
           null,
           null,
           null,
           null,
           null,
           null,
           null,
           null,
           null,
           null,
           null,
           null,
           null,
           null,
           null,
           null,
           null,
           null,
           null,
           null,
           null,
           null,
           null,
           null,
           null,
           null,
           null,
           null,
           null,
           null,
           null,
           null
          ],
          [
           null,
           null,
           null,
           null,
           null,
           null,
           null,
           null,
           null,
           null,
           null,
           null,
           null,
           null,
           null,
           null,
           null,
           0.82421875,
           null,
           null,
           null,
           null,
           null,
           null,
           null,
           null,
           null,
           null,
           null,
           null,
           null,
           0.82109375,
           null,
           null,
           null,
           null,
           null,
           null,
           null
          ],
          [
           null,
           null,
           null,
           null,
           null,
           null,
           null,
           null,
           null,
           null,
           null,
           null,
           null,
           null,
           null,
           null,
           null,
           null,
           null,
           null,
           null,
           null,
           null,
           null,
           null,
           null,
           null,
           null,
           null,
           null,
           null,
           null,
           null,
           null,
           null,
           null,
           null,
           null,
           null
          ]
         ],
         "type": "contour",
         "xaxis": "x49",
         "yaxis": "y49"
        },
        {
         "marker": {
          "color": "black",
          "line": {
           "color": "Grey",
           "width": 0.5
          }
         },
         "mode": "markers",
         "showlegend": false,
         "x": [
          0.000059340666785345773,
          0.00016128853914478672,
          0.00006886403802372456,
          0.00005876258245472198,
          0.00013263632710883237,
          0.0016107198356598163,
          0.003158647044441662,
          0.00862979796607314,
          0.006743180886093113,
          0.00925112703353322,
          0.0005932598479371538,
          0.0077818194942438626,
          0.006103753537831752,
          0.000809462846076977,
          0.021155633400604067,
          0.005859850579234026,
          0.002745567533351846,
          0.002472706434914364,
          0.0023267868036857165,
          0.00287060969037103,
          0.01578188798534642,
          0.02382601574276138,
          0.0023377374445239987,
          0.013122970251652976,
          0.014140165464131263,
          0.004903316858108346,
          0.005146767582885322,
          0.003685350786811878,
          0.004498324859394809,
          0.0033980135026560787,
          0.006814264748541518,
          0.008854263806897779,
          0.0045394573000566854,
          0.005144944816934204,
          0.011635067929552913,
          0.003990868655044566,
          0.0026367205477363796
         ],
         "y": [
          61,
          123,
          65,
          82,
          46,
          40,
          19,
          85,
          114,
          126,
          113,
          94,
          73,
          119,
          104,
          57,
          55,
          61,
          53,
          55,
          86,
          71,
          98,
          88,
          92,
          89,
          98,
          126,
          62,
          111,
          114,
          121,
          90,
          101,
          93,
          98,
          104
         ],
         "type": "scatter",
         "xaxis": "x49",
         "yaxis": "y49"
        },
        {
         "colorbar": {
          "title": {
           "text": "Objective Value"
          }
         },
         "colorscale": [
          [
           0,
           "rgb(5,10,172)"
          ],
          [
           0.35,
           "rgb(40,60,190)"
          ],
          [
           0.5,
           "rgb(70,100,245)"
          ],
          [
           0.6,
           "rgb(90,120,245)"
          ],
          [
           0.7,
           "rgb(106,137,247)"
          ],
          [
           1,
           "rgb(220,220,220)"
          ]
         ],
         "connectgaps": true,
         "contours": {
          "coloring": "heatmap"
         },
         "hoverinfo": "none",
         "line": {
          "smoothing": 1.3
         },
         "reversescale": false,
         "showscale": false,
         "x": [
          0.00004352144897506373,
          0.00005876258245472198,
          0.000059340666785345773,
          0.00006886403802372456,
          0.00013263632710883237,
          0.00016128853914478672,
          0.0005932598479371538,
          0.000809462846076977,
          0.0016107198356598163,
          0.0023267868036857165,
          0.0023377374445239987,
          0.002472706434914364,
          0.0026367205477363796,
          0.002745567533351846,
          0.00287060969037103,
          0.003158647044441662,
          0.0033980135026560787,
          0.003685350786811878,
          0.003990868655044566,
          0.004498324859394809,
          0.0045394573000566854,
          0.004903316858108346,
          0.005144944816934204,
          0.005146767582885322,
          0.005859850579234026,
          0.006103753537831752,
          0.006743180886093113,
          0.006814264748541518,
          0.0077818194942438626,
          0.00862979796607314,
          0.008854263806897779,
          0.00925112703353322,
          0.011635067929552913,
          0.013122970251652976,
          0.014140165464131263,
          0.01578188798534642,
          0.021155633400604067,
          0.02382601574276138,
          0.03216984378102199
         ],
         "y": [
          39.45,
          43,
          61,
          101,
          108,
          114,
          117.55
         ],
         "z": [
          [
           null,
           null,
           null,
           null,
           null,
           null,
           null,
           null,
           null,
           null,
           null,
           null,
           null,
           null,
           null,
           null,
           null,
           null,
           null,
           null,
           null,
           null,
           null,
           null,
           null,
           null,
           null,
           null,
           null,
           null,
           null,
           null,
           null,
           null,
           null,
           null,
           null,
           null,
           null
          ],
          [
           null,
           null,
           null,
           null,
           0.67265625,
           null,
           null,
           null,
           null,
           null,
           null,
           null,
           null,
           null,
           null,
           null,
           null,
           null,
           null,
           null,
           null,
           null,
           null,
           null,
           null,
           null,
           null,
           null,
           null,
           null,
           null,
           null,
           null,
           null,
           null,
           null,
           null,
           null,
           null
          ],
          [
           null,
           null,
           null,
           null,
           null,
           null,
           null,
           null,
           null,
           null,
           null,
           null,
           null,
           null,
           null,
           0.7421875,
           null,
           null,
           null,
           null,
           null,
           null,
           null,
           null,
           null,
           null,
           null,
           null,
           null,
           null,
           null,
           null,
           null,
           null,
           null,
           null,
           null,
           null,
           null
          ],
          [
           null,
           null,
           null,
           null,
           null,
           null,
           null,
           null,
           0.765625,
           null,
           null,
           null,
           null,
           null,
           null,
           null,
           null,
           null,
           null,
           null,
           null,
           null,
           null,
           null,
           null,
           null,
           null,
           null,
           null,
           null,
           null,
           null,
           null,
           null,
           null,
           null,
           null,
           null,
           null
          ],
          [
           null,
           null,
           null,
           null,
           null,
           0.72421875,
           null,
           null,
           null,
           null,
           null,
           null,
           null,
           null,
           null,
           null,
           null,
           null,
           null,
           null,
           null,
           null,
           null,
           null,
           null,
           null,
           null,
           null,
           null,
           null,
           null,
           null,
           null,
           null,
           null,
           null,
           null,
           null,
           null
          ],
          [
           null,
           null,
           0.64140625,
           null,
           null,
           null,
           null,
           null,
           null,
           null,
           null,
           null,
           null,
           null,
           null,
           null,
           null,
           null,
           null,
           null,
           null,
           null,
           null,
           null,
           null,
           null,
           null,
           null,
           null,
           null,
           null,
           null,
           null,
           null,
           null,
           null,
           null,
           null,
           null
          ],
          [
           null,
           null,
           null,
           null,
           null,
           null,
           null,
           null,
           null,
           null,
           null,
           null,
           null,
           null,
           null,
           null,
           null,
           null,
           null,
           null,
           null,
           null,
           null,
           null,
           null,
           null,
           null,
           null,
           null,
           null,
           null,
           null,
           null,
           null,
           null,
           null,
           null,
           null,
           null
          ]
         ],
         "type": "contour",
         "xaxis": "x58",
         "yaxis": "y58"
        },
        {
         "marker": {
          "color": "black",
          "line": {
           "color": "Grey",
           "width": 0.5
          }
         },
         "mode": "markers",
         "showlegend": false,
         "x": [
          0.000059340666785345773,
          0.00016128853914478672,
          0.00013263632710883237,
          0.0016107198356598163,
          0.003158647044441662
         ],
         "y": [
          114,
          108,
          43,
          101,
          61
         ],
         "type": "scatter",
         "xaxis": "x58",
         "yaxis": "y58"
        },
        {
         "showscale": false,
         "type": "contour",
         "xaxis": "x67",
         "yaxis": "y67"
        },
        {
         "type": "scatter",
         "xaxis": "x67",
         "yaxis": "y67"
        },
        {
         "colorbar": {
          "title": {
           "text": "Objective Value"
          }
         },
         "colorscale": [
          [
           0,
           "rgb(5,10,172)"
          ],
          [
           0.35,
           "rgb(40,60,190)"
          ],
          [
           0.5,
           "rgb(70,100,245)"
          ],
          [
           0.6,
           "rgb(90,120,245)"
          ],
          [
           0.7,
           "rgb(106,137,247)"
          ],
          [
           1,
           "rgb(220,220,220)"
          ]
         ],
         "connectgaps": true,
         "contours": {
          "coloring": "heatmap"
         },
         "hoverinfo": "none",
         "line": {
          "smoothing": 1.3
         },
         "reversescale": false,
         "showscale": false,
         "x": [
          0.00004352144897506373,
          0.00005876258245472198,
          0.000059340666785345773,
          0.00006886403802372456,
          0.00013263632710883237,
          0.00016128853914478672,
          0.0005932598479371538,
          0.000809462846076977,
          0.0016107198356598163,
          0.0023267868036857165,
          0.0023377374445239987,
          0.002472706434914364,
          0.0026367205477363796,
          0.002745567533351846,
          0.00287060969037103,
          0.003158647044441662,
          0.0033980135026560787,
          0.003685350786811878,
          0.003990868655044566,
          0.004498324859394809,
          0.0045394573000566854,
          0.004903316858108346,
          0.005144944816934204,
          0.005146767582885322,
          0.005859850579234026,
          0.006103753537831752,
          0.006743180886093113,
          0.006814264748541518,
          0.0077818194942438626,
          0.00862979796607314,
          0.008854263806897779,
          0.00925112703353322,
          0.011635067929552913,
          0.013122970251652976,
          0.014140165464131263,
          0.01578188798534642,
          0.021155633400604067,
          0.02382601574276138,
          0.03216984378102199
         ],
         "y": [
          "Adam",
          "RMSprop"
         ],
         "z": [
          [
           null,
           0.6484375,
           0.64140625,
           0.6625,
           null,
           null,
           null,
           0.815625,
           0.765625,
           0.79296875,
           0.83203125,
           0.8359375,
           0.81328125,
           0.83671875,
           0.7921875,
           0.7421875,
           0.82578125,
           0.82421875,
           0.825,
           0.8140625,
           0.8140625,
           0.834375,
           0.815625,
           0.81953125,
           0.82890625,
           0.8140625,
           0.83125,
           0.8125,
           null,
           null,
           0.81015625,
           null,
           0.81015625,
           0.81640625,
           0.80546875,
           0.80546875,
           0.80078125,
           0.78359375,
           null
          ],
          [
           null,
           null,
           null,
           null,
           0.67265625,
           0.72421875,
           0.771875,
           null,
           null,
           null,
           null,
           null,
           null,
           null,
           null,
           null,
           null,
           null,
           null,
           null,
           null,
           null,
           null,
           null,
           null,
           null,
           null,
           null,
           0.803125,
           0.7828125,
           null,
           0.82109375,
           null,
           null,
           null,
           null,
           null,
           null,
           null
          ]
         ],
         "type": "contour",
         "xaxis": "x76",
         "yaxis": "y76"
        },
        {
         "marker": {
          "color": "black",
          "line": {
           "color": "Grey",
           "width": 0.5
          }
         },
         "mode": "markers",
         "showlegend": false,
         "x": [
          0.000059340666785345773,
          0.00016128853914478672,
          0.00006886403802372456,
          0.00005876258245472198,
          0.00013263632710883237,
          0.0016107198356598163,
          0.003158647044441662,
          0.00862979796607314,
          0.006743180886093113,
          0.00925112703353322,
          0.0005932598479371538,
          0.0077818194942438626,
          0.006103753537831752,
          0.000809462846076977,
          0.021155633400604067,
          0.005859850579234026,
          0.002745567533351846,
          0.002472706434914364,
          0.0023267868036857165,
          0.00287060969037103,
          0.01578188798534642,
          0.02382601574276138,
          0.0023377374445239987,
          0.013122970251652976,
          0.014140165464131263,
          0.004903316858108346,
          0.005146767582885322,
          0.003685350786811878,
          0.004498324859394809,
          0.0033980135026560787,
          0.006814264748541518,
          0.008854263806897779,
          0.0045394573000566854,
          0.005144944816934204,
          0.011635067929552913,
          0.003990868655044566,
          0.0026367205477363796
         ],
         "y": [
          "Adam",
          "RMSprop",
          "Adam",
          "Adam",
          "RMSprop",
          "Adam",
          "Adam",
          "RMSprop",
          "Adam",
          "RMSprop",
          "RMSprop",
          "RMSprop",
          "Adam",
          "Adam",
          "Adam",
          "Adam",
          "Adam",
          "Adam",
          "Adam",
          "Adam",
          "Adam",
          "Adam",
          "Adam",
          "Adam",
          "Adam",
          "Adam",
          "Adam",
          "Adam",
          "Adam",
          "Adam",
          "Adam",
          "Adam",
          "Adam",
          "Adam",
          "Adam",
          "Adam",
          "Adam"
         ],
         "type": "scatter",
         "xaxis": "x76",
         "yaxis": "y76"
        },
        {
         "colorbar": {
          "title": {
           "text": "Objective Value"
          }
         },
         "colorscale": [
          [
           0,
           "rgb(5,10,172)"
          ],
          [
           0.35,
           "rgb(40,60,190)"
          ],
          [
           0.5,
           "rgb(70,100,245)"
          ],
          [
           0.6,
           "rgb(90,120,245)"
          ],
          [
           0.7,
           "rgb(106,137,247)"
          ],
          [
           1,
           "rgb(220,220,220)"
          ]
         ],
         "connectgaps": true,
         "contours": {
          "coloring": "heatmap"
         },
         "hoverinfo": "none",
         "line": {
          "smoothing": 1.3
         },
         "reversescale": false,
         "showscale": false,
         "x": [
          0.9,
          1,
          2,
          3,
          3.1
         ],
         "y": [
          0.248275589893297,
          0.2602582011379707,
          0.3011076442904499,
          0.31142092876329847,
          0.3137100739972145,
          0.3323342684111329,
          0.35759235212834356,
          0.36240001462367805,
          0.36632574841742344,
          0.3685731816408453,
          0.3692586483413988,
          0.3723356224932886,
          0.3737372338667225,
          0.3761735825467473,
          0.37747245570380256,
          0.3797448746025178,
          0.3857251388692347,
          0.3888201842287104,
          0.39184565558866635,
          0.3961548705464534,
          0.4016458131395273,
          0.40166090993047754,
          0.4030854733372593,
          0.403261496622062,
          0.4046193543658363,
          0.4052337530396442,
          0.4057318763556791,
          0.41011538188858293,
          0.416272641715248,
          0.4162774804789908,
          0.4176252415919155,
          0.4205542892566232,
          0.42654856202727615,
          0.43517892309348855,
          0.4467898927373322,
          0.4599786517682562,
          0.49004871993820337,
          0.49991042603144453,
          0.5118930372761182
         ],
         "z": [
          [
           null,
           null,
           null,
           null,
           null
          ],
          [
           null,
           0.6484375,
           null,
           null,
           null
          ],
          [
           null,
           null,
           0.67265625,
           null,
           null
          ],
          [
           null,
           0.7828125,
           null,
           null,
           null
          ],
          [
           null,
           0.803125,
           null,
           null,
           null
          ],
          [
           null,
           null,
           0.7421875,
           null,
           null
          ],
          [
           null,
           0.825,
           null,
           null,
           null
          ],
          [
           null,
           0.83203125,
           null,
           null,
           null
          ],
          [
           null,
           0.80546875,
           null,
           null,
           null
          ],
          [
           null,
           0.771875,
           null,
           null,
           null
          ],
          [
           null,
           0.81328125,
           null,
           null,
           null
          ],
          [
           null,
           0.8140625,
           null,
           null,
           null
          ],
          [
           null,
           0.79296875,
           null,
           null,
           null
          ],
          [
           null,
           0.8359375,
           null,
           null,
           null
          ],
          [
           null,
           0.8140625,
           null,
           null,
           null
          ],
          [
           null,
           0.83671875,
           null,
           null,
           null
          ],
          [
           null,
           0.81015625,
           null,
           null,
           null
          ],
          [
           null,
           0.82421875,
           null,
           null,
           null
          ],
          [
           null,
           0.80546875,
           null,
           null,
           null
          ],
          [
           null,
           0.81640625,
           null,
           null,
           null
          ],
          [
           null,
           0.78359375,
           null,
           null,
           null
          ],
          [
           null,
           0.82109375,
           null,
           null,
           null
          ],
          [
           null,
           0.8125,
           null,
           null,
           null
          ],
          [
           null,
           0.81953125,
           null,
           null,
           null
          ],
          [
           null,
           0.815625,
           null,
           null,
           null
          ],
          [
           null,
           0.7921875,
           null,
           null,
           null
          ],
          [
           null,
           0.834375,
           null,
           null,
           null
          ],
          [
           null,
           0.80078125,
           null,
           null,
           null
          ],
          [
           null,
           0.83125,
           null,
           null,
           null
          ],
          [
           null,
           0.815625,
           null,
           null,
           null
          ],
          [
           null,
           0.8140625,
           null,
           null,
           null
          ],
          [
           null,
           0.82578125,
           null,
           null,
           null
          ],
          [
           null,
           0.82890625,
           null,
           null,
           null
          ],
          [
           null,
           0.81015625,
           null,
           null,
           null
          ],
          [
           null,
           null,
           0.72421875,
           null,
           null
          ],
          [
           null,
           null,
           null,
           0.765625,
           null
          ],
          [
           null,
           0.6625,
           null,
           null,
           null
          ],
          [
           null,
           null,
           0.64140625,
           null,
           null
          ],
          [
           null,
           null,
           null,
           null,
           null
          ]
         ],
         "type": "contour",
         "xaxis": "x5",
         "yaxis": "y5"
        },
        {
         "marker": {
          "color": "black",
          "line": {
           "color": "Grey",
           "width": 0.5
          }
         },
         "mode": "markers",
         "showlegend": false,
         "x": [
          2,
          2,
          1,
          1,
          2,
          3,
          2,
          1,
          1,
          1,
          1,
          1,
          1,
          1,
          1,
          1,
          1,
          1,
          1,
          1,
          1,
          1,
          1,
          1,
          1,
          1,
          1,
          1,
          1,
          1,
          1,
          1,
          1,
          1,
          1,
          1,
          1
         ],
         "y": [
          0.49991042603144453,
          0.4467898927373322,
          0.49004871993820337,
          0.2602582011379707,
          0.3011076442904499,
          0.4599786517682562,
          0.3323342684111329,
          0.31142092876329847,
          0.416272641715248,
          0.40166090993047754,
          0.3685731816408453,
          0.3137100739972145,
          0.4176252415919155,
          0.4162774804789908,
          0.41011538188858293,
          0.42654856202727615,
          0.3797448746025178,
          0.3761735825467473,
          0.3737372338667225,
          0.4052337530396442,
          0.36632574841742344,
          0.4016458131395273,
          0.36240001462367805,
          0.3961548705464534,
          0.39184565558866635,
          0.4057318763556791,
          0.403261496622062,
          0.3888201842287104,
          0.3723356224932886,
          0.4205542892566232,
          0.4030854733372593,
          0.3857251388692347,
          0.37747245570380256,
          0.4046193543658363,
          0.43517892309348855,
          0.35759235212834356,
          0.3692586483413988
         ],
         "type": "scatter",
         "xaxis": "x5",
         "yaxis": "y5"
        },
        {
         "colorbar": {
          "title": {
           "text": "Objective Value"
          }
         },
         "colorscale": [
          [
           0,
           "rgb(5,10,172)"
          ],
          [
           0.35,
           "rgb(40,60,190)"
          ],
          [
           0.5,
           "rgb(70,100,245)"
          ],
          [
           0.6,
           "rgb(90,120,245)"
          ],
          [
           0.7,
           "rgb(106,137,247)"
          ],
          [
           1,
           "rgb(220,220,220)"
          ]
         ],
         "connectgaps": true,
         "contours": {
          "coloring": "heatmap"
         },
         "hoverinfo": "none",
         "line": {
          "smoothing": 1.3
         },
         "reversescale": false,
         "showscale": false,
         "x": [
          0.9,
          1,
          2,
          3,
          3.1
         ],
         "y": [
          0.20236892342683915,
          0.21575438576317588,
          0.2442535129253178,
          0.28047450280396624,
          0.43022829131923823,
          0.48346363248991037,
          0.49684909482624706
         ],
         "z": [
          [
           null,
           null,
           null,
           null,
           null
          ],
          [
           null,
           null,
           0.67265625,
           null,
           null
          ],
          [
           null,
           null,
           null,
           0.765625,
           null
          ],
          [
           null,
           null,
           0.64140625,
           null,
           null
          ],
          [
           null,
           null,
           0.7421875,
           null,
           null
          ],
          [
           null,
           null,
           0.72421875,
           null,
           null
          ],
          [
           null,
           null,
           null,
           null,
           null
          ]
         ],
         "type": "contour",
         "xaxis": "x14",
         "yaxis": "y14"
        },
        {
         "marker": {
          "color": "black",
          "line": {
           "color": "Grey",
           "width": 0.5
          }
         },
         "mode": "markers",
         "showlegend": false,
         "x": [
          2,
          2,
          2,
          3,
          2
         ],
         "y": [
          0.28047450280396624,
          0.48346363248991037,
          0.21575438576317588,
          0.2442535129253178,
          0.43022829131923823
         ],
         "type": "scatter",
         "xaxis": "x14",
         "yaxis": "y14"
        },
        {
         "showscale": false,
         "type": "contour",
         "xaxis": "x23",
         "yaxis": "y23"
        },
        {
         "type": "scatter",
         "xaxis": "x23",
         "yaxis": "y23"
        },
        {
         "colorbar": {
          "title": {
           "text": "Objective Value"
          }
         },
         "colorscale": [
          [
           0,
           "rgb(5,10,172)"
          ],
          [
           0.35,
           "rgb(40,60,190)"
          ],
          [
           0.5,
           "rgb(70,100,245)"
          ],
          [
           0.6,
           "rgb(90,120,245)"
          ],
          [
           0.7,
           "rgb(106,137,247)"
          ],
          [
           1,
           "rgb(220,220,220)"
          ]
         ],
         "connectgaps": true,
         "contours": {
          "coloring": "heatmap"
         },
         "hoverinfo": "none",
         "line": {
          "smoothing": 1.3
         },
         "reversescale": false,
         "showscale": false,
         "x": [
          0.9,
          1,
          2,
          3,
          3.1
         ],
         "y": [
          0.00004352144897506373,
          0.00005876258245472198,
          0.000059340666785345773,
          0.00006886403802372456,
          0.00013263632710883237,
          0.00016128853914478672,
          0.0005932598479371538,
          0.000809462846076977,
          0.0016107198356598163,
          0.0023267868036857165,
          0.0023377374445239987,
          0.002472706434914364,
          0.0026367205477363796,
          0.002745567533351846,
          0.00287060969037103,
          0.003158647044441662,
          0.0033980135026560787,
          0.003685350786811878,
          0.003990868655044566,
          0.004498324859394809,
          0.0045394573000566854,
          0.004903316858108346,
          0.005144944816934204,
          0.005146767582885322,
          0.005859850579234026,
          0.006103753537831752,
          0.006743180886093113,
          0.006814264748541518,
          0.0077818194942438626,
          0.00862979796607314,
          0.008854263806897779,
          0.00925112703353322,
          0.011635067929552913,
          0.013122970251652976,
          0.014140165464131263,
          0.01578188798534642,
          0.021155633400604067,
          0.02382601574276138,
          0.03216984378102199
         ],
         "z": [
          [
           null,
           null,
           null,
           null,
           null
          ],
          [
           null,
           0.6484375,
           null,
           null,
           null
          ],
          [
           null,
           null,
           0.64140625,
           null,
           null
          ],
          [
           null,
           0.6625,
           null,
           null,
           null
          ],
          [
           null,
           null,
           0.67265625,
           null,
           null
          ],
          [
           null,
           null,
           0.72421875,
           null,
           null
          ],
          [
           null,
           0.771875,
           null,
           null,
           null
          ],
          [
           null,
           0.815625,
           null,
           null,
           null
          ],
          [
           null,
           null,
           null,
           0.765625,
           null
          ],
          [
           null,
           0.79296875,
           null,
           null,
           null
          ],
          [
           null,
           0.83203125,
           null,
           null,
           null
          ],
          [
           null,
           0.8359375,
           null,
           null,
           null
          ],
          [
           null,
           0.81328125,
           null,
           null,
           null
          ],
          [
           null,
           0.83671875,
           null,
           null,
           null
          ],
          [
           null,
           0.7921875,
           null,
           null,
           null
          ],
          [
           null,
           null,
           0.7421875,
           null,
           null
          ],
          [
           null,
           0.82578125,
           null,
           null,
           null
          ],
          [
           null,
           0.82421875,
           null,
           null,
           null
          ],
          [
           null,
           0.825,
           null,
           null,
           null
          ],
          [
           null,
           0.8140625,
           null,
           null,
           null
          ],
          [
           null,
           0.8140625,
           null,
           null,
           null
          ],
          [
           null,
           0.834375,
           null,
           null,
           null
          ],
          [
           null,
           0.815625,
           null,
           null,
           null
          ],
          [
           null,
           0.81953125,
           null,
           null,
           null
          ],
          [
           null,
           0.82890625,
           null,
           null,
           null
          ],
          [
           null,
           0.8140625,
           null,
           null,
           null
          ],
          [
           null,
           0.83125,
           null,
           null,
           null
          ],
          [
           null,
           0.8125,
           null,
           null,
           null
          ],
          [
           null,
           0.803125,
           null,
           null,
           null
          ],
          [
           null,
           0.7828125,
           null,
           null,
           null
          ],
          [
           null,
           0.81015625,
           null,
           null,
           null
          ],
          [
           null,
           0.82109375,
           null,
           null,
           null
          ],
          [
           null,
           0.81015625,
           null,
           null,
           null
          ],
          [
           null,
           0.81640625,
           null,
           null,
           null
          ],
          [
           null,
           0.80546875,
           null,
           null,
           null
          ],
          [
           null,
           0.80546875,
           null,
           null,
           null
          ],
          [
           null,
           0.80078125,
           null,
           null,
           null
          ],
          [
           null,
           0.78359375,
           null,
           null,
           null
          ],
          [
           null,
           null,
           null,
           null,
           null
          ]
         ],
         "type": "contour",
         "xaxis": "x32",
         "yaxis": "y32"
        },
        {
         "marker": {
          "color": "black",
          "line": {
           "color": "Grey",
           "width": 0.5
          }
         },
         "mode": "markers",
         "showlegend": false,
         "x": [
          2,
          2,
          1,
          1,
          2,
          3,
          2,
          1,
          1,
          1,
          1,
          1,
          1,
          1,
          1,
          1,
          1,
          1,
          1,
          1,
          1,
          1,
          1,
          1,
          1,
          1,
          1,
          1,
          1,
          1,
          1,
          1,
          1,
          1,
          1,
          1,
          1
         ],
         "y": [
          0.000059340666785345773,
          0.00016128853914478672,
          0.00006886403802372456,
          0.00005876258245472198,
          0.00013263632710883237,
          0.0016107198356598163,
          0.003158647044441662,
          0.00862979796607314,
          0.006743180886093113,
          0.00925112703353322,
          0.0005932598479371538,
          0.0077818194942438626,
          0.006103753537831752,
          0.000809462846076977,
          0.021155633400604067,
          0.005859850579234026,
          0.002745567533351846,
          0.002472706434914364,
          0.0023267868036857165,
          0.00287060969037103,
          0.01578188798534642,
          0.02382601574276138,
          0.0023377374445239987,
          0.013122970251652976,
          0.014140165464131263,
          0.004903316858108346,
          0.005146767582885322,
          0.003685350786811878,
          0.004498324859394809,
          0.0033980135026560787,
          0.006814264748541518,
          0.008854263806897779,
          0.0045394573000566854,
          0.005144944816934204,
          0.011635067929552913,
          0.003990868655044566,
          0.0026367205477363796
         ],
         "type": "scatter",
         "xaxis": "x32",
         "yaxis": "y32"
        },
        {
         "type": "scatter",
         "xaxis": "x41",
         "yaxis": "y41"
        },
        {
         "colorbar": {
          "title": {
           "text": "Objective Value"
          }
         },
         "colorscale": [
          [
           0,
           "rgb(5,10,172)"
          ],
          [
           0.35,
           "rgb(40,60,190)"
          ],
          [
           0.5,
           "rgb(70,100,245)"
          ],
          [
           0.6,
           "rgb(90,120,245)"
          ],
          [
           0.7,
           "rgb(106,137,247)"
          ],
          [
           1,
           "rgb(220,220,220)"
          ]
         ],
         "connectgaps": true,
         "contours": {
          "coloring": "heatmap"
         },
         "hoverinfo": "none",
         "line": {
          "smoothing": 1.3
         },
         "reversescale": false,
         "showscale": false,
         "x": [
          0.9,
          1,
          2,
          3,
          3.1
         ],
         "y": [
          13.649999999999999,
          19,
          40,
          46,
          53,
          55,
          57,
          61,
          62,
          65,
          71,
          73,
          82,
          85,
          86,
          88,
          89,
          90,
          92,
          93,
          94,
          98,
          101,
          104,
          111,
          113,
          114,
          119,
          121,
          123,
          126,
          131.35
         ],
         "z": [
          [
           null,
           null,
           null,
           null,
           null
          ],
          [
           null,
           null,
           0.7421875,
           null,
           null
          ],
          [
           null,
           null,
           null,
           0.765625,
           null
          ],
          [
           null,
           null,
           0.67265625,
           null,
           null
          ],
          [
           null,
           0.79296875,
           null,
           null,
           null
          ],
          [
           null,
           0.7921875,
           null,
           null,
           null
          ],
          [
           null,
           0.82890625,
           null,
           null,
           null
          ],
          [
           null,
           0.8359375,
           0.64140625,
           null,
           null
          ],
          [
           null,
           0.8140625,
           null,
           null,
           null
          ],
          [
           null,
           0.6625,
           null,
           null,
           null
          ],
          [
           null,
           0.78359375,
           null,
           null,
           null
          ],
          [
           null,
           0.8140625,
           null,
           null,
           null
          ],
          [
           null,
           0.6484375,
           null,
           null,
           null
          ],
          [
           null,
           0.7828125,
           null,
           null,
           null
          ],
          [
           null,
           0.80546875,
           null,
           null,
           null
          ],
          [
           null,
           0.81640625,
           null,
           null,
           null
          ],
          [
           null,
           0.834375,
           null,
           null,
           null
          ],
          [
           null,
           0.8140625,
           null,
           null,
           null
          ],
          [
           null,
           0.80546875,
           null,
           null,
           null
          ],
          [
           null,
           0.81015625,
           null,
           null,
           null
          ],
          [
           null,
           0.803125,
           null,
           null,
           null
          ],
          [
           null,
           0.825,
           null,
           null,
           null
          ],
          [
           null,
           0.815625,
           null,
           null,
           null
          ],
          [
           null,
           0.81328125,
           null,
           null,
           null
          ],
          [
           null,
           0.82578125,
           null,
           null,
           null
          ],
          [
           null,
           0.771875,
           null,
           null,
           null
          ],
          [
           null,
           0.8125,
           null,
           null,
           null
          ],
          [
           null,
           0.815625,
           null,
           null,
           null
          ],
          [
           null,
           0.81015625,
           null,
           null,
           null
          ],
          [
           null,
           null,
           0.72421875,
           null,
           null
          ],
          [
           null,
           0.82421875,
           null,
           null,
           null
          ],
          [
           null,
           null,
           null,
           null,
           null
          ]
         ],
         "type": "contour",
         "xaxis": "x50",
         "yaxis": "y50"
        },
        {
         "marker": {
          "color": "black",
          "line": {
           "color": "Grey",
           "width": 0.5
          }
         },
         "mode": "markers",
         "showlegend": false,
         "x": [
          2,
          2,
          1,
          1,
          2,
          3,
          2,
          1,
          1,
          1,
          1,
          1,
          1,
          1,
          1,
          1,
          1,
          1,
          1,
          1,
          1,
          1,
          1,
          1,
          1,
          1,
          1,
          1,
          1,
          1,
          1,
          1,
          1,
          1,
          1,
          1,
          1
         ],
         "y": [
          61,
          123,
          65,
          82,
          46,
          40,
          19,
          85,
          114,
          126,
          113,
          94,
          73,
          119,
          104,
          57,
          55,
          61,
          53,
          55,
          86,
          71,
          98,
          88,
          92,
          89,
          98,
          126,
          62,
          111,
          114,
          121,
          90,
          101,
          93,
          98,
          104
         ],
         "type": "scatter",
         "xaxis": "x50",
         "yaxis": "y50"
        },
        {
         "colorbar": {
          "title": {
           "text": "Objective Value"
          }
         },
         "colorscale": [
          [
           0,
           "rgb(5,10,172)"
          ],
          [
           0.35,
           "rgb(40,60,190)"
          ],
          [
           0.5,
           "rgb(70,100,245)"
          ],
          [
           0.6,
           "rgb(90,120,245)"
          ],
          [
           0.7,
           "rgb(106,137,247)"
          ],
          [
           1,
           "rgb(220,220,220)"
          ]
         ],
         "connectgaps": true,
         "contours": {
          "coloring": "heatmap"
         },
         "hoverinfo": "none",
         "line": {
          "smoothing": 1.3
         },
         "reversescale": false,
         "showscale": false,
         "x": [
          0.9,
          1,
          2,
          3,
          3.1
         ],
         "y": [
          39.45,
          43,
          61,
          101,
          108,
          114,
          117.55
         ],
         "z": [
          [
           null,
           null,
           null,
           null,
           null
          ],
          [
           null,
           null,
           0.67265625,
           null,
           null
          ],
          [
           null,
           null,
           0.7421875,
           null,
           null
          ],
          [
           null,
           null,
           null,
           0.765625,
           null
          ],
          [
           null,
           null,
           0.72421875,
           null,
           null
          ],
          [
           null,
           null,
           0.64140625,
           null,
           null
          ],
          [
           null,
           null,
           null,
           null,
           null
          ]
         ],
         "type": "contour",
         "xaxis": "x59",
         "yaxis": "y59"
        },
        {
         "marker": {
          "color": "black",
          "line": {
           "color": "Grey",
           "width": 0.5
          }
         },
         "mode": "markers",
         "showlegend": false,
         "x": [
          2,
          2,
          2,
          3,
          2
         ],
         "y": [
          114,
          108,
          43,
          101,
          61
         ],
         "type": "scatter",
         "xaxis": "x59",
         "yaxis": "y59"
        },
        {
         "showscale": false,
         "type": "contour",
         "xaxis": "x68",
         "yaxis": "y68"
        },
        {
         "type": "scatter",
         "xaxis": "x68",
         "yaxis": "y68"
        },
        {
         "colorbar": {
          "title": {
           "text": "Objective Value"
          }
         },
         "colorscale": [
          [
           0,
           "rgb(5,10,172)"
          ],
          [
           0.35,
           "rgb(40,60,190)"
          ],
          [
           0.5,
           "rgb(70,100,245)"
          ],
          [
           0.6,
           "rgb(90,120,245)"
          ],
          [
           0.7,
           "rgb(106,137,247)"
          ],
          [
           1,
           "rgb(220,220,220)"
          ]
         ],
         "connectgaps": true,
         "contours": {
          "coloring": "heatmap"
         },
         "hoverinfo": "none",
         "line": {
          "smoothing": 1.3
         },
         "reversescale": false,
         "showscale": false,
         "x": [
          0.9,
          1,
          2,
          3,
          3.1
         ],
         "y": [
          "Adam",
          "RMSprop"
         ],
         "z": [
          [
           null,
           0.81328125,
           0.7421875,
           0.765625,
           null
          ],
          [
           null,
           0.803125,
           0.67265625,
           null,
           null
          ]
         ],
         "type": "contour",
         "xaxis": "x77",
         "yaxis": "y77"
        },
        {
         "marker": {
          "color": "black",
          "line": {
           "color": "Grey",
           "width": 0.5
          }
         },
         "mode": "markers",
         "showlegend": false,
         "x": [
          2,
          2,
          1,
          1,
          2,
          3,
          2,
          1,
          1,
          1,
          1,
          1,
          1,
          1,
          1,
          1,
          1,
          1,
          1,
          1,
          1,
          1,
          1,
          1,
          1,
          1,
          1,
          1,
          1,
          1,
          1,
          1,
          1,
          1,
          1,
          1,
          1
         ],
         "y": [
          "Adam",
          "RMSprop",
          "Adam",
          "Adam",
          "RMSprop",
          "Adam",
          "Adam",
          "RMSprop",
          "Adam",
          "RMSprop",
          "RMSprop",
          "RMSprop",
          "Adam",
          "Adam",
          "Adam",
          "Adam",
          "Adam",
          "Adam",
          "Adam",
          "Adam",
          "Adam",
          "Adam",
          "Adam",
          "Adam",
          "Adam",
          "Adam",
          "Adam",
          "Adam",
          "Adam",
          "Adam",
          "Adam",
          "Adam",
          "Adam",
          "Adam",
          "Adam",
          "Adam",
          "Adam"
         ],
         "type": "scatter",
         "xaxis": "x77",
         "yaxis": "y77"
        },
        {
         "colorbar": {
          "title": {
           "text": "Objective Value"
          }
         },
         "colorscale": [
          [
           0,
           "rgb(5,10,172)"
          ],
          [
           0.35,
           "rgb(40,60,190)"
          ],
          [
           0.5,
           "rgb(70,100,245)"
          ],
          [
           0.6,
           "rgb(90,120,245)"
          ],
          [
           0.7,
           "rgb(106,137,247)"
          ],
          [
           1,
           "rgb(220,220,220)"
          ]
         ],
         "connectgaps": true,
         "contours": {
          "coloring": "heatmap"
         },
         "hoverinfo": "none",
         "line": {
          "smoothing": 1.3
         },
         "reversescale": false,
         "showscale": false,
         "x": [
          13.649999999999999,
          19,
          40,
          46,
          53,
          55,
          57,
          61,
          62,
          65,
          71,
          73,
          82,
          85,
          86,
          88,
          89,
          90,
          92,
          93,
          94,
          98,
          101,
          104,
          111,
          113,
          114,
          119,
          121,
          123,
          126,
          131.35
         ],
         "y": [
          0.248275589893297,
          0.2602582011379707,
          0.3011076442904499,
          0.31142092876329847,
          0.3137100739972145,
          0.3323342684111329,
          0.35759235212834356,
          0.36240001462367805,
          0.36632574841742344,
          0.3685731816408453,
          0.3692586483413988,
          0.3723356224932886,
          0.3737372338667225,
          0.3761735825467473,
          0.37747245570380256,
          0.3797448746025178,
          0.3857251388692347,
          0.3888201842287104,
          0.39184565558866635,
          0.3961548705464534,
          0.4016458131395273,
          0.40166090993047754,
          0.4030854733372593,
          0.403261496622062,
          0.4046193543658363,
          0.4052337530396442,
          0.4057318763556791,
          0.41011538188858293,
          0.416272641715248,
          0.4162774804789908,
          0.4176252415919155,
          0.4205542892566232,
          0.42654856202727615,
          0.43517892309348855,
          0.4467898927373322,
          0.4599786517682562,
          0.49004871993820337,
          0.49991042603144453,
          0.5118930372761182
         ],
         "z": [
          [
           null,
           null,
           null,
           null,
           null,
           null,
           null,
           null,
           null,
           null,
           null,
           null,
           null,
           null,
           null,
           null,
           null,
           null,
           null,
           null,
           null,
           null,
           null,
           null,
           null,
           null,
           null,
           null,
           null,
           null,
           null,
           null
          ],
          [
           null,
           null,
           null,
           null,
           null,
           null,
           null,
           null,
           null,
           null,
           null,
           null,
           0.6484375,
           null,
           null,
           null,
           null,
           null,
           null,
           null,
           null,
           null,
           null,
           null,
           null,
           null,
           null,
           null,
           null,
           null,
           null,
           null
          ],
          [
           null,
           null,
           null,
           0.67265625,
           null,
           null,
           null,
           null,
           null,
           null,
           null,
           null,
           null,
           null,
           null,
           null,
           null,
           null,
           null,
           null,
           null,
           null,
           null,
           null,
           null,
           null,
           null,
           null,
           null,
           null,
           null,
           null
          ],
          [
           null,
           null,
           null,
           null,
           null,
           null,
           null,
           null,
           null,
           null,
           null,
           null,
           null,
           0.7828125,
           null,
           null,
           null,
           null,
           null,
           null,
           null,
           null,
           null,
           null,
           null,
           null,
           null,
           null,
           null,
           null,
           null,
           null
          ],
          [
           null,
           null,
           null,
           null,
           null,
           null,
           null,
           null,
           null,
           null,
           null,
           null,
           null,
           null,
           null,
           null,
           null,
           null,
           null,
           null,
           0.803125,
           null,
           null,
           null,
           null,
           null,
           null,
           null,
           null,
           null,
           null,
           null
          ],
          [
           null,
           0.7421875,
           null,
           null,
           null,
           null,
           null,
           null,
           null,
           null,
           null,
           null,
           null,
           null,
           null,
           null,
           null,
           null,
           null,
           null,
           null,
           null,
           null,
           null,
           null,
           null,
           null,
           null,
           null,
           null,
           null,
           null
          ],
          [
           null,
           null,
           null,
           null,
           null,
           null,
           null,
           null,
           null,
           null,
           null,
           null,
           null,
           null,
           null,
           null,
           null,
           null,
           null,
           null,
           null,
           0.825,
           null,
           null,
           null,
           null,
           null,
           null,
           null,
           null,
           null,
           null
          ],
          [
           null,
           null,
           null,
           null,
           null,
           null,
           null,
           null,
           null,
           null,
           null,
           null,
           null,
           null,
           null,
           null,
           null,
           null,
           null,
           null,
           null,
           0.83203125,
           null,
           null,
           null,
           null,
           null,
           null,
           null,
           null,
           null,
           null
          ],
          [
           null,
           null,
           null,
           null,
           null,
           null,
           null,
           null,
           null,
           null,
           null,
           null,
           null,
           null,
           0.80546875,
           null,
           null,
           null,
           null,
           null,
           null,
           null,
           null,
           null,
           null,
           null,
           null,
           null,
           null,
           null,
           null,
           null
          ],
          [
           null,
           null,
           null,
           null,
           null,
           null,
           null,
           null,
           null,
           null,
           null,
           null,
           null,
           null,
           null,
           null,
           null,
           null,
           null,
           null,
           null,
           null,
           null,
           null,
           null,
           0.771875,
           null,
           null,
           null,
           null,
           null,
           null
          ],
          [
           null,
           null,
           null,
           null,
           null,
           null,
           null,
           null,
           null,
           null,
           null,
           null,
           null,
           null,
           null,
           null,
           null,
           null,
           null,
           null,
           null,
           null,
           null,
           0.81328125,
           null,
           null,
           null,
           null,
           null,
           null,
           null,
           null
          ],
          [
           null,
           null,
           null,
           null,
           null,
           null,
           null,
           null,
           0.8140625,
           null,
           null,
           null,
           null,
           null,
           null,
           null,
           null,
           null,
           null,
           null,
           null,
           null,
           null,
           null,
           null,
           null,
           null,
           null,
           null,
           null,
           null,
           null
          ],
          [
           null,
           null,
           null,
           null,
           0.79296875,
           null,
           null,
           null,
           null,
           null,
           null,
           null,
           null,
           null,
           null,
           null,
           null,
           null,
           null,
           null,
           null,
           null,
           null,
           null,
           null,
           null,
           null,
           null,
           null,
           null,
           null,
           null
          ],
          [
           null,
           null,
           null,
           null,
           null,
           null,
           null,
           0.8359375,
           null,
           null,
           null,
           null,
           null,
           null,
           null,
           null,
           null,
           null,
           null,
           null,
           null,
           null,
           null,
           null,
           null,
           null,
           null,
           null,
           null,
           null,
           null,
           null
          ],
          [
           null,
           null,
           null,
           null,
           null,
           null,
           null,
           null,
           null,
           null,
           null,
           null,
           null,
           null,
           null,
           null,
           null,
           0.8140625,
           null,
           null,
           null,
           null,
           null,
           null,
           null,
           null,
           null,
           null,
           null,
           null,
           null,
           null
          ],
          [
           null,
           null,
           null,
           null,
           null,
           0.83671875,
           null,
           null,
           null,
           null,
           null,
           null,
           null,
           null,
           null,
           null,
           null,
           null,
           null,
           null,
           null,
           null,
           null,
           null,
           null,
           null,
           null,
           null,
           null,
           null,
           null,
           null
          ],
          [
           null,
           null,
           null,
           null,
           null,
           null,
           null,
           null,
           null,
           null,
           null,
           null,
           null,
           null,
           null,
           null,
           null,
           null,
           null,
           null,
           null,
           null,
           null,
           null,
           null,
           null,
           null,
           null,
           0.81015625,
           null,
           null,
           null
          ],
          [
           null,
           null,
           null,
           null,
           null,
           null,
           null,
           null,
           null,
           null,
           null,
           null,
           null,
           null,
           null,
           null,
           null,
           null,
           null,
           null,
           null,
           null,
           null,
           null,
           null,
           null,
           null,
           null,
           null,
           null,
           0.82421875,
           null
          ],
          [
           null,
           null,
           null,
           null,
           null,
           null,
           null,
           null,
           null,
           null,
           null,
           null,
           null,
           null,
           null,
           null,
           null,
           null,
           0.80546875,
           null,
           null,
           null,
           null,
           null,
           null,
           null,
           null,
           null,
           null,
           null,
           null,
           null
          ],
          [
           null,
           null,
           null,
           null,
           null,
           null,
           null,
           null,
           null,
           null,
           null,
           null,
           null,
           null,
           null,
           0.81640625,
           null,
           null,
           null,
           null,
           null,
           null,
           null,
           null,
           null,
           null,
           null,
           null,
           null,
           null,
           null,
           null
          ],
          [
           null,
           null,
           null,
           null,
           null,
           null,
           null,
           null,
           null,
           null,
           0.78359375,
           null,
           null,
           null,
           null,
           null,
           null,
           null,
           null,
           null,
           null,
           null,
           null,
           null,
           null,
           null,
           null,
           null,
           null,
           null,
           null,
           null
          ],
          [
           null,
           null,
           null,
           null,
           null,
           null,
           null,
           null,
           null,
           null,
           null,
           null,
           null,
           null,
           null,
           null,
           null,
           null,
           null,
           null,
           null,
           null,
           null,
           null,
           null,
           null,
           null,
           null,
           null,
           null,
           0.82109375,
           null
          ],
          [
           null,
           null,
           null,
           null,
           null,
           null,
           null,
           null,
           null,
           null,
           null,
           null,
           null,
           null,
           null,
           null,
           null,
           null,
           null,
           null,
           null,
           null,
           null,
           null,
           null,
           null,
           0.8125,
           null,
           null,
           null,
           null,
           null
          ],
          [
           null,
           null,
           null,
           null,
           null,
           null,
           null,
           null,
           null,
           null,
           null,
           null,
           null,
           null,
           null,
           null,
           null,
           null,
           null,
           null,
           null,
           0.81953125,
           null,
           null,
           null,
           null,
           null,
           null,
           null,
           null,
           null,
           null
          ],
          [
           null,
           null,
           null,
           null,
           null,
           null,
           null,
           null,
           null,
           null,
           null,
           null,
           null,
           null,
           null,
           null,
           null,
           null,
           null,
           null,
           null,
           null,
           0.815625,
           null,
           null,
           null,
           null,
           null,
           null,
           null,
           null,
           null
          ],
          [
           null,
           null,
           null,
           null,
           null,
           0.7921875,
           null,
           null,
           null,
           null,
           null,
           null,
           null,
           null,
           null,
           null,
           null,
           null,
           null,
           null,
           null,
           null,
           null,
           null,
           null,
           null,
           null,
           null,
           null,
           null,
           null,
           null
          ],
          [
           null,
           null,
           null,
           null,
           null,
           null,
           null,
           null,
           null,
           null,
           null,
           null,
           null,
           null,
           null,
           null,
           0.834375,
           null,
           null,
           null,
           null,
           null,
           null,
           null,
           null,
           null,
           null,
           null,
           null,
           null,
           null,
           null
          ],
          [
           null,
           null,
           null,
           null,
           null,
           null,
           null,
           null,
           null,
           null,
           null,
           null,
           null,
           null,
           null,
           null,
           null,
           null,
           null,
           null,
           null,
           null,
           null,
           0.80078125,
           null,
           null,
           null,
           null,
           null,
           null,
           null,
           null
          ],
          [
           null,
           null,
           null,
           null,
           null,
           null,
           null,
           null,
           null,
           null,
           null,
           null,
           null,
           null,
           null,
           null,
           null,
           null,
           null,
           null,
           null,
           null,
           null,
           null,
           null,
           null,
           0.83125,
           null,
           null,
           null,
           null,
           null
          ],
          [
           null,
           null,
           null,
           null,
           null,
           null,
           null,
           null,
           null,
           null,
           null,
           null,
           null,
           null,
           null,
           null,
           null,
           null,
           null,
           null,
           null,
           null,
           null,
           null,
           null,
           null,
           null,
           0.815625,
           null,
           null,
           null,
           null
          ],
          [
           null,
           null,
           null,
           null,
           null,
           null,
           null,
           null,
           null,
           null,
           null,
           0.8140625,
           null,
           null,
           null,
           null,
           null,
           null,
           null,
           null,
           null,
           null,
           null,
           null,
           null,
           null,
           null,
           null,
           null,
           null,
           null,
           null
          ],
          [
           null,
           null,
           null,
           null,
           null,
           null,
           null,
           null,
           null,
           null,
           null,
           null,
           null,
           null,
           null,
           null,
           null,
           null,
           null,
           null,
           null,
           null,
           null,
           null,
           0.82578125,
           null,
           null,
           null,
           null,
           null,
           null,
           null
          ],
          [
           null,
           null,
           null,
           null,
           null,
           null,
           0.82890625,
           null,
           null,
           null,
           null,
           null,
           null,
           null,
           null,
           null,
           null,
           null,
           null,
           null,
           null,
           null,
           null,
           null,
           null,
           null,
           null,
           null,
           null,
           null,
           null,
           null
          ],
          [
           null,
           null,
           null,
           null,
           null,
           null,
           null,
           null,
           null,
           null,
           null,
           null,
           null,
           null,
           null,
           null,
           null,
           null,
           null,
           0.81015625,
           null,
           null,
           null,
           null,
           null,
           null,
           null,
           null,
           null,
           null,
           null,
           null
          ],
          [
           null,
           null,
           null,
           null,
           null,
           null,
           null,
           null,
           null,
           null,
           null,
           null,
           null,
           null,
           null,
           null,
           null,
           null,
           null,
           null,
           null,
           null,
           null,
           null,
           null,
           null,
           null,
           null,
           null,
           0.72421875,
           null,
           null
          ],
          [
           null,
           null,
           0.765625,
           null,
           null,
           null,
           null,
           null,
           null,
           null,
           null,
           null,
           null,
           null,
           null,
           null,
           null,
           null,
           null,
           null,
           null,
           null,
           null,
           null,
           null,
           null,
           null,
           null,
           null,
           null,
           null,
           null
          ],
          [
           null,
           null,
           null,
           null,
           null,
           null,
           null,
           null,
           null,
           0.6625,
           null,
           null,
           null,
           null,
           null,
           null,
           null,
           null,
           null,
           null,
           null,
           null,
           null,
           null,
           null,
           null,
           null,
           null,
           null,
           null,
           null,
           null
          ],
          [
           null,
           null,
           null,
           null,
           null,
           null,
           null,
           0.64140625,
           null,
           null,
           null,
           null,
           null,
           null,
           null,
           null,
           null,
           null,
           null,
           null,
           null,
           null,
           null,
           null,
           null,
           null,
           null,
           null,
           null,
           null,
           null,
           null
          ],
          [
           null,
           null,
           null,
           null,
           null,
           null,
           null,
           null,
           null,
           null,
           null,
           null,
           null,
           null,
           null,
           null,
           null,
           null,
           null,
           null,
           null,
           null,
           null,
           null,
           null,
           null,
           null,
           null,
           null,
           null,
           null,
           null
          ]
         ],
         "type": "contour",
         "xaxis": "x6",
         "yaxis": "y6"
        },
        {
         "marker": {
          "color": "black",
          "line": {
           "color": "Grey",
           "width": 0.5
          }
         },
         "mode": "markers",
         "showlegend": false,
         "x": [
          61,
          123,
          65,
          82,
          46,
          40,
          19,
          85,
          114,
          126,
          113,
          94,
          73,
          119,
          104,
          57,
          55,
          61,
          53,
          55,
          86,
          71,
          98,
          88,
          92,
          89,
          98,
          126,
          62,
          111,
          114,
          121,
          90,
          101,
          93,
          98,
          104
         ],
         "y": [
          0.49991042603144453,
          0.4467898927373322,
          0.49004871993820337,
          0.2602582011379707,
          0.3011076442904499,
          0.4599786517682562,
          0.3323342684111329,
          0.31142092876329847,
          0.416272641715248,
          0.40166090993047754,
          0.3685731816408453,
          0.3137100739972145,
          0.4176252415919155,
          0.4162774804789908,
          0.41011538188858293,
          0.42654856202727615,
          0.3797448746025178,
          0.3761735825467473,
          0.3737372338667225,
          0.4052337530396442,
          0.36632574841742344,
          0.4016458131395273,
          0.36240001462367805,
          0.3961548705464534,
          0.39184565558866635,
          0.4057318763556791,
          0.403261496622062,
          0.3888201842287104,
          0.3723356224932886,
          0.4205542892566232,
          0.4030854733372593,
          0.3857251388692347,
          0.37747245570380256,
          0.4046193543658363,
          0.43517892309348855,
          0.35759235212834356,
          0.3692586483413988
         ],
         "type": "scatter",
         "xaxis": "x6",
         "yaxis": "y6"
        },
        {
         "colorbar": {
          "title": {
           "text": "Objective Value"
          }
         },
         "colorscale": [
          [
           0,
           "rgb(5,10,172)"
          ],
          [
           0.35,
           "rgb(40,60,190)"
          ],
          [
           0.5,
           "rgb(70,100,245)"
          ],
          [
           0.6,
           "rgb(90,120,245)"
          ],
          [
           0.7,
           "rgb(106,137,247)"
          ],
          [
           1,
           "rgb(220,220,220)"
          ]
         ],
         "connectgaps": true,
         "contours": {
          "coloring": "heatmap"
         },
         "hoverinfo": "none",
         "line": {
          "smoothing": 1.3
         },
         "reversescale": false,
         "showscale": false,
         "x": [
          13.649999999999999,
          19,
          40,
          46,
          53,
          55,
          57,
          61,
          62,
          65,
          71,
          73,
          82,
          85,
          86,
          88,
          89,
          90,
          92,
          93,
          94,
          98,
          101,
          104,
          111,
          113,
          114,
          119,
          121,
          123,
          126,
          131.35
         ],
         "y": [
          0.20236892342683915,
          0.21575438576317588,
          0.2442535129253178,
          0.28047450280396624,
          0.43022829131923823,
          0.48346363248991037,
          0.49684909482624706
         ],
         "z": [
          [
           null,
           null,
           null,
           null,
           null,
           null,
           null,
           null,
           null,
           null,
           null,
           null,
           null,
           null,
           null,
           null,
           null,
           null,
           null,
           null,
           null,
           null,
           null,
           null,
           null,
           null,
           null,
           null,
           null,
           null,
           null,
           null
          ],
          [
           null,
           null,
           null,
           0.67265625,
           null,
           null,
           null,
           null,
           null,
           null,
           null,
           null,
           null,
           null,
           null,
           null,
           null,
           null,
           null,
           null,
           null,
           null,
           null,
           null,
           null,
           null,
           null,
           null,
           null,
           null,
           null,
           null
          ],
          [
           null,
           null,
           0.765625,
           null,
           null,
           null,
           null,
           null,
           null,
           null,
           null,
           null,
           null,
           null,
           null,
           null,
           null,
           null,
           null,
           null,
           null,
           null,
           null,
           null,
           null,
           null,
           null,
           null,
           null,
           null,
           null,
           null
          ],
          [
           null,
           null,
           null,
           null,
           null,
           null,
           null,
           0.64140625,
           null,
           null,
           null,
           null,
           null,
           null,
           null,
           null,
           null,
           null,
           null,
           null,
           null,
           null,
           null,
           null,
           null,
           null,
           null,
           null,
           null,
           null,
           null,
           null
          ],
          [
           null,
           0.7421875,
           null,
           null,
           null,
           null,
           null,
           null,
           null,
           null,
           null,
           null,
           null,
           null,
           null,
           null,
           null,
           null,
           null,
           null,
           null,
           null,
           null,
           null,
           null,
           null,
           null,
           null,
           null,
           null,
           null,
           null
          ],
          [
           null,
           null,
           null,
           null,
           null,
           null,
           null,
           null,
           null,
           null,
           null,
           null,
           null,
           null,
           null,
           null,
           null,
           null,
           null,
           null,
           null,
           null,
           null,
           null,
           null,
           null,
           null,
           null,
           null,
           0.72421875,
           null,
           null
          ],
          [
           null,
           null,
           null,
           null,
           null,
           null,
           null,
           null,
           null,
           null,
           null,
           null,
           null,
           null,
           null,
           null,
           null,
           null,
           null,
           null,
           null,
           null,
           null,
           null,
           null,
           null,
           null,
           null,
           null,
           null,
           null,
           null
          ]
         ],
         "type": "contour",
         "xaxis": "x15",
         "yaxis": "y15"
        },
        {
         "marker": {
          "color": "black",
          "line": {
           "color": "Grey",
           "width": 0.5
          }
         },
         "mode": "markers",
         "showlegend": false,
         "x": [
          61,
          123,
          46,
          40,
          19
         ],
         "y": [
          0.28047450280396624,
          0.48346363248991037,
          0.21575438576317588,
          0.2442535129253178,
          0.43022829131923823
         ],
         "type": "scatter",
         "xaxis": "x15",
         "yaxis": "y15"
        },
        {
         "showscale": false,
         "type": "contour",
         "xaxis": "x24",
         "yaxis": "y24"
        },
        {
         "type": "scatter",
         "xaxis": "x24",
         "yaxis": "y24"
        },
        {
         "colorbar": {
          "title": {
           "text": "Objective Value"
          }
         },
         "colorscale": [
          [
           0,
           "rgb(5,10,172)"
          ],
          [
           0.35,
           "rgb(40,60,190)"
          ],
          [
           0.5,
           "rgb(70,100,245)"
          ],
          [
           0.6,
           "rgb(90,120,245)"
          ],
          [
           0.7,
           "rgb(106,137,247)"
          ],
          [
           1,
           "rgb(220,220,220)"
          ]
         ],
         "connectgaps": true,
         "contours": {
          "coloring": "heatmap"
         },
         "hoverinfo": "none",
         "line": {
          "smoothing": 1.3
         },
         "reversescale": false,
         "showscale": false,
         "x": [
          13.649999999999999,
          19,
          40,
          46,
          53,
          55,
          57,
          61,
          62,
          65,
          71,
          73,
          82,
          85,
          86,
          88,
          89,
          90,
          92,
          93,
          94,
          98,
          101,
          104,
          111,
          113,
          114,
          119,
          121,
          123,
          126,
          131.35
         ],
         "y": [
          0.00004352144897506373,
          0.00005876258245472198,
          0.000059340666785345773,
          0.00006886403802372456,
          0.00013263632710883237,
          0.00016128853914478672,
          0.0005932598479371538,
          0.000809462846076977,
          0.0016107198356598163,
          0.0023267868036857165,
          0.0023377374445239987,
          0.002472706434914364,
          0.0026367205477363796,
          0.002745567533351846,
          0.00287060969037103,
          0.003158647044441662,
          0.0033980135026560787,
          0.003685350786811878,
          0.003990868655044566,
          0.004498324859394809,
          0.0045394573000566854,
          0.004903316858108346,
          0.005144944816934204,
          0.005146767582885322,
          0.005859850579234026,
          0.006103753537831752,
          0.006743180886093113,
          0.006814264748541518,
          0.0077818194942438626,
          0.00862979796607314,
          0.008854263806897779,
          0.00925112703353322,
          0.011635067929552913,
          0.013122970251652976,
          0.014140165464131263,
          0.01578188798534642,
          0.021155633400604067,
          0.02382601574276138,
          0.03216984378102199
         ],
         "z": [
          [
           null,
           null,
           null,
           null,
           null,
           null,
           null,
           null,
           null,
           null,
           null,
           null,
           null,
           null,
           null,
           null,
           null,
           null,
           null,
           null,
           null,
           null,
           null,
           null,
           null,
           null,
           null,
           null,
           null,
           null,
           null,
           null
          ],
          [
           null,
           null,
           null,
           null,
           null,
           null,
           null,
           null,
           null,
           null,
           null,
           null,
           0.6484375,
           null,
           null,
           null,
           null,
           null,
           null,
           null,
           null,
           null,
           null,
           null,
           null,
           null,
           null,
           null,
           null,
           null,
           null,
           null
          ],
          [
           null,
           null,
           null,
           null,
           null,
           null,
           null,
           0.64140625,
           null,
           null,
           null,
           null,
           null,
           null,
           null,
           null,
           null,
           null,
           null,
           null,
           null,
           null,
           null,
           null,
           null,
           null,
           null,
           null,
           null,
           null,
           null,
           null
          ],
          [
           null,
           null,
           null,
           null,
           null,
           null,
           null,
           null,
           null,
           0.6625,
           null,
           null,
           null,
           null,
           null,
           null,
           null,
           null,
           null,
           null,
           null,
           null,
           null,
           null,
           null,
           null,
           null,
           null,
           null,
           null,
           null,
           null
          ],
          [
           null,
           null,
           null,
           0.67265625,
           null,
           null,
           null,
           null,
           null,
           null,
           null,
           null,
           null,
           null,
           null,
           null,
           null,
           null,
           null,
           null,
           null,
           null,
           null,
           null,
           null,
           null,
           null,
           null,
           null,
           null,
           null,
           null
          ],
          [
           null,
           null,
           null,
           null,
           null,
           null,
           null,
           null,
           null,
           null,
           null,
           null,
           null,
           null,
           null,
           null,
           null,
           null,
           null,
           null,
           null,
           null,
           null,
           null,
           null,
           null,
           null,
           null,
           null,
           0.72421875,
           null,
           null
          ],
          [
           null,
           null,
           null,
           null,
           null,
           null,
           null,
           null,
           null,
           null,
           null,
           null,
           null,
           null,
           null,
           null,
           null,
           null,
           null,
           null,
           null,
           null,
           null,
           null,
           null,
           0.771875,
           null,
           null,
           null,
           null,
           null,
           null
          ],
          [
           null,
           null,
           null,
           null,
           null,
           null,
           null,
           null,
           null,
           null,
           null,
           null,
           null,
           null,
           null,
           null,
           null,
           null,
           null,
           null,
           null,
           null,
           null,
           null,
           null,
           null,
           null,
           0.815625,
           null,
           null,
           null,
           null
          ],
          [
           null,
           null,
           0.765625,
           null,
           null,
           null,
           null,
           null,
           null,
           null,
           null,
           null,
           null,
           null,
           null,
           null,
           null,
           null,
           null,
           null,
           null,
           null,
           null,
           null,
           null,
           null,
           null,
           null,
           null,
           null,
           null,
           null
          ],
          [
           null,
           null,
           null,
           null,
           0.79296875,
           null,
           null,
           null,
           null,
           null,
           null,
           null,
           null,
           null,
           null,
           null,
           null,
           null,
           null,
           null,
           null,
           null,
           null,
           null,
           null,
           null,
           null,
           null,
           null,
           null,
           null,
           null
          ],
          [
           null,
           null,
           null,
           null,
           null,
           null,
           null,
           null,
           null,
           null,
           null,
           null,
           null,
           null,
           null,
           null,
           null,
           null,
           null,
           null,
           null,
           0.83203125,
           null,
           null,
           null,
           null,
           null,
           null,
           null,
           null,
           null,
           null
          ],
          [
           null,
           null,
           null,
           null,
           null,
           null,
           null,
           0.8359375,
           null,
           null,
           null,
           null,
           null,
           null,
           null,
           null,
           null,
           null,
           null,
           null,
           null,
           null,
           null,
           null,
           null,
           null,
           null,
           null,
           null,
           null,
           null,
           null
          ],
          [
           null,
           null,
           null,
           null,
           null,
           null,
           null,
           null,
           null,
           null,
           null,
           null,
           null,
           null,
           null,
           null,
           null,
           null,
           null,
           null,
           null,
           null,
           null,
           0.81328125,
           null,
           null,
           null,
           null,
           null,
           null,
           null,
           null
          ],
          [
           null,
           null,
           null,
           null,
           null,
           0.83671875,
           null,
           null,
           null,
           null,
           null,
           null,
           null,
           null,
           null,
           null,
           null,
           null,
           null,
           null,
           null,
           null,
           null,
           null,
           null,
           null,
           null,
           null,
           null,
           null,
           null,
           null
          ],
          [
           null,
           null,
           null,
           null,
           null,
           0.7921875,
           null,
           null,
           null,
           null,
           null,
           null,
           null,
           null,
           null,
           null,
           null,
           null,
           null,
           null,
           null,
           null,
           null,
           null,
           null,
           null,
           null,
           null,
           null,
           null,
           null,
           null
          ],
          [
           null,
           0.7421875,
           null,
           null,
           null,
           null,
           null,
           null,
           null,
           null,
           null,
           null,
           null,
           null,
           null,
           null,
           null,
           null,
           null,
           null,
           null,
           null,
           null,
           null,
           null,
           null,
           null,
           null,
           null,
           null,
           null,
           null
          ],
          [
           null,
           null,
           null,
           null,
           null,
           null,
           null,
           null,
           null,
           null,
           null,
           null,
           null,
           null,
           null,
           null,
           null,
           null,
           null,
           null,
           null,
           null,
           null,
           null,
           0.82578125,
           null,
           null,
           null,
           null,
           null,
           null,
           null
          ],
          [
           null,
           null,
           null,
           null,
           null,
           null,
           null,
           null,
           null,
           null,
           null,
           null,
           null,
           null,
           null,
           null,
           null,
           null,
           null,
           null,
           null,
           null,
           null,
           null,
           null,
           null,
           null,
           null,
           null,
           null,
           0.82421875,
           null
          ],
          [
           null,
           null,
           null,
           null,
           null,
           null,
           null,
           null,
           null,
           null,
           null,
           null,
           null,
           null,
           null,
           null,
           null,
           null,
           null,
           null,
           null,
           0.825,
           null,
           null,
           null,
           null,
           null,
           null,
           null,
           null,
           null,
           null
          ],
          [
           null,
           null,
           null,
           null,
           null,
           null,
           null,
           null,
           0.8140625,
           null,
           null,
           null,
           null,
           null,
           null,
           null,
           null,
           null,
           null,
           null,
           null,
           null,
           null,
           null,
           null,
           null,
           null,
           null,
           null,
           null,
           null,
           null
          ],
          [
           null,
           null,
           null,
           null,
           null,
           null,
           null,
           null,
           null,
           null,
           null,
           null,
           null,
           null,
           null,
           null,
           null,
           0.8140625,
           null,
           null,
           null,
           null,
           null,
           null,
           null,
           null,
           null,
           null,
           null,
           null,
           null,
           null
          ],
          [
           null,
           null,
           null,
           null,
           null,
           null,
           null,
           null,
           null,
           null,
           null,
           null,
           null,
           null,
           null,
           null,
           0.834375,
           null,
           null,
           null,
           null,
           null,
           null,
           null,
           null,
           null,
           null,
           null,
           null,
           null,
           null,
           null
          ],
          [
           null,
           null,
           null,
           null,
           null,
           null,
           null,
           null,
           null,
           null,
           null,
           null,
           null,
           null,
           null,
           null,
           null,
           null,
           null,
           null,
           null,
           null,
           0.815625,
           null,
           null,
           null,
           null,
           null,
           null,
           null,
           null,
           null
          ],
          [
           null,
           null,
           null,
           null,
           null,
           null,
           null,
           null,
           null,
           null,
           null,
           null,
           null,
           null,
           null,
           null,
           null,
           null,
           null,
           null,
           null,
           0.81953125,
           null,
           null,
           null,
           null,
           null,
           null,
           null,
           null,
           null,
           null
          ],
          [
           null,
           null,
           null,
           null,
           null,
           null,
           0.82890625,
           null,
           null,
           null,
           null,
           null,
           null,
           null,
           null,
           null,
           null,
           null,
           null,
           null,
           null,
           null,
           null,
           null,
           null,
           null,
           null,
           null,
           null,
           null,
           null,
           null
          ],
          [
           null,
           null,
           null,
           null,
           null,
           null,
           null,
           null,
           null,
           null,
           null,
           0.8140625,
           null,
           null,
           null,
           null,
           null,
           null,
           null,
           null,
           null,
           null,
           null,
           null,
           null,
           null,
           null,
           null,
           null,
           null,
           null,
           null
          ],
          [
           null,
           null,
           null,
           null,
           null,
           null,
           null,
           null,
           null,
           null,
           null,
           null,
           null,
           null,
           null,
           null,
           null,
           null,
           null,
           null,
           null,
           null,
           null,
           null,
           null,
           null,
           0.83125,
           null,
           null,
           null,
           null,
           null
          ],
          [
           null,
           null,
           null,
           null,
           null,
           null,
           null,
           null,
           null,
           null,
           null,
           null,
           null,
           null,
           null,
           null,
           null,
           null,
           null,
           null,
           null,
           null,
           null,
           null,
           null,
           null,
           0.8125,
           null,
           null,
           null,
           null,
           null
          ],
          [
           null,
           null,
           null,
           null,
           null,
           null,
           null,
           null,
           null,
           null,
           null,
           null,
           null,
           null,
           null,
           null,
           null,
           null,
           null,
           null,
           0.803125,
           null,
           null,
           null,
           null,
           null,
           null,
           null,
           null,
           null,
           null,
           null
          ],
          [
           null,
           null,
           null,
           null,
           null,
           null,
           null,
           null,
           null,
           null,
           null,
           null,
           null,
           0.7828125,
           null,
           null,
           null,
           null,
           null,
           null,
           null,
           null,
           null,
           null,
           null,
           null,
           null,
           null,
           null,
           null,
           null,
           null
          ],
          [
           null,
           null,
           null,
           null,
           null,
           null,
           null,
           null,
           null,
           null,
           null,
           null,
           null,
           null,
           null,
           null,
           null,
           null,
           null,
           null,
           null,
           null,
           null,
           null,
           null,
           null,
           null,
           null,
           0.81015625,
           null,
           null,
           null
          ],
          [
           null,
           null,
           null,
           null,
           null,
           null,
           null,
           null,
           null,
           null,
           null,
           null,
           null,
           null,
           null,
           null,
           null,
           null,
           null,
           null,
           null,
           null,
           null,
           null,
           null,
           null,
           null,
           null,
           null,
           null,
           0.82109375,
           null
          ],
          [
           null,
           null,
           null,
           null,
           null,
           null,
           null,
           null,
           null,
           null,
           null,
           null,
           null,
           null,
           null,
           null,
           null,
           null,
           null,
           0.81015625,
           null,
           null,
           null,
           null,
           null,
           null,
           null,
           null,
           null,
           null,
           null,
           null
          ],
          [
           null,
           null,
           null,
           null,
           null,
           null,
           null,
           null,
           null,
           null,
           null,
           null,
           null,
           null,
           null,
           0.81640625,
           null,
           null,
           null,
           null,
           null,
           null,
           null,
           null,
           null,
           null,
           null,
           null,
           null,
           null,
           null,
           null
          ],
          [
           null,
           null,
           null,
           null,
           null,
           null,
           null,
           null,
           null,
           null,
           null,
           null,
           null,
           null,
           null,
           null,
           null,
           null,
           0.80546875,
           null,
           null,
           null,
           null,
           null,
           null,
           null,
           null,
           null,
           null,
           null,
           null,
           null
          ],
          [
           null,
           null,
           null,
           null,
           null,
           null,
           null,
           null,
           null,
           null,
           null,
           null,
           null,
           null,
           0.80546875,
           null,
           null,
           null,
           null,
           null,
           null,
           null,
           null,
           null,
           null,
           null,
           null,
           null,
           null,
           null,
           null,
           null
          ],
          [
           null,
           null,
           null,
           null,
           null,
           null,
           null,
           null,
           null,
           null,
           null,
           null,
           null,
           null,
           null,
           null,
           null,
           null,
           null,
           null,
           null,
           null,
           null,
           0.80078125,
           null,
           null,
           null,
           null,
           null,
           null,
           null,
           null
          ],
          [
           null,
           null,
           null,
           null,
           null,
           null,
           null,
           null,
           null,
           null,
           0.78359375,
           null,
           null,
           null,
           null,
           null,
           null,
           null,
           null,
           null,
           null,
           null,
           null,
           null,
           null,
           null,
           null,
           null,
           null,
           null,
           null,
           null
          ],
          [
           null,
           null,
           null,
           null,
           null,
           null,
           null,
           null,
           null,
           null,
           null,
           null,
           null,
           null,
           null,
           null,
           null,
           null,
           null,
           null,
           null,
           null,
           null,
           null,
           null,
           null,
           null,
           null,
           null,
           null,
           null,
           null
          ]
         ],
         "type": "contour",
         "xaxis": "x33",
         "yaxis": "y33"
        },
        {
         "marker": {
          "color": "black",
          "line": {
           "color": "Grey",
           "width": 0.5
          }
         },
         "mode": "markers",
         "showlegend": false,
         "x": [
          61,
          123,
          65,
          82,
          46,
          40,
          19,
          85,
          114,
          126,
          113,
          94,
          73,
          119,
          104,
          57,
          55,
          61,
          53,
          55,
          86,
          71,
          98,
          88,
          92,
          89,
          98,
          126,
          62,
          111,
          114,
          121,
          90,
          101,
          93,
          98,
          104
         ],
         "y": [
          0.000059340666785345773,
          0.00016128853914478672,
          0.00006886403802372456,
          0.00005876258245472198,
          0.00013263632710883237,
          0.0016107198356598163,
          0.003158647044441662,
          0.00862979796607314,
          0.006743180886093113,
          0.00925112703353322,
          0.0005932598479371538,
          0.0077818194942438626,
          0.006103753537831752,
          0.000809462846076977,
          0.021155633400604067,
          0.005859850579234026,
          0.002745567533351846,
          0.002472706434914364,
          0.0023267868036857165,
          0.00287060969037103,
          0.01578188798534642,
          0.02382601574276138,
          0.0023377374445239987,
          0.013122970251652976,
          0.014140165464131263,
          0.004903316858108346,
          0.005146767582885322,
          0.003685350786811878,
          0.004498324859394809,
          0.0033980135026560787,
          0.006814264748541518,
          0.008854263806897779,
          0.0045394573000566854,
          0.005144944816934204,
          0.011635067929552913,
          0.003990868655044566,
          0.0026367205477363796
         ],
         "type": "scatter",
         "xaxis": "x33",
         "yaxis": "y33"
        },
        {
         "colorbar": {
          "title": {
           "text": "Objective Value"
          }
         },
         "colorscale": [
          [
           0,
           "rgb(5,10,172)"
          ],
          [
           0.35,
           "rgb(40,60,190)"
          ],
          [
           0.5,
           "rgb(70,100,245)"
          ],
          [
           0.6,
           "rgb(90,120,245)"
          ],
          [
           0.7,
           "rgb(106,137,247)"
          ],
          [
           1,
           "rgb(220,220,220)"
          ]
         ],
         "connectgaps": true,
         "contours": {
          "coloring": "heatmap"
         },
         "hoverinfo": "none",
         "line": {
          "smoothing": 1.3
         },
         "reversescale": false,
         "showscale": false,
         "x": [
          13.649999999999999,
          19,
          40,
          46,
          53,
          55,
          57,
          61,
          62,
          65,
          71,
          73,
          82,
          85,
          86,
          88,
          89,
          90,
          92,
          93,
          94,
          98,
          101,
          104,
          111,
          113,
          114,
          119,
          121,
          123,
          126,
          131.35
         ],
         "y": [
          0.9,
          1,
          2,
          3,
          3.1
         ],
         "z": [
          [
           null,
           null,
           null,
           null,
           null,
           null,
           null,
           null,
           null,
           null,
           null,
           null,
           null,
           null,
           null,
           null,
           null,
           null,
           null,
           null,
           null,
           null,
           null,
           null,
           null,
           null,
           null,
           null,
           null,
           null,
           null,
           null
          ],
          [
           null,
           null,
           null,
           null,
           0.79296875,
           0.7921875,
           0.82890625,
           0.8359375,
           0.8140625,
           0.6625,
           0.78359375,
           0.8140625,
           0.6484375,
           0.7828125,
           0.80546875,
           0.81640625,
           0.834375,
           0.8140625,
           0.80546875,
           0.81015625,
           0.803125,
           0.825,
           0.815625,
           0.81328125,
           0.82578125,
           0.771875,
           0.8125,
           0.815625,
           0.81015625,
           null,
           0.82421875,
           null
          ],
          [
           null,
           0.7421875,
           null,
           0.67265625,
           null,
           null,
           null,
           0.64140625,
           null,
           null,
           null,
           null,
           null,
           null,
           null,
           null,
           null,
           null,
           null,
           null,
           null,
           null,
           null,
           null,
           null,
           null,
           null,
           null,
           null,
           0.72421875,
           null,
           null
          ],
          [
           null,
           null,
           0.765625,
           null,
           null,
           null,
           null,
           null,
           null,
           null,
           null,
           null,
           null,
           null,
           null,
           null,
           null,
           null,
           null,
           null,
           null,
           null,
           null,
           null,
           null,
           null,
           null,
           null,
           null,
           null,
           null,
           null
          ],
          [
           null,
           null,
           null,
           null,
           null,
           null,
           null,
           null,
           null,
           null,
           null,
           null,
           null,
           null,
           null,
           null,
           null,
           null,
           null,
           null,
           null,
           null,
           null,
           null,
           null,
           null,
           null,
           null,
           null,
           null,
           null,
           null
          ]
         ],
         "type": "contour",
         "xaxis": "x42",
         "yaxis": "y42"
        },
        {
         "marker": {
          "color": "black",
          "line": {
           "color": "Grey",
           "width": 0.5
          }
         },
         "mode": "markers",
         "showlegend": false,
         "x": [
          61,
          123,
          65,
          82,
          46,
          40,
          19,
          85,
          114,
          126,
          113,
          94,
          73,
          119,
          104,
          57,
          55,
          61,
          53,
          55,
          86,
          71,
          98,
          88,
          92,
          89,
          98,
          126,
          62,
          111,
          114,
          121,
          90,
          101,
          93,
          98,
          104
         ],
         "y": [
          2,
          2,
          1,
          1,
          2,
          3,
          2,
          1,
          1,
          1,
          1,
          1,
          1,
          1,
          1,
          1,
          1,
          1,
          1,
          1,
          1,
          1,
          1,
          1,
          1,
          1,
          1,
          1,
          1,
          1,
          1,
          1,
          1,
          1,
          1,
          1,
          1
         ],
         "type": "scatter",
         "xaxis": "x42",
         "yaxis": "y42"
        },
        {
         "type": "scatter",
         "xaxis": "x51",
         "yaxis": "y51"
        },
        {
         "colorbar": {
          "title": {
           "text": "Objective Value"
          }
         },
         "colorscale": [
          [
           0,
           "rgb(5,10,172)"
          ],
          [
           0.35,
           "rgb(40,60,190)"
          ],
          [
           0.5,
           "rgb(70,100,245)"
          ],
          [
           0.6,
           "rgb(90,120,245)"
          ],
          [
           0.7,
           "rgb(106,137,247)"
          ],
          [
           1,
           "rgb(220,220,220)"
          ]
         ],
         "connectgaps": true,
         "contours": {
          "coloring": "heatmap"
         },
         "hoverinfo": "none",
         "line": {
          "smoothing": 1.3
         },
         "reversescale": false,
         "showscale": false,
         "x": [
          13.649999999999999,
          19,
          40,
          46,
          53,
          55,
          57,
          61,
          62,
          65,
          71,
          73,
          82,
          85,
          86,
          88,
          89,
          90,
          92,
          93,
          94,
          98,
          101,
          104,
          111,
          113,
          114,
          119,
          121,
          123,
          126,
          131.35
         ],
         "y": [
          39.45,
          43,
          61,
          101,
          108,
          114,
          117.55
         ],
         "z": [
          [
           null,
           null,
           null,
           null,
           null,
           null,
           null,
           null,
           null,
           null,
           null,
           null,
           null,
           null,
           null,
           null,
           null,
           null,
           null,
           null,
           null,
           null,
           null,
           null,
           null,
           null,
           null,
           null,
           null,
           null,
           null,
           null
          ],
          [
           null,
           null,
           null,
           0.67265625,
           null,
           null,
           null,
           null,
           null,
           null,
           null,
           null,
           null,
           null,
           null,
           null,
           null,
           null,
           null,
           null,
           null,
           null,
           null,
           null,
           null,
           null,
           null,
           null,
           null,
           null,
           null,
           null
          ],
          [
           null,
           0.7421875,
           null,
           null,
           null,
           null,
           null,
           null,
           null,
           null,
           null,
           null,
           null,
           null,
           null,
           null,
           null,
           null,
           null,
           null,
           null,
           null,
           null,
           null,
           null,
           null,
           null,
           null,
           null,
           null,
           null,
           null
          ],
          [
           null,
           null,
           0.765625,
           null,
           null,
           null,
           null,
           null,
           null,
           null,
           null,
           null,
           null,
           null,
           null,
           null,
           null,
           null,
           null,
           null,
           null,
           null,
           null,
           null,
           null,
           null,
           null,
           null,
           null,
           null,
           null,
           null
          ],
          [
           null,
           null,
           null,
           null,
           null,
           null,
           null,
           null,
           null,
           null,
           null,
           null,
           null,
           null,
           null,
           null,
           null,
           null,
           null,
           null,
           null,
           null,
           null,
           null,
           null,
           null,
           null,
           null,
           null,
           0.72421875,
           null,
           null
          ],
          [
           null,
           null,
           null,
           null,
           null,
           null,
           null,
           0.64140625,
           null,
           null,
           null,
           null,
           null,
           null,
           null,
           null,
           null,
           null,
           null,
           null,
           null,
           null,
           null,
           null,
           null,
           null,
           null,
           null,
           null,
           null,
           null,
           null
          ],
          [
           null,
           null,
           null,
           null,
           null,
           null,
           null,
           null,
           null,
           null,
           null,
           null,
           null,
           null,
           null,
           null,
           null,
           null,
           null,
           null,
           null,
           null,
           null,
           null,
           null,
           null,
           null,
           null,
           null,
           null,
           null,
           null
          ]
         ],
         "type": "contour",
         "xaxis": "x60",
         "yaxis": "y60"
        },
        {
         "marker": {
          "color": "black",
          "line": {
           "color": "Grey",
           "width": 0.5
          }
         },
         "mode": "markers",
         "showlegend": false,
         "x": [
          61,
          123,
          46,
          40,
          19
         ],
         "y": [
          114,
          108,
          43,
          101,
          61
         ],
         "type": "scatter",
         "xaxis": "x60",
         "yaxis": "y60"
        },
        {
         "showscale": false,
         "type": "contour",
         "xaxis": "x69",
         "yaxis": "y69"
        },
        {
         "type": "scatter",
         "xaxis": "x69",
         "yaxis": "y69"
        },
        {
         "colorbar": {
          "title": {
           "text": "Objective Value"
          }
         },
         "colorscale": [
          [
           0,
           "rgb(5,10,172)"
          ],
          [
           0.35,
           "rgb(40,60,190)"
          ],
          [
           0.5,
           "rgb(70,100,245)"
          ],
          [
           0.6,
           "rgb(90,120,245)"
          ],
          [
           0.7,
           "rgb(106,137,247)"
          ],
          [
           1,
           "rgb(220,220,220)"
          ]
         ],
         "connectgaps": true,
         "contours": {
          "coloring": "heatmap"
         },
         "hoverinfo": "none",
         "line": {
          "smoothing": 1.3
         },
         "reversescale": false,
         "showscale": false,
         "x": [
          13.649999999999999,
          19,
          40,
          46,
          53,
          55,
          57,
          61,
          62,
          65,
          71,
          73,
          82,
          85,
          86,
          88,
          89,
          90,
          92,
          93,
          94,
          98,
          101,
          104,
          111,
          113,
          114,
          119,
          121,
          123,
          126,
          131.35
         ],
         "y": [
          "Adam",
          "RMSprop"
         ],
         "z": [
          [
           null,
           0.7421875,
           0.765625,
           null,
           0.79296875,
           0.7921875,
           0.82890625,
           0.8359375,
           0.8140625,
           0.6625,
           0.78359375,
           0.8140625,
           0.6484375,
           null,
           0.80546875,
           0.81640625,
           0.834375,
           0.8140625,
           0.80546875,
           0.81015625,
           null,
           0.825,
           0.815625,
           0.81328125,
           0.82578125,
           null,
           0.8125,
           0.815625,
           0.81015625,
           null,
           0.82421875,
           null
          ],
          [
           null,
           null,
           null,
           0.67265625,
           null,
           null,
           null,
           null,
           null,
           null,
           null,
           null,
           null,
           0.7828125,
           null,
           null,
           null,
           null,
           null,
           null,
           0.803125,
           null,
           null,
           null,
           null,
           0.771875,
           null,
           null,
           null,
           0.72421875,
           0.82109375,
           null
          ]
         ],
         "type": "contour",
         "xaxis": "x78",
         "yaxis": "y78"
        },
        {
         "marker": {
          "color": "black",
          "line": {
           "color": "Grey",
           "width": 0.5
          }
         },
         "mode": "markers",
         "showlegend": false,
         "x": [
          61,
          123,
          65,
          82,
          46,
          40,
          19,
          85,
          114,
          126,
          113,
          94,
          73,
          119,
          104,
          57,
          55,
          61,
          53,
          55,
          86,
          71,
          98,
          88,
          92,
          89,
          98,
          126,
          62,
          111,
          114,
          121,
          90,
          101,
          93,
          98,
          104
         ],
         "y": [
          "Adam",
          "RMSprop",
          "Adam",
          "Adam",
          "RMSprop",
          "Adam",
          "Adam",
          "RMSprop",
          "Adam",
          "RMSprop",
          "RMSprop",
          "RMSprop",
          "Adam",
          "Adam",
          "Adam",
          "Adam",
          "Adam",
          "Adam",
          "Adam",
          "Adam",
          "Adam",
          "Adam",
          "Adam",
          "Adam",
          "Adam",
          "Adam",
          "Adam",
          "Adam",
          "Adam",
          "Adam",
          "Adam",
          "Adam",
          "Adam",
          "Adam",
          "Adam",
          "Adam",
          "Adam"
         ],
         "type": "scatter",
         "xaxis": "x78",
         "yaxis": "y78"
        },
        {
         "colorbar": {
          "title": {
           "text": "Objective Value"
          }
         },
         "colorscale": [
          [
           0,
           "rgb(5,10,172)"
          ],
          [
           0.35,
           "rgb(40,60,190)"
          ],
          [
           0.5,
           "rgb(70,100,245)"
          ],
          [
           0.6,
           "rgb(90,120,245)"
          ],
          [
           0.7,
           "rgb(106,137,247)"
          ],
          [
           1,
           "rgb(220,220,220)"
          ]
         ],
         "connectgaps": true,
         "contours": {
          "coloring": "heatmap"
         },
         "hoverinfo": "none",
         "line": {
          "smoothing": 1.3
         },
         "reversescale": false,
         "showscale": false,
         "x": [
          39.45,
          43,
          61,
          101,
          108,
          114,
          117.55
         ],
         "y": [
          0.248275589893297,
          0.2602582011379707,
          0.3011076442904499,
          0.31142092876329847,
          0.3137100739972145,
          0.3323342684111329,
          0.35759235212834356,
          0.36240001462367805,
          0.36632574841742344,
          0.3685731816408453,
          0.3692586483413988,
          0.3723356224932886,
          0.3737372338667225,
          0.3761735825467473,
          0.37747245570380256,
          0.3797448746025178,
          0.3857251388692347,
          0.3888201842287104,
          0.39184565558866635,
          0.3961548705464534,
          0.4016458131395273,
          0.40166090993047754,
          0.4030854733372593,
          0.403261496622062,
          0.4046193543658363,
          0.4052337530396442,
          0.4057318763556791,
          0.41011538188858293,
          0.416272641715248,
          0.4162774804789908,
          0.4176252415919155,
          0.4205542892566232,
          0.42654856202727615,
          0.43517892309348855,
          0.4467898927373322,
          0.4599786517682562,
          0.49004871993820337,
          0.49991042603144453,
          0.5118930372761182
         ],
         "z": [
          [
           null,
           null,
           null,
           null,
           null,
           null,
           null
          ],
          [
           null,
           null,
           null,
           null,
           null,
           null,
           null
          ],
          [
           null,
           0.67265625,
           null,
           null,
           null,
           null,
           null
          ],
          [
           null,
           null,
           null,
           null,
           null,
           null,
           null
          ],
          [
           null,
           null,
           null,
           null,
           null,
           null,
           null
          ],
          [
           null,
           null,
           0.7421875,
           null,
           null,
           null,
           null
          ],
          [
           null,
           null,
           null,
           null,
           null,
           null,
           null
          ],
          [
           null,
           null,
           null,
           null,
           null,
           null,
           null
          ],
          [
           null,
           null,
           null,
           null,
           null,
           null,
           null
          ],
          [
           null,
           null,
           null,
           null,
           null,
           null,
           null
          ],
          [
           null,
           null,
           null,
           null,
           null,
           null,
           null
          ],
          [
           null,
           null,
           null,
           null,
           null,
           null,
           null
          ],
          [
           null,
           null,
           null,
           null,
           null,
           null,
           null
          ],
          [
           null,
           null,
           null,
           null,
           null,
           null,
           null
          ],
          [
           null,
           null,
           null,
           null,
           null,
           null,
           null
          ],
          [
           null,
           null,
           null,
           null,
           null,
           null,
           null
          ],
          [
           null,
           null,
           null,
           null,
           null,
           null,
           null
          ],
          [
           null,
           null,
           null,
           null,
           null,
           null,
           null
          ],
          [
           null,
           null,
           null,
           null,
           null,
           null,
           null
          ],
          [
           null,
           null,
           null,
           null,
           null,
           null,
           null
          ],
          [
           null,
           null,
           null,
           null,
           null,
           null,
           null
          ],
          [
           null,
           null,
           null,
           null,
           null,
           null,
           null
          ],
          [
           null,
           null,
           null,
           null,
           null,
           null,
           null
          ],
          [
           null,
           null,
           null,
           null,
           null,
           null,
           null
          ],
          [
           null,
           null,
           null,
           null,
           null,
           null,
           null
          ],
          [
           null,
           null,
           null,
           null,
           null,
           null,
           null
          ],
          [
           null,
           null,
           null,
           null,
           null,
           null,
           null
          ],
          [
           null,
           null,
           null,
           null,
           null,
           null,
           null
          ],
          [
           null,
           null,
           null,
           null,
           null,
           null,
           null
          ],
          [
           null,
           null,
           null,
           null,
           null,
           null,
           null
          ],
          [
           null,
           null,
           null,
           null,
           null,
           null,
           null
          ],
          [
           null,
           null,
           null,
           null,
           null,
           null,
           null
          ],
          [
           null,
           null,
           null,
           null,
           null,
           null,
           null
          ],
          [
           null,
           null,
           null,
           null,
           null,
           null,
           null
          ],
          [
           null,
           null,
           null,
           null,
           0.72421875,
           null,
           null
          ],
          [
           null,
           null,
           null,
           0.765625,
           null,
           null,
           null
          ],
          [
           null,
           null,
           null,
           null,
           null,
           null,
           null
          ],
          [
           null,
           null,
           null,
           null,
           null,
           0.64140625,
           null
          ],
          [
           null,
           null,
           null,
           null,
           null,
           null,
           null
          ]
         ],
         "type": "contour",
         "xaxis": "x7",
         "yaxis": "y7"
        },
        {
         "marker": {
          "color": "black",
          "line": {
           "color": "Grey",
           "width": 0.5
          }
         },
         "mode": "markers",
         "showlegend": false,
         "x": [
          114,
          108,
          43,
          101,
          61
         ],
         "y": [
          0.49991042603144453,
          0.4467898927373322,
          0.3011076442904499,
          0.4599786517682562,
          0.3323342684111329
         ],
         "type": "scatter",
         "xaxis": "x7",
         "yaxis": "y7"
        },
        {
         "colorbar": {
          "title": {
           "text": "Objective Value"
          }
         },
         "colorscale": [
          [
           0,
           "rgb(5,10,172)"
          ],
          [
           0.35,
           "rgb(40,60,190)"
          ],
          [
           0.5,
           "rgb(70,100,245)"
          ],
          [
           0.6,
           "rgb(90,120,245)"
          ],
          [
           0.7,
           "rgb(106,137,247)"
          ],
          [
           1,
           "rgb(220,220,220)"
          ]
         ],
         "connectgaps": true,
         "contours": {
          "coloring": "heatmap"
         },
         "hoverinfo": "none",
         "line": {
          "smoothing": 1.3
         },
         "reversescale": false,
         "showscale": false,
         "x": [
          39.45,
          43,
          61,
          101,
          108,
          114,
          117.55
         ],
         "y": [
          0.20236892342683915,
          0.21575438576317588,
          0.2442535129253178,
          0.28047450280396624,
          0.43022829131923823,
          0.48346363248991037,
          0.49684909482624706
         ],
         "z": [
          [
           null,
           null,
           null,
           null,
           null,
           null,
           null
          ],
          [
           null,
           0.67265625,
           null,
           null,
           null,
           null,
           null
          ],
          [
           null,
           null,
           null,
           0.765625,
           null,
           null,
           null
          ],
          [
           null,
           null,
           null,
           null,
           null,
           0.64140625,
           null
          ],
          [
           null,
           null,
           0.7421875,
           null,
           null,
           null,
           null
          ],
          [
           null,
           null,
           null,
           null,
           0.72421875,
           null,
           null
          ],
          [
           null,
           null,
           null,
           null,
           null,
           null,
           null
          ]
         ],
         "type": "contour",
         "xaxis": "x16",
         "yaxis": "y16"
        },
        {
         "marker": {
          "color": "black",
          "line": {
           "color": "Grey",
           "width": 0.5
          }
         },
         "mode": "markers",
         "showlegend": false,
         "x": [
          114,
          108,
          43,
          101,
          61
         ],
         "y": [
          0.28047450280396624,
          0.48346363248991037,
          0.21575438576317588,
          0.2442535129253178,
          0.43022829131923823
         ],
         "type": "scatter",
         "xaxis": "x16",
         "yaxis": "y16"
        },
        {
         "showscale": false,
         "type": "contour",
         "xaxis": "x25",
         "yaxis": "y25"
        },
        {
         "type": "scatter",
         "xaxis": "x25",
         "yaxis": "y25"
        },
        {
         "colorbar": {
          "title": {
           "text": "Objective Value"
          }
         },
         "colorscale": [
          [
           0,
           "rgb(5,10,172)"
          ],
          [
           0.35,
           "rgb(40,60,190)"
          ],
          [
           0.5,
           "rgb(70,100,245)"
          ],
          [
           0.6,
           "rgb(90,120,245)"
          ],
          [
           0.7,
           "rgb(106,137,247)"
          ],
          [
           1,
           "rgb(220,220,220)"
          ]
         ],
         "connectgaps": true,
         "contours": {
          "coloring": "heatmap"
         },
         "hoverinfo": "none",
         "line": {
          "smoothing": 1.3
         },
         "reversescale": false,
         "showscale": false,
         "x": [
          39.45,
          43,
          61,
          101,
          108,
          114,
          117.55
         ],
         "y": [
          0.00004352144897506373,
          0.00005876258245472198,
          0.000059340666785345773,
          0.00006886403802372456,
          0.00013263632710883237,
          0.00016128853914478672,
          0.0005932598479371538,
          0.000809462846076977,
          0.0016107198356598163,
          0.0023267868036857165,
          0.0023377374445239987,
          0.002472706434914364,
          0.0026367205477363796,
          0.002745567533351846,
          0.00287060969037103,
          0.003158647044441662,
          0.0033980135026560787,
          0.003685350786811878,
          0.003990868655044566,
          0.004498324859394809,
          0.0045394573000566854,
          0.004903316858108346,
          0.005144944816934204,
          0.005146767582885322,
          0.005859850579234026,
          0.006103753537831752,
          0.006743180886093113,
          0.006814264748541518,
          0.0077818194942438626,
          0.00862979796607314,
          0.008854263806897779,
          0.00925112703353322,
          0.011635067929552913,
          0.013122970251652976,
          0.014140165464131263,
          0.01578188798534642,
          0.021155633400604067,
          0.02382601574276138,
          0.03216984378102199
         ],
         "z": [
          [
           null,
           null,
           null,
           null,
           null,
           null,
           null
          ],
          [
           null,
           null,
           null,
           null,
           null,
           null,
           null
          ],
          [
           null,
           null,
           null,
           null,
           null,
           0.64140625,
           null
          ],
          [
           null,
           null,
           null,
           null,
           null,
           null,
           null
          ],
          [
           null,
           0.67265625,
           null,
           null,
           null,
           null,
           null
          ],
          [
           null,
           null,
           null,
           null,
           0.72421875,
           null,
           null
          ],
          [
           null,
           null,
           null,
           null,
           null,
           null,
           null
          ],
          [
           null,
           null,
           null,
           null,
           null,
           null,
           null
          ],
          [
           null,
           null,
           null,
           0.765625,
           null,
           null,
           null
          ],
          [
           null,
           null,
           null,
           null,
           null,
           null,
           null
          ],
          [
           null,
           null,
           null,
           null,
           null,
           null,
           null
          ],
          [
           null,
           null,
           null,
           null,
           null,
           null,
           null
          ],
          [
           null,
           null,
           null,
           null,
           null,
           null,
           null
          ],
          [
           null,
           null,
           null,
           null,
           null,
           null,
           null
          ],
          [
           null,
           null,
           null,
           null,
           null,
           null,
           null
          ],
          [
           null,
           null,
           0.7421875,
           null,
           null,
           null,
           null
          ],
          [
           null,
           null,
           null,
           null,
           null,
           null,
           null
          ],
          [
           null,
           null,
           null,
           null,
           null,
           null,
           null
          ],
          [
           null,
           null,
           null,
           null,
           null,
           null,
           null
          ],
          [
           null,
           null,
           null,
           null,
           null,
           null,
           null
          ],
          [
           null,
           null,
           null,
           null,
           null,
           null,
           null
          ],
          [
           null,
           null,
           null,
           null,
           null,
           null,
           null
          ],
          [
           null,
           null,
           null,
           null,
           null,
           null,
           null
          ],
          [
           null,
           null,
           null,
           null,
           null,
           null,
           null
          ],
          [
           null,
           null,
           null,
           null,
           null,
           null,
           null
          ],
          [
           null,
           null,
           null,
           null,
           null,
           null,
           null
          ],
          [
           null,
           null,
           null,
           null,
           null,
           null,
           null
          ],
          [
           null,
           null,
           null,
           null,
           null,
           null,
           null
          ],
          [
           null,
           null,
           null,
           null,
           null,
           null,
           null
          ],
          [
           null,
           null,
           null,
           null,
           null,
           null,
           null
          ],
          [
           null,
           null,
           null,
           null,
           null,
           null,
           null
          ],
          [
           null,
           null,
           null,
           null,
           null,
           null,
           null
          ],
          [
           null,
           null,
           null,
           null,
           null,
           null,
           null
          ],
          [
           null,
           null,
           null,
           null,
           null,
           null,
           null
          ],
          [
           null,
           null,
           null,
           null,
           null,
           null,
           null
          ],
          [
           null,
           null,
           null,
           null,
           null,
           null,
           null
          ],
          [
           null,
           null,
           null,
           null,
           null,
           null,
           null
          ],
          [
           null,
           null,
           null,
           null,
           null,
           null,
           null
          ],
          [
           null,
           null,
           null,
           null,
           null,
           null,
           null
          ]
         ],
         "type": "contour",
         "xaxis": "x34",
         "yaxis": "y34"
        },
        {
         "marker": {
          "color": "black",
          "line": {
           "color": "Grey",
           "width": 0.5
          }
         },
         "mode": "markers",
         "showlegend": false,
         "x": [
          114,
          108,
          43,
          101,
          61
         ],
         "y": [
          0.000059340666785345773,
          0.00016128853914478672,
          0.00013263632710883237,
          0.0016107198356598163,
          0.003158647044441662
         ],
         "type": "scatter",
         "xaxis": "x34",
         "yaxis": "y34"
        },
        {
         "colorbar": {
          "title": {
           "text": "Objective Value"
          }
         },
         "colorscale": [
          [
           0,
           "rgb(5,10,172)"
          ],
          [
           0.35,
           "rgb(40,60,190)"
          ],
          [
           0.5,
           "rgb(70,100,245)"
          ],
          [
           0.6,
           "rgb(90,120,245)"
          ],
          [
           0.7,
           "rgb(106,137,247)"
          ],
          [
           1,
           "rgb(220,220,220)"
          ]
         ],
         "connectgaps": true,
         "contours": {
          "coloring": "heatmap"
         },
         "hoverinfo": "none",
         "line": {
          "smoothing": 1.3
         },
         "reversescale": false,
         "showscale": false,
         "x": [
          39.45,
          43,
          61,
          101,
          108,
          114,
          117.55
         ],
         "y": [
          0.9,
          1,
          2,
          3,
          3.1
         ],
         "z": [
          [
           null,
           null,
           null,
           null,
           null,
           null,
           null
          ],
          [
           null,
           null,
           null,
           null,
           null,
           null,
           null
          ],
          [
           null,
           0.67265625,
           0.7421875,
           null,
           0.72421875,
           0.64140625,
           null
          ],
          [
           null,
           null,
           null,
           0.765625,
           null,
           null,
           null
          ],
          [
           null,
           null,
           null,
           null,
           null,
           null,
           null
          ]
         ],
         "type": "contour",
         "xaxis": "x43",
         "yaxis": "y43"
        },
        {
         "marker": {
          "color": "black",
          "line": {
           "color": "Grey",
           "width": 0.5
          }
         },
         "mode": "markers",
         "showlegend": false,
         "x": [
          114,
          108,
          43,
          101,
          61
         ],
         "y": [
          2,
          2,
          2,
          3,
          2
         ],
         "type": "scatter",
         "xaxis": "x43",
         "yaxis": "y43"
        },
        {
         "colorbar": {
          "title": {
           "text": "Objective Value"
          }
         },
         "colorscale": [
          [
           0,
           "rgb(5,10,172)"
          ],
          [
           0.35,
           "rgb(40,60,190)"
          ],
          [
           0.5,
           "rgb(70,100,245)"
          ],
          [
           0.6,
           "rgb(90,120,245)"
          ],
          [
           0.7,
           "rgb(106,137,247)"
          ],
          [
           1,
           "rgb(220,220,220)"
          ]
         ],
         "connectgaps": true,
         "contours": {
          "coloring": "heatmap"
         },
         "hoverinfo": "none",
         "line": {
          "smoothing": 1.3
         },
         "reversescale": false,
         "showscale": false,
         "x": [
          39.45,
          43,
          61,
          101,
          108,
          114,
          117.55
         ],
         "y": [
          13.649999999999999,
          19,
          40,
          46,
          53,
          55,
          57,
          61,
          62,
          65,
          71,
          73,
          82,
          85,
          86,
          88,
          89,
          90,
          92,
          93,
          94,
          98,
          101,
          104,
          111,
          113,
          114,
          119,
          121,
          123,
          126,
          131.35
         ],
         "z": [
          [
           null,
           null,
           null,
           null,
           null,
           null,
           null
          ],
          [
           null,
           null,
           0.7421875,
           null,
           null,
           null,
           null
          ],
          [
           null,
           null,
           null,
           0.765625,
           null,
           null,
           null
          ],
          [
           null,
           0.67265625,
           null,
           null,
           null,
           null,
           null
          ],
          [
           null,
           null,
           null,
           null,
           null,
           null,
           null
          ],
          [
           null,
           null,
           null,
           null,
           null,
           null,
           null
          ],
          [
           null,
           null,
           null,
           null,
           null,
           null,
           null
          ],
          [
           null,
           null,
           null,
           null,
           null,
           0.64140625,
           null
          ],
          [
           null,
           null,
           null,
           null,
           null,
           null,
           null
          ],
          [
           null,
           null,
           null,
           null,
           null,
           null,
           null
          ],
          [
           null,
           null,
           null,
           null,
           null,
           null,
           null
          ],
          [
           null,
           null,
           null,
           null,
           null,
           null,
           null
          ],
          [
           null,
           null,
           null,
           null,
           null,
           null,
           null
          ],
          [
           null,
           null,
           null,
           null,
           null,
           null,
           null
          ],
          [
           null,
           null,
           null,
           null,
           null,
           null,
           null
          ],
          [
           null,
           null,
           null,
           null,
           null,
           null,
           null
          ],
          [
           null,
           null,
           null,
           null,
           null,
           null,
           null
          ],
          [
           null,
           null,
           null,
           null,
           null,
           null,
           null
          ],
          [
           null,
           null,
           null,
           null,
           null,
           null,
           null
          ],
          [
           null,
           null,
           null,
           null,
           null,
           null,
           null
          ],
          [
           null,
           null,
           null,
           null,
           null,
           null,
           null
          ],
          [
           null,
           null,
           null,
           null,
           null,
           null,
           null
          ],
          [
           null,
           null,
           null,
           null,
           null,
           null,
           null
          ],
          [
           null,
           null,
           null,
           null,
           null,
           null,
           null
          ],
          [
           null,
           null,
           null,
           null,
           null,
           null,
           null
          ],
          [
           null,
           null,
           null,
           null,
           null,
           null,
           null
          ],
          [
           null,
           null,
           null,
           null,
           null,
           null,
           null
          ],
          [
           null,
           null,
           null,
           null,
           null,
           null,
           null
          ],
          [
           null,
           null,
           null,
           null,
           null,
           null,
           null
          ],
          [
           null,
           null,
           null,
           null,
           0.72421875,
           null,
           null
          ],
          [
           null,
           null,
           null,
           null,
           null,
           null,
           null
          ],
          [
           null,
           null,
           null,
           null,
           null,
           null,
           null
          ]
         ],
         "type": "contour",
         "xaxis": "x52",
         "yaxis": "y52"
        },
        {
         "marker": {
          "color": "black",
          "line": {
           "color": "Grey",
           "width": 0.5
          }
         },
         "mode": "markers",
         "showlegend": false,
         "x": [
          114,
          108,
          43,
          101,
          61
         ],
         "y": [
          61,
          123,
          46,
          40,
          19
         ],
         "type": "scatter",
         "xaxis": "x52",
         "yaxis": "y52"
        },
        {
         "type": "scatter",
         "xaxis": "x61",
         "yaxis": "y61"
        },
        {
         "showscale": false,
         "type": "contour",
         "xaxis": "x70",
         "yaxis": "y70"
        },
        {
         "type": "scatter",
         "xaxis": "x70",
         "yaxis": "y70"
        },
        {
         "colorbar": {
          "title": {
           "text": "Objective Value"
          }
         },
         "colorscale": [
          [
           0,
           "rgb(5,10,172)"
          ],
          [
           0.35,
           "rgb(40,60,190)"
          ],
          [
           0.5,
           "rgb(70,100,245)"
          ],
          [
           0.6,
           "rgb(90,120,245)"
          ],
          [
           0.7,
           "rgb(106,137,247)"
          ],
          [
           1,
           "rgb(220,220,220)"
          ]
         ],
         "connectgaps": true,
         "contours": {
          "coloring": "heatmap"
         },
         "hoverinfo": "none",
         "line": {
          "smoothing": 1.3
         },
         "reversescale": false,
         "showscale": false,
         "x": [
          39.45,
          43,
          61,
          101,
          108,
          114,
          117.55
         ],
         "y": [
          "Adam",
          "RMSprop"
         ],
         "z": [
          [
           null,
           null,
           0.7421875,
           0.765625,
           null,
           0.64140625,
           null
          ],
          [
           null,
           0.67265625,
           null,
           null,
           0.72421875,
           null,
           null
          ]
         ],
         "type": "contour",
         "xaxis": "x79",
         "yaxis": "y79"
        },
        {
         "marker": {
          "color": "black",
          "line": {
           "color": "Grey",
           "width": 0.5
          }
         },
         "mode": "markers",
         "showlegend": false,
         "x": [
          114,
          108,
          43,
          101,
          61
         ],
         "y": [
          "Adam",
          "RMSprop",
          "RMSprop",
          "Adam",
          "Adam"
         ],
         "type": "scatter",
         "xaxis": "x79",
         "yaxis": "y79"
        },
        {
         "showscale": false,
         "type": "contour",
         "xaxis": "x8",
         "yaxis": "y8"
        },
        {
         "type": "scatter",
         "xaxis": "x8",
         "yaxis": "y8"
        },
        {
         "showscale": false,
         "type": "contour",
         "xaxis": "x17",
         "yaxis": "y17"
        },
        {
         "type": "scatter",
         "xaxis": "x17",
         "yaxis": "y17"
        },
        {
         "showscale": false,
         "type": "contour",
         "xaxis": "x26",
         "yaxis": "y26"
        },
        {
         "type": "scatter",
         "xaxis": "x26",
         "yaxis": "y26"
        },
        {
         "showscale": false,
         "type": "contour",
         "xaxis": "x35",
         "yaxis": "y35"
        },
        {
         "type": "scatter",
         "xaxis": "x35",
         "yaxis": "y35"
        },
        {
         "showscale": false,
         "type": "contour",
         "xaxis": "x44",
         "yaxis": "y44"
        },
        {
         "type": "scatter",
         "xaxis": "x44",
         "yaxis": "y44"
        },
        {
         "showscale": false,
         "type": "contour",
         "xaxis": "x53",
         "yaxis": "y53"
        },
        {
         "type": "scatter",
         "xaxis": "x53",
         "yaxis": "y53"
        },
        {
         "showscale": false,
         "type": "contour",
         "xaxis": "x62",
         "yaxis": "y62"
        },
        {
         "type": "scatter",
         "xaxis": "x62",
         "yaxis": "y62"
        },
        {
         "type": "scatter",
         "xaxis": "x71",
         "yaxis": "y71"
        },
        {
         "showscale": false,
         "type": "contour",
         "xaxis": "x80",
         "yaxis": "y80"
        },
        {
         "type": "scatter",
         "xaxis": "x80",
         "yaxis": "y80"
        },
        {
         "colorbar": {
          "title": {
           "text": "Objective Value"
          }
         },
         "colorscale": [
          [
           0,
           "rgb(5,10,172)"
          ],
          [
           0.35,
           "rgb(40,60,190)"
          ],
          [
           0.5,
           "rgb(70,100,245)"
          ],
          [
           0.6,
           "rgb(90,120,245)"
          ],
          [
           0.7,
           "rgb(106,137,247)"
          ],
          [
           1,
           "rgb(220,220,220)"
          ]
         ],
         "connectgaps": true,
         "contours": {
          "coloring": "heatmap"
         },
         "hoverinfo": "none",
         "line": {
          "smoothing": 1.3
         },
         "reversescale": false,
         "showscale": false,
         "x": [
          "Adam",
          "RMSprop"
         ],
         "y": [
          0.248275589893297,
          0.2602582011379707,
          0.3011076442904499,
          0.31142092876329847,
          0.3137100739972145,
          0.3323342684111329,
          0.35759235212834356,
          0.36240001462367805,
          0.36632574841742344,
          0.3685731816408453,
          0.3692586483413988,
          0.3723356224932886,
          0.3737372338667225,
          0.3761735825467473,
          0.37747245570380256,
          0.3797448746025178,
          0.3857251388692347,
          0.3888201842287104,
          0.39184565558866635,
          0.3961548705464534,
          0.4016458131395273,
          0.40166090993047754,
          0.4030854733372593,
          0.403261496622062,
          0.4046193543658363,
          0.4052337530396442,
          0.4057318763556791,
          0.41011538188858293,
          0.416272641715248,
          0.4162774804789908,
          0.4176252415919155,
          0.4205542892566232,
          0.42654856202727615,
          0.43517892309348855,
          0.4467898927373322,
          0.4599786517682562,
          0.49004871993820337,
          0.49991042603144453,
          0.5118930372761182
         ],
         "z": [
          [
           null,
           null
          ],
          [
           0.6484375,
           null
          ],
          [
           null,
           0.67265625
          ],
          [
           null,
           0.7828125
          ],
          [
           null,
           0.803125
          ],
          [
           0.7421875,
           null
          ],
          [
           0.825,
           null
          ],
          [
           0.83203125,
           null
          ],
          [
           0.80546875,
           null
          ],
          [
           null,
           0.771875
          ],
          [
           0.81328125,
           null
          ],
          [
           0.8140625,
           null
          ],
          [
           0.79296875,
           null
          ],
          [
           0.8359375,
           null
          ],
          [
           0.8140625,
           null
          ],
          [
           0.83671875,
           null
          ],
          [
           0.81015625,
           null
          ],
          [
           0.82421875,
           null
          ],
          [
           0.80546875,
           null
          ],
          [
           0.81640625,
           null
          ],
          [
           0.78359375,
           null
          ],
          [
           null,
           0.82109375
          ],
          [
           0.8125,
           null
          ],
          [
           0.81953125,
           null
          ],
          [
           0.815625,
           null
          ],
          [
           0.7921875,
           null
          ],
          [
           0.834375,
           null
          ],
          [
           0.80078125,
           null
          ],
          [
           0.83125,
           null
          ],
          [
           0.815625,
           null
          ],
          [
           0.8140625,
           null
          ],
          [
           0.82578125,
           null
          ],
          [
           0.82890625,
           null
          ],
          [
           0.81015625,
           null
          ],
          [
           null,
           0.72421875
          ],
          [
           0.765625,
           null
          ],
          [
           0.6625,
           null
          ],
          [
           0.64140625,
           null
          ],
          [
           null,
           null
          ]
         ],
         "type": "contour",
         "xaxis": "x9",
         "yaxis": "y9"
        },
        {
         "marker": {
          "color": "black",
          "line": {
           "color": "Grey",
           "width": 0.5
          }
         },
         "mode": "markers",
         "showlegend": false,
         "x": [
          "Adam",
          "RMSprop",
          "Adam",
          "Adam",
          "RMSprop",
          "Adam",
          "Adam",
          "RMSprop",
          "Adam",
          "RMSprop",
          "RMSprop",
          "RMSprop",
          "Adam",
          "Adam",
          "Adam",
          "Adam",
          "Adam",
          "Adam",
          "Adam",
          "Adam",
          "Adam",
          "Adam",
          "Adam",
          "Adam",
          "Adam",
          "Adam",
          "Adam",
          "Adam",
          "Adam",
          "Adam",
          "Adam",
          "Adam",
          "Adam",
          "Adam",
          "Adam",
          "Adam",
          "Adam"
         ],
         "y": [
          0.49991042603144453,
          0.4467898927373322,
          0.49004871993820337,
          0.2602582011379707,
          0.3011076442904499,
          0.4599786517682562,
          0.3323342684111329,
          0.31142092876329847,
          0.416272641715248,
          0.40166090993047754,
          0.3685731816408453,
          0.3137100739972145,
          0.4176252415919155,
          0.4162774804789908,
          0.41011538188858293,
          0.42654856202727615,
          0.3797448746025178,
          0.3761735825467473,
          0.3737372338667225,
          0.4052337530396442,
          0.36632574841742344,
          0.4016458131395273,
          0.36240001462367805,
          0.3961548705464534,
          0.39184565558866635,
          0.4057318763556791,
          0.403261496622062,
          0.3888201842287104,
          0.3723356224932886,
          0.4205542892566232,
          0.4030854733372593,
          0.3857251388692347,
          0.37747245570380256,
          0.4046193543658363,
          0.43517892309348855,
          0.35759235212834356,
          0.3692586483413988
         ],
         "type": "scatter",
         "xaxis": "x9",
         "yaxis": "y9"
        },
        {
         "colorbar": {
          "title": {
           "text": "Objective Value"
          }
         },
         "colorscale": [
          [
           0,
           "rgb(5,10,172)"
          ],
          [
           0.35,
           "rgb(40,60,190)"
          ],
          [
           0.5,
           "rgb(70,100,245)"
          ],
          [
           0.6,
           "rgb(90,120,245)"
          ],
          [
           0.7,
           "rgb(106,137,247)"
          ],
          [
           1,
           "rgb(220,220,220)"
          ]
         ],
         "connectgaps": true,
         "contours": {
          "coloring": "heatmap"
         },
         "hoverinfo": "none",
         "line": {
          "smoothing": 1.3
         },
         "reversescale": false,
         "showscale": false,
         "x": [
          "Adam",
          "RMSprop"
         ],
         "y": [
          0.20236892342683915,
          0.21575438576317588,
          0.2442535129253178,
          0.28047450280396624,
          0.43022829131923823,
          0.48346363248991037,
          0.49684909482624706
         ],
         "z": [
          [
           null,
           null
          ],
          [
           null,
           0.67265625
          ],
          [
           0.765625,
           null
          ],
          [
           0.64140625,
           null
          ],
          [
           0.7421875,
           null
          ],
          [
           null,
           0.72421875
          ],
          [
           null,
           null
          ]
         ],
         "type": "contour",
         "xaxis": "x18",
         "yaxis": "y18"
        },
        {
         "marker": {
          "color": "black",
          "line": {
           "color": "Grey",
           "width": 0.5
          }
         },
         "mode": "markers",
         "showlegend": false,
         "x": [
          "Adam",
          "RMSprop",
          "RMSprop",
          "Adam",
          "Adam"
         ],
         "y": [
          0.28047450280396624,
          0.48346363248991037,
          0.21575438576317588,
          0.2442535129253178,
          0.43022829131923823
         ],
         "type": "scatter",
         "xaxis": "x18",
         "yaxis": "y18"
        },
        {
         "showscale": false,
         "type": "contour",
         "xaxis": "x27",
         "yaxis": "y27"
        },
        {
         "type": "scatter",
         "xaxis": "x27",
         "yaxis": "y27"
        },
        {
         "colorbar": {
          "title": {
           "text": "Objective Value"
          }
         },
         "colorscale": [
          [
           0,
           "rgb(5,10,172)"
          ],
          [
           0.35,
           "rgb(40,60,190)"
          ],
          [
           0.5,
           "rgb(70,100,245)"
          ],
          [
           0.6,
           "rgb(90,120,245)"
          ],
          [
           0.7,
           "rgb(106,137,247)"
          ],
          [
           1,
           "rgb(220,220,220)"
          ]
         ],
         "connectgaps": true,
         "contours": {
          "coloring": "heatmap"
         },
         "hoverinfo": "none",
         "line": {
          "smoothing": 1.3
         },
         "reversescale": false,
         "showscale": false,
         "x": [
          "Adam",
          "RMSprop"
         ],
         "y": [
          0.00004352144897506373,
          0.00005876258245472198,
          0.000059340666785345773,
          0.00006886403802372456,
          0.00013263632710883237,
          0.00016128853914478672,
          0.0005932598479371538,
          0.000809462846076977,
          0.0016107198356598163,
          0.0023267868036857165,
          0.0023377374445239987,
          0.002472706434914364,
          0.0026367205477363796,
          0.002745567533351846,
          0.00287060969037103,
          0.003158647044441662,
          0.0033980135026560787,
          0.003685350786811878,
          0.003990868655044566,
          0.004498324859394809,
          0.0045394573000566854,
          0.004903316858108346,
          0.005144944816934204,
          0.005146767582885322,
          0.005859850579234026,
          0.006103753537831752,
          0.006743180886093113,
          0.006814264748541518,
          0.0077818194942438626,
          0.00862979796607314,
          0.008854263806897779,
          0.00925112703353322,
          0.011635067929552913,
          0.013122970251652976,
          0.014140165464131263,
          0.01578188798534642,
          0.021155633400604067,
          0.02382601574276138,
          0.03216984378102199
         ],
         "z": [
          [
           null,
           null
          ],
          [
           0.6484375,
           null
          ],
          [
           0.64140625,
           null
          ],
          [
           0.6625,
           null
          ],
          [
           null,
           0.67265625
          ],
          [
           null,
           0.72421875
          ],
          [
           null,
           0.771875
          ],
          [
           0.815625,
           null
          ],
          [
           0.765625,
           null
          ],
          [
           0.79296875,
           null
          ],
          [
           0.83203125,
           null
          ],
          [
           0.8359375,
           null
          ],
          [
           0.81328125,
           null
          ],
          [
           0.83671875,
           null
          ],
          [
           0.7921875,
           null
          ],
          [
           0.7421875,
           null
          ],
          [
           0.82578125,
           null
          ],
          [
           0.82421875,
           null
          ],
          [
           0.825,
           null
          ],
          [
           0.8140625,
           null
          ],
          [
           0.8140625,
           null
          ],
          [
           0.834375,
           null
          ],
          [
           0.815625,
           null
          ],
          [
           0.81953125,
           null
          ],
          [
           0.82890625,
           null
          ],
          [
           0.8140625,
           null
          ],
          [
           0.83125,
           null
          ],
          [
           0.8125,
           null
          ],
          [
           null,
           0.803125
          ],
          [
           null,
           0.7828125
          ],
          [
           0.81015625,
           null
          ],
          [
           null,
           0.82109375
          ],
          [
           0.81015625,
           null
          ],
          [
           0.81640625,
           null
          ],
          [
           0.80546875,
           null
          ],
          [
           0.80546875,
           null
          ],
          [
           0.80078125,
           null
          ],
          [
           0.78359375,
           null
          ],
          [
           null,
           null
          ]
         ],
         "type": "contour",
         "xaxis": "x36",
         "yaxis": "y36"
        },
        {
         "marker": {
          "color": "black",
          "line": {
           "color": "Grey",
           "width": 0.5
          }
         },
         "mode": "markers",
         "showlegend": false,
         "x": [
          "Adam",
          "RMSprop",
          "Adam",
          "Adam",
          "RMSprop",
          "Adam",
          "Adam",
          "RMSprop",
          "Adam",
          "RMSprop",
          "RMSprop",
          "RMSprop",
          "Adam",
          "Adam",
          "Adam",
          "Adam",
          "Adam",
          "Adam",
          "Adam",
          "Adam",
          "Adam",
          "Adam",
          "Adam",
          "Adam",
          "Adam",
          "Adam",
          "Adam",
          "Adam",
          "Adam",
          "Adam",
          "Adam",
          "Adam",
          "Adam",
          "Adam",
          "Adam",
          "Adam",
          "Adam"
         ],
         "y": [
          0.000059340666785345773,
          0.00016128853914478672,
          0.00006886403802372456,
          0.00005876258245472198,
          0.00013263632710883237,
          0.0016107198356598163,
          0.003158647044441662,
          0.00862979796607314,
          0.006743180886093113,
          0.00925112703353322,
          0.0005932598479371538,
          0.0077818194942438626,
          0.006103753537831752,
          0.000809462846076977,
          0.021155633400604067,
          0.005859850579234026,
          0.002745567533351846,
          0.002472706434914364,
          0.0023267868036857165,
          0.00287060969037103,
          0.01578188798534642,
          0.02382601574276138,
          0.0023377374445239987,
          0.013122970251652976,
          0.014140165464131263,
          0.004903316858108346,
          0.005146767582885322,
          0.003685350786811878,
          0.004498324859394809,
          0.0033980135026560787,
          0.006814264748541518,
          0.008854263806897779,
          0.0045394573000566854,
          0.005144944816934204,
          0.011635067929552913,
          0.003990868655044566,
          0.0026367205477363796
         ],
         "type": "scatter",
         "xaxis": "x36",
         "yaxis": "y36"
        },
        {
         "colorbar": {
          "title": {
           "text": "Objective Value"
          }
         },
         "colorscale": [
          [
           0,
           "rgb(5,10,172)"
          ],
          [
           0.35,
           "rgb(40,60,190)"
          ],
          [
           0.5,
           "rgb(70,100,245)"
          ],
          [
           0.6,
           "rgb(90,120,245)"
          ],
          [
           0.7,
           "rgb(106,137,247)"
          ],
          [
           1,
           "rgb(220,220,220)"
          ]
         ],
         "connectgaps": true,
         "contours": {
          "coloring": "heatmap"
         },
         "hoverinfo": "none",
         "line": {
          "smoothing": 1.3
         },
         "reversescale": false,
         "showscale": false,
         "x": [
          "Adam",
          "RMSprop"
         ],
         "y": [
          0.9,
          1,
          2,
          3,
          3.1
         ],
         "z": [
          [
           null,
           null
          ],
          [
           0.81328125,
           0.803125
          ],
          [
           0.7421875,
           0.67265625
          ],
          [
           0.765625,
           null
          ],
          [
           null,
           null
          ]
         ],
         "type": "contour",
         "xaxis": "x45",
         "yaxis": "y45"
        },
        {
         "marker": {
          "color": "black",
          "line": {
           "color": "Grey",
           "width": 0.5
          }
         },
         "mode": "markers",
         "showlegend": false,
         "x": [
          "Adam",
          "RMSprop",
          "Adam",
          "Adam",
          "RMSprop",
          "Adam",
          "Adam",
          "RMSprop",
          "Adam",
          "RMSprop",
          "RMSprop",
          "RMSprop",
          "Adam",
          "Adam",
          "Adam",
          "Adam",
          "Adam",
          "Adam",
          "Adam",
          "Adam",
          "Adam",
          "Adam",
          "Adam",
          "Adam",
          "Adam",
          "Adam",
          "Adam",
          "Adam",
          "Adam",
          "Adam",
          "Adam",
          "Adam",
          "Adam",
          "Adam",
          "Adam",
          "Adam",
          "Adam"
         ],
         "y": [
          2,
          2,
          1,
          1,
          2,
          3,
          2,
          1,
          1,
          1,
          1,
          1,
          1,
          1,
          1,
          1,
          1,
          1,
          1,
          1,
          1,
          1,
          1,
          1,
          1,
          1,
          1,
          1,
          1,
          1,
          1,
          1,
          1,
          1,
          1,
          1,
          1
         ],
         "type": "scatter",
         "xaxis": "x45",
         "yaxis": "y45"
        },
        {
         "colorbar": {
          "title": {
           "text": "Objective Value"
          }
         },
         "colorscale": [
          [
           0,
           "rgb(5,10,172)"
          ],
          [
           0.35,
           "rgb(40,60,190)"
          ],
          [
           0.5,
           "rgb(70,100,245)"
          ],
          [
           0.6,
           "rgb(90,120,245)"
          ],
          [
           0.7,
           "rgb(106,137,247)"
          ],
          [
           1,
           "rgb(220,220,220)"
          ]
         ],
         "connectgaps": true,
         "contours": {
          "coloring": "heatmap"
         },
         "hoverinfo": "none",
         "line": {
          "smoothing": 1.3
         },
         "reversescale": false,
         "showscale": false,
         "x": [
          "Adam",
          "RMSprop"
         ],
         "y": [
          13.649999999999999,
          19,
          40,
          46,
          53,
          55,
          57,
          61,
          62,
          65,
          71,
          73,
          82,
          85,
          86,
          88,
          89,
          90,
          92,
          93,
          94,
          98,
          101,
          104,
          111,
          113,
          114,
          119,
          121,
          123,
          126,
          131.35
         ],
         "z": [
          [
           null,
           null
          ],
          [
           0.7421875,
           null
          ],
          [
           0.765625,
           null
          ],
          [
           null,
           0.67265625
          ],
          [
           0.79296875,
           null
          ],
          [
           0.7921875,
           null
          ],
          [
           0.82890625,
           null
          ],
          [
           0.8359375,
           null
          ],
          [
           0.8140625,
           null
          ],
          [
           0.6625,
           null
          ],
          [
           0.78359375,
           null
          ],
          [
           0.8140625,
           null
          ],
          [
           0.6484375,
           null
          ],
          [
           null,
           0.7828125
          ],
          [
           0.80546875,
           null
          ],
          [
           0.81640625,
           null
          ],
          [
           0.834375,
           null
          ],
          [
           0.8140625,
           null
          ],
          [
           0.80546875,
           null
          ],
          [
           0.81015625,
           null
          ],
          [
           null,
           0.803125
          ],
          [
           0.825,
           null
          ],
          [
           0.815625,
           null
          ],
          [
           0.81328125,
           null
          ],
          [
           0.82578125,
           null
          ],
          [
           null,
           0.771875
          ],
          [
           0.8125,
           null
          ],
          [
           0.815625,
           null
          ],
          [
           0.81015625,
           null
          ],
          [
           null,
           0.72421875
          ],
          [
           0.82421875,
           0.82109375
          ],
          [
           null,
           null
          ]
         ],
         "type": "contour",
         "xaxis": "x54",
         "yaxis": "y54"
        },
        {
         "marker": {
          "color": "black",
          "line": {
           "color": "Grey",
           "width": 0.5
          }
         },
         "mode": "markers",
         "showlegend": false,
         "x": [
          "Adam",
          "RMSprop",
          "Adam",
          "Adam",
          "RMSprop",
          "Adam",
          "Adam",
          "RMSprop",
          "Adam",
          "RMSprop",
          "RMSprop",
          "RMSprop",
          "Adam",
          "Adam",
          "Adam",
          "Adam",
          "Adam",
          "Adam",
          "Adam",
          "Adam",
          "Adam",
          "Adam",
          "Adam",
          "Adam",
          "Adam",
          "Adam",
          "Adam",
          "Adam",
          "Adam",
          "Adam",
          "Adam",
          "Adam",
          "Adam",
          "Adam",
          "Adam",
          "Adam",
          "Adam"
         ],
         "y": [
          61,
          123,
          65,
          82,
          46,
          40,
          19,
          85,
          114,
          126,
          113,
          94,
          73,
          119,
          104,
          57,
          55,
          61,
          53,
          55,
          86,
          71,
          98,
          88,
          92,
          89,
          98,
          126,
          62,
          111,
          114,
          121,
          90,
          101,
          93,
          98,
          104
         ],
         "type": "scatter",
         "xaxis": "x54",
         "yaxis": "y54"
        },
        {
         "colorbar": {
          "title": {
           "text": "Objective Value"
          }
         },
         "colorscale": [
          [
           0,
           "rgb(5,10,172)"
          ],
          [
           0.35,
           "rgb(40,60,190)"
          ],
          [
           0.5,
           "rgb(70,100,245)"
          ],
          [
           0.6,
           "rgb(90,120,245)"
          ],
          [
           0.7,
           "rgb(106,137,247)"
          ],
          [
           1,
           "rgb(220,220,220)"
          ]
         ],
         "connectgaps": true,
         "contours": {
          "coloring": "heatmap"
         },
         "hoverinfo": "none",
         "line": {
          "smoothing": 1.3
         },
         "reversescale": false,
         "showscale": false,
         "x": [
          "Adam",
          "RMSprop"
         ],
         "y": [
          39.45,
          43,
          61,
          101,
          108,
          114,
          117.55
         ],
         "z": [
          [
           null,
           null
          ],
          [
           null,
           0.67265625
          ],
          [
           0.7421875,
           null
          ],
          [
           0.765625,
           null
          ],
          [
           null,
           0.72421875
          ],
          [
           0.64140625,
           null
          ],
          [
           null,
           null
          ]
         ],
         "type": "contour",
         "xaxis": "x63",
         "yaxis": "y63"
        },
        {
         "marker": {
          "color": "black",
          "line": {
           "color": "Grey",
           "width": 0.5
          }
         },
         "mode": "markers",
         "showlegend": false,
         "x": [
          "Adam",
          "RMSprop",
          "RMSprop",
          "Adam",
          "Adam"
         ],
         "y": [
          114,
          108,
          43,
          101,
          61
         ],
         "type": "scatter",
         "xaxis": "x63",
         "yaxis": "y63"
        },
        {
         "showscale": false,
         "type": "contour",
         "xaxis": "x72",
         "yaxis": "y72"
        },
        {
         "type": "scatter",
         "xaxis": "x72",
         "yaxis": "y72"
        },
        {
         "type": "scatter",
         "xaxis": "x81",
         "yaxis": "y81"
        }
       ],
       "layout": {
        "template": {
         "data": {
          "bar": [
           {
            "error_x": {
             "color": "#2a3f5f"
            },
            "error_y": {
             "color": "#2a3f5f"
            },
            "marker": {
             "line": {
              "color": "#E5ECF6",
              "width": 0.5
             },
             "pattern": {
              "fillmode": "overlay",
              "size": 10,
              "solidity": 0.2
             }
            },
            "type": "bar"
           }
          ],
          "barpolar": [
           {
            "marker": {
             "line": {
              "color": "#E5ECF6",
              "width": 0.5
             },
             "pattern": {
              "fillmode": "overlay",
              "size": 10,
              "solidity": 0.2
             }
            },
            "type": "barpolar"
           }
          ],
          "carpet": [
           {
            "aaxis": {
             "endlinecolor": "#2a3f5f",
             "gridcolor": "white",
             "linecolor": "white",
             "minorgridcolor": "white",
             "startlinecolor": "#2a3f5f"
            },
            "baxis": {
             "endlinecolor": "#2a3f5f",
             "gridcolor": "white",
             "linecolor": "white",
             "minorgridcolor": "white",
             "startlinecolor": "#2a3f5f"
            },
            "type": "carpet"
           }
          ],
          "choropleth": [
           {
            "colorbar": {
             "outlinewidth": 0,
             "ticks": ""
            },
            "type": "choropleth"
           }
          ],
          "contour": [
           {
            "colorbar": {
             "outlinewidth": 0,
             "ticks": ""
            },
            "colorscale": [
             [
              0,
              "#0d0887"
             ],
             [
              0.1111111111111111,
              "#46039f"
             ],
             [
              0.2222222222222222,
              "#7201a8"
             ],
             [
              0.3333333333333333,
              "#9c179e"
             ],
             [
              0.4444444444444444,
              "#bd3786"
             ],
             [
              0.5555555555555556,
              "#d8576b"
             ],
             [
              0.6666666666666666,
              "#ed7953"
             ],
             [
              0.7777777777777778,
              "#fb9f3a"
             ],
             [
              0.8888888888888888,
              "#fdca26"
             ],
             [
              1,
              "#f0f921"
             ]
            ],
            "type": "contour"
           }
          ],
          "contourcarpet": [
           {
            "colorbar": {
             "outlinewidth": 0,
             "ticks": ""
            },
            "type": "contourcarpet"
           }
          ],
          "heatmap": [
           {
            "colorbar": {
             "outlinewidth": 0,
             "ticks": ""
            },
            "colorscale": [
             [
              0,
              "#0d0887"
             ],
             [
              0.1111111111111111,
              "#46039f"
             ],
             [
              0.2222222222222222,
              "#7201a8"
             ],
             [
              0.3333333333333333,
              "#9c179e"
             ],
             [
              0.4444444444444444,
              "#bd3786"
             ],
             [
              0.5555555555555556,
              "#d8576b"
             ],
             [
              0.6666666666666666,
              "#ed7953"
             ],
             [
              0.7777777777777778,
              "#fb9f3a"
             ],
             [
              0.8888888888888888,
              "#fdca26"
             ],
             [
              1,
              "#f0f921"
             ]
            ],
            "type": "heatmap"
           }
          ],
          "heatmapgl": [
           {
            "colorbar": {
             "outlinewidth": 0,
             "ticks": ""
            },
            "colorscale": [
             [
              0,
              "#0d0887"
             ],
             [
              0.1111111111111111,
              "#46039f"
             ],
             [
              0.2222222222222222,
              "#7201a8"
             ],
             [
              0.3333333333333333,
              "#9c179e"
             ],
             [
              0.4444444444444444,
              "#bd3786"
             ],
             [
              0.5555555555555556,
              "#d8576b"
             ],
             [
              0.6666666666666666,
              "#ed7953"
             ],
             [
              0.7777777777777778,
              "#fb9f3a"
             ],
             [
              0.8888888888888888,
              "#fdca26"
             ],
             [
              1,
              "#f0f921"
             ]
            ],
            "type": "heatmapgl"
           }
          ],
          "histogram": [
           {
            "marker": {
             "pattern": {
              "fillmode": "overlay",
              "size": 10,
              "solidity": 0.2
             }
            },
            "type": "histogram"
           }
          ],
          "histogram2d": [
           {
            "colorbar": {
             "outlinewidth": 0,
             "ticks": ""
            },
            "colorscale": [
             [
              0,
              "#0d0887"
             ],
             [
              0.1111111111111111,
              "#46039f"
             ],
             [
              0.2222222222222222,
              "#7201a8"
             ],
             [
              0.3333333333333333,
              "#9c179e"
             ],
             [
              0.4444444444444444,
              "#bd3786"
             ],
             [
              0.5555555555555556,
              "#d8576b"
             ],
             [
              0.6666666666666666,
              "#ed7953"
             ],
             [
              0.7777777777777778,
              "#fb9f3a"
             ],
             [
              0.8888888888888888,
              "#fdca26"
             ],
             [
              1,
              "#f0f921"
             ]
            ],
            "type": "histogram2d"
           }
          ],
          "histogram2dcontour": [
           {
            "colorbar": {
             "outlinewidth": 0,
             "ticks": ""
            },
            "colorscale": [
             [
              0,
              "#0d0887"
             ],
             [
              0.1111111111111111,
              "#46039f"
             ],
             [
              0.2222222222222222,
              "#7201a8"
             ],
             [
              0.3333333333333333,
              "#9c179e"
             ],
             [
              0.4444444444444444,
              "#bd3786"
             ],
             [
              0.5555555555555556,
              "#d8576b"
             ],
             [
              0.6666666666666666,
              "#ed7953"
             ],
             [
              0.7777777777777778,
              "#fb9f3a"
             ],
             [
              0.8888888888888888,
              "#fdca26"
             ],
             [
              1,
              "#f0f921"
             ]
            ],
            "type": "histogram2dcontour"
           }
          ],
          "mesh3d": [
           {
            "colorbar": {
             "outlinewidth": 0,
             "ticks": ""
            },
            "type": "mesh3d"
           }
          ],
          "parcoords": [
           {
            "line": {
             "colorbar": {
              "outlinewidth": 0,
              "ticks": ""
             }
            },
            "type": "parcoords"
           }
          ],
          "pie": [
           {
            "automargin": true,
            "type": "pie"
           }
          ],
          "scatter": [
           {
            "marker": {
             "colorbar": {
              "outlinewidth": 0,
              "ticks": ""
             }
            },
            "type": "scatter"
           }
          ],
          "scatter3d": [
           {
            "line": {
             "colorbar": {
              "outlinewidth": 0,
              "ticks": ""
             }
            },
            "marker": {
             "colorbar": {
              "outlinewidth": 0,
              "ticks": ""
             }
            },
            "type": "scatter3d"
           }
          ],
          "scattercarpet": [
           {
            "marker": {
             "colorbar": {
              "outlinewidth": 0,
              "ticks": ""
             }
            },
            "type": "scattercarpet"
           }
          ],
          "scattergeo": [
           {
            "marker": {
             "colorbar": {
              "outlinewidth": 0,
              "ticks": ""
             }
            },
            "type": "scattergeo"
           }
          ],
          "scattergl": [
           {
            "marker": {
             "colorbar": {
              "outlinewidth": 0,
              "ticks": ""
             }
            },
            "type": "scattergl"
           }
          ],
          "scattermapbox": [
           {
            "marker": {
             "colorbar": {
              "outlinewidth": 0,
              "ticks": ""
             }
            },
            "type": "scattermapbox"
           }
          ],
          "scatterpolar": [
           {
            "marker": {
             "colorbar": {
              "outlinewidth": 0,
              "ticks": ""
             }
            },
            "type": "scatterpolar"
           }
          ],
          "scatterpolargl": [
           {
            "marker": {
             "colorbar": {
              "outlinewidth": 0,
              "ticks": ""
             }
            },
            "type": "scatterpolargl"
           }
          ],
          "scatterternary": [
           {
            "marker": {
             "colorbar": {
              "outlinewidth": 0,
              "ticks": ""
             }
            },
            "type": "scatterternary"
           }
          ],
          "surface": [
           {
            "colorbar": {
             "outlinewidth": 0,
             "ticks": ""
            },
            "colorscale": [
             [
              0,
              "#0d0887"
             ],
             [
              0.1111111111111111,
              "#46039f"
             ],
             [
              0.2222222222222222,
              "#7201a8"
             ],
             [
              0.3333333333333333,
              "#9c179e"
             ],
             [
              0.4444444444444444,
              "#bd3786"
             ],
             [
              0.5555555555555556,
              "#d8576b"
             ],
             [
              0.6666666666666666,
              "#ed7953"
             ],
             [
              0.7777777777777778,
              "#fb9f3a"
             ],
             [
              0.8888888888888888,
              "#fdca26"
             ],
             [
              1,
              "#f0f921"
             ]
            ],
            "type": "surface"
           }
          ],
          "table": [
           {
            "cells": {
             "fill": {
              "color": "#EBF0F8"
             },
             "line": {
              "color": "white"
             }
            },
            "header": {
             "fill": {
              "color": "#C8D4E3"
             },
             "line": {
              "color": "white"
             }
            },
            "type": "table"
           }
          ]
         },
         "layout": {
          "annotationdefaults": {
           "arrowcolor": "#2a3f5f",
           "arrowhead": 0,
           "arrowwidth": 1
          },
          "autotypenumbers": "strict",
          "coloraxis": {
           "colorbar": {
            "outlinewidth": 0,
            "ticks": ""
           }
          },
          "colorscale": {
           "diverging": [
            [
             0,
             "#8e0152"
            ],
            [
             0.1,
             "#c51b7d"
            ],
            [
             0.2,
             "#de77ae"
            ],
            [
             0.3,
             "#f1b6da"
            ],
            [
             0.4,
             "#fde0ef"
            ],
            [
             0.5,
             "#f7f7f7"
            ],
            [
             0.6,
             "#e6f5d0"
            ],
            [
             0.7,
             "#b8e186"
            ],
            [
             0.8,
             "#7fbc41"
            ],
            [
             0.9,
             "#4d9221"
            ],
            [
             1,
             "#276419"
            ]
           ],
           "sequential": [
            [
             0,
             "#0d0887"
            ],
            [
             0.1111111111111111,
             "#46039f"
            ],
            [
             0.2222222222222222,
             "#7201a8"
            ],
            [
             0.3333333333333333,
             "#9c179e"
            ],
            [
             0.4444444444444444,
             "#bd3786"
            ],
            [
             0.5555555555555556,
             "#d8576b"
            ],
            [
             0.6666666666666666,
             "#ed7953"
            ],
            [
             0.7777777777777778,
             "#fb9f3a"
            ],
            [
             0.8888888888888888,
             "#fdca26"
            ],
            [
             1,
             "#f0f921"
            ]
           ],
           "sequentialminus": [
            [
             0,
             "#0d0887"
            ],
            [
             0.1111111111111111,
             "#46039f"
            ],
            [
             0.2222222222222222,
             "#7201a8"
            ],
            [
             0.3333333333333333,
             "#9c179e"
            ],
            [
             0.4444444444444444,
             "#bd3786"
            ],
            [
             0.5555555555555556,
             "#d8576b"
            ],
            [
             0.6666666666666666,
             "#ed7953"
            ],
            [
             0.7777777777777778,
             "#fb9f3a"
            ],
            [
             0.8888888888888888,
             "#fdca26"
            ],
            [
             1,
             "#f0f921"
            ]
           ]
          },
          "colorway": [
           "#636efa",
           "#EF553B",
           "#00cc96",
           "#ab63fa",
           "#FFA15A",
           "#19d3f3",
           "#FF6692",
           "#B6E880",
           "#FF97FF",
           "#FECB52"
          ],
          "font": {
           "color": "#2a3f5f"
          },
          "geo": {
           "bgcolor": "white",
           "lakecolor": "white",
           "landcolor": "#E5ECF6",
           "showlakes": true,
           "showland": true,
           "subunitcolor": "white"
          },
          "hoverlabel": {
           "align": "left"
          },
          "hovermode": "closest",
          "mapbox": {
           "style": "light"
          },
          "paper_bgcolor": "white",
          "plot_bgcolor": "#E5ECF6",
          "polar": {
           "angularaxis": {
            "gridcolor": "white",
            "linecolor": "white",
            "ticks": ""
           },
           "bgcolor": "#E5ECF6",
           "radialaxis": {
            "gridcolor": "white",
            "linecolor": "white",
            "ticks": ""
           }
          },
          "scene": {
           "xaxis": {
            "backgroundcolor": "#E5ECF6",
            "gridcolor": "white",
            "gridwidth": 2,
            "linecolor": "white",
            "showbackground": true,
            "ticks": "",
            "zerolinecolor": "white"
           },
           "yaxis": {
            "backgroundcolor": "#E5ECF6",
            "gridcolor": "white",
            "gridwidth": 2,
            "linecolor": "white",
            "showbackground": true,
            "ticks": "",
            "zerolinecolor": "white"
           },
           "zaxis": {
            "backgroundcolor": "#E5ECF6",
            "gridcolor": "white",
            "gridwidth": 2,
            "linecolor": "white",
            "showbackground": true,
            "ticks": "",
            "zerolinecolor": "white"
           }
          },
          "shapedefaults": {
           "line": {
            "color": "#2a3f5f"
           }
          },
          "ternary": {
           "aaxis": {
            "gridcolor": "white",
            "linecolor": "white",
            "ticks": ""
           },
           "baxis": {
            "gridcolor": "white",
            "linecolor": "white",
            "ticks": ""
           },
           "bgcolor": "#E5ECF6",
           "caxis": {
            "gridcolor": "white",
            "linecolor": "white",
            "ticks": ""
           }
          },
          "title": {
           "x": 0.05
          },
          "xaxis": {
           "automargin": true,
           "gridcolor": "white",
           "linecolor": "white",
           "ticks": "",
           "title": {
            "standoff": 15
           },
           "zerolinecolor": "white",
           "zerolinewidth": 2
          },
          "yaxis": {
           "automargin": true,
           "gridcolor": "white",
           "linecolor": "white",
           "ticks": "",
           "title": {
            "standoff": 15
           },
           "zerolinecolor": "white",
           "zerolinewidth": 2
          }
         }
        },
        "xaxis": {
         "anchor": "y",
         "domain": [
          0,
          0.09135802469135802
         ],
         "matches": "x73",
         "showticklabels": false,
         "range": [
          0.248275589893297,
          0.5118930372761182
         ]
        },
        "yaxis": {
         "anchor": "x",
         "domain": [
          0.9185185185185185,
          1
         ],
         "range": [
          0.248275589893297,
          0.5118930372761182
         ],
         "title": {
          "text": "dropout_l0"
         }
        },
        "xaxis2": {
         "anchor": "y2",
         "domain": [
          0.11358024691358025,
          0.20493827160493827
         ],
         "matches": "x74",
         "showticklabels": false,
         "range": [
          0.20236892342683915,
          0.49684909482624706
         ]
        },
        "yaxis2": {
         "anchor": "x2",
         "domain": [
          0.9185185185185185,
          1
         ],
         "matches": "y",
         "showticklabels": false,
         "range": [
          0.248275589893297,
          0.5118930372761182
         ]
        },
        "xaxis3": {
         "anchor": "y3",
         "domain": [
          0.2271604938271605,
          0.31851851851851853
         ],
         "matches": "x75",
         "showticklabels": false,
         "range": [
          0.35179683855141297,
          0.35179683855141297
         ]
        },
        "yaxis3": {
         "anchor": "x3",
         "domain": [
          0.9185185185185185,
          1
         ],
         "matches": "y",
         "showticklabels": false,
         "range": [
          0.248275589893297,
          0.5118930372761182
         ]
        },
        "xaxis4": {
         "anchor": "y4",
         "domain": [
          0.34074074074074073,
          0.43209876543209874
         ],
         "matches": "x76",
         "showticklabels": false,
         "range": [
          -4.361296653948686,
          -1.492551048056838
         ],
         "type": "log"
        },
        "yaxis4": {
         "anchor": "x4",
         "domain": [
          0.9185185185185185,
          1
         ],
         "matches": "y",
         "showticklabels": false,
         "range": [
          0.248275589893297,
          0.5118930372761182
         ]
        },
        "xaxis5": {
         "anchor": "y5",
         "domain": [
          0.454320987654321,
          0.5456790123456791
         ],
         "matches": "x77",
         "showticklabels": false,
         "range": [
          0.9,
          3.1
         ]
        },
        "yaxis5": {
         "anchor": "x5",
         "domain": [
          0.9185185185185185,
          1
         ],
         "matches": "y",
         "showticklabels": false,
         "range": [
          0.248275589893297,
          0.5118930372761182
         ]
        },
        "xaxis6": {
         "anchor": "y6",
         "domain": [
          0.5679012345679012,
          0.6592592592592592
         ],
         "matches": "x78",
         "showticklabels": false,
         "range": [
          13.649999999999999,
          131.35
         ]
        },
        "yaxis6": {
         "anchor": "x6",
         "domain": [
          0.9185185185185185,
          1
         ],
         "matches": "y",
         "showticklabels": false,
         "range": [
          0.248275589893297,
          0.5118930372761182
         ]
        },
        "xaxis7": {
         "anchor": "y7",
         "domain": [
          0.6814814814814815,
          0.7728395061728395
         ],
         "matches": "x79",
         "showticklabels": false,
         "range": [
          39.45,
          117.55
         ]
        },
        "yaxis7": {
         "anchor": "x7",
         "domain": [
          0.9185185185185185,
          1
         ],
         "matches": "y",
         "showticklabels": false,
         "range": [
          0.248275589893297,
          0.5118930372761182
         ]
        },
        "xaxis8": {
         "anchor": "y8",
         "domain": [
          0.7950617283950617,
          0.8864197530864197
         ],
         "matches": "x80",
         "showticklabels": false,
         "range": [
          63,
          63
         ]
        },
        "yaxis8": {
         "anchor": "x8",
         "domain": [
          0.9185185185185185,
          1
         ],
         "matches": "y",
         "showticklabels": false,
         "range": [
          0.248275589893297,
          0.5118930372761182
         ]
        },
        "xaxis9": {
         "anchor": "y9",
         "domain": [
          0.908641975308642,
          1
         ],
         "matches": "x81",
         "showticklabels": false,
         "range": [
          -0.05,
          1.05
         ],
         "type": "category"
        },
        "yaxis9": {
         "anchor": "x9",
         "domain": [
          0.9185185185185185,
          1
         ],
         "matches": "y",
         "showticklabels": false,
         "range": [
          0.248275589893297,
          0.5118930372761182
         ]
        },
        "xaxis10": {
         "anchor": "y10",
         "domain": [
          0,
          0.09135802469135802
         ],
         "matches": "x73",
         "showticklabels": false,
         "range": [
          0.248275589893297,
          0.5118930372761182
         ]
        },
        "yaxis10": {
         "anchor": "x10",
         "domain": [
          0.8037037037037038,
          0.8851851851851853
         ],
         "range": [
          0.20236892342683915,
          0.49684909482624706
         ],
         "title": {
          "text": "dropout_l1"
         }
        },
        "xaxis11": {
         "anchor": "y11",
         "domain": [
          0.11358024691358025,
          0.20493827160493827
         ],
         "matches": "x74",
         "showticklabels": false,
         "range": [
          0.20236892342683915,
          0.49684909482624706
         ]
        },
        "yaxis11": {
         "anchor": "x11",
         "domain": [
          0.8037037037037038,
          0.8851851851851853
         ],
         "matches": "y10",
         "showticklabels": false,
         "range": [
          0.20236892342683915,
          0.49684909482624706
         ]
        },
        "xaxis12": {
         "anchor": "y12",
         "domain": [
          0.2271604938271605,
          0.31851851851851853
         ],
         "matches": "x75",
         "showticklabels": false,
         "range": [
          0.35179683855141297,
          0.35179683855141297
         ]
        },
        "yaxis12": {
         "anchor": "x12",
         "domain": [
          0.8037037037037038,
          0.8851851851851853
         ],
         "matches": "y10",
         "showticklabels": false,
         "range": [
          0.20236892342683915,
          0.49684909482624706
         ]
        },
        "xaxis13": {
         "anchor": "y13",
         "domain": [
          0.34074074074074073,
          0.43209876543209874
         ],
         "matches": "x76",
         "showticklabels": false,
         "range": [
          -4.361296653948686,
          -1.492551048056838
         ],
         "type": "log"
        },
        "yaxis13": {
         "anchor": "x13",
         "domain": [
          0.8037037037037038,
          0.8851851851851853
         ],
         "matches": "y10",
         "showticklabels": false,
         "range": [
          0.20236892342683915,
          0.49684909482624706
         ]
        },
        "xaxis14": {
         "anchor": "y14",
         "domain": [
          0.454320987654321,
          0.5456790123456791
         ],
         "matches": "x77",
         "showticklabels": false,
         "range": [
          0.9,
          3.1
         ]
        },
        "yaxis14": {
         "anchor": "x14",
         "domain": [
          0.8037037037037038,
          0.8851851851851853
         ],
         "matches": "y10",
         "showticklabels": false,
         "range": [
          0.20236892342683915,
          0.49684909482624706
         ]
        },
        "xaxis15": {
         "anchor": "y15",
         "domain": [
          0.5679012345679012,
          0.6592592592592592
         ],
         "matches": "x78",
         "showticklabels": false,
         "range": [
          13.649999999999999,
          131.35
         ]
        },
        "yaxis15": {
         "anchor": "x15",
         "domain": [
          0.8037037037037038,
          0.8851851851851853
         ],
         "matches": "y10",
         "showticklabels": false,
         "range": [
          0.20236892342683915,
          0.49684909482624706
         ]
        },
        "xaxis16": {
         "anchor": "y16",
         "domain": [
          0.6814814814814815,
          0.7728395061728395
         ],
         "matches": "x79",
         "showticklabels": false,
         "range": [
          39.45,
          117.55
         ]
        },
        "yaxis16": {
         "anchor": "x16",
         "domain": [
          0.8037037037037038,
          0.8851851851851853
         ],
         "matches": "y10",
         "showticklabels": false,
         "range": [
          0.20236892342683915,
          0.49684909482624706
         ]
        },
        "xaxis17": {
         "anchor": "y17",
         "domain": [
          0.7950617283950617,
          0.8864197530864197
         ],
         "matches": "x80",
         "showticklabels": false,
         "range": [
          63,
          63
         ]
        },
        "yaxis17": {
         "anchor": "x17",
         "domain": [
          0.8037037037037038,
          0.8851851851851853
         ],
         "matches": "y10",
         "showticklabels": false,
         "range": [
          0.20236892342683915,
          0.49684909482624706
         ]
        },
        "xaxis18": {
         "anchor": "y18",
         "domain": [
          0.908641975308642,
          1
         ],
         "matches": "x81",
         "showticklabels": false,
         "range": [
          -0.05,
          1.05
         ],
         "type": "category"
        },
        "yaxis18": {
         "anchor": "x18",
         "domain": [
          0.8037037037037038,
          0.8851851851851853
         ],
         "matches": "y10",
         "showticklabels": false,
         "range": [
          0.20236892342683915,
          0.49684909482624706
         ]
        },
        "xaxis19": {
         "anchor": "y19",
         "domain": [
          0,
          0.09135802469135802
         ],
         "matches": "x73",
         "showticklabels": false,
         "range": [
          0.248275589893297,
          0.5118930372761182
         ]
        },
        "yaxis19": {
         "anchor": "x19",
         "domain": [
          0.6888888888888889,
          0.7703703703703704
         ],
         "range": [
          0.35179683855141297,
          0.35179683855141297
         ],
         "title": {
          "text": "dropout_l2"
         }
        },
        "xaxis20": {
         "anchor": "y20",
         "domain": [
          0.11358024691358025,
          0.20493827160493827
         ],
         "matches": "x74",
         "showticklabels": false,
         "range": [
          0.20236892342683915,
          0.49684909482624706
         ]
        },
        "yaxis20": {
         "anchor": "x20",
         "domain": [
          0.6888888888888889,
          0.7703703703703704
         ],
         "matches": "y19",
         "showticklabels": false,
         "range": [
          0.35179683855141297,
          0.35179683855141297
         ]
        },
        "xaxis21": {
         "anchor": "y21",
         "domain": [
          0.2271604938271605,
          0.31851851851851853
         ],
         "matches": "x75",
         "showticklabels": false,
         "range": [
          0.35179683855141297,
          0.35179683855141297
         ]
        },
        "yaxis21": {
         "anchor": "x21",
         "domain": [
          0.6888888888888889,
          0.7703703703703704
         ],
         "matches": "y19",
         "showticklabels": false,
         "range": [
          0.35179683855141297,
          0.35179683855141297
         ]
        },
        "xaxis22": {
         "anchor": "y22",
         "domain": [
          0.34074074074074073,
          0.43209876543209874
         ],
         "matches": "x76",
         "showticklabels": false,
         "range": [
          -4.361296653948686,
          -1.492551048056838
         ],
         "type": "log"
        },
        "yaxis22": {
         "anchor": "x22",
         "domain": [
          0.6888888888888889,
          0.7703703703703704
         ],
         "matches": "y19",
         "showticklabels": false,
         "range": [
          0.35179683855141297,
          0.35179683855141297
         ]
        },
        "xaxis23": {
         "anchor": "y23",
         "domain": [
          0.454320987654321,
          0.5456790123456791
         ],
         "matches": "x77",
         "showticklabels": false,
         "range": [
          0.9,
          3.1
         ]
        },
        "yaxis23": {
         "anchor": "x23",
         "domain": [
          0.6888888888888889,
          0.7703703703703704
         ],
         "matches": "y19",
         "showticklabels": false,
         "range": [
          0.35179683855141297,
          0.35179683855141297
         ]
        },
        "xaxis24": {
         "anchor": "y24",
         "domain": [
          0.5679012345679012,
          0.6592592592592592
         ],
         "matches": "x78",
         "showticklabels": false,
         "range": [
          13.649999999999999,
          131.35
         ]
        },
        "yaxis24": {
         "anchor": "x24",
         "domain": [
          0.6888888888888889,
          0.7703703703703704
         ],
         "matches": "y19",
         "showticklabels": false,
         "range": [
          0.35179683855141297,
          0.35179683855141297
         ]
        },
        "xaxis25": {
         "anchor": "y25",
         "domain": [
          0.6814814814814815,
          0.7728395061728395
         ],
         "matches": "x79",
         "showticklabels": false,
         "range": [
          39.45,
          117.55
         ]
        },
        "yaxis25": {
         "anchor": "x25",
         "domain": [
          0.6888888888888889,
          0.7703703703703704
         ],
         "matches": "y19",
         "showticklabels": false,
         "range": [
          0.35179683855141297,
          0.35179683855141297
         ]
        },
        "xaxis26": {
         "anchor": "y26",
         "domain": [
          0.7950617283950617,
          0.8864197530864197
         ],
         "matches": "x80",
         "showticklabels": false,
         "range": [
          63,
          63
         ]
        },
        "yaxis26": {
         "anchor": "x26",
         "domain": [
          0.6888888888888889,
          0.7703703703703704
         ],
         "matches": "y19",
         "showticklabels": false,
         "range": [
          0.35179683855141297,
          0.35179683855141297
         ]
        },
        "xaxis27": {
         "anchor": "y27",
         "domain": [
          0.908641975308642,
          1
         ],
         "matches": "x81",
         "showticklabels": false,
         "range": [
          -0.05,
          1.05
         ],
         "type": "category"
        },
        "yaxis27": {
         "anchor": "x27",
         "domain": [
          0.6888888888888889,
          0.7703703703703704
         ],
         "matches": "y19",
         "showticklabels": false,
         "range": [
          0.35179683855141297,
          0.35179683855141297
         ]
        },
        "xaxis28": {
         "anchor": "y28",
         "domain": [
          0,
          0.09135802469135802
         ],
         "matches": "x73",
         "showticklabels": false,
         "range": [
          0.248275589893297,
          0.5118930372761182
         ]
        },
        "yaxis28": {
         "anchor": "x28",
         "domain": [
          0.5740740740740741,
          0.6555555555555556
         ],
         "range": [
          -4.361296653948686,
          -1.492551048056838
         ],
         "type": "log",
         "title": {
          "text": "lr"
         }
        },
        "xaxis29": {
         "anchor": "y29",
         "domain": [
          0.11358024691358025,
          0.20493827160493827
         ],
         "matches": "x74",
         "showticklabels": false,
         "range": [
          0.20236892342683915,
          0.49684909482624706
         ]
        },
        "yaxis29": {
         "anchor": "x29",
         "domain": [
          0.5740740740740741,
          0.6555555555555556
         ],
         "matches": "y28",
         "showticklabels": false,
         "range": [
          -4.361296653948686,
          -1.492551048056838
         ],
         "type": "log"
        },
        "xaxis30": {
         "anchor": "y30",
         "domain": [
          0.2271604938271605,
          0.31851851851851853
         ],
         "matches": "x75",
         "showticklabels": false,
         "range": [
          0.35179683855141297,
          0.35179683855141297
         ]
        },
        "yaxis30": {
         "anchor": "x30",
         "domain": [
          0.5740740740740741,
          0.6555555555555556
         ],
         "matches": "y28",
         "showticklabels": false,
         "range": [
          -4.361296653948686,
          -1.492551048056838
         ],
         "type": "log"
        },
        "xaxis31": {
         "anchor": "y31",
         "domain": [
          0.34074074074074073,
          0.43209876543209874
         ],
         "matches": "x76",
         "showticklabels": false,
         "range": [
          -4.361296653948686,
          -1.492551048056838
         ],
         "type": "log"
        },
        "yaxis31": {
         "anchor": "x31",
         "domain": [
          0.5740740740740741,
          0.6555555555555556
         ],
         "matches": "y28",
         "showticklabels": false,
         "range": [
          -4.361296653948686,
          -1.492551048056838
         ],
         "type": "log"
        },
        "xaxis32": {
         "anchor": "y32",
         "domain": [
          0.454320987654321,
          0.5456790123456791
         ],
         "matches": "x77",
         "showticklabels": false,
         "range": [
          0.9,
          3.1
         ]
        },
        "yaxis32": {
         "anchor": "x32",
         "domain": [
          0.5740740740740741,
          0.6555555555555556
         ],
         "matches": "y28",
         "showticklabels": false,
         "range": [
          -4.361296653948686,
          -1.492551048056838
         ],
         "type": "log"
        },
        "xaxis33": {
         "anchor": "y33",
         "domain": [
          0.5679012345679012,
          0.6592592592592592
         ],
         "matches": "x78",
         "showticklabels": false,
         "range": [
          13.649999999999999,
          131.35
         ]
        },
        "yaxis33": {
         "anchor": "x33",
         "domain": [
          0.5740740740740741,
          0.6555555555555556
         ],
         "matches": "y28",
         "showticklabels": false,
         "range": [
          -4.361296653948686,
          -1.492551048056838
         ],
         "type": "log"
        },
        "xaxis34": {
         "anchor": "y34",
         "domain": [
          0.6814814814814815,
          0.7728395061728395
         ],
         "matches": "x79",
         "showticklabels": false,
         "range": [
          39.45,
          117.55
         ]
        },
        "yaxis34": {
         "anchor": "x34",
         "domain": [
          0.5740740740740741,
          0.6555555555555556
         ],
         "matches": "y28",
         "showticklabels": false,
         "range": [
          -4.361296653948686,
          -1.492551048056838
         ],
         "type": "log"
        },
        "xaxis35": {
         "anchor": "y35",
         "domain": [
          0.7950617283950617,
          0.8864197530864197
         ],
         "matches": "x80",
         "showticklabels": false,
         "range": [
          63,
          63
         ]
        },
        "yaxis35": {
         "anchor": "x35",
         "domain": [
          0.5740740740740741,
          0.6555555555555556
         ],
         "matches": "y28",
         "showticklabels": false,
         "range": [
          -4.361296653948686,
          -1.492551048056838
         ],
         "type": "log"
        },
        "xaxis36": {
         "anchor": "y36",
         "domain": [
          0.908641975308642,
          1
         ],
         "matches": "x81",
         "showticklabels": false,
         "range": [
          -0.05,
          1.05
         ],
         "type": "category"
        },
        "yaxis36": {
         "anchor": "x36",
         "domain": [
          0.5740740740740741,
          0.6555555555555556
         ],
         "matches": "y28",
         "showticklabels": false,
         "range": [
          -4.361296653948686,
          -1.492551048056838
         ],
         "type": "log"
        },
        "xaxis37": {
         "anchor": "y37",
         "domain": [
          0,
          0.09135802469135802
         ],
         "matches": "x73",
         "showticklabels": false,
         "range": [
          0.248275589893297,
          0.5118930372761182
         ]
        },
        "yaxis37": {
         "anchor": "x37",
         "domain": [
          0.45925925925925926,
          0.5407407407407407
         ],
         "range": [
          0.9,
          3.1
         ],
         "title": {
          "text": "n_layers"
         }
        },
        "xaxis38": {
         "anchor": "y38",
         "domain": [
          0.11358024691358025,
          0.20493827160493827
         ],
         "matches": "x74",
         "showticklabels": false,
         "range": [
          0.20236892342683915,
          0.49684909482624706
         ]
        },
        "yaxis38": {
         "anchor": "x38",
         "domain": [
          0.45925925925925926,
          0.5407407407407407
         ],
         "matches": "y37",
         "showticklabels": false,
         "range": [
          0.9,
          3.1
         ]
        },
        "xaxis39": {
         "anchor": "y39",
         "domain": [
          0.2271604938271605,
          0.31851851851851853
         ],
         "matches": "x75",
         "showticklabels": false,
         "range": [
          0.35179683855141297,
          0.35179683855141297
         ]
        },
        "yaxis39": {
         "anchor": "x39",
         "domain": [
          0.45925925925925926,
          0.5407407407407407
         ],
         "matches": "y37",
         "showticklabels": false,
         "range": [
          0.9,
          3.1
         ]
        },
        "xaxis40": {
         "anchor": "y40",
         "domain": [
          0.34074074074074073,
          0.43209876543209874
         ],
         "matches": "x76",
         "showticklabels": false,
         "range": [
          -4.361296653948686,
          -1.492551048056838
         ],
         "type": "log"
        },
        "yaxis40": {
         "anchor": "x40",
         "domain": [
          0.45925925925925926,
          0.5407407407407407
         ],
         "matches": "y37",
         "showticklabels": false,
         "range": [
          0.9,
          3.1
         ]
        },
        "xaxis41": {
         "anchor": "y41",
         "domain": [
          0.454320987654321,
          0.5456790123456791
         ],
         "matches": "x77",
         "showticklabels": false,
         "range": [
          0.9,
          3.1
         ]
        },
        "yaxis41": {
         "anchor": "x41",
         "domain": [
          0.45925925925925926,
          0.5407407407407407
         ],
         "matches": "y37",
         "showticklabels": false,
         "range": [
          0.9,
          3.1
         ]
        },
        "xaxis42": {
         "anchor": "y42",
         "domain": [
          0.5679012345679012,
          0.6592592592592592
         ],
         "matches": "x78",
         "showticklabels": false,
         "range": [
          13.649999999999999,
          131.35
         ]
        },
        "yaxis42": {
         "anchor": "x42",
         "domain": [
          0.45925925925925926,
          0.5407407407407407
         ],
         "matches": "y37",
         "showticklabels": false,
         "range": [
          0.9,
          3.1
         ]
        },
        "xaxis43": {
         "anchor": "y43",
         "domain": [
          0.6814814814814815,
          0.7728395061728395
         ],
         "matches": "x79",
         "showticklabels": false,
         "range": [
          39.45,
          117.55
         ]
        },
        "yaxis43": {
         "anchor": "x43",
         "domain": [
          0.45925925925925926,
          0.5407407407407407
         ],
         "matches": "y37",
         "showticklabels": false,
         "range": [
          0.9,
          3.1
         ]
        },
        "xaxis44": {
         "anchor": "y44",
         "domain": [
          0.7950617283950617,
          0.8864197530864197
         ],
         "matches": "x80",
         "showticklabels": false,
         "range": [
          63,
          63
         ]
        },
        "yaxis44": {
         "anchor": "x44",
         "domain": [
          0.45925925925925926,
          0.5407407407407407
         ],
         "matches": "y37",
         "showticklabels": false,
         "range": [
          0.9,
          3.1
         ]
        },
        "xaxis45": {
         "anchor": "y45",
         "domain": [
          0.908641975308642,
          1
         ],
         "matches": "x81",
         "showticklabels": false,
         "range": [
          -0.05,
          1.05
         ],
         "type": "category"
        },
        "yaxis45": {
         "anchor": "x45",
         "domain": [
          0.45925925925925926,
          0.5407407407407407
         ],
         "matches": "y37",
         "showticklabels": false,
         "range": [
          0.9,
          3.1
         ]
        },
        "xaxis46": {
         "anchor": "y46",
         "domain": [
          0,
          0.09135802469135802
         ],
         "matches": "x73",
         "showticklabels": false,
         "range": [
          0.248275589893297,
          0.5118930372761182
         ]
        },
        "yaxis46": {
         "anchor": "x46",
         "domain": [
          0.34444444444444444,
          0.42592592592592593
         ],
         "range": [
          13.649999999999999,
          131.35
         ],
         "title": {
          "text": "n_units_l0"
         }
        },
        "xaxis47": {
         "anchor": "y47",
         "domain": [
          0.11358024691358025,
          0.20493827160493827
         ],
         "matches": "x74",
         "showticklabels": false,
         "range": [
          0.20236892342683915,
          0.49684909482624706
         ]
        },
        "yaxis47": {
         "anchor": "x47",
         "domain": [
          0.34444444444444444,
          0.42592592592592593
         ],
         "matches": "y46",
         "showticklabels": false,
         "range": [
          13.649999999999999,
          131.35
         ]
        },
        "xaxis48": {
         "anchor": "y48",
         "domain": [
          0.2271604938271605,
          0.31851851851851853
         ],
         "matches": "x75",
         "showticklabels": false,
         "range": [
          0.35179683855141297,
          0.35179683855141297
         ]
        },
        "yaxis48": {
         "anchor": "x48",
         "domain": [
          0.34444444444444444,
          0.42592592592592593
         ],
         "matches": "y46",
         "showticklabels": false,
         "range": [
          13.649999999999999,
          131.35
         ]
        },
        "xaxis49": {
         "anchor": "y49",
         "domain": [
          0.34074074074074073,
          0.43209876543209874
         ],
         "matches": "x76",
         "showticklabels": false,
         "range": [
          -4.361296653948686,
          -1.492551048056838
         ],
         "type": "log"
        },
        "yaxis49": {
         "anchor": "x49",
         "domain": [
          0.34444444444444444,
          0.42592592592592593
         ],
         "matches": "y46",
         "showticklabels": false,
         "range": [
          13.649999999999999,
          131.35
         ]
        },
        "xaxis50": {
         "anchor": "y50",
         "domain": [
          0.454320987654321,
          0.5456790123456791
         ],
         "matches": "x77",
         "showticklabels": false,
         "range": [
          0.9,
          3.1
         ]
        },
        "yaxis50": {
         "anchor": "x50",
         "domain": [
          0.34444444444444444,
          0.42592592592592593
         ],
         "matches": "y46",
         "showticklabels": false,
         "range": [
          13.649999999999999,
          131.35
         ]
        },
        "xaxis51": {
         "anchor": "y51",
         "domain": [
          0.5679012345679012,
          0.6592592592592592
         ],
         "matches": "x78",
         "showticklabels": false,
         "range": [
          13.649999999999999,
          131.35
         ]
        },
        "yaxis51": {
         "anchor": "x51",
         "domain": [
          0.34444444444444444,
          0.42592592592592593
         ],
         "matches": "y46",
         "showticklabels": false,
         "range": [
          13.649999999999999,
          131.35
         ]
        },
        "xaxis52": {
         "anchor": "y52",
         "domain": [
          0.6814814814814815,
          0.7728395061728395
         ],
         "matches": "x79",
         "showticklabels": false,
         "range": [
          39.45,
          117.55
         ]
        },
        "yaxis52": {
         "anchor": "x52",
         "domain": [
          0.34444444444444444,
          0.42592592592592593
         ],
         "matches": "y46",
         "showticklabels": false,
         "range": [
          13.649999999999999,
          131.35
         ]
        },
        "xaxis53": {
         "anchor": "y53",
         "domain": [
          0.7950617283950617,
          0.8864197530864197
         ],
         "matches": "x80",
         "showticklabels": false,
         "range": [
          63,
          63
         ]
        },
        "yaxis53": {
         "anchor": "x53",
         "domain": [
          0.34444444444444444,
          0.42592592592592593
         ],
         "matches": "y46",
         "showticklabels": false,
         "range": [
          13.649999999999999,
          131.35
         ]
        },
        "xaxis54": {
         "anchor": "y54",
         "domain": [
          0.908641975308642,
          1
         ],
         "matches": "x81",
         "showticklabels": false,
         "range": [
          -0.05,
          1.05
         ],
         "type": "category"
        },
        "yaxis54": {
         "anchor": "x54",
         "domain": [
          0.34444444444444444,
          0.42592592592592593
         ],
         "matches": "y46",
         "showticklabels": false,
         "range": [
          13.649999999999999,
          131.35
         ]
        },
        "xaxis55": {
         "anchor": "y55",
         "domain": [
          0,
          0.09135802469135802
         ],
         "matches": "x73",
         "showticklabels": false,
         "range": [
          0.248275589893297,
          0.5118930372761182
         ]
        },
        "yaxis55": {
         "anchor": "x55",
         "domain": [
          0.22962962962962963,
          0.3111111111111111
         ],
         "range": [
          39.45,
          117.55
         ],
         "title": {
          "text": "n_units_l1"
         }
        },
        "xaxis56": {
         "anchor": "y56",
         "domain": [
          0.11358024691358025,
          0.20493827160493827
         ],
         "matches": "x74",
         "showticklabels": false,
         "range": [
          0.20236892342683915,
          0.49684909482624706
         ]
        },
        "yaxis56": {
         "anchor": "x56",
         "domain": [
          0.22962962962962963,
          0.3111111111111111
         ],
         "matches": "y55",
         "showticklabels": false,
         "range": [
          39.45,
          117.55
         ]
        },
        "xaxis57": {
         "anchor": "y57",
         "domain": [
          0.2271604938271605,
          0.31851851851851853
         ],
         "matches": "x75",
         "showticklabels": false,
         "range": [
          0.35179683855141297,
          0.35179683855141297
         ]
        },
        "yaxis57": {
         "anchor": "x57",
         "domain": [
          0.22962962962962963,
          0.3111111111111111
         ],
         "matches": "y55",
         "showticklabels": false,
         "range": [
          39.45,
          117.55
         ]
        },
        "xaxis58": {
         "anchor": "y58",
         "domain": [
          0.34074074074074073,
          0.43209876543209874
         ],
         "matches": "x76",
         "showticklabels": false,
         "range": [
          -4.361296653948686,
          -1.492551048056838
         ],
         "type": "log"
        },
        "yaxis58": {
         "anchor": "x58",
         "domain": [
          0.22962962962962963,
          0.3111111111111111
         ],
         "matches": "y55",
         "showticklabels": false,
         "range": [
          39.45,
          117.55
         ]
        },
        "xaxis59": {
         "anchor": "y59",
         "domain": [
          0.454320987654321,
          0.5456790123456791
         ],
         "matches": "x77",
         "showticklabels": false,
         "range": [
          0.9,
          3.1
         ]
        },
        "yaxis59": {
         "anchor": "x59",
         "domain": [
          0.22962962962962963,
          0.3111111111111111
         ],
         "matches": "y55",
         "showticklabels": false,
         "range": [
          39.45,
          117.55
         ]
        },
        "xaxis60": {
         "anchor": "y60",
         "domain": [
          0.5679012345679012,
          0.6592592592592592
         ],
         "matches": "x78",
         "showticklabels": false,
         "range": [
          13.649999999999999,
          131.35
         ]
        },
        "yaxis60": {
         "anchor": "x60",
         "domain": [
          0.22962962962962963,
          0.3111111111111111
         ],
         "matches": "y55",
         "showticklabels": false,
         "range": [
          39.45,
          117.55
         ]
        },
        "xaxis61": {
         "anchor": "y61",
         "domain": [
          0.6814814814814815,
          0.7728395061728395
         ],
         "matches": "x79",
         "showticklabels": false,
         "range": [
          39.45,
          117.55
         ]
        },
        "yaxis61": {
         "anchor": "x61",
         "domain": [
          0.22962962962962963,
          0.3111111111111111
         ],
         "matches": "y55",
         "showticklabels": false,
         "range": [
          39.45,
          117.55
         ]
        },
        "xaxis62": {
         "anchor": "y62",
         "domain": [
          0.7950617283950617,
          0.8864197530864197
         ],
         "matches": "x80",
         "showticklabels": false,
         "range": [
          63,
          63
         ]
        },
        "yaxis62": {
         "anchor": "x62",
         "domain": [
          0.22962962962962963,
          0.3111111111111111
         ],
         "matches": "y55",
         "showticklabels": false,
         "range": [
          39.45,
          117.55
         ]
        },
        "xaxis63": {
         "anchor": "y63",
         "domain": [
          0.908641975308642,
          1
         ],
         "matches": "x81",
         "showticklabels": false,
         "range": [
          -0.05,
          1.05
         ],
         "type": "category"
        },
        "yaxis63": {
         "anchor": "x63",
         "domain": [
          0.22962962962962963,
          0.3111111111111111
         ],
         "matches": "y55",
         "showticklabels": false,
         "range": [
          39.45,
          117.55
         ]
        },
        "xaxis64": {
         "anchor": "y64",
         "domain": [
          0,
          0.09135802469135802
         ],
         "matches": "x73",
         "showticklabels": false,
         "range": [
          0.248275589893297,
          0.5118930372761182
         ]
        },
        "yaxis64": {
         "anchor": "x64",
         "domain": [
          0.11481481481481481,
          0.1962962962962963
         ],
         "range": [
          63,
          63
         ],
         "title": {
          "text": "n_units_l2"
         }
        },
        "xaxis65": {
         "anchor": "y65",
         "domain": [
          0.11358024691358025,
          0.20493827160493827
         ],
         "matches": "x74",
         "showticklabels": false,
         "range": [
          0.20236892342683915,
          0.49684909482624706
         ]
        },
        "yaxis65": {
         "anchor": "x65",
         "domain": [
          0.11481481481481481,
          0.1962962962962963
         ],
         "matches": "y64",
         "showticklabels": false,
         "range": [
          63,
          63
         ]
        },
        "xaxis66": {
         "anchor": "y66",
         "domain": [
          0.2271604938271605,
          0.31851851851851853
         ],
         "matches": "x75",
         "showticklabels": false,
         "range": [
          0.35179683855141297,
          0.35179683855141297
         ]
        },
        "yaxis66": {
         "anchor": "x66",
         "domain": [
          0.11481481481481481,
          0.1962962962962963
         ],
         "matches": "y64",
         "showticklabels": false,
         "range": [
          63,
          63
         ]
        },
        "xaxis67": {
         "anchor": "y67",
         "domain": [
          0.34074074074074073,
          0.43209876543209874
         ],
         "matches": "x76",
         "showticklabels": false,
         "range": [
          -4.361296653948686,
          -1.492551048056838
         ],
         "type": "log"
        },
        "yaxis67": {
         "anchor": "x67",
         "domain": [
          0.11481481481481481,
          0.1962962962962963
         ],
         "matches": "y64",
         "showticklabels": false,
         "range": [
          63,
          63
         ]
        },
        "xaxis68": {
         "anchor": "y68",
         "domain": [
          0.454320987654321,
          0.5456790123456791
         ],
         "matches": "x77",
         "showticklabels": false,
         "range": [
          0.9,
          3.1
         ]
        },
        "yaxis68": {
         "anchor": "x68",
         "domain": [
          0.11481481481481481,
          0.1962962962962963
         ],
         "matches": "y64",
         "showticklabels": false,
         "range": [
          63,
          63
         ]
        },
        "xaxis69": {
         "anchor": "y69",
         "domain": [
          0.5679012345679012,
          0.6592592592592592
         ],
         "matches": "x78",
         "showticklabels": false,
         "range": [
          13.649999999999999,
          131.35
         ]
        },
        "yaxis69": {
         "anchor": "x69",
         "domain": [
          0.11481481481481481,
          0.1962962962962963
         ],
         "matches": "y64",
         "showticklabels": false,
         "range": [
          63,
          63
         ]
        },
        "xaxis70": {
         "anchor": "y70",
         "domain": [
          0.6814814814814815,
          0.7728395061728395
         ],
         "matches": "x79",
         "showticklabels": false,
         "range": [
          39.45,
          117.55
         ]
        },
        "yaxis70": {
         "anchor": "x70",
         "domain": [
          0.11481481481481481,
          0.1962962962962963
         ],
         "matches": "y64",
         "showticklabels": false,
         "range": [
          63,
          63
         ]
        },
        "xaxis71": {
         "anchor": "y71",
         "domain": [
          0.7950617283950617,
          0.8864197530864197
         ],
         "matches": "x80",
         "showticklabels": false,
         "range": [
          63,
          63
         ]
        },
        "yaxis71": {
         "anchor": "x71",
         "domain": [
          0.11481481481481481,
          0.1962962962962963
         ],
         "matches": "y64",
         "showticklabels": false,
         "range": [
          63,
          63
         ]
        },
        "xaxis72": {
         "anchor": "y72",
         "domain": [
          0.908641975308642,
          1
         ],
         "matches": "x81",
         "showticklabels": false,
         "range": [
          -0.05,
          1.05
         ],
         "type": "category"
        },
        "yaxis72": {
         "anchor": "x72",
         "domain": [
          0.11481481481481481,
          0.1962962962962963
         ],
         "matches": "y64",
         "showticklabels": false,
         "range": [
          63,
          63
         ]
        },
        "xaxis73": {
         "anchor": "y73",
         "domain": [
          0,
          0.09135802469135802
         ],
         "range": [
          0.248275589893297,
          0.5118930372761182
         ],
         "title": {
          "text": "dropout_l0"
         }
        },
        "yaxis73": {
         "anchor": "x73",
         "domain": [
          0,
          0.08148148148148149
         ],
         "range": [
          -0.05,
          1.05
         ],
         "type": "category",
         "title": {
          "text": "optimizer"
         }
        },
        "xaxis74": {
         "anchor": "y74",
         "domain": [
          0.11358024691358025,
          0.20493827160493827
         ],
         "range": [
          0.20236892342683915,
          0.49684909482624706
         ],
         "title": {
          "text": "dropout_l1"
         }
        },
        "yaxis74": {
         "anchor": "x74",
         "domain": [
          0,
          0.08148148148148149
         ],
         "matches": "y73",
         "showticklabels": false,
         "range": [
          -0.05,
          1.05
         ],
         "type": "category"
        },
        "xaxis75": {
         "anchor": "y75",
         "domain": [
          0.2271604938271605,
          0.31851851851851853
         ],
         "range": [
          0.35179683855141297,
          0.35179683855141297
         ],
         "title": {
          "text": "dropout_l2"
         }
        },
        "yaxis75": {
         "anchor": "x75",
         "domain": [
          0,
          0.08148148148148149
         ],
         "matches": "y73",
         "showticklabels": false,
         "range": [
          -0.05,
          1.05
         ],
         "type": "category"
        },
        "xaxis76": {
         "anchor": "y76",
         "domain": [
          0.34074074074074073,
          0.43209876543209874
         ],
         "range": [
          -4.361296653948686,
          -1.492551048056838
         ],
         "type": "log",
         "title": {
          "text": "lr"
         }
        },
        "yaxis76": {
         "anchor": "x76",
         "domain": [
          0,
          0.08148148148148149
         ],
         "matches": "y73",
         "showticklabels": false,
         "range": [
          -0.05,
          1.05
         ],
         "type": "category"
        },
        "xaxis77": {
         "anchor": "y77",
         "domain": [
          0.454320987654321,
          0.5456790123456791
         ],
         "range": [
          0.9,
          3.1
         ],
         "title": {
          "text": "n_layers"
         }
        },
        "yaxis77": {
         "anchor": "x77",
         "domain": [
          0,
          0.08148148148148149
         ],
         "matches": "y73",
         "showticklabels": false,
         "range": [
          -0.05,
          1.05
         ],
         "type": "category"
        },
        "xaxis78": {
         "anchor": "y78",
         "domain": [
          0.5679012345679012,
          0.6592592592592592
         ],
         "range": [
          13.649999999999999,
          131.35
         ],
         "title": {
          "text": "n_units_l0"
         }
        },
        "yaxis78": {
         "anchor": "x78",
         "domain": [
          0,
          0.08148148148148149
         ],
         "matches": "y73",
         "showticklabels": false,
         "range": [
          -0.05,
          1.05
         ],
         "type": "category"
        },
        "xaxis79": {
         "anchor": "y79",
         "domain": [
          0.6814814814814815,
          0.7728395061728395
         ],
         "range": [
          39.45,
          117.55
         ],
         "title": {
          "text": "n_units_l1"
         }
        },
        "yaxis79": {
         "anchor": "x79",
         "domain": [
          0,
          0.08148148148148149
         ],
         "matches": "y73",
         "showticklabels": false,
         "range": [
          -0.05,
          1.05
         ],
         "type": "category"
        },
        "xaxis80": {
         "anchor": "y80",
         "domain": [
          0.7950617283950617,
          0.8864197530864197
         ],
         "range": [
          63,
          63
         ],
         "title": {
          "text": "n_units_l2"
         }
        },
        "yaxis80": {
         "anchor": "x80",
         "domain": [
          0,
          0.08148148148148149
         ],
         "matches": "y73",
         "showticklabels": false,
         "range": [
          -0.05,
          1.05
         ],
         "type": "category"
        },
        "xaxis81": {
         "anchor": "y81",
         "domain": [
          0.908641975308642,
          1
         ],
         "range": [
          -0.05,
          1.05
         ],
         "type": "category",
         "title": {
          "text": "optimizer"
         }
        },
        "yaxis81": {
         "anchor": "x81",
         "domain": [
          0,
          0.08148148148148149
         ],
         "matches": "y73",
         "showticklabels": false,
         "range": [
          -0.05,
          1.05
         ],
         "type": "category"
        },
        "title": {
         "text": "Contour Plot"
        }
       },
       "config": {
        "plotlyServerURL": "https://plot.ly"
       }
      }
     },
     "metadata": {}
    }
   ],
   "metadata": {}
  },
  {
   "cell_type": "code",
   "execution_count": 9,
   "source": [
    "optuna.visualization.plot_contour(study, params=['n_layers', 'lr'])"
   ],
   "outputs": [
    {
     "output_type": "display_data",
     "data": {
      "application/vnd.plotly.v1+json": {
       "data": [
        {
         "colorbar": {
          "title": {
           "text": "Objective Value"
          }
         },
         "colorscale": [
          [
           0,
           "rgb(5,10,172)"
          ],
          [
           0.35,
           "rgb(40,60,190)"
          ],
          [
           0.5,
           "rgb(70,100,245)"
          ],
          [
           0.6,
           "rgb(90,120,245)"
          ],
          [
           0.7,
           "rgb(106,137,247)"
          ],
          [
           1,
           "rgb(220,220,220)"
          ]
         ],
         "connectgaps": true,
         "contours": {
          "coloring": "heatmap"
         },
         "hoverinfo": "none",
         "line": {
          "smoothing": 1.3
         },
         "reversescale": false,
         "x": [
          0.00004352144897506373,
          0.00005876258245472198,
          0.000059340666785345773,
          0.00006886403802372456,
          0.00013263632710883237,
          0.00016128853914478672,
          0.0005932598479371538,
          0.000809462846076977,
          0.0016107198356598163,
          0.0023267868036857165,
          0.0023377374445239987,
          0.002472706434914364,
          0.0026367205477363796,
          0.002745567533351846,
          0.00287060969037103,
          0.003158647044441662,
          0.0033980135026560787,
          0.003685350786811878,
          0.003990868655044566,
          0.004498324859394809,
          0.0045394573000566854,
          0.004903316858108346,
          0.005144944816934204,
          0.005146767582885322,
          0.005859850579234026,
          0.006103753537831752,
          0.006743180886093113,
          0.006814264748541518,
          0.0077818194942438626,
          0.00862979796607314,
          0.008854263806897779,
          0.00925112703353322,
          0.011635067929552913,
          0.013122970251652976,
          0.014140165464131263,
          0.01578188798534642,
          0.021155633400604067,
          0.02382601574276138,
          0.03216984378102199
         ],
         "y": [
          0.9,
          1,
          2,
          3,
          3.1
         ],
         "z": [
          [
           null,
           null,
           null,
           null,
           null,
           null,
           null,
           null,
           null,
           null,
           null,
           null,
           null,
           null,
           null,
           null,
           null,
           null,
           null,
           null,
           null,
           null,
           null,
           null,
           null,
           null,
           null,
           null,
           null,
           null,
           null,
           null,
           null,
           null,
           null,
           null,
           null,
           null,
           null
          ],
          [
           null,
           0.6484375,
           null,
           0.6625,
           null,
           null,
           0.771875,
           0.815625,
           null,
           0.79296875,
           0.83203125,
           0.8359375,
           0.81328125,
           0.83671875,
           0.7921875,
           null,
           0.82578125,
           0.82421875,
           0.825,
           0.8140625,
           0.8140625,
           0.834375,
           0.815625,
           0.81953125,
           0.82890625,
           0.8140625,
           0.83125,
           0.8125,
           0.803125,
           0.7828125,
           0.81015625,
           0.82109375,
           0.81015625,
           0.81640625,
           0.80546875,
           0.80546875,
           0.80078125,
           0.78359375,
           null
          ],
          [
           null,
           null,
           0.64140625,
           null,
           0.67265625,
           0.72421875,
           null,
           null,
           null,
           null,
           null,
           null,
           null,
           null,
           null,
           0.7421875,
           null,
           null,
           null,
           null,
           null,
           null,
           null,
           null,
           null,
           null,
           null,
           null,
           null,
           null,
           null,
           null,
           null,
           null,
           null,
           null,
           null,
           null,
           null
          ],
          [
           null,
           null,
           null,
           null,
           null,
           null,
           null,
           null,
           0.765625,
           null,
           null,
           null,
           null,
           null,
           null,
           null,
           null,
           null,
           null,
           null,
           null,
           null,
           null,
           null,
           null,
           null,
           null,
           null,
           null,
           null,
           null,
           null,
           null,
           null,
           null,
           null,
           null,
           null,
           null
          ],
          [
           null,
           null,
           null,
           null,
           null,
           null,
           null,
           null,
           null,
           null,
           null,
           null,
           null,
           null,
           null,
           null,
           null,
           null,
           null,
           null,
           null,
           null,
           null,
           null,
           null,
           null,
           null,
           null,
           null,
           null,
           null,
           null,
           null,
           null,
           null,
           null,
           null,
           null,
           null
          ]
         ],
         "type": "contour"
        },
        {
         "marker": {
          "color": "black",
          "line": {
           "color": "Grey",
           "width": 0.5
          }
         },
         "mode": "markers",
         "showlegend": false,
         "x": [
          0.000059340666785345773,
          0.00016128853914478672,
          0.00006886403802372456,
          0.00005876258245472198,
          0.00013263632710883237,
          0.0016107198356598163,
          0.003158647044441662,
          0.00862979796607314,
          0.006743180886093113,
          0.00925112703353322,
          0.0005932598479371538,
          0.0077818194942438626,
          0.006103753537831752,
          0.000809462846076977,
          0.021155633400604067,
          0.005859850579234026,
          0.002745567533351846,
          0.002472706434914364,
          0.0023267868036857165,
          0.00287060969037103,
          0.01578188798534642,
          0.02382601574276138,
          0.0023377374445239987,
          0.013122970251652976,
          0.014140165464131263,
          0.004903316858108346,
          0.005146767582885322,
          0.003685350786811878,
          0.004498324859394809,
          0.0033980135026560787,
          0.006814264748541518,
          0.008854263806897779,
          0.0045394573000566854,
          0.005144944816934204,
          0.011635067929552913,
          0.003990868655044566,
          0.0026367205477363796
         ],
         "y": [
          2,
          2,
          1,
          1,
          2,
          3,
          2,
          1,
          1,
          1,
          1,
          1,
          1,
          1,
          1,
          1,
          1,
          1,
          1,
          1,
          1,
          1,
          1,
          1,
          1,
          1,
          1,
          1,
          1,
          1,
          1,
          1,
          1,
          1,
          1,
          1,
          1
         ],
         "type": "scatter"
        }
       ],
       "layout": {
        "title": {
         "text": "Contour Plot"
        },
        "template": {
         "data": {
          "bar": [
           {
            "error_x": {
             "color": "#2a3f5f"
            },
            "error_y": {
             "color": "#2a3f5f"
            },
            "marker": {
             "line": {
              "color": "#E5ECF6",
              "width": 0.5
             },
             "pattern": {
              "fillmode": "overlay",
              "size": 10,
              "solidity": 0.2
             }
            },
            "type": "bar"
           }
          ],
          "barpolar": [
           {
            "marker": {
             "line": {
              "color": "#E5ECF6",
              "width": 0.5
             },
             "pattern": {
              "fillmode": "overlay",
              "size": 10,
              "solidity": 0.2
             }
            },
            "type": "barpolar"
           }
          ],
          "carpet": [
           {
            "aaxis": {
             "endlinecolor": "#2a3f5f",
             "gridcolor": "white",
             "linecolor": "white",
             "minorgridcolor": "white",
             "startlinecolor": "#2a3f5f"
            },
            "baxis": {
             "endlinecolor": "#2a3f5f",
             "gridcolor": "white",
             "linecolor": "white",
             "minorgridcolor": "white",
             "startlinecolor": "#2a3f5f"
            },
            "type": "carpet"
           }
          ],
          "choropleth": [
           {
            "colorbar": {
             "outlinewidth": 0,
             "ticks": ""
            },
            "type": "choropleth"
           }
          ],
          "contour": [
           {
            "colorbar": {
             "outlinewidth": 0,
             "ticks": ""
            },
            "colorscale": [
             [
              0,
              "#0d0887"
             ],
             [
              0.1111111111111111,
              "#46039f"
             ],
             [
              0.2222222222222222,
              "#7201a8"
             ],
             [
              0.3333333333333333,
              "#9c179e"
             ],
             [
              0.4444444444444444,
              "#bd3786"
             ],
             [
              0.5555555555555556,
              "#d8576b"
             ],
             [
              0.6666666666666666,
              "#ed7953"
             ],
             [
              0.7777777777777778,
              "#fb9f3a"
             ],
             [
              0.8888888888888888,
              "#fdca26"
             ],
             [
              1,
              "#f0f921"
             ]
            ],
            "type": "contour"
           }
          ],
          "contourcarpet": [
           {
            "colorbar": {
             "outlinewidth": 0,
             "ticks": ""
            },
            "type": "contourcarpet"
           }
          ],
          "heatmap": [
           {
            "colorbar": {
             "outlinewidth": 0,
             "ticks": ""
            },
            "colorscale": [
             [
              0,
              "#0d0887"
             ],
             [
              0.1111111111111111,
              "#46039f"
             ],
             [
              0.2222222222222222,
              "#7201a8"
             ],
             [
              0.3333333333333333,
              "#9c179e"
             ],
             [
              0.4444444444444444,
              "#bd3786"
             ],
             [
              0.5555555555555556,
              "#d8576b"
             ],
             [
              0.6666666666666666,
              "#ed7953"
             ],
             [
              0.7777777777777778,
              "#fb9f3a"
             ],
             [
              0.8888888888888888,
              "#fdca26"
             ],
             [
              1,
              "#f0f921"
             ]
            ],
            "type": "heatmap"
           }
          ],
          "heatmapgl": [
           {
            "colorbar": {
             "outlinewidth": 0,
             "ticks": ""
            },
            "colorscale": [
             [
              0,
              "#0d0887"
             ],
             [
              0.1111111111111111,
              "#46039f"
             ],
             [
              0.2222222222222222,
              "#7201a8"
             ],
             [
              0.3333333333333333,
              "#9c179e"
             ],
             [
              0.4444444444444444,
              "#bd3786"
             ],
             [
              0.5555555555555556,
              "#d8576b"
             ],
             [
              0.6666666666666666,
              "#ed7953"
             ],
             [
              0.7777777777777778,
              "#fb9f3a"
             ],
             [
              0.8888888888888888,
              "#fdca26"
             ],
             [
              1,
              "#f0f921"
             ]
            ],
            "type": "heatmapgl"
           }
          ],
          "histogram": [
           {
            "marker": {
             "pattern": {
              "fillmode": "overlay",
              "size": 10,
              "solidity": 0.2
             }
            },
            "type": "histogram"
           }
          ],
          "histogram2d": [
           {
            "colorbar": {
             "outlinewidth": 0,
             "ticks": ""
            },
            "colorscale": [
             [
              0,
              "#0d0887"
             ],
             [
              0.1111111111111111,
              "#46039f"
             ],
             [
              0.2222222222222222,
              "#7201a8"
             ],
             [
              0.3333333333333333,
              "#9c179e"
             ],
             [
              0.4444444444444444,
              "#bd3786"
             ],
             [
              0.5555555555555556,
              "#d8576b"
             ],
             [
              0.6666666666666666,
              "#ed7953"
             ],
             [
              0.7777777777777778,
              "#fb9f3a"
             ],
             [
              0.8888888888888888,
              "#fdca26"
             ],
             [
              1,
              "#f0f921"
             ]
            ],
            "type": "histogram2d"
           }
          ],
          "histogram2dcontour": [
           {
            "colorbar": {
             "outlinewidth": 0,
             "ticks": ""
            },
            "colorscale": [
             [
              0,
              "#0d0887"
             ],
             [
              0.1111111111111111,
              "#46039f"
             ],
             [
              0.2222222222222222,
              "#7201a8"
             ],
             [
              0.3333333333333333,
              "#9c179e"
             ],
             [
              0.4444444444444444,
              "#bd3786"
             ],
             [
              0.5555555555555556,
              "#d8576b"
             ],
             [
              0.6666666666666666,
              "#ed7953"
             ],
             [
              0.7777777777777778,
              "#fb9f3a"
             ],
             [
              0.8888888888888888,
              "#fdca26"
             ],
             [
              1,
              "#f0f921"
             ]
            ],
            "type": "histogram2dcontour"
           }
          ],
          "mesh3d": [
           {
            "colorbar": {
             "outlinewidth": 0,
             "ticks": ""
            },
            "type": "mesh3d"
           }
          ],
          "parcoords": [
           {
            "line": {
             "colorbar": {
              "outlinewidth": 0,
              "ticks": ""
             }
            },
            "type": "parcoords"
           }
          ],
          "pie": [
           {
            "automargin": true,
            "type": "pie"
           }
          ],
          "scatter": [
           {
            "marker": {
             "colorbar": {
              "outlinewidth": 0,
              "ticks": ""
             }
            },
            "type": "scatter"
           }
          ],
          "scatter3d": [
           {
            "line": {
             "colorbar": {
              "outlinewidth": 0,
              "ticks": ""
             }
            },
            "marker": {
             "colorbar": {
              "outlinewidth": 0,
              "ticks": ""
             }
            },
            "type": "scatter3d"
           }
          ],
          "scattercarpet": [
           {
            "marker": {
             "colorbar": {
              "outlinewidth": 0,
              "ticks": ""
             }
            },
            "type": "scattercarpet"
           }
          ],
          "scattergeo": [
           {
            "marker": {
             "colorbar": {
              "outlinewidth": 0,
              "ticks": ""
             }
            },
            "type": "scattergeo"
           }
          ],
          "scattergl": [
           {
            "marker": {
             "colorbar": {
              "outlinewidth": 0,
              "ticks": ""
             }
            },
            "type": "scattergl"
           }
          ],
          "scattermapbox": [
           {
            "marker": {
             "colorbar": {
              "outlinewidth": 0,
              "ticks": ""
             }
            },
            "type": "scattermapbox"
           }
          ],
          "scatterpolar": [
           {
            "marker": {
             "colorbar": {
              "outlinewidth": 0,
              "ticks": ""
             }
            },
            "type": "scatterpolar"
           }
          ],
          "scatterpolargl": [
           {
            "marker": {
             "colorbar": {
              "outlinewidth": 0,
              "ticks": ""
             }
            },
            "type": "scatterpolargl"
           }
          ],
          "scatterternary": [
           {
            "marker": {
             "colorbar": {
              "outlinewidth": 0,
              "ticks": ""
             }
            },
            "type": "scatterternary"
           }
          ],
          "surface": [
           {
            "colorbar": {
             "outlinewidth": 0,
             "ticks": ""
            },
            "colorscale": [
             [
              0,
              "#0d0887"
             ],
             [
              0.1111111111111111,
              "#46039f"
             ],
             [
              0.2222222222222222,
              "#7201a8"
             ],
             [
              0.3333333333333333,
              "#9c179e"
             ],
             [
              0.4444444444444444,
              "#bd3786"
             ],
             [
              0.5555555555555556,
              "#d8576b"
             ],
             [
              0.6666666666666666,
              "#ed7953"
             ],
             [
              0.7777777777777778,
              "#fb9f3a"
             ],
             [
              0.8888888888888888,
              "#fdca26"
             ],
             [
              1,
              "#f0f921"
             ]
            ],
            "type": "surface"
           }
          ],
          "table": [
           {
            "cells": {
             "fill": {
              "color": "#EBF0F8"
             },
             "line": {
              "color": "white"
             }
            },
            "header": {
             "fill": {
              "color": "#C8D4E3"
             },
             "line": {
              "color": "white"
             }
            },
            "type": "table"
           }
          ]
         },
         "layout": {
          "annotationdefaults": {
           "arrowcolor": "#2a3f5f",
           "arrowhead": 0,
           "arrowwidth": 1
          },
          "autotypenumbers": "strict",
          "coloraxis": {
           "colorbar": {
            "outlinewidth": 0,
            "ticks": ""
           }
          },
          "colorscale": {
           "diverging": [
            [
             0,
             "#8e0152"
            ],
            [
             0.1,
             "#c51b7d"
            ],
            [
             0.2,
             "#de77ae"
            ],
            [
             0.3,
             "#f1b6da"
            ],
            [
             0.4,
             "#fde0ef"
            ],
            [
             0.5,
             "#f7f7f7"
            ],
            [
             0.6,
             "#e6f5d0"
            ],
            [
             0.7,
             "#b8e186"
            ],
            [
             0.8,
             "#7fbc41"
            ],
            [
             0.9,
             "#4d9221"
            ],
            [
             1,
             "#276419"
            ]
           ],
           "sequential": [
            [
             0,
             "#0d0887"
            ],
            [
             0.1111111111111111,
             "#46039f"
            ],
            [
             0.2222222222222222,
             "#7201a8"
            ],
            [
             0.3333333333333333,
             "#9c179e"
            ],
            [
             0.4444444444444444,
             "#bd3786"
            ],
            [
             0.5555555555555556,
             "#d8576b"
            ],
            [
             0.6666666666666666,
             "#ed7953"
            ],
            [
             0.7777777777777778,
             "#fb9f3a"
            ],
            [
             0.8888888888888888,
             "#fdca26"
            ],
            [
             1,
             "#f0f921"
            ]
           ],
           "sequentialminus": [
            [
             0,
             "#0d0887"
            ],
            [
             0.1111111111111111,
             "#46039f"
            ],
            [
             0.2222222222222222,
             "#7201a8"
            ],
            [
             0.3333333333333333,
             "#9c179e"
            ],
            [
             0.4444444444444444,
             "#bd3786"
            ],
            [
             0.5555555555555556,
             "#d8576b"
            ],
            [
             0.6666666666666666,
             "#ed7953"
            ],
            [
             0.7777777777777778,
             "#fb9f3a"
            ],
            [
             0.8888888888888888,
             "#fdca26"
            ],
            [
             1,
             "#f0f921"
            ]
           ]
          },
          "colorway": [
           "#636efa",
           "#EF553B",
           "#00cc96",
           "#ab63fa",
           "#FFA15A",
           "#19d3f3",
           "#FF6692",
           "#B6E880",
           "#FF97FF",
           "#FECB52"
          ],
          "font": {
           "color": "#2a3f5f"
          },
          "geo": {
           "bgcolor": "white",
           "lakecolor": "white",
           "landcolor": "#E5ECF6",
           "showlakes": true,
           "showland": true,
           "subunitcolor": "white"
          },
          "hoverlabel": {
           "align": "left"
          },
          "hovermode": "closest",
          "mapbox": {
           "style": "light"
          },
          "paper_bgcolor": "white",
          "plot_bgcolor": "#E5ECF6",
          "polar": {
           "angularaxis": {
            "gridcolor": "white",
            "linecolor": "white",
            "ticks": ""
           },
           "bgcolor": "#E5ECF6",
           "radialaxis": {
            "gridcolor": "white",
            "linecolor": "white",
            "ticks": ""
           }
          },
          "scene": {
           "xaxis": {
            "backgroundcolor": "#E5ECF6",
            "gridcolor": "white",
            "gridwidth": 2,
            "linecolor": "white",
            "showbackground": true,
            "ticks": "",
            "zerolinecolor": "white"
           },
           "yaxis": {
            "backgroundcolor": "#E5ECF6",
            "gridcolor": "white",
            "gridwidth": 2,
            "linecolor": "white",
            "showbackground": true,
            "ticks": "",
            "zerolinecolor": "white"
           },
           "zaxis": {
            "backgroundcolor": "#E5ECF6",
            "gridcolor": "white",
            "gridwidth": 2,
            "linecolor": "white",
            "showbackground": true,
            "ticks": "",
            "zerolinecolor": "white"
           }
          },
          "shapedefaults": {
           "line": {
            "color": "#2a3f5f"
           }
          },
          "ternary": {
           "aaxis": {
            "gridcolor": "white",
            "linecolor": "white",
            "ticks": ""
           },
           "baxis": {
            "gridcolor": "white",
            "linecolor": "white",
            "ticks": ""
           },
           "bgcolor": "#E5ECF6",
           "caxis": {
            "gridcolor": "white",
            "linecolor": "white",
            "ticks": ""
           }
          },
          "title": {
           "x": 0.05
          },
          "xaxis": {
           "automargin": true,
           "gridcolor": "white",
           "linecolor": "white",
           "ticks": "",
           "title": {
            "standoff": 15
           },
           "zerolinecolor": "white",
           "zerolinewidth": 2
          },
          "yaxis": {
           "automargin": true,
           "gridcolor": "white",
           "linecolor": "white",
           "ticks": "",
           "title": {
            "standoff": 15
           },
           "zerolinecolor": "white",
           "zerolinewidth": 2
          }
         }
        },
        "xaxis": {
         "title": {
          "text": "lr"
         },
         "range": [
          -4.361296653948686,
          -1.492551048056838
         ],
         "type": "log"
        },
        "yaxis": {
         "title": {
          "text": "n_layers"
         },
         "range": [
          0.9,
          3.1
         ]
        }
       },
       "config": {
        "plotlyServerURL": "https://plot.ly"
       }
      }
     },
     "metadata": {}
    }
   ],
   "metadata": {}
  },
  {
   "cell_type": "code",
   "execution_count": 10,
   "source": [
    "from optuna.visualization import plot_optimization_history\n",
    "plot_optimization_history(study)"
   ],
   "outputs": [
    {
     "output_type": "display_data",
     "data": {
      "application/vnd.plotly.v1+json": {
       "data": [
        {
         "mode": "markers",
         "name": "Objective Value",
         "x": [
          0,
          1,
          2,
          3,
          4,
          5,
          8,
          9,
          15,
          16,
          20,
          21,
          25,
          27,
          30,
          31,
          33,
          34,
          35,
          41,
          44,
          50,
          54,
          57,
          61,
          62,
          63,
          64,
          68,
          80,
          84,
          85,
          86,
          91,
          93,
          94,
          96
         ],
         "y": [
          0.64140625,
          0.72421875,
          0.6625,
          0.6484375,
          0.67265625,
          0.765625,
          0.7421875,
          0.7828125,
          0.83125,
          0.82109375,
          0.771875,
          0.803125,
          0.8140625,
          0.815625,
          0.80078125,
          0.82890625,
          0.83671875,
          0.8359375,
          0.79296875,
          0.7921875,
          0.80546875,
          0.78359375,
          0.83203125,
          0.81640625,
          0.80546875,
          0.834375,
          0.81953125,
          0.82421875,
          0.8140625,
          0.82578125,
          0.8125,
          0.81015625,
          0.8140625,
          0.815625,
          0.81015625,
          0.825,
          0.81328125
         ],
         "type": "scatter"
        },
        {
         "name": "Best Value",
         "x": [
          0,
          1,
          2,
          3,
          4,
          5,
          8,
          9,
          15,
          16,
          20,
          21,
          25,
          27,
          30,
          31,
          33,
          34,
          35,
          41,
          44,
          50,
          54,
          57,
          61,
          62,
          63,
          64,
          68,
          80,
          84,
          85,
          86,
          91,
          93,
          94,
          96
         ],
         "y": [
          0.64140625,
          0.72421875,
          0.72421875,
          0.72421875,
          0.72421875,
          0.765625,
          0.765625,
          0.7828125,
          0.83125,
          0.83125,
          0.83125,
          0.83125,
          0.83125,
          0.83125,
          0.83125,
          0.83125,
          0.83671875,
          0.83671875,
          0.83671875,
          0.83671875,
          0.83671875,
          0.83671875,
          0.83671875,
          0.83671875,
          0.83671875,
          0.83671875,
          0.83671875,
          0.83671875,
          0.83671875,
          0.83671875,
          0.83671875,
          0.83671875,
          0.83671875,
          0.83671875,
          0.83671875,
          0.83671875,
          0.83671875
         ],
         "type": "scatter"
        }
       ],
       "layout": {
        "title": {
         "text": "Optimization History Plot"
        },
        "xaxis": {
         "title": {
          "text": "#Trials"
         }
        },
        "yaxis": {
         "title": {
          "text": "Objective Value"
         }
        },
        "template": {
         "data": {
          "bar": [
           {
            "error_x": {
             "color": "#2a3f5f"
            },
            "error_y": {
             "color": "#2a3f5f"
            },
            "marker": {
             "line": {
              "color": "#E5ECF6",
              "width": 0.5
             },
             "pattern": {
              "fillmode": "overlay",
              "size": 10,
              "solidity": 0.2
             }
            },
            "type": "bar"
           }
          ],
          "barpolar": [
           {
            "marker": {
             "line": {
              "color": "#E5ECF6",
              "width": 0.5
             },
             "pattern": {
              "fillmode": "overlay",
              "size": 10,
              "solidity": 0.2
             }
            },
            "type": "barpolar"
           }
          ],
          "carpet": [
           {
            "aaxis": {
             "endlinecolor": "#2a3f5f",
             "gridcolor": "white",
             "linecolor": "white",
             "minorgridcolor": "white",
             "startlinecolor": "#2a3f5f"
            },
            "baxis": {
             "endlinecolor": "#2a3f5f",
             "gridcolor": "white",
             "linecolor": "white",
             "minorgridcolor": "white",
             "startlinecolor": "#2a3f5f"
            },
            "type": "carpet"
           }
          ],
          "choropleth": [
           {
            "colorbar": {
             "outlinewidth": 0,
             "ticks": ""
            },
            "type": "choropleth"
           }
          ],
          "contour": [
           {
            "colorbar": {
             "outlinewidth": 0,
             "ticks": ""
            },
            "colorscale": [
             [
              0,
              "#0d0887"
             ],
             [
              0.1111111111111111,
              "#46039f"
             ],
             [
              0.2222222222222222,
              "#7201a8"
             ],
             [
              0.3333333333333333,
              "#9c179e"
             ],
             [
              0.4444444444444444,
              "#bd3786"
             ],
             [
              0.5555555555555556,
              "#d8576b"
             ],
             [
              0.6666666666666666,
              "#ed7953"
             ],
             [
              0.7777777777777778,
              "#fb9f3a"
             ],
             [
              0.8888888888888888,
              "#fdca26"
             ],
             [
              1,
              "#f0f921"
             ]
            ],
            "type": "contour"
           }
          ],
          "contourcarpet": [
           {
            "colorbar": {
             "outlinewidth": 0,
             "ticks": ""
            },
            "type": "contourcarpet"
           }
          ],
          "heatmap": [
           {
            "colorbar": {
             "outlinewidth": 0,
             "ticks": ""
            },
            "colorscale": [
             [
              0,
              "#0d0887"
             ],
             [
              0.1111111111111111,
              "#46039f"
             ],
             [
              0.2222222222222222,
              "#7201a8"
             ],
             [
              0.3333333333333333,
              "#9c179e"
             ],
             [
              0.4444444444444444,
              "#bd3786"
             ],
             [
              0.5555555555555556,
              "#d8576b"
             ],
             [
              0.6666666666666666,
              "#ed7953"
             ],
             [
              0.7777777777777778,
              "#fb9f3a"
             ],
             [
              0.8888888888888888,
              "#fdca26"
             ],
             [
              1,
              "#f0f921"
             ]
            ],
            "type": "heatmap"
           }
          ],
          "heatmapgl": [
           {
            "colorbar": {
             "outlinewidth": 0,
             "ticks": ""
            },
            "colorscale": [
             [
              0,
              "#0d0887"
             ],
             [
              0.1111111111111111,
              "#46039f"
             ],
             [
              0.2222222222222222,
              "#7201a8"
             ],
             [
              0.3333333333333333,
              "#9c179e"
             ],
             [
              0.4444444444444444,
              "#bd3786"
             ],
             [
              0.5555555555555556,
              "#d8576b"
             ],
             [
              0.6666666666666666,
              "#ed7953"
             ],
             [
              0.7777777777777778,
              "#fb9f3a"
             ],
             [
              0.8888888888888888,
              "#fdca26"
             ],
             [
              1,
              "#f0f921"
             ]
            ],
            "type": "heatmapgl"
           }
          ],
          "histogram": [
           {
            "marker": {
             "pattern": {
              "fillmode": "overlay",
              "size": 10,
              "solidity": 0.2
             }
            },
            "type": "histogram"
           }
          ],
          "histogram2d": [
           {
            "colorbar": {
             "outlinewidth": 0,
             "ticks": ""
            },
            "colorscale": [
             [
              0,
              "#0d0887"
             ],
             [
              0.1111111111111111,
              "#46039f"
             ],
             [
              0.2222222222222222,
              "#7201a8"
             ],
             [
              0.3333333333333333,
              "#9c179e"
             ],
             [
              0.4444444444444444,
              "#bd3786"
             ],
             [
              0.5555555555555556,
              "#d8576b"
             ],
             [
              0.6666666666666666,
              "#ed7953"
             ],
             [
              0.7777777777777778,
              "#fb9f3a"
             ],
             [
              0.8888888888888888,
              "#fdca26"
             ],
             [
              1,
              "#f0f921"
             ]
            ],
            "type": "histogram2d"
           }
          ],
          "histogram2dcontour": [
           {
            "colorbar": {
             "outlinewidth": 0,
             "ticks": ""
            },
            "colorscale": [
             [
              0,
              "#0d0887"
             ],
             [
              0.1111111111111111,
              "#46039f"
             ],
             [
              0.2222222222222222,
              "#7201a8"
             ],
             [
              0.3333333333333333,
              "#9c179e"
             ],
             [
              0.4444444444444444,
              "#bd3786"
             ],
             [
              0.5555555555555556,
              "#d8576b"
             ],
             [
              0.6666666666666666,
              "#ed7953"
             ],
             [
              0.7777777777777778,
              "#fb9f3a"
             ],
             [
              0.8888888888888888,
              "#fdca26"
             ],
             [
              1,
              "#f0f921"
             ]
            ],
            "type": "histogram2dcontour"
           }
          ],
          "mesh3d": [
           {
            "colorbar": {
             "outlinewidth": 0,
             "ticks": ""
            },
            "type": "mesh3d"
           }
          ],
          "parcoords": [
           {
            "line": {
             "colorbar": {
              "outlinewidth": 0,
              "ticks": ""
             }
            },
            "type": "parcoords"
           }
          ],
          "pie": [
           {
            "automargin": true,
            "type": "pie"
           }
          ],
          "scatter": [
           {
            "marker": {
             "colorbar": {
              "outlinewidth": 0,
              "ticks": ""
             }
            },
            "type": "scatter"
           }
          ],
          "scatter3d": [
           {
            "line": {
             "colorbar": {
              "outlinewidth": 0,
              "ticks": ""
             }
            },
            "marker": {
             "colorbar": {
              "outlinewidth": 0,
              "ticks": ""
             }
            },
            "type": "scatter3d"
           }
          ],
          "scattercarpet": [
           {
            "marker": {
             "colorbar": {
              "outlinewidth": 0,
              "ticks": ""
             }
            },
            "type": "scattercarpet"
           }
          ],
          "scattergeo": [
           {
            "marker": {
             "colorbar": {
              "outlinewidth": 0,
              "ticks": ""
             }
            },
            "type": "scattergeo"
           }
          ],
          "scattergl": [
           {
            "marker": {
             "colorbar": {
              "outlinewidth": 0,
              "ticks": ""
             }
            },
            "type": "scattergl"
           }
          ],
          "scattermapbox": [
           {
            "marker": {
             "colorbar": {
              "outlinewidth": 0,
              "ticks": ""
             }
            },
            "type": "scattermapbox"
           }
          ],
          "scatterpolar": [
           {
            "marker": {
             "colorbar": {
              "outlinewidth": 0,
              "ticks": ""
             }
            },
            "type": "scatterpolar"
           }
          ],
          "scatterpolargl": [
           {
            "marker": {
             "colorbar": {
              "outlinewidth": 0,
              "ticks": ""
             }
            },
            "type": "scatterpolargl"
           }
          ],
          "scatterternary": [
           {
            "marker": {
             "colorbar": {
              "outlinewidth": 0,
              "ticks": ""
             }
            },
            "type": "scatterternary"
           }
          ],
          "surface": [
           {
            "colorbar": {
             "outlinewidth": 0,
             "ticks": ""
            },
            "colorscale": [
             [
              0,
              "#0d0887"
             ],
             [
              0.1111111111111111,
              "#46039f"
             ],
             [
              0.2222222222222222,
              "#7201a8"
             ],
             [
              0.3333333333333333,
              "#9c179e"
             ],
             [
              0.4444444444444444,
              "#bd3786"
             ],
             [
              0.5555555555555556,
              "#d8576b"
             ],
             [
              0.6666666666666666,
              "#ed7953"
             ],
             [
              0.7777777777777778,
              "#fb9f3a"
             ],
             [
              0.8888888888888888,
              "#fdca26"
             ],
             [
              1,
              "#f0f921"
             ]
            ],
            "type": "surface"
           }
          ],
          "table": [
           {
            "cells": {
             "fill": {
              "color": "#EBF0F8"
             },
             "line": {
              "color": "white"
             }
            },
            "header": {
             "fill": {
              "color": "#C8D4E3"
             },
             "line": {
              "color": "white"
             }
            },
            "type": "table"
           }
          ]
         },
         "layout": {
          "annotationdefaults": {
           "arrowcolor": "#2a3f5f",
           "arrowhead": 0,
           "arrowwidth": 1
          },
          "autotypenumbers": "strict",
          "coloraxis": {
           "colorbar": {
            "outlinewidth": 0,
            "ticks": ""
           }
          },
          "colorscale": {
           "diverging": [
            [
             0,
             "#8e0152"
            ],
            [
             0.1,
             "#c51b7d"
            ],
            [
             0.2,
             "#de77ae"
            ],
            [
             0.3,
             "#f1b6da"
            ],
            [
             0.4,
             "#fde0ef"
            ],
            [
             0.5,
             "#f7f7f7"
            ],
            [
             0.6,
             "#e6f5d0"
            ],
            [
             0.7,
             "#b8e186"
            ],
            [
             0.8,
             "#7fbc41"
            ],
            [
             0.9,
             "#4d9221"
            ],
            [
             1,
             "#276419"
            ]
           ],
           "sequential": [
            [
             0,
             "#0d0887"
            ],
            [
             0.1111111111111111,
             "#46039f"
            ],
            [
             0.2222222222222222,
             "#7201a8"
            ],
            [
             0.3333333333333333,
             "#9c179e"
            ],
            [
             0.4444444444444444,
             "#bd3786"
            ],
            [
             0.5555555555555556,
             "#d8576b"
            ],
            [
             0.6666666666666666,
             "#ed7953"
            ],
            [
             0.7777777777777778,
             "#fb9f3a"
            ],
            [
             0.8888888888888888,
             "#fdca26"
            ],
            [
             1,
             "#f0f921"
            ]
           ],
           "sequentialminus": [
            [
             0,
             "#0d0887"
            ],
            [
             0.1111111111111111,
             "#46039f"
            ],
            [
             0.2222222222222222,
             "#7201a8"
            ],
            [
             0.3333333333333333,
             "#9c179e"
            ],
            [
             0.4444444444444444,
             "#bd3786"
            ],
            [
             0.5555555555555556,
             "#d8576b"
            ],
            [
             0.6666666666666666,
             "#ed7953"
            ],
            [
             0.7777777777777778,
             "#fb9f3a"
            ],
            [
             0.8888888888888888,
             "#fdca26"
            ],
            [
             1,
             "#f0f921"
            ]
           ]
          },
          "colorway": [
           "#636efa",
           "#EF553B",
           "#00cc96",
           "#ab63fa",
           "#FFA15A",
           "#19d3f3",
           "#FF6692",
           "#B6E880",
           "#FF97FF",
           "#FECB52"
          ],
          "font": {
           "color": "#2a3f5f"
          },
          "geo": {
           "bgcolor": "white",
           "lakecolor": "white",
           "landcolor": "#E5ECF6",
           "showlakes": true,
           "showland": true,
           "subunitcolor": "white"
          },
          "hoverlabel": {
           "align": "left"
          },
          "hovermode": "closest",
          "mapbox": {
           "style": "light"
          },
          "paper_bgcolor": "white",
          "plot_bgcolor": "#E5ECF6",
          "polar": {
           "angularaxis": {
            "gridcolor": "white",
            "linecolor": "white",
            "ticks": ""
           },
           "bgcolor": "#E5ECF6",
           "radialaxis": {
            "gridcolor": "white",
            "linecolor": "white",
            "ticks": ""
           }
          },
          "scene": {
           "xaxis": {
            "backgroundcolor": "#E5ECF6",
            "gridcolor": "white",
            "gridwidth": 2,
            "linecolor": "white",
            "showbackground": true,
            "ticks": "",
            "zerolinecolor": "white"
           },
           "yaxis": {
            "backgroundcolor": "#E5ECF6",
            "gridcolor": "white",
            "gridwidth": 2,
            "linecolor": "white",
            "showbackground": true,
            "ticks": "",
            "zerolinecolor": "white"
           },
           "zaxis": {
            "backgroundcolor": "#E5ECF6",
            "gridcolor": "white",
            "gridwidth": 2,
            "linecolor": "white",
            "showbackground": true,
            "ticks": "",
            "zerolinecolor": "white"
           }
          },
          "shapedefaults": {
           "line": {
            "color": "#2a3f5f"
           }
          },
          "ternary": {
           "aaxis": {
            "gridcolor": "white",
            "linecolor": "white",
            "ticks": ""
           },
           "baxis": {
            "gridcolor": "white",
            "linecolor": "white",
            "ticks": ""
           },
           "bgcolor": "#E5ECF6",
           "caxis": {
            "gridcolor": "white",
            "linecolor": "white",
            "ticks": ""
           }
          },
          "title": {
           "x": 0.05
          },
          "xaxis": {
           "automargin": true,
           "gridcolor": "white",
           "linecolor": "white",
           "ticks": "",
           "title": {
            "standoff": 15
           },
           "zerolinecolor": "white",
           "zerolinewidth": 2
          },
          "yaxis": {
           "automargin": true,
           "gridcolor": "white",
           "linecolor": "white",
           "ticks": "",
           "title": {
            "standoff": 15
           },
           "zerolinecolor": "white",
           "zerolinewidth": 2
          }
         }
        }
       },
       "config": {
        "plotlyServerURL": "https://plot.ly"
       }
      }
     },
     "metadata": {}
    }
   ],
   "metadata": {}
  },
  {
   "cell_type": "code",
   "execution_count": 11,
   "source": [
    "from optuna.visualization import plot_intermediate_values\n",
    "\n",
    "plot_intermediate_values(study)"
   ],
   "outputs": [
    {
     "output_type": "display_data",
     "data": {
      "application/vnd.plotly.v1+json": {
       "data": [
        {
         "marker": {
          "maxdisplayed": 10
         },
         "mode": "lines+markers",
         "name": "Trial0",
         "x": [
          0,
          1,
          2,
          3,
          4,
          5,
          6,
          7,
          8,
          9
         ],
         "y": [
          0.146875,
          0.1734375,
          0.32265625,
          0.3765625,
          0.45390625,
          0.52578125,
          0.55859375,
          0.5671875,
          0.61875,
          0.64140625
         ],
         "type": "scatter"
        },
        {
         "marker": {
          "maxdisplayed": 10
         },
         "mode": "lines+markers",
         "name": "Trial1",
         "x": [
          0,
          1,
          2,
          3,
          4,
          5,
          6,
          7,
          8,
          9
         ],
         "y": [
          0.59140625,
          0.61953125,
          0.675,
          0.67265625,
          0.671875,
          0.6734375,
          0.69375,
          0.68828125,
          0.7203125,
          0.72421875
         ],
         "type": "scatter"
        },
        {
         "marker": {
          "maxdisplayed": 10
         },
         "mode": "lines+markers",
         "name": "Trial2",
         "x": [
          0,
          1,
          2,
          3,
          4,
          5,
          6,
          7,
          8,
          9
         ],
         "y": [
          0.26328125,
          0.453125,
          0.60859375,
          0.64140625,
          0.65625,
          0.671875,
          0.65703125,
          0.6890625,
          0.6453125,
          0.6625
         ],
         "type": "scatter"
        },
        {
         "marker": {
          "maxdisplayed": 10
         },
         "mode": "lines+markers",
         "name": "Trial3",
         "x": [
          0,
          1,
          2,
          3,
          4,
          5,
          6,
          7,
          8,
          9
         ],
         "y": [
          0.29765625,
          0.4296875,
          0.4875,
          0.56640625,
          0.63125,
          0.6234375,
          0.65625,
          0.65625,
          0.6703125,
          0.6484375
         ],
         "type": "scatter"
        },
        {
         "marker": {
          "maxdisplayed": 10
         },
         "mode": "lines+markers",
         "name": "Trial4",
         "x": [
          0,
          1,
          2,
          3,
          4,
          5,
          6,
          7,
          8,
          9
         ],
         "y": [
          0.46015625,
          0.61484375,
          0.58515625,
          0.5828125,
          0.64453125,
          0.65390625,
          0.65234375,
          0.646875,
          0.65,
          0.67265625
         ],
         "type": "scatter"
        },
        {
         "marker": {
          "maxdisplayed": 10
         },
         "mode": "lines+markers",
         "name": "Trial5",
         "x": [
          0,
          1,
          2,
          3,
          4,
          5,
          6,
          7,
          8,
          9
         ],
         "y": [
          0.409375,
          0.62421875,
          0.67265625,
          0.65859375,
          0.67578125,
          0.71328125,
          0.73203125,
          0.71171875,
          0.75625,
          0.765625
         ],
         "type": "scatter"
        },
        {
         "marker": {
          "maxdisplayed": 10
         },
         "mode": "lines+markers",
         "name": "Trial6",
         "x": [
          0
         ],
         "y": [
          0.178125
         ],
         "type": "scatter"
        },
        {
         "marker": {
          "maxdisplayed": 10
         },
         "mode": "lines+markers",
         "name": "Trial7",
         "x": [
          0
         ],
         "y": [
          0.25703125
         ],
         "type": "scatter"
        },
        {
         "marker": {
          "maxdisplayed": 10
         },
         "mode": "lines+markers",
         "name": "Trial8",
         "x": [
          0,
          1,
          2,
          3,
          4,
          5,
          6,
          7,
          8,
          9
         ],
         "y": [
          0.58203125,
          0.65,
          0.69765625,
          0.75625,
          0.77265625,
          0.79609375,
          0.7671875,
          0.80234375,
          0.78359375,
          0.7421875
         ],
         "type": "scatter"
        },
        {
         "marker": {
          "maxdisplayed": 10
         },
         "mode": "lines+markers",
         "name": "Trial9",
         "x": [
          0,
          1,
          2,
          3,
          4,
          5,
          6,
          7,
          8,
          9
         ],
         "y": [
          0.65703125,
          0.73671875,
          0.75078125,
          0.75859375,
          0.7984375,
          0.77734375,
          0.78828125,
          0.7828125,
          0.7734375,
          0.7828125
         ],
         "type": "scatter"
        },
        {
         "marker": {
          "maxdisplayed": 10
         },
         "mode": "lines+markers",
         "name": "Trial10",
         "x": [
          0
         ],
         "y": [
          0.09453125
         ],
         "type": "scatter"
        },
        {
         "marker": {
          "maxdisplayed": 10
         },
         "mode": "lines+markers",
         "name": "Trial11",
         "x": [
          0
         ],
         "y": [
          0.1078125
         ],
         "type": "scatter"
        },
        {
         "marker": {
          "maxdisplayed": 10
         },
         "mode": "lines+markers",
         "name": "Trial12",
         "x": [
          0
         ],
         "y": [
          0.41796875
         ],
         "type": "scatter"
        },
        {
         "marker": {
          "maxdisplayed": 10
         },
         "mode": "lines+markers",
         "name": "Trial13",
         "x": [
          0
         ],
         "y": [
          0.28359375
         ],
         "type": "scatter"
        },
        {
         "marker": {
          "maxdisplayed": 10
         },
         "mode": "lines+markers",
         "name": "Trial14",
         "x": [
          0
         ],
         "y": [
          0.25
         ],
         "type": "scatter"
        },
        {
         "marker": {
          "maxdisplayed": 10
         },
         "mode": "lines+markers",
         "name": "Trial15",
         "x": [
          0,
          1,
          2,
          3,
          4,
          5,
          6,
          7,
          8,
          9
         ],
         "y": [
          0.7046875,
          0.77734375,
          0.8015625,
          0.803125,
          0.80078125,
          0.82109375,
          0.82734375,
          0.8265625,
          0.81875,
          0.83125
         ],
         "type": "scatter"
        },
        {
         "marker": {
          "maxdisplayed": 10
         },
         "mode": "lines+markers",
         "name": "Trial16",
         "x": [
          0,
          1,
          2,
          3,
          4,
          5,
          6,
          7,
          8,
          9
         ],
         "y": [
          0.68046875,
          0.69140625,
          0.7296875,
          0.76015625,
          0.76328125,
          0.73046875,
          0.77421875,
          0.79296875,
          0.7765625,
          0.82109375
         ],
         "type": "scatter"
        },
        {
         "marker": {
          "maxdisplayed": 10
         },
         "mode": "lines+markers",
         "name": "Trial17",
         "x": [
          0
         ],
         "y": [
          0.2265625
         ],
         "type": "scatter"
        },
        {
         "marker": {
          "maxdisplayed": 10
         },
         "mode": "lines+markers",
         "name": "Trial18",
         "x": [
          0
         ],
         "y": [
          0.51875
         ],
         "type": "scatter"
        },
        {
         "marker": {
          "maxdisplayed": 10
         },
         "mode": "lines+markers",
         "name": "Trial19",
         "x": [
          0
         ],
         "y": [
          0.23828125
         ],
         "type": "scatter"
        },
        {
         "marker": {
          "maxdisplayed": 10
         },
         "mode": "lines+markers",
         "name": "Trial20",
         "x": [
          0,
          1,
          2,
          3,
          4,
          5,
          6,
          7,
          8,
          9
         ],
         "y": [
          0.703125,
          0.7296875,
          0.73359375,
          0.7796875,
          0.771875,
          0.78828125,
          0.7828125,
          0.78203125,
          0.796875,
          0.771875
         ],
         "type": "scatter"
        },
        {
         "marker": {
          "maxdisplayed": 10
         },
         "mode": "lines+markers",
         "name": "Trial21",
         "x": [
          0,
          1,
          2,
          3,
          4,
          5,
          6,
          7,
          8,
          9
         ],
         "y": [
          0.67890625,
          0.740625,
          0.7578125,
          0.775,
          0.7875,
          0.7859375,
          0.75390625,
          0.8078125,
          0.80546875,
          0.803125
         ],
         "type": "scatter"
        },
        {
         "marker": {
          "maxdisplayed": 10
         },
         "mode": "lines+markers",
         "name": "Trial22",
         "x": [
          0,
          1,
          2
         ],
         "y": [
          0.6265625,
          0.67578125,
          0.63125
         ],
         "type": "scatter"
        },
        {
         "marker": {
          "maxdisplayed": 10
         },
         "mode": "lines+markers",
         "name": "Trial23",
         "x": [
          0
         ],
         "y": [
          0.10234375
         ],
         "type": "scatter"
        },
        {
         "marker": {
          "maxdisplayed": 10
         },
         "mode": "lines+markers",
         "name": "Trial24",
         "x": [
          0,
          1,
          2,
          3,
          4,
          5,
          6,
          7,
          8
         ],
         "y": [
          0.66484375,
          0.66796875,
          0.728125,
          0.71640625,
          0.71484375,
          0.73359375,
          0.75234375,
          0.75859375,
          0.746875
         ],
         "type": "scatter"
        },
        {
         "marker": {
          "maxdisplayed": 10
         },
         "mode": "lines+markers",
         "name": "Trial25",
         "x": [
          0,
          1,
          2,
          3,
          4,
          5,
          6,
          7,
          8,
          9
         ],
         "y": [
          0.7421875,
          0.7671875,
          0.7984375,
          0.79453125,
          0.81640625,
          0.79296875,
          0.825,
          0.80859375,
          0.83125,
          0.8140625
         ],
         "type": "scatter"
        },
        {
         "marker": {
          "maxdisplayed": 10
         },
         "mode": "lines+markers",
         "name": "Trial26",
         "x": [
          0,
          1,
          2,
          3
         ],
         "y": [
          0.60390625,
          0.659375,
          0.70234375,
          0.725
         ],
         "type": "scatter"
        },
        {
         "marker": {
          "maxdisplayed": 10
         },
         "mode": "lines+markers",
         "name": "Trial27",
         "x": [
          0,
          1,
          2,
          3,
          4,
          5,
          6,
          7,
          8,
          9
         ],
         "y": [
          0.63671875,
          0.6859375,
          0.7328125,
          0.75859375,
          0.7671875,
          0.7828125,
          0.790625,
          0.790625,
          0.80703125,
          0.815625
         ],
         "type": "scatter"
        },
        {
         "marker": {
          "maxdisplayed": 10
         },
         "mode": "lines+markers",
         "name": "Trial28",
         "x": [
          0,
          1,
          2,
          3
         ],
         "y": [
          0.65703125,
          0.68515625,
          0.74140625,
          0.7390625
         ],
         "type": "scatter"
        },
        {
         "marker": {
          "maxdisplayed": 10
         },
         "mode": "lines+markers",
         "name": "Trial29",
         "x": [
          0,
          1
         ],
         "y": [
          0.62734375,
          0.66484375
         ],
         "type": "scatter"
        },
        {
         "marker": {
          "maxdisplayed": 10
         },
         "mode": "lines+markers",
         "name": "Trial30",
         "x": [
          0,
          1,
          2,
          3,
          4,
          5,
          6,
          7,
          8,
          9
         ],
         "y": [
          0.70234375,
          0.76328125,
          0.7859375,
          0.75625,
          0.76171875,
          0.77734375,
          0.7703125,
          0.7953125,
          0.78359375,
          0.80078125
         ],
         "type": "scatter"
        },
        {
         "marker": {
          "maxdisplayed": 10
         },
         "mode": "lines+markers",
         "name": "Trial31",
         "x": [
          0,
          1,
          2,
          3,
          4,
          5,
          6,
          7,
          8,
          9
         ],
         "y": [
          0.703125,
          0.74765625,
          0.7609375,
          0.771875,
          0.80859375,
          0.81328125,
          0.81953125,
          0.80390625,
          0.8109375,
          0.82890625
         ],
         "type": "scatter"
        },
        {
         "marker": {
          "maxdisplayed": 10
         },
         "mode": "lines+markers",
         "name": "Trial32",
         "x": [
          0
         ],
         "y": [
          0.62421875
         ],
         "type": "scatter"
        },
        {
         "marker": {
          "maxdisplayed": 10
         },
         "mode": "lines+markers",
         "name": "Trial33",
         "x": [
          0,
          1,
          2,
          3,
          4,
          5,
          6,
          7,
          8,
          9
         ],
         "y": [
          0.675,
          0.7671875,
          0.7671875,
          0.76796875,
          0.796875,
          0.7984375,
          0.8140625,
          0.8046875,
          0.8171875,
          0.83671875
         ],
         "type": "scatter"
        },
        {
         "marker": {
          "maxdisplayed": 10
         },
         "mode": "lines+markers",
         "name": "Trial34",
         "x": [
          0,
          1,
          2,
          3,
          4,
          5,
          6,
          7,
          8,
          9
         ],
         "y": [
          0.6828125,
          0.71875,
          0.75078125,
          0.79296875,
          0.7640625,
          0.7828125,
          0.8,
          0.82265625,
          0.81796875,
          0.8359375
         ],
         "type": "scatter"
        },
        {
         "marker": {
          "maxdisplayed": 10
         },
         "mode": "lines+markers",
         "name": "Trial35",
         "x": [
          0,
          1,
          2,
          3,
          4,
          5,
          6,
          7,
          8,
          9
         ],
         "y": [
          0.67578125,
          0.72265625,
          0.7578125,
          0.79765625,
          0.790625,
          0.80078125,
          0.8046875,
          0.7875,
          0.81875,
          0.79296875
         ],
         "type": "scatter"
        },
        {
         "marker": {
          "maxdisplayed": 10
         },
         "mode": "lines+markers",
         "name": "Trial36",
         "x": [
          0,
          1
         ],
         "y": [
          0.6875,
          0.68984375
         ],
         "type": "scatter"
        },
        {
         "marker": {
          "maxdisplayed": 10
         },
         "mode": "lines+markers",
         "name": "Trial37",
         "x": [
          0
         ],
         "y": [
          0.54765625
         ],
         "type": "scatter"
        },
        {
         "marker": {
          "maxdisplayed": 10
         },
         "mode": "lines+markers",
         "name": "Trial38",
         "x": [
          0
         ],
         "y": [
          0.51640625
         ],
         "type": "scatter"
        },
        {
         "marker": {
          "maxdisplayed": 10
         },
         "mode": "lines+markers",
         "name": "Trial39",
         "x": [
          0
         ],
         "y": [
          0.65390625
         ],
         "type": "scatter"
        },
        {
         "marker": {
          "maxdisplayed": 10
         },
         "mode": "lines+markers",
         "name": "Trial40",
         "x": [
          0
         ],
         "y": [
          0.665625
         ],
         "type": "scatter"
        },
        {
         "marker": {
          "maxdisplayed": 10
         },
         "mode": "lines+markers",
         "name": "Trial41",
         "x": [
          0,
          1,
          2,
          3,
          4,
          5,
          6,
          7,
          8,
          9
         ],
         "y": [
          0.69609375,
          0.76015625,
          0.759375,
          0.79453125,
          0.78046875,
          0.803125,
          0.80859375,
          0.80390625,
          0.8203125,
          0.7921875
         ],
         "type": "scatter"
        },
        {
         "marker": {
          "maxdisplayed": 10
         },
         "mode": "lines+markers",
         "name": "Trial42",
         "x": [
          0,
          1,
          2,
          3,
          4,
          5
         ],
         "y": [
          0.7046875,
          0.76171875,
          0.7734375,
          0.765625,
          0.778125,
          0.77421875
         ],
         "type": "scatter"
        },
        {
         "marker": {
          "maxdisplayed": 10
         },
         "mode": "lines+markers",
         "name": "Trial43",
         "x": [
          0
         ],
         "y": [
          0.32421875
         ],
         "type": "scatter"
        },
        {
         "marker": {
          "maxdisplayed": 10
         },
         "mode": "lines+markers",
         "name": "Trial44",
         "x": [
          0,
          1,
          2,
          3,
          4,
          5,
          6,
          7,
          8,
          9
         ],
         "y": [
          0.72109375,
          0.75546875,
          0.79296875,
          0.7796875,
          0.79375,
          0.790625,
          0.8109375,
          0.78046875,
          0.80546875,
          0.80546875
         ],
         "type": "scatter"
        },
        {
         "marker": {
          "maxdisplayed": 10
         },
         "mode": "lines+markers",
         "name": "Trial45",
         "x": [
          0,
          1
         ],
         "y": [
          0.68984375,
          0.72109375
         ],
         "type": "scatter"
        },
        {
         "marker": {
          "maxdisplayed": 10
         },
         "mode": "lines+markers",
         "name": "Trial46",
         "x": [
          0,
          1,
          2
         ],
         "y": [
          0.67734375,
          0.74140625,
          0.728125
         ],
         "type": "scatter"
        },
        {
         "marker": {
          "maxdisplayed": 10
         },
         "mode": "lines+markers",
         "name": "Trial47",
         "x": [
          0
         ],
         "y": [
          0.34609375
         ],
         "type": "scatter"
        },
        {
         "marker": {
          "maxdisplayed": 10
         },
         "mode": "lines+markers",
         "name": "Trial48",
         "x": [
          0
         ],
         "y": [
          0.6515625
         ],
         "type": "scatter"
        },
        {
         "marker": {
          "maxdisplayed": 10
         },
         "mode": "lines+markers",
         "name": "Trial49",
         "x": [
          0
         ],
         "y": [
          0.584375
         ],
         "type": "scatter"
        },
        {
         "marker": {
          "maxdisplayed": 10
         },
         "mode": "lines+markers",
         "name": "Trial50",
         "x": [
          0,
          1,
          2,
          3,
          4,
          5,
          6,
          7,
          8,
          9
         ],
         "y": [
          0.70703125,
          0.76171875,
          0.71484375,
          0.78984375,
          0.8,
          0.79296875,
          0.775,
          0.8046875,
          0.7953125,
          0.78359375
         ],
         "type": "scatter"
        },
        {
         "marker": {
          "maxdisplayed": 10
         },
         "mode": "lines+markers",
         "name": "Trial51",
         "x": [
          0
         ],
         "y": [
          0.63671875
         ],
         "type": "scatter"
        },
        {
         "marker": {
          "maxdisplayed": 10
         },
         "mode": "lines+markers",
         "name": "Trial52",
         "x": [
          0
         ],
         "y": [
          0.5640625
         ],
         "type": "scatter"
        },
        {
         "marker": {
          "maxdisplayed": 10
         },
         "mode": "lines+markers",
         "name": "Trial53",
         "x": [
          0
         ],
         "y": [
          0.3203125
         ],
         "type": "scatter"
        },
        {
         "marker": {
          "maxdisplayed": 10
         },
         "mode": "lines+markers",
         "name": "Trial54",
         "x": [
          0,
          1,
          2,
          3,
          4,
          5,
          6,
          7,
          8,
          9
         ],
         "y": [
          0.7,
          0.76171875,
          0.75390625,
          0.7953125,
          0.778125,
          0.7875,
          0.81171875,
          0.8046875,
          0.803125,
          0.83203125
         ],
         "type": "scatter"
        },
        {
         "marker": {
          "maxdisplayed": 10
         },
         "mode": "lines+markers",
         "name": "Trial55",
         "x": [
          0
         ],
         "y": [
          0.24921875
         ],
         "type": "scatter"
        },
        {
         "marker": {
          "maxdisplayed": 10
         },
         "mode": "lines+markers",
         "name": "Trial56",
         "x": [
          0,
          1
         ],
         "y": [
          0.7,
          0.7015625
         ],
         "type": "scatter"
        },
        {
         "marker": {
          "maxdisplayed": 10
         },
         "mode": "lines+markers",
         "name": "Trial57",
         "x": [
          0,
          1,
          2,
          3,
          4,
          5,
          6,
          7,
          8,
          9
         ],
         "y": [
          0.71796875,
          0.7828125,
          0.7671875,
          0.79453125,
          0.80546875,
          0.8,
          0.81171875,
          0.79453125,
          0.81640625,
          0.81640625
         ],
         "type": "scatter"
        },
        {
         "marker": {
          "maxdisplayed": 10
         },
         "mode": "lines+markers",
         "name": "Trial58",
         "x": [
          0,
          1
         ],
         "y": [
          0.7109375,
          0.71015625
         ],
         "type": "scatter"
        },
        {
         "marker": {
          "maxdisplayed": 10
         },
         "mode": "lines+markers",
         "name": "Trial59",
         "x": [
          0
         ],
         "y": [
          0.6125
         ],
         "type": "scatter"
        },
        {
         "marker": {
          "maxdisplayed": 10
         },
         "mode": "lines+markers",
         "name": "Trial60",
         "x": [
          0
         ],
         "y": [
          0.42109375
         ],
         "type": "scatter"
        },
        {
         "marker": {
          "maxdisplayed": 10
         },
         "mode": "lines+markers",
         "name": "Trial61",
         "x": [
          0,
          1,
          2,
          3,
          4,
          5,
          6,
          7,
          8,
          9
         ],
         "y": [
          0.7453125,
          0.77265625,
          0.77734375,
          0.8078125,
          0.7671875,
          0.78828125,
          0.80703125,
          0.81953125,
          0.79609375,
          0.80546875
         ],
         "type": "scatter"
        },
        {
         "marker": {
          "maxdisplayed": 10
         },
         "mode": "lines+markers",
         "name": "Trial62",
         "x": [
          0,
          1,
          2,
          3,
          4,
          5,
          6,
          7,
          8,
          9
         ],
         "y": [
          0.70234375,
          0.76328125,
          0.79453125,
          0.784375,
          0.775,
          0.81796875,
          0.80625,
          0.81875,
          0.8109375,
          0.834375
         ],
         "type": "scatter"
        },
        {
         "marker": {
          "maxdisplayed": 10
         },
         "mode": "lines+markers",
         "name": "Trial63",
         "x": [
          0,
          1,
          2,
          3,
          4,
          5,
          6,
          7,
          8,
          9
         ],
         "y": [
          0.6875,
          0.77578125,
          0.81484375,
          0.80625,
          0.79296875,
          0.78828125,
          0.79765625,
          0.8359375,
          0.8203125,
          0.81953125
         ],
         "type": "scatter"
        },
        {
         "marker": {
          "maxdisplayed": 10
         },
         "mode": "lines+markers",
         "name": "Trial64",
         "x": [
          0,
          1,
          2,
          3,
          4,
          5,
          6,
          7,
          8,
          9
         ],
         "y": [
          0.72421875,
          0.790625,
          0.78515625,
          0.79296875,
          0.81484375,
          0.8234375,
          0.828125,
          0.81171875,
          0.84375,
          0.82421875
         ],
         "type": "scatter"
        },
        {
         "marker": {
          "maxdisplayed": 10
         },
         "mode": "lines+markers",
         "name": "Trial65",
         "x": [
          0
         ],
         "y": [
          0.66796875
         ],
         "type": "scatter"
        },
        {
         "marker": {
          "maxdisplayed": 10
         },
         "mode": "lines+markers",
         "name": "Trial66",
         "x": [
          0,
          1
         ],
         "y": [
          0.7125,
          0.74140625
         ],
         "type": "scatter"
        },
        {
         "marker": {
          "maxdisplayed": 10
         },
         "mode": "lines+markers",
         "name": "Trial67",
         "x": [
          0
         ],
         "y": [
          0.684375
         ],
         "type": "scatter"
        },
        {
         "marker": {
          "maxdisplayed": 10
         },
         "mode": "lines+markers",
         "name": "Trial68",
         "x": [
          0,
          1,
          2,
          3,
          4,
          5,
          6,
          7,
          8,
          9
         ],
         "y": [
          0.68828125,
          0.75078125,
          0.79296875,
          0.78359375,
          0.80390625,
          0.8140625,
          0.80234375,
          0.8203125,
          0.81796875,
          0.8140625
         ],
         "type": "scatter"
        },
        {
         "marker": {
          "maxdisplayed": 10
         },
         "mode": "lines+markers",
         "name": "Trial69",
         "x": [
          0
         ],
         "y": [
          0.37578125
         ],
         "type": "scatter"
        },
        {
         "marker": {
          "maxdisplayed": 10
         },
         "mode": "lines+markers",
         "name": "Trial70",
         "x": [
          0
         ],
         "y": [
          0.6609375
         ],
         "type": "scatter"
        },
        {
         "marker": {
          "maxdisplayed": 10
         },
         "mode": "lines+markers",
         "name": "Trial71",
         "x": [
          0,
          1
         ],
         "y": [
          0.74375,
          0.7453125
         ],
         "type": "scatter"
        },
        {
         "marker": {
          "maxdisplayed": 10
         },
         "mode": "lines+markers",
         "name": "Trial72",
         "x": [
          0,
          1
         ],
         "y": [
          0.69453125,
          0.7453125
         ],
         "type": "scatter"
        },
        {
         "marker": {
          "maxdisplayed": 10
         },
         "mode": "lines+markers",
         "name": "Trial73",
         "x": [
          0
         ],
         "y": [
          0.328125
         ],
         "type": "scatter"
        },
        {
         "marker": {
          "maxdisplayed": 10
         },
         "mode": "lines+markers",
         "name": "Trial74",
         "x": [
          0,
          1,
          2,
          3,
          4,
          5,
          6
         ],
         "y": [
          0.7296875,
          0.76796875,
          0.78359375,
          0.7703125,
          0.7796875,
          0.78984375,
          0.77265625
         ],
         "type": "scatter"
        },
        {
         "marker": {
          "maxdisplayed": 10
         },
         "mode": "lines+markers",
         "name": "Trial75",
         "x": [
          0
         ],
         "y": [
          0.66328125
         ],
         "type": "scatter"
        },
        {
         "marker": {
          "maxdisplayed": 10
         },
         "mode": "lines+markers",
         "name": "Trial76",
         "x": [
          0,
          1
         ],
         "y": [
          0.74375,
          0.74453125
         ],
         "type": "scatter"
        },
        {
         "marker": {
          "maxdisplayed": 10
         },
         "mode": "lines+markers",
         "name": "Trial77",
         "x": [
          0,
          1,
          2,
          3,
          4,
          5
         ],
         "y": [
          0.75234375,
          0.75390625,
          0.784375,
          0.7765625,
          0.78671875,
          0.7875
         ],
         "type": "scatter"
        },
        {
         "marker": {
          "maxdisplayed": 10
         },
         "mode": "lines+markers",
         "name": "Trial78",
         "x": [
          0,
          1
         ],
         "y": [
          0.70859375,
          0.73203125
         ],
         "type": "scatter"
        },
        {
         "marker": {
          "maxdisplayed": 10
         },
         "mode": "lines+markers",
         "name": "Trial79",
         "x": [
          0,
          1
         ],
         "y": [
          0.70859375,
          0.740625
         ],
         "type": "scatter"
        },
        {
         "marker": {
          "maxdisplayed": 10
         },
         "mode": "lines+markers",
         "name": "Trial80",
         "x": [
          0,
          1,
          2,
          3,
          4,
          5,
          6,
          7,
          8,
          9
         ],
         "y": [
          0.74609375,
          0.775,
          0.78203125,
          0.79296875,
          0.7984375,
          0.821875,
          0.81484375,
          0.82109375,
          0.84375,
          0.82578125
         ],
         "type": "scatter"
        },
        {
         "marker": {
          "maxdisplayed": 10
         },
         "mode": "lines+markers",
         "name": "Trial81",
         "x": [
          0
         ],
         "y": [
          0.68515625
         ],
         "type": "scatter"
        },
        {
         "marker": {
          "maxdisplayed": 10
         },
         "mode": "lines+markers",
         "name": "Trial82",
         "x": [
          0,
          1
         ],
         "y": [
          0.70625,
          0.73515625
         ],
         "type": "scatter"
        },
        {
         "marker": {
          "maxdisplayed": 10
         },
         "mode": "lines+markers",
         "name": "Trial83",
         "x": [
          0
         ],
         "y": [
          0.65
         ],
         "type": "scatter"
        },
        {
         "marker": {
          "maxdisplayed": 10
         },
         "mode": "lines+markers",
         "name": "Trial84",
         "x": [
          0,
          1,
          2,
          3,
          4,
          5,
          6,
          7,
          8,
          9
         ],
         "y": [
          0.7484375,
          0.803125,
          0.77578125,
          0.790625,
          0.840625,
          0.8390625,
          0.80859375,
          0.82265625,
          0.80234375,
          0.8125
         ],
         "type": "scatter"
        },
        {
         "marker": {
          "maxdisplayed": 10
         },
         "mode": "lines+markers",
         "name": "Trial85",
         "x": [
          0,
          1,
          2,
          3,
          4,
          5,
          6,
          7,
          8,
          9
         ],
         "y": [
          0.74609375,
          0.77890625,
          0.78203125,
          0.79921875,
          0.80546875,
          0.81875,
          0.82265625,
          0.8140625,
          0.8203125,
          0.81015625
         ],
         "type": "scatter"
        },
        {
         "marker": {
          "maxdisplayed": 10
         },
         "mode": "lines+markers",
         "name": "Trial86",
         "x": [
          0,
          1,
          2,
          3,
          4,
          5,
          6,
          7,
          8,
          9
         ],
         "y": [
          0.734375,
          0.78125,
          0.775,
          0.79453125,
          0.809375,
          0.8109375,
          0.8265625,
          0.82265625,
          0.83359375,
          0.8140625
         ],
         "type": "scatter"
        },
        {
         "marker": {
          "maxdisplayed": 10
         },
         "mode": "lines+markers",
         "name": "Trial87",
         "x": [
          0
         ],
         "y": [
          0.684375
         ],
         "type": "scatter"
        },
        {
         "marker": {
          "maxdisplayed": 10
         },
         "mode": "lines+markers",
         "name": "Trial88",
         "x": [
          0
         ],
         "y": [
          0.1203125
         ],
         "type": "scatter"
        },
        {
         "marker": {
          "maxdisplayed": 10
         },
         "mode": "lines+markers",
         "name": "Trial89",
         "x": [
          0,
          1,
          2,
          3
         ],
         "y": [
          0.71171875,
          0.765625,
          0.76484375,
          0.75078125
         ],
         "type": "scatter"
        },
        {
         "marker": {
          "maxdisplayed": 10
         },
         "mode": "lines+markers",
         "name": "Trial90",
         "x": [
          0
         ],
         "y": [
          0.68671875
         ],
         "type": "scatter"
        },
        {
         "marker": {
          "maxdisplayed": 10
         },
         "mode": "lines+markers",
         "name": "Trial91",
         "x": [
          0,
          1,
          2,
          3,
          4,
          5,
          6,
          7,
          8,
          9
         ],
         "y": [
          0.69921875,
          0.78671875,
          0.76484375,
          0.80078125,
          0.8078125,
          0.80390625,
          0.79765625,
          0.81171875,
          0.8109375,
          0.815625
         ],
         "type": "scatter"
        },
        {
         "marker": {
          "maxdisplayed": 10
         },
         "mode": "lines+markers",
         "name": "Trial92",
         "x": [
          0
         ],
         "y": [
          0.675
         ],
         "type": "scatter"
        },
        {
         "marker": {
          "maxdisplayed": 10
         },
         "mode": "lines+markers",
         "name": "Trial93",
         "x": [
          0,
          1,
          2,
          3,
          4,
          5,
          6,
          7,
          8,
          9
         ],
         "y": [
          0.73515625,
          0.7765625,
          0.7828125,
          0.80078125,
          0.8125,
          0.81484375,
          0.79765625,
          0.82421875,
          0.80390625,
          0.81015625
         ],
         "type": "scatter"
        },
        {
         "marker": {
          "maxdisplayed": 10
         },
         "mode": "lines+markers",
         "name": "Trial94",
         "x": [
          0,
          1,
          2,
          3,
          4,
          5,
          6,
          7,
          8,
          9
         ],
         "y": [
          0.71640625,
          0.78046875,
          0.76328125,
          0.78515625,
          0.828125,
          0.8296875,
          0.83046875,
          0.84140625,
          0.834375,
          0.825
         ],
         "type": "scatter"
        },
        {
         "marker": {
          "maxdisplayed": 10
         },
         "mode": "lines+markers",
         "name": "Trial95",
         "x": [
          0
         ],
         "y": [
          0.684375
         ],
         "type": "scatter"
        },
        {
         "marker": {
          "maxdisplayed": 10
         },
         "mode": "lines+markers",
         "name": "Trial96",
         "x": [
          0,
          1,
          2,
          3,
          4,
          5,
          6,
          7,
          8,
          9
         ],
         "y": [
          0.7046875,
          0.7796875,
          0.77421875,
          0.8125,
          0.80546875,
          0.8078125,
          0.81640625,
          0.81953125,
          0.8046875,
          0.81328125
         ],
         "type": "scatter"
        },
        {
         "marker": {
          "maxdisplayed": 10
         },
         "mode": "lines+markers",
         "name": "Trial97",
         "x": [
          0,
          1
         ],
         "y": [
          0.74765625,
          0.76015625
         ],
         "type": "scatter"
        },
        {
         "marker": {
          "maxdisplayed": 10
         },
         "mode": "lines+markers",
         "name": "Trial98",
         "x": [
          0,
          1,
          2,
          3,
          4,
          5,
          6,
          7
         ],
         "y": [
          0.7125,
          0.78984375,
          0.78203125,
          0.7984375,
          0.80234375,
          0.78125,
          0.7984375,
          0.78359375
         ],
         "type": "scatter"
        },
        {
         "marker": {
          "maxdisplayed": 10
         },
         "mode": "lines+markers",
         "name": "Trial99",
         "x": [
          0
         ],
         "y": [
          0.67421875
         ],
         "type": "scatter"
        }
       ],
       "layout": {
        "showlegend": false,
        "title": {
         "text": "Intermediate Values Plot"
        },
        "xaxis": {
         "title": {
          "text": "Step"
         }
        },
        "yaxis": {
         "title": {
          "text": "Intermediate Value"
         }
        },
        "template": {
         "data": {
          "bar": [
           {
            "error_x": {
             "color": "#2a3f5f"
            },
            "error_y": {
             "color": "#2a3f5f"
            },
            "marker": {
             "line": {
              "color": "#E5ECF6",
              "width": 0.5
             },
             "pattern": {
              "fillmode": "overlay",
              "size": 10,
              "solidity": 0.2
             }
            },
            "type": "bar"
           }
          ],
          "barpolar": [
           {
            "marker": {
             "line": {
              "color": "#E5ECF6",
              "width": 0.5
             },
             "pattern": {
              "fillmode": "overlay",
              "size": 10,
              "solidity": 0.2
             }
            },
            "type": "barpolar"
           }
          ],
          "carpet": [
           {
            "aaxis": {
             "endlinecolor": "#2a3f5f",
             "gridcolor": "white",
             "linecolor": "white",
             "minorgridcolor": "white",
             "startlinecolor": "#2a3f5f"
            },
            "baxis": {
             "endlinecolor": "#2a3f5f",
             "gridcolor": "white",
             "linecolor": "white",
             "minorgridcolor": "white",
             "startlinecolor": "#2a3f5f"
            },
            "type": "carpet"
           }
          ],
          "choropleth": [
           {
            "colorbar": {
             "outlinewidth": 0,
             "ticks": ""
            },
            "type": "choropleth"
           }
          ],
          "contour": [
           {
            "colorbar": {
             "outlinewidth": 0,
             "ticks": ""
            },
            "colorscale": [
             [
              0,
              "#0d0887"
             ],
             [
              0.1111111111111111,
              "#46039f"
             ],
             [
              0.2222222222222222,
              "#7201a8"
             ],
             [
              0.3333333333333333,
              "#9c179e"
             ],
             [
              0.4444444444444444,
              "#bd3786"
             ],
             [
              0.5555555555555556,
              "#d8576b"
             ],
             [
              0.6666666666666666,
              "#ed7953"
             ],
             [
              0.7777777777777778,
              "#fb9f3a"
             ],
             [
              0.8888888888888888,
              "#fdca26"
             ],
             [
              1,
              "#f0f921"
             ]
            ],
            "type": "contour"
           }
          ],
          "contourcarpet": [
           {
            "colorbar": {
             "outlinewidth": 0,
             "ticks": ""
            },
            "type": "contourcarpet"
           }
          ],
          "heatmap": [
           {
            "colorbar": {
             "outlinewidth": 0,
             "ticks": ""
            },
            "colorscale": [
             [
              0,
              "#0d0887"
             ],
             [
              0.1111111111111111,
              "#46039f"
             ],
             [
              0.2222222222222222,
              "#7201a8"
             ],
             [
              0.3333333333333333,
              "#9c179e"
             ],
             [
              0.4444444444444444,
              "#bd3786"
             ],
             [
              0.5555555555555556,
              "#d8576b"
             ],
             [
              0.6666666666666666,
              "#ed7953"
             ],
             [
              0.7777777777777778,
              "#fb9f3a"
             ],
             [
              0.8888888888888888,
              "#fdca26"
             ],
             [
              1,
              "#f0f921"
             ]
            ],
            "type": "heatmap"
           }
          ],
          "heatmapgl": [
           {
            "colorbar": {
             "outlinewidth": 0,
             "ticks": ""
            },
            "colorscale": [
             [
              0,
              "#0d0887"
             ],
             [
              0.1111111111111111,
              "#46039f"
             ],
             [
              0.2222222222222222,
              "#7201a8"
             ],
             [
              0.3333333333333333,
              "#9c179e"
             ],
             [
              0.4444444444444444,
              "#bd3786"
             ],
             [
              0.5555555555555556,
              "#d8576b"
             ],
             [
              0.6666666666666666,
              "#ed7953"
             ],
             [
              0.7777777777777778,
              "#fb9f3a"
             ],
             [
              0.8888888888888888,
              "#fdca26"
             ],
             [
              1,
              "#f0f921"
             ]
            ],
            "type": "heatmapgl"
           }
          ],
          "histogram": [
           {
            "marker": {
             "pattern": {
              "fillmode": "overlay",
              "size": 10,
              "solidity": 0.2
             }
            },
            "type": "histogram"
           }
          ],
          "histogram2d": [
           {
            "colorbar": {
             "outlinewidth": 0,
             "ticks": ""
            },
            "colorscale": [
             [
              0,
              "#0d0887"
             ],
             [
              0.1111111111111111,
              "#46039f"
             ],
             [
              0.2222222222222222,
              "#7201a8"
             ],
             [
              0.3333333333333333,
              "#9c179e"
             ],
             [
              0.4444444444444444,
              "#bd3786"
             ],
             [
              0.5555555555555556,
              "#d8576b"
             ],
             [
              0.6666666666666666,
              "#ed7953"
             ],
             [
              0.7777777777777778,
              "#fb9f3a"
             ],
             [
              0.8888888888888888,
              "#fdca26"
             ],
             [
              1,
              "#f0f921"
             ]
            ],
            "type": "histogram2d"
           }
          ],
          "histogram2dcontour": [
           {
            "colorbar": {
             "outlinewidth": 0,
             "ticks": ""
            },
            "colorscale": [
             [
              0,
              "#0d0887"
             ],
             [
              0.1111111111111111,
              "#46039f"
             ],
             [
              0.2222222222222222,
              "#7201a8"
             ],
             [
              0.3333333333333333,
              "#9c179e"
             ],
             [
              0.4444444444444444,
              "#bd3786"
             ],
             [
              0.5555555555555556,
              "#d8576b"
             ],
             [
              0.6666666666666666,
              "#ed7953"
             ],
             [
              0.7777777777777778,
              "#fb9f3a"
             ],
             [
              0.8888888888888888,
              "#fdca26"
             ],
             [
              1,
              "#f0f921"
             ]
            ],
            "type": "histogram2dcontour"
           }
          ],
          "mesh3d": [
           {
            "colorbar": {
             "outlinewidth": 0,
             "ticks": ""
            },
            "type": "mesh3d"
           }
          ],
          "parcoords": [
           {
            "line": {
             "colorbar": {
              "outlinewidth": 0,
              "ticks": ""
             }
            },
            "type": "parcoords"
           }
          ],
          "pie": [
           {
            "automargin": true,
            "type": "pie"
           }
          ],
          "scatter": [
           {
            "marker": {
             "colorbar": {
              "outlinewidth": 0,
              "ticks": ""
             }
            },
            "type": "scatter"
           }
          ],
          "scatter3d": [
           {
            "line": {
             "colorbar": {
              "outlinewidth": 0,
              "ticks": ""
             }
            },
            "marker": {
             "colorbar": {
              "outlinewidth": 0,
              "ticks": ""
             }
            },
            "type": "scatter3d"
           }
          ],
          "scattercarpet": [
           {
            "marker": {
             "colorbar": {
              "outlinewidth": 0,
              "ticks": ""
             }
            },
            "type": "scattercarpet"
           }
          ],
          "scattergeo": [
           {
            "marker": {
             "colorbar": {
              "outlinewidth": 0,
              "ticks": ""
             }
            },
            "type": "scattergeo"
           }
          ],
          "scattergl": [
           {
            "marker": {
             "colorbar": {
              "outlinewidth": 0,
              "ticks": ""
             }
            },
            "type": "scattergl"
           }
          ],
          "scattermapbox": [
           {
            "marker": {
             "colorbar": {
              "outlinewidth": 0,
              "ticks": ""
             }
            },
            "type": "scattermapbox"
           }
          ],
          "scatterpolar": [
           {
            "marker": {
             "colorbar": {
              "outlinewidth": 0,
              "ticks": ""
             }
            },
            "type": "scatterpolar"
           }
          ],
          "scatterpolargl": [
           {
            "marker": {
             "colorbar": {
              "outlinewidth": 0,
              "ticks": ""
             }
            },
            "type": "scatterpolargl"
           }
          ],
          "scatterternary": [
           {
            "marker": {
             "colorbar": {
              "outlinewidth": 0,
              "ticks": ""
             }
            },
            "type": "scatterternary"
           }
          ],
          "surface": [
           {
            "colorbar": {
             "outlinewidth": 0,
             "ticks": ""
            },
            "colorscale": [
             [
              0,
              "#0d0887"
             ],
             [
              0.1111111111111111,
              "#46039f"
             ],
             [
              0.2222222222222222,
              "#7201a8"
             ],
             [
              0.3333333333333333,
              "#9c179e"
             ],
             [
              0.4444444444444444,
              "#bd3786"
             ],
             [
              0.5555555555555556,
              "#d8576b"
             ],
             [
              0.6666666666666666,
              "#ed7953"
             ],
             [
              0.7777777777777778,
              "#fb9f3a"
             ],
             [
              0.8888888888888888,
              "#fdca26"
             ],
             [
              1,
              "#f0f921"
             ]
            ],
            "type": "surface"
           }
          ],
          "table": [
           {
            "cells": {
             "fill": {
              "color": "#EBF0F8"
             },
             "line": {
              "color": "white"
             }
            },
            "header": {
             "fill": {
              "color": "#C8D4E3"
             },
             "line": {
              "color": "white"
             }
            },
            "type": "table"
           }
          ]
         },
         "layout": {
          "annotationdefaults": {
           "arrowcolor": "#2a3f5f",
           "arrowhead": 0,
           "arrowwidth": 1
          },
          "autotypenumbers": "strict",
          "coloraxis": {
           "colorbar": {
            "outlinewidth": 0,
            "ticks": ""
           }
          },
          "colorscale": {
           "diverging": [
            [
             0,
             "#8e0152"
            ],
            [
             0.1,
             "#c51b7d"
            ],
            [
             0.2,
             "#de77ae"
            ],
            [
             0.3,
             "#f1b6da"
            ],
            [
             0.4,
             "#fde0ef"
            ],
            [
             0.5,
             "#f7f7f7"
            ],
            [
             0.6,
             "#e6f5d0"
            ],
            [
             0.7,
             "#b8e186"
            ],
            [
             0.8,
             "#7fbc41"
            ],
            [
             0.9,
             "#4d9221"
            ],
            [
             1,
             "#276419"
            ]
           ],
           "sequential": [
            [
             0,
             "#0d0887"
            ],
            [
             0.1111111111111111,
             "#46039f"
            ],
            [
             0.2222222222222222,
             "#7201a8"
            ],
            [
             0.3333333333333333,
             "#9c179e"
            ],
            [
             0.4444444444444444,
             "#bd3786"
            ],
            [
             0.5555555555555556,
             "#d8576b"
            ],
            [
             0.6666666666666666,
             "#ed7953"
            ],
            [
             0.7777777777777778,
             "#fb9f3a"
            ],
            [
             0.8888888888888888,
             "#fdca26"
            ],
            [
             1,
             "#f0f921"
            ]
           ],
           "sequentialminus": [
            [
             0,
             "#0d0887"
            ],
            [
             0.1111111111111111,
             "#46039f"
            ],
            [
             0.2222222222222222,
             "#7201a8"
            ],
            [
             0.3333333333333333,
             "#9c179e"
            ],
            [
             0.4444444444444444,
             "#bd3786"
            ],
            [
             0.5555555555555556,
             "#d8576b"
            ],
            [
             0.6666666666666666,
             "#ed7953"
            ],
            [
             0.7777777777777778,
             "#fb9f3a"
            ],
            [
             0.8888888888888888,
             "#fdca26"
            ],
            [
             1,
             "#f0f921"
            ]
           ]
          },
          "colorway": [
           "#636efa",
           "#EF553B",
           "#00cc96",
           "#ab63fa",
           "#FFA15A",
           "#19d3f3",
           "#FF6692",
           "#B6E880",
           "#FF97FF",
           "#FECB52"
          ],
          "font": {
           "color": "#2a3f5f"
          },
          "geo": {
           "bgcolor": "white",
           "lakecolor": "white",
           "landcolor": "#E5ECF6",
           "showlakes": true,
           "showland": true,
           "subunitcolor": "white"
          },
          "hoverlabel": {
           "align": "left"
          },
          "hovermode": "closest",
          "mapbox": {
           "style": "light"
          },
          "paper_bgcolor": "white",
          "plot_bgcolor": "#E5ECF6",
          "polar": {
           "angularaxis": {
            "gridcolor": "white",
            "linecolor": "white",
            "ticks": ""
           },
           "bgcolor": "#E5ECF6",
           "radialaxis": {
            "gridcolor": "white",
            "linecolor": "white",
            "ticks": ""
           }
          },
          "scene": {
           "xaxis": {
            "backgroundcolor": "#E5ECF6",
            "gridcolor": "white",
            "gridwidth": 2,
            "linecolor": "white",
            "showbackground": true,
            "ticks": "",
            "zerolinecolor": "white"
           },
           "yaxis": {
            "backgroundcolor": "#E5ECF6",
            "gridcolor": "white",
            "gridwidth": 2,
            "linecolor": "white",
            "showbackground": true,
            "ticks": "",
            "zerolinecolor": "white"
           },
           "zaxis": {
            "backgroundcolor": "#E5ECF6",
            "gridcolor": "white",
            "gridwidth": 2,
            "linecolor": "white",
            "showbackground": true,
            "ticks": "",
            "zerolinecolor": "white"
           }
          },
          "shapedefaults": {
           "line": {
            "color": "#2a3f5f"
           }
          },
          "ternary": {
           "aaxis": {
            "gridcolor": "white",
            "linecolor": "white",
            "ticks": ""
           },
           "baxis": {
            "gridcolor": "white",
            "linecolor": "white",
            "ticks": ""
           },
           "bgcolor": "#E5ECF6",
           "caxis": {
            "gridcolor": "white",
            "linecolor": "white",
            "ticks": ""
           }
          },
          "title": {
           "x": 0.05
          },
          "xaxis": {
           "automargin": true,
           "gridcolor": "white",
           "linecolor": "white",
           "ticks": "",
           "title": {
            "standoff": 15
           },
           "zerolinecolor": "white",
           "zerolinewidth": 2
          },
          "yaxis": {
           "automargin": true,
           "gridcolor": "white",
           "linecolor": "white",
           "ticks": "",
           "title": {
            "standoff": 15
           },
           "zerolinecolor": "white",
           "zerolinewidth": 2
          }
         }
        }
       },
       "config": {
        "plotlyServerURL": "https://plot.ly"
       }
      }
     },
     "metadata": {}
    }
   ],
   "metadata": {}
  },
  {
   "cell_type": "code",
   "execution_count": 12,
   "source": [
    "from optuna.visualization import plot_parallel_coordinate\n",
    "\n",
    "plot_parallel_coordinate(study)"
   ],
   "outputs": [
    {
     "output_type": "display_data",
     "data": {
      "application/vnd.plotly.v1+json": {
       "data": [
        {
         "dimensions": [
          {
           "label": "Objective Value",
           "range": [
            0.64140625,
            0.83671875
           ],
           "values": [
            0.64140625,
            0.72421875,
            0.6625,
            0.6484375,
            0.67265625,
            0.765625,
            0.7421875,
            0.7828125,
            0.83125,
            0.82109375,
            0.771875,
            0.803125,
            0.8140625,
            0.815625,
            0.80078125,
            0.82890625,
            0.83671875,
            0.8359375,
            0.79296875,
            0.7921875,
            0.80546875,
            0.78359375,
            0.83203125,
            0.81640625,
            0.80546875,
            0.834375,
            0.81953125,
            0.82421875,
            0.8140625,
            0.82578125,
            0.8125,
            0.81015625,
            0.8140625,
            0.815625,
            0.81015625,
            0.825,
            0.81328125
           ]
          },
          {
           "label": "dropout_l0",
           "range": [
            0.2602582011379707,
            0.49991042603144453
           ],
           "values": [
            0.49991042603144453,
            0.4467898927373322,
            0.49004871993820337,
            0.2602582011379707,
            0.3011076442904499,
            0.4599786517682562,
            0.3323342684111329,
            0.31142092876329847,
            0.416272641715248,
            0.40166090993047754,
            0.3685731816408453,
            0.3137100739972145,
            0.4176252415919155,
            0.4162774804789908,
            0.41011538188858293,
            0.42654856202727615,
            0.3797448746025178,
            0.3761735825467473,
            0.3737372338667225,
            0.4052337530396442,
            0.36632574841742344,
            0.4016458131395273,
            0.36240001462367805,
            0.3961548705464534,
            0.39184565558866635,
            0.4057318763556791,
            0.403261496622062,
            0.3888201842287104,
            0.3723356224932886,
            0.4205542892566232,
            0.4030854733372593,
            0.3857251388692347,
            0.37747245570380256,
            0.4046193543658363,
            0.43517892309348855,
            0.35759235212834356,
            0.3692586483413988
           ]
          },
          {
           "label": "dropout_l1",
           "range": [
            0.21575438576317588,
            0.48346363248991037
           ],
           "values": [
            0.28047450280396624,
            0.48346363248991037,
            0.21575438576317588,
            0.2442535129253178,
            0.43022829131923823
           ]
          },
          {
           "label": "dropout_l2",
           "range": [
            0.35179683855141297,
            0.35179683855141297
           ],
           "values": [
            0.35179683855141297
           ]
          },
          {
           "label": "lr",
           "range": [
            -4.230899126408147,
            -1.6229485755973765
           ],
           "ticktext": [
            "5.88e-05",
            "0.0001",
            "0.001",
            "0.01",
            "0.0238"
           ],
           "tickvals": [
            -4.230899126408147,
            -4,
            -3,
            -2,
            -1.6229485755973765
           ],
           "values": [
            -4.226647578012953,
            -3.792396491650187,
            -4.162007514887166,
            -4.230899126408147,
            -3.877337512867777,
            -2.7929799930433306,
            -2.5004989005954372,
            -2.0639993715207883,
            -2.171135190200503,
            -2.0338053554092608,
            -3.226755043891464,
            -2.108918847236083,
            -2.2144030109838204,
            -3.0918030803436594,
            -1.6745739673419444,
            -2.2321134579480337,
            -2.5613678693826367,
            -2.606827440963667,
            -2.6332434079571865,
            -2.5420258534252818,
            -1.8018410434224699,
            -1.6229485755973765,
            -2.6312042668257765,
            -1.8819678556686976,
            -1.8495455085208228,
            -2.309510041226256,
            -2.2884654431252787,
            -2.433521167906397,
            -2.346949183949737,
            -2.4687748997114185,
            -2.166580997184775,
            -2.0528475426493316,
            -2.3429960646932964,
            -2.2886192789830826,
            -1.9342310768083757,
            -2.398932565207215,
            -2.5789358963754005
           ]
          },
          {
           "label": "n_layers",
           "range": [
            1,
            3
           ],
           "values": [
            2,
            2,
            1,
            1,
            2,
            3,
            2,
            1,
            1,
            1,
            1,
            1,
            1,
            1,
            1,
            1,
            1,
            1,
            1,
            1,
            1,
            1,
            1,
            1,
            1,
            1,
            1,
            1,
            1,
            1,
            1,
            1,
            1,
            1,
            1,
            1,
            1
           ]
          },
          {
           "label": "n_units_l0",
           "range": [
            19,
            126
           ],
           "values": [
            61,
            123,
            65,
            82,
            46,
            40,
            19,
            85,
            114,
            126,
            113,
            94,
            73,
            119,
            104,
            57,
            55,
            61,
            53,
            55,
            86,
            71,
            98,
            88,
            92,
            89,
            98,
            126,
            62,
            111,
            114,
            121,
            90,
            101,
            93,
            98,
            104
           ]
          },
          {
           "label": "n_units_l1",
           "range": [
            43,
            114
           ],
           "values": [
            114,
            108,
            43,
            101,
            61
           ]
          },
          {
           "label": "n_units_l2",
           "range": [
            63,
            63
           ],
           "values": [
            63
           ]
          },
          {
           "label": "optimizer",
           "range": [
            0,
            1
           ],
           "ticktext": [
            "Adam",
            "RMSprop"
           ],
           "tickvals": [
            0,
            1
           ],
           "values": [
            0,
            1,
            0,
            0,
            1,
            0,
            0,
            1,
            0,
            1,
            1,
            1,
            0,
            0,
            0,
            0,
            0,
            0,
            0,
            0,
            0,
            0,
            0,
            0,
            0,
            0,
            0,
            0,
            0,
            0,
            0,
            0,
            0,
            0,
            0,
            0,
            0
           ]
          }
         ],
         "labelangle": 30,
         "labelside": "bottom",
         "line": {
          "color": [
           0.64140625,
           0.72421875,
           0.6625,
           0.6484375,
           0.67265625,
           0.765625,
           0.7421875,
           0.7828125,
           0.83125,
           0.82109375,
           0.771875,
           0.803125,
           0.8140625,
           0.815625,
           0.80078125,
           0.82890625,
           0.83671875,
           0.8359375,
           0.79296875,
           0.7921875,
           0.80546875,
           0.78359375,
           0.83203125,
           0.81640625,
           0.80546875,
           0.834375,
           0.81953125,
           0.82421875,
           0.8140625,
           0.82578125,
           0.8125,
           0.81015625,
           0.8140625,
           0.815625,
           0.81015625,
           0.825,
           0.81328125
          ],
          "colorbar": {
           "title": {
            "text": "Objective Value"
           }
          },
          "colorscale": [
           [
            0,
            "rgb(247,251,255)"
           ],
           [
            0.125,
            "rgb(222,235,247)"
           ],
           [
            0.25,
            "rgb(198,219,239)"
           ],
           [
            0.375,
            "rgb(158,202,225)"
           ],
           [
            0.5,
            "rgb(107,174,214)"
           ],
           [
            0.625,
            "rgb(66,146,198)"
           ],
           [
            0.75,
            "rgb(33,113,181)"
           ],
           [
            0.875,
            "rgb(8,81,156)"
           ],
           [
            1,
            "rgb(8,48,107)"
           ]
          ],
          "reversescale": false,
          "showscale": true
         },
         "type": "parcoords"
        }
       ],
       "layout": {
        "title": {
         "text": "Parallel Coordinate Plot"
        },
        "template": {
         "data": {
          "bar": [
           {
            "error_x": {
             "color": "#2a3f5f"
            },
            "error_y": {
             "color": "#2a3f5f"
            },
            "marker": {
             "line": {
              "color": "#E5ECF6",
              "width": 0.5
             },
             "pattern": {
              "fillmode": "overlay",
              "size": 10,
              "solidity": 0.2
             }
            },
            "type": "bar"
           }
          ],
          "barpolar": [
           {
            "marker": {
             "line": {
              "color": "#E5ECF6",
              "width": 0.5
             },
             "pattern": {
              "fillmode": "overlay",
              "size": 10,
              "solidity": 0.2
             }
            },
            "type": "barpolar"
           }
          ],
          "carpet": [
           {
            "aaxis": {
             "endlinecolor": "#2a3f5f",
             "gridcolor": "white",
             "linecolor": "white",
             "minorgridcolor": "white",
             "startlinecolor": "#2a3f5f"
            },
            "baxis": {
             "endlinecolor": "#2a3f5f",
             "gridcolor": "white",
             "linecolor": "white",
             "minorgridcolor": "white",
             "startlinecolor": "#2a3f5f"
            },
            "type": "carpet"
           }
          ],
          "choropleth": [
           {
            "colorbar": {
             "outlinewidth": 0,
             "ticks": ""
            },
            "type": "choropleth"
           }
          ],
          "contour": [
           {
            "colorbar": {
             "outlinewidth": 0,
             "ticks": ""
            },
            "colorscale": [
             [
              0,
              "#0d0887"
             ],
             [
              0.1111111111111111,
              "#46039f"
             ],
             [
              0.2222222222222222,
              "#7201a8"
             ],
             [
              0.3333333333333333,
              "#9c179e"
             ],
             [
              0.4444444444444444,
              "#bd3786"
             ],
             [
              0.5555555555555556,
              "#d8576b"
             ],
             [
              0.6666666666666666,
              "#ed7953"
             ],
             [
              0.7777777777777778,
              "#fb9f3a"
             ],
             [
              0.8888888888888888,
              "#fdca26"
             ],
             [
              1,
              "#f0f921"
             ]
            ],
            "type": "contour"
           }
          ],
          "contourcarpet": [
           {
            "colorbar": {
             "outlinewidth": 0,
             "ticks": ""
            },
            "type": "contourcarpet"
           }
          ],
          "heatmap": [
           {
            "colorbar": {
             "outlinewidth": 0,
             "ticks": ""
            },
            "colorscale": [
             [
              0,
              "#0d0887"
             ],
             [
              0.1111111111111111,
              "#46039f"
             ],
             [
              0.2222222222222222,
              "#7201a8"
             ],
             [
              0.3333333333333333,
              "#9c179e"
             ],
             [
              0.4444444444444444,
              "#bd3786"
             ],
             [
              0.5555555555555556,
              "#d8576b"
             ],
             [
              0.6666666666666666,
              "#ed7953"
             ],
             [
              0.7777777777777778,
              "#fb9f3a"
             ],
             [
              0.8888888888888888,
              "#fdca26"
             ],
             [
              1,
              "#f0f921"
             ]
            ],
            "type": "heatmap"
           }
          ],
          "heatmapgl": [
           {
            "colorbar": {
             "outlinewidth": 0,
             "ticks": ""
            },
            "colorscale": [
             [
              0,
              "#0d0887"
             ],
             [
              0.1111111111111111,
              "#46039f"
             ],
             [
              0.2222222222222222,
              "#7201a8"
             ],
             [
              0.3333333333333333,
              "#9c179e"
             ],
             [
              0.4444444444444444,
              "#bd3786"
             ],
             [
              0.5555555555555556,
              "#d8576b"
             ],
             [
              0.6666666666666666,
              "#ed7953"
             ],
             [
              0.7777777777777778,
              "#fb9f3a"
             ],
             [
              0.8888888888888888,
              "#fdca26"
             ],
             [
              1,
              "#f0f921"
             ]
            ],
            "type": "heatmapgl"
           }
          ],
          "histogram": [
           {
            "marker": {
             "pattern": {
              "fillmode": "overlay",
              "size": 10,
              "solidity": 0.2
             }
            },
            "type": "histogram"
           }
          ],
          "histogram2d": [
           {
            "colorbar": {
             "outlinewidth": 0,
             "ticks": ""
            },
            "colorscale": [
             [
              0,
              "#0d0887"
             ],
             [
              0.1111111111111111,
              "#46039f"
             ],
             [
              0.2222222222222222,
              "#7201a8"
             ],
             [
              0.3333333333333333,
              "#9c179e"
             ],
             [
              0.4444444444444444,
              "#bd3786"
             ],
             [
              0.5555555555555556,
              "#d8576b"
             ],
             [
              0.6666666666666666,
              "#ed7953"
             ],
             [
              0.7777777777777778,
              "#fb9f3a"
             ],
             [
              0.8888888888888888,
              "#fdca26"
             ],
             [
              1,
              "#f0f921"
             ]
            ],
            "type": "histogram2d"
           }
          ],
          "histogram2dcontour": [
           {
            "colorbar": {
             "outlinewidth": 0,
             "ticks": ""
            },
            "colorscale": [
             [
              0,
              "#0d0887"
             ],
             [
              0.1111111111111111,
              "#46039f"
             ],
             [
              0.2222222222222222,
              "#7201a8"
             ],
             [
              0.3333333333333333,
              "#9c179e"
             ],
             [
              0.4444444444444444,
              "#bd3786"
             ],
             [
              0.5555555555555556,
              "#d8576b"
             ],
             [
              0.6666666666666666,
              "#ed7953"
             ],
             [
              0.7777777777777778,
              "#fb9f3a"
             ],
             [
              0.8888888888888888,
              "#fdca26"
             ],
             [
              1,
              "#f0f921"
             ]
            ],
            "type": "histogram2dcontour"
           }
          ],
          "mesh3d": [
           {
            "colorbar": {
             "outlinewidth": 0,
             "ticks": ""
            },
            "type": "mesh3d"
           }
          ],
          "parcoords": [
           {
            "line": {
             "colorbar": {
              "outlinewidth": 0,
              "ticks": ""
             }
            },
            "type": "parcoords"
           }
          ],
          "pie": [
           {
            "automargin": true,
            "type": "pie"
           }
          ],
          "scatter": [
           {
            "marker": {
             "colorbar": {
              "outlinewidth": 0,
              "ticks": ""
             }
            },
            "type": "scatter"
           }
          ],
          "scatter3d": [
           {
            "line": {
             "colorbar": {
              "outlinewidth": 0,
              "ticks": ""
             }
            },
            "marker": {
             "colorbar": {
              "outlinewidth": 0,
              "ticks": ""
             }
            },
            "type": "scatter3d"
           }
          ],
          "scattercarpet": [
           {
            "marker": {
             "colorbar": {
              "outlinewidth": 0,
              "ticks": ""
             }
            },
            "type": "scattercarpet"
           }
          ],
          "scattergeo": [
           {
            "marker": {
             "colorbar": {
              "outlinewidth": 0,
              "ticks": ""
             }
            },
            "type": "scattergeo"
           }
          ],
          "scattergl": [
           {
            "marker": {
             "colorbar": {
              "outlinewidth": 0,
              "ticks": ""
             }
            },
            "type": "scattergl"
           }
          ],
          "scattermapbox": [
           {
            "marker": {
             "colorbar": {
              "outlinewidth": 0,
              "ticks": ""
             }
            },
            "type": "scattermapbox"
           }
          ],
          "scatterpolar": [
           {
            "marker": {
             "colorbar": {
              "outlinewidth": 0,
              "ticks": ""
             }
            },
            "type": "scatterpolar"
           }
          ],
          "scatterpolargl": [
           {
            "marker": {
             "colorbar": {
              "outlinewidth": 0,
              "ticks": ""
             }
            },
            "type": "scatterpolargl"
           }
          ],
          "scatterternary": [
           {
            "marker": {
             "colorbar": {
              "outlinewidth": 0,
              "ticks": ""
             }
            },
            "type": "scatterternary"
           }
          ],
          "surface": [
           {
            "colorbar": {
             "outlinewidth": 0,
             "ticks": ""
            },
            "colorscale": [
             [
              0,
              "#0d0887"
             ],
             [
              0.1111111111111111,
              "#46039f"
             ],
             [
              0.2222222222222222,
              "#7201a8"
             ],
             [
              0.3333333333333333,
              "#9c179e"
             ],
             [
              0.4444444444444444,
              "#bd3786"
             ],
             [
              0.5555555555555556,
              "#d8576b"
             ],
             [
              0.6666666666666666,
              "#ed7953"
             ],
             [
              0.7777777777777778,
              "#fb9f3a"
             ],
             [
              0.8888888888888888,
              "#fdca26"
             ],
             [
              1,
              "#f0f921"
             ]
            ],
            "type": "surface"
           }
          ],
          "table": [
           {
            "cells": {
             "fill": {
              "color": "#EBF0F8"
             },
             "line": {
              "color": "white"
             }
            },
            "header": {
             "fill": {
              "color": "#C8D4E3"
             },
             "line": {
              "color": "white"
             }
            },
            "type": "table"
           }
          ]
         },
         "layout": {
          "annotationdefaults": {
           "arrowcolor": "#2a3f5f",
           "arrowhead": 0,
           "arrowwidth": 1
          },
          "autotypenumbers": "strict",
          "coloraxis": {
           "colorbar": {
            "outlinewidth": 0,
            "ticks": ""
           }
          },
          "colorscale": {
           "diverging": [
            [
             0,
             "#8e0152"
            ],
            [
             0.1,
             "#c51b7d"
            ],
            [
             0.2,
             "#de77ae"
            ],
            [
             0.3,
             "#f1b6da"
            ],
            [
             0.4,
             "#fde0ef"
            ],
            [
             0.5,
             "#f7f7f7"
            ],
            [
             0.6,
             "#e6f5d0"
            ],
            [
             0.7,
             "#b8e186"
            ],
            [
             0.8,
             "#7fbc41"
            ],
            [
             0.9,
             "#4d9221"
            ],
            [
             1,
             "#276419"
            ]
           ],
           "sequential": [
            [
             0,
             "#0d0887"
            ],
            [
             0.1111111111111111,
             "#46039f"
            ],
            [
             0.2222222222222222,
             "#7201a8"
            ],
            [
             0.3333333333333333,
             "#9c179e"
            ],
            [
             0.4444444444444444,
             "#bd3786"
            ],
            [
             0.5555555555555556,
             "#d8576b"
            ],
            [
             0.6666666666666666,
             "#ed7953"
            ],
            [
             0.7777777777777778,
             "#fb9f3a"
            ],
            [
             0.8888888888888888,
             "#fdca26"
            ],
            [
             1,
             "#f0f921"
            ]
           ],
           "sequentialminus": [
            [
             0,
             "#0d0887"
            ],
            [
             0.1111111111111111,
             "#46039f"
            ],
            [
             0.2222222222222222,
             "#7201a8"
            ],
            [
             0.3333333333333333,
             "#9c179e"
            ],
            [
             0.4444444444444444,
             "#bd3786"
            ],
            [
             0.5555555555555556,
             "#d8576b"
            ],
            [
             0.6666666666666666,
             "#ed7953"
            ],
            [
             0.7777777777777778,
             "#fb9f3a"
            ],
            [
             0.8888888888888888,
             "#fdca26"
            ],
            [
             1,
             "#f0f921"
            ]
           ]
          },
          "colorway": [
           "#636efa",
           "#EF553B",
           "#00cc96",
           "#ab63fa",
           "#FFA15A",
           "#19d3f3",
           "#FF6692",
           "#B6E880",
           "#FF97FF",
           "#FECB52"
          ],
          "font": {
           "color": "#2a3f5f"
          },
          "geo": {
           "bgcolor": "white",
           "lakecolor": "white",
           "landcolor": "#E5ECF6",
           "showlakes": true,
           "showland": true,
           "subunitcolor": "white"
          },
          "hoverlabel": {
           "align": "left"
          },
          "hovermode": "closest",
          "mapbox": {
           "style": "light"
          },
          "paper_bgcolor": "white",
          "plot_bgcolor": "#E5ECF6",
          "polar": {
           "angularaxis": {
            "gridcolor": "white",
            "linecolor": "white",
            "ticks": ""
           },
           "bgcolor": "#E5ECF6",
           "radialaxis": {
            "gridcolor": "white",
            "linecolor": "white",
            "ticks": ""
           }
          },
          "scene": {
           "xaxis": {
            "backgroundcolor": "#E5ECF6",
            "gridcolor": "white",
            "gridwidth": 2,
            "linecolor": "white",
            "showbackground": true,
            "ticks": "",
            "zerolinecolor": "white"
           },
           "yaxis": {
            "backgroundcolor": "#E5ECF6",
            "gridcolor": "white",
            "gridwidth": 2,
            "linecolor": "white",
            "showbackground": true,
            "ticks": "",
            "zerolinecolor": "white"
           },
           "zaxis": {
            "backgroundcolor": "#E5ECF6",
            "gridcolor": "white",
            "gridwidth": 2,
            "linecolor": "white",
            "showbackground": true,
            "ticks": "",
            "zerolinecolor": "white"
           }
          },
          "shapedefaults": {
           "line": {
            "color": "#2a3f5f"
           }
          },
          "ternary": {
           "aaxis": {
            "gridcolor": "white",
            "linecolor": "white",
            "ticks": ""
           },
           "baxis": {
            "gridcolor": "white",
            "linecolor": "white",
            "ticks": ""
           },
           "bgcolor": "#E5ECF6",
           "caxis": {
            "gridcolor": "white",
            "linecolor": "white",
            "ticks": ""
           }
          },
          "title": {
           "x": 0.05
          },
          "xaxis": {
           "automargin": true,
           "gridcolor": "white",
           "linecolor": "white",
           "ticks": "",
           "title": {
            "standoff": 15
           },
           "zerolinecolor": "white",
           "zerolinewidth": 2
          },
          "yaxis": {
           "automargin": true,
           "gridcolor": "white",
           "linecolor": "white",
           "ticks": "",
           "title": {
            "standoff": 15
           },
           "zerolinecolor": "white",
           "zerolinewidth": 2
          }
         }
        }
       },
       "config": {
        "plotlyServerURL": "https://plot.ly"
       }
      }
     },
     "metadata": {}
    }
   ],
   "metadata": {}
  },
  {
   "cell_type": "code",
   "execution_count": 13,
   "source": [
    "plot_parallel_coordinate(study, params=['lr', 'n_layers'])"
   ],
   "outputs": [
    {
     "output_type": "display_data",
     "data": {
      "application/vnd.plotly.v1+json": {
       "data": [
        {
         "dimensions": [
          {
           "label": "Objective Value",
           "range": [
            0.64140625,
            0.83671875
           ],
           "values": [
            0.64140625,
            0.72421875,
            0.6625,
            0.6484375,
            0.67265625,
            0.765625,
            0.7421875,
            0.7828125,
            0.83125,
            0.82109375,
            0.771875,
            0.803125,
            0.8140625,
            0.815625,
            0.80078125,
            0.82890625,
            0.83671875,
            0.8359375,
            0.79296875,
            0.7921875,
            0.80546875,
            0.78359375,
            0.83203125,
            0.81640625,
            0.80546875,
            0.834375,
            0.81953125,
            0.82421875,
            0.8140625,
            0.82578125,
            0.8125,
            0.81015625,
            0.8140625,
            0.815625,
            0.81015625,
            0.825,
            0.81328125
           ]
          },
          {
           "label": "lr",
           "range": [
            -4.230899126408147,
            -1.6229485755973765
           ],
           "ticktext": [
            "5.88e-05",
            "0.0001",
            "0.001",
            "0.01",
            "0.0238"
           ],
           "tickvals": [
            -4.230899126408147,
            -4,
            -3,
            -2,
            -1.6229485755973765
           ],
           "values": [
            -4.226647578012953,
            -3.792396491650187,
            -4.162007514887166,
            -4.230899126408147,
            -3.877337512867777,
            -2.7929799930433306,
            -2.5004989005954372,
            -2.0639993715207883,
            -2.171135190200503,
            -2.0338053554092608,
            -3.226755043891464,
            -2.108918847236083,
            -2.2144030109838204,
            -3.0918030803436594,
            -1.6745739673419444,
            -2.2321134579480337,
            -2.5613678693826367,
            -2.606827440963667,
            -2.6332434079571865,
            -2.5420258534252818,
            -1.8018410434224699,
            -1.6229485755973765,
            -2.6312042668257765,
            -1.8819678556686976,
            -1.8495455085208228,
            -2.309510041226256,
            -2.2884654431252787,
            -2.433521167906397,
            -2.346949183949737,
            -2.4687748997114185,
            -2.166580997184775,
            -2.0528475426493316,
            -2.3429960646932964,
            -2.2886192789830826,
            -1.9342310768083757,
            -2.398932565207215,
            -2.5789358963754005
           ]
          },
          {
           "label": "n_layers",
           "range": [
            1,
            3
           ],
           "values": [
            2,
            2,
            1,
            1,
            2,
            3,
            2,
            1,
            1,
            1,
            1,
            1,
            1,
            1,
            1,
            1,
            1,
            1,
            1,
            1,
            1,
            1,
            1,
            1,
            1,
            1,
            1,
            1,
            1,
            1,
            1,
            1,
            1,
            1,
            1,
            1,
            1
           ]
          }
         ],
         "labelangle": 30,
         "labelside": "bottom",
         "line": {
          "color": [
           0.64140625,
           0.72421875,
           0.6625,
           0.6484375,
           0.67265625,
           0.765625,
           0.7421875,
           0.7828125,
           0.83125,
           0.82109375,
           0.771875,
           0.803125,
           0.8140625,
           0.815625,
           0.80078125,
           0.82890625,
           0.83671875,
           0.8359375,
           0.79296875,
           0.7921875,
           0.80546875,
           0.78359375,
           0.83203125,
           0.81640625,
           0.80546875,
           0.834375,
           0.81953125,
           0.82421875,
           0.8140625,
           0.82578125,
           0.8125,
           0.81015625,
           0.8140625,
           0.815625,
           0.81015625,
           0.825,
           0.81328125
          ],
          "colorbar": {
           "title": {
            "text": "Objective Value"
           }
          },
          "colorscale": [
           [
            0,
            "rgb(247,251,255)"
           ],
           [
            0.125,
            "rgb(222,235,247)"
           ],
           [
            0.25,
            "rgb(198,219,239)"
           ],
           [
            0.375,
            "rgb(158,202,225)"
           ],
           [
            0.5,
            "rgb(107,174,214)"
           ],
           [
            0.625,
            "rgb(66,146,198)"
           ],
           [
            0.75,
            "rgb(33,113,181)"
           ],
           [
            0.875,
            "rgb(8,81,156)"
           ],
           [
            1,
            "rgb(8,48,107)"
           ]
          ],
          "reversescale": false,
          "showscale": true
         },
         "type": "parcoords"
        }
       ],
       "layout": {
        "title": {
         "text": "Parallel Coordinate Plot"
        },
        "template": {
         "data": {
          "bar": [
           {
            "error_x": {
             "color": "#2a3f5f"
            },
            "error_y": {
             "color": "#2a3f5f"
            },
            "marker": {
             "line": {
              "color": "#E5ECF6",
              "width": 0.5
             },
             "pattern": {
              "fillmode": "overlay",
              "size": 10,
              "solidity": 0.2
             }
            },
            "type": "bar"
           }
          ],
          "barpolar": [
           {
            "marker": {
             "line": {
              "color": "#E5ECF6",
              "width": 0.5
             },
             "pattern": {
              "fillmode": "overlay",
              "size": 10,
              "solidity": 0.2
             }
            },
            "type": "barpolar"
           }
          ],
          "carpet": [
           {
            "aaxis": {
             "endlinecolor": "#2a3f5f",
             "gridcolor": "white",
             "linecolor": "white",
             "minorgridcolor": "white",
             "startlinecolor": "#2a3f5f"
            },
            "baxis": {
             "endlinecolor": "#2a3f5f",
             "gridcolor": "white",
             "linecolor": "white",
             "minorgridcolor": "white",
             "startlinecolor": "#2a3f5f"
            },
            "type": "carpet"
           }
          ],
          "choropleth": [
           {
            "colorbar": {
             "outlinewidth": 0,
             "ticks": ""
            },
            "type": "choropleth"
           }
          ],
          "contour": [
           {
            "colorbar": {
             "outlinewidth": 0,
             "ticks": ""
            },
            "colorscale": [
             [
              0,
              "#0d0887"
             ],
             [
              0.1111111111111111,
              "#46039f"
             ],
             [
              0.2222222222222222,
              "#7201a8"
             ],
             [
              0.3333333333333333,
              "#9c179e"
             ],
             [
              0.4444444444444444,
              "#bd3786"
             ],
             [
              0.5555555555555556,
              "#d8576b"
             ],
             [
              0.6666666666666666,
              "#ed7953"
             ],
             [
              0.7777777777777778,
              "#fb9f3a"
             ],
             [
              0.8888888888888888,
              "#fdca26"
             ],
             [
              1,
              "#f0f921"
             ]
            ],
            "type": "contour"
           }
          ],
          "contourcarpet": [
           {
            "colorbar": {
             "outlinewidth": 0,
             "ticks": ""
            },
            "type": "contourcarpet"
           }
          ],
          "heatmap": [
           {
            "colorbar": {
             "outlinewidth": 0,
             "ticks": ""
            },
            "colorscale": [
             [
              0,
              "#0d0887"
             ],
             [
              0.1111111111111111,
              "#46039f"
             ],
             [
              0.2222222222222222,
              "#7201a8"
             ],
             [
              0.3333333333333333,
              "#9c179e"
             ],
             [
              0.4444444444444444,
              "#bd3786"
             ],
             [
              0.5555555555555556,
              "#d8576b"
             ],
             [
              0.6666666666666666,
              "#ed7953"
             ],
             [
              0.7777777777777778,
              "#fb9f3a"
             ],
             [
              0.8888888888888888,
              "#fdca26"
             ],
             [
              1,
              "#f0f921"
             ]
            ],
            "type": "heatmap"
           }
          ],
          "heatmapgl": [
           {
            "colorbar": {
             "outlinewidth": 0,
             "ticks": ""
            },
            "colorscale": [
             [
              0,
              "#0d0887"
             ],
             [
              0.1111111111111111,
              "#46039f"
             ],
             [
              0.2222222222222222,
              "#7201a8"
             ],
             [
              0.3333333333333333,
              "#9c179e"
             ],
             [
              0.4444444444444444,
              "#bd3786"
             ],
             [
              0.5555555555555556,
              "#d8576b"
             ],
             [
              0.6666666666666666,
              "#ed7953"
             ],
             [
              0.7777777777777778,
              "#fb9f3a"
             ],
             [
              0.8888888888888888,
              "#fdca26"
             ],
             [
              1,
              "#f0f921"
             ]
            ],
            "type": "heatmapgl"
           }
          ],
          "histogram": [
           {
            "marker": {
             "pattern": {
              "fillmode": "overlay",
              "size": 10,
              "solidity": 0.2
             }
            },
            "type": "histogram"
           }
          ],
          "histogram2d": [
           {
            "colorbar": {
             "outlinewidth": 0,
             "ticks": ""
            },
            "colorscale": [
             [
              0,
              "#0d0887"
             ],
             [
              0.1111111111111111,
              "#46039f"
             ],
             [
              0.2222222222222222,
              "#7201a8"
             ],
             [
              0.3333333333333333,
              "#9c179e"
             ],
             [
              0.4444444444444444,
              "#bd3786"
             ],
             [
              0.5555555555555556,
              "#d8576b"
             ],
             [
              0.6666666666666666,
              "#ed7953"
             ],
             [
              0.7777777777777778,
              "#fb9f3a"
             ],
             [
              0.8888888888888888,
              "#fdca26"
             ],
             [
              1,
              "#f0f921"
             ]
            ],
            "type": "histogram2d"
           }
          ],
          "histogram2dcontour": [
           {
            "colorbar": {
             "outlinewidth": 0,
             "ticks": ""
            },
            "colorscale": [
             [
              0,
              "#0d0887"
             ],
             [
              0.1111111111111111,
              "#46039f"
             ],
             [
              0.2222222222222222,
              "#7201a8"
             ],
             [
              0.3333333333333333,
              "#9c179e"
             ],
             [
              0.4444444444444444,
              "#bd3786"
             ],
             [
              0.5555555555555556,
              "#d8576b"
             ],
             [
              0.6666666666666666,
              "#ed7953"
             ],
             [
              0.7777777777777778,
              "#fb9f3a"
             ],
             [
              0.8888888888888888,
              "#fdca26"
             ],
             [
              1,
              "#f0f921"
             ]
            ],
            "type": "histogram2dcontour"
           }
          ],
          "mesh3d": [
           {
            "colorbar": {
             "outlinewidth": 0,
             "ticks": ""
            },
            "type": "mesh3d"
           }
          ],
          "parcoords": [
           {
            "line": {
             "colorbar": {
              "outlinewidth": 0,
              "ticks": ""
             }
            },
            "type": "parcoords"
           }
          ],
          "pie": [
           {
            "automargin": true,
            "type": "pie"
           }
          ],
          "scatter": [
           {
            "marker": {
             "colorbar": {
              "outlinewidth": 0,
              "ticks": ""
             }
            },
            "type": "scatter"
           }
          ],
          "scatter3d": [
           {
            "line": {
             "colorbar": {
              "outlinewidth": 0,
              "ticks": ""
             }
            },
            "marker": {
             "colorbar": {
              "outlinewidth": 0,
              "ticks": ""
             }
            },
            "type": "scatter3d"
           }
          ],
          "scattercarpet": [
           {
            "marker": {
             "colorbar": {
              "outlinewidth": 0,
              "ticks": ""
             }
            },
            "type": "scattercarpet"
           }
          ],
          "scattergeo": [
           {
            "marker": {
             "colorbar": {
              "outlinewidth": 0,
              "ticks": ""
             }
            },
            "type": "scattergeo"
           }
          ],
          "scattergl": [
           {
            "marker": {
             "colorbar": {
              "outlinewidth": 0,
              "ticks": ""
             }
            },
            "type": "scattergl"
           }
          ],
          "scattermapbox": [
           {
            "marker": {
             "colorbar": {
              "outlinewidth": 0,
              "ticks": ""
             }
            },
            "type": "scattermapbox"
           }
          ],
          "scatterpolar": [
           {
            "marker": {
             "colorbar": {
              "outlinewidth": 0,
              "ticks": ""
             }
            },
            "type": "scatterpolar"
           }
          ],
          "scatterpolargl": [
           {
            "marker": {
             "colorbar": {
              "outlinewidth": 0,
              "ticks": ""
             }
            },
            "type": "scatterpolargl"
           }
          ],
          "scatterternary": [
           {
            "marker": {
             "colorbar": {
              "outlinewidth": 0,
              "ticks": ""
             }
            },
            "type": "scatterternary"
           }
          ],
          "surface": [
           {
            "colorbar": {
             "outlinewidth": 0,
             "ticks": ""
            },
            "colorscale": [
             [
              0,
              "#0d0887"
             ],
             [
              0.1111111111111111,
              "#46039f"
             ],
             [
              0.2222222222222222,
              "#7201a8"
             ],
             [
              0.3333333333333333,
              "#9c179e"
             ],
             [
              0.4444444444444444,
              "#bd3786"
             ],
             [
              0.5555555555555556,
              "#d8576b"
             ],
             [
              0.6666666666666666,
              "#ed7953"
             ],
             [
              0.7777777777777778,
              "#fb9f3a"
             ],
             [
              0.8888888888888888,
              "#fdca26"
             ],
             [
              1,
              "#f0f921"
             ]
            ],
            "type": "surface"
           }
          ],
          "table": [
           {
            "cells": {
             "fill": {
              "color": "#EBF0F8"
             },
             "line": {
              "color": "white"
             }
            },
            "header": {
             "fill": {
              "color": "#C8D4E3"
             },
             "line": {
              "color": "white"
             }
            },
            "type": "table"
           }
          ]
         },
         "layout": {
          "annotationdefaults": {
           "arrowcolor": "#2a3f5f",
           "arrowhead": 0,
           "arrowwidth": 1
          },
          "autotypenumbers": "strict",
          "coloraxis": {
           "colorbar": {
            "outlinewidth": 0,
            "ticks": ""
           }
          },
          "colorscale": {
           "diverging": [
            [
             0,
             "#8e0152"
            ],
            [
             0.1,
             "#c51b7d"
            ],
            [
             0.2,
             "#de77ae"
            ],
            [
             0.3,
             "#f1b6da"
            ],
            [
             0.4,
             "#fde0ef"
            ],
            [
             0.5,
             "#f7f7f7"
            ],
            [
             0.6,
             "#e6f5d0"
            ],
            [
             0.7,
             "#b8e186"
            ],
            [
             0.8,
             "#7fbc41"
            ],
            [
             0.9,
             "#4d9221"
            ],
            [
             1,
             "#276419"
            ]
           ],
           "sequential": [
            [
             0,
             "#0d0887"
            ],
            [
             0.1111111111111111,
             "#46039f"
            ],
            [
             0.2222222222222222,
             "#7201a8"
            ],
            [
             0.3333333333333333,
             "#9c179e"
            ],
            [
             0.4444444444444444,
             "#bd3786"
            ],
            [
             0.5555555555555556,
             "#d8576b"
            ],
            [
             0.6666666666666666,
             "#ed7953"
            ],
            [
             0.7777777777777778,
             "#fb9f3a"
            ],
            [
             0.8888888888888888,
             "#fdca26"
            ],
            [
             1,
             "#f0f921"
            ]
           ],
           "sequentialminus": [
            [
             0,
             "#0d0887"
            ],
            [
             0.1111111111111111,
             "#46039f"
            ],
            [
             0.2222222222222222,
             "#7201a8"
            ],
            [
             0.3333333333333333,
             "#9c179e"
            ],
            [
             0.4444444444444444,
             "#bd3786"
            ],
            [
             0.5555555555555556,
             "#d8576b"
            ],
            [
             0.6666666666666666,
             "#ed7953"
            ],
            [
             0.7777777777777778,
             "#fb9f3a"
            ],
            [
             0.8888888888888888,
             "#fdca26"
            ],
            [
             1,
             "#f0f921"
            ]
           ]
          },
          "colorway": [
           "#636efa",
           "#EF553B",
           "#00cc96",
           "#ab63fa",
           "#FFA15A",
           "#19d3f3",
           "#FF6692",
           "#B6E880",
           "#FF97FF",
           "#FECB52"
          ],
          "font": {
           "color": "#2a3f5f"
          },
          "geo": {
           "bgcolor": "white",
           "lakecolor": "white",
           "landcolor": "#E5ECF6",
           "showlakes": true,
           "showland": true,
           "subunitcolor": "white"
          },
          "hoverlabel": {
           "align": "left"
          },
          "hovermode": "closest",
          "mapbox": {
           "style": "light"
          },
          "paper_bgcolor": "white",
          "plot_bgcolor": "#E5ECF6",
          "polar": {
           "angularaxis": {
            "gridcolor": "white",
            "linecolor": "white",
            "ticks": ""
           },
           "bgcolor": "#E5ECF6",
           "radialaxis": {
            "gridcolor": "white",
            "linecolor": "white",
            "ticks": ""
           }
          },
          "scene": {
           "xaxis": {
            "backgroundcolor": "#E5ECF6",
            "gridcolor": "white",
            "gridwidth": 2,
            "linecolor": "white",
            "showbackground": true,
            "ticks": "",
            "zerolinecolor": "white"
           },
           "yaxis": {
            "backgroundcolor": "#E5ECF6",
            "gridcolor": "white",
            "gridwidth": 2,
            "linecolor": "white",
            "showbackground": true,
            "ticks": "",
            "zerolinecolor": "white"
           },
           "zaxis": {
            "backgroundcolor": "#E5ECF6",
            "gridcolor": "white",
            "gridwidth": 2,
            "linecolor": "white",
            "showbackground": true,
            "ticks": "",
            "zerolinecolor": "white"
           }
          },
          "shapedefaults": {
           "line": {
            "color": "#2a3f5f"
           }
          },
          "ternary": {
           "aaxis": {
            "gridcolor": "white",
            "linecolor": "white",
            "ticks": ""
           },
           "baxis": {
            "gridcolor": "white",
            "linecolor": "white",
            "ticks": ""
           },
           "bgcolor": "#E5ECF6",
           "caxis": {
            "gridcolor": "white",
            "linecolor": "white",
            "ticks": ""
           }
          },
          "title": {
           "x": 0.05
          },
          "xaxis": {
           "automargin": true,
           "gridcolor": "white",
           "linecolor": "white",
           "ticks": "",
           "title": {
            "standoff": 15
           },
           "zerolinecolor": "white",
           "zerolinewidth": 2
          },
          "yaxis": {
           "automargin": true,
           "gridcolor": "white",
           "linecolor": "white",
           "ticks": "",
           "title": {
            "standoff": 15
           },
           "zerolinecolor": "white",
           "zerolinewidth": 2
          }
         }
        }
       },
       "config": {
        "plotlyServerURL": "https://plot.ly"
       }
      }
     },
     "metadata": {}
    }
   ],
   "metadata": {}
  },
  {
   "cell_type": "code",
   "execution_count": 14,
   "source": [
    "from optuna.visualization import plot_slice\n",
    "plot_slice(study)"
   ],
   "outputs": [
    {
     "output_type": "display_data",
     "data": {
      "application/vnd.plotly.v1+json": {
       "data": [
        {
         "marker": {
          "color": [
           0,
           1,
           2,
           3,
           4,
           5,
           8,
           9,
           15,
           16,
           20,
           21,
           25,
           27,
           30,
           31,
           33,
           34,
           35,
           41,
           44,
           50,
           54,
           57,
           61,
           62,
           63,
           64,
           68,
           80,
           84,
           85,
           86,
           91,
           93,
           94,
           96
          ],
          "colorbar": {
           "title": {
            "text": "#Trials"
           },
           "x": 1,
           "xpad": 40
          },
          "colorscale": [
           [
            0,
            "rgb(247,251,255)"
           ],
           [
            0.125,
            "rgb(222,235,247)"
           ],
           [
            0.25,
            "rgb(198,219,239)"
           ],
           [
            0.375,
            "rgb(158,202,225)"
           ],
           [
            0.5,
            "rgb(107,174,214)"
           ],
           [
            0.625,
            "rgb(66,146,198)"
           ],
           [
            0.75,
            "rgb(33,113,181)"
           ],
           [
            0.875,
            "rgb(8,81,156)"
           ],
           [
            1,
            "rgb(8,48,107)"
           ]
          ],
          "line": {
           "color": "Grey",
           "width": 0.5
          },
          "showscale": true
         },
         "mode": "markers",
         "showlegend": false,
         "x": [
          0.49991042603144453,
          0.4467898927373322,
          0.49004871993820337,
          0.2602582011379707,
          0.3011076442904499,
          0.4599786517682562,
          0.3323342684111329,
          0.31142092876329847,
          0.416272641715248,
          0.40166090993047754,
          0.3685731816408453,
          0.3137100739972145,
          0.4176252415919155,
          0.4162774804789908,
          0.41011538188858293,
          0.42654856202727615,
          0.3797448746025178,
          0.3761735825467473,
          0.3737372338667225,
          0.4052337530396442,
          0.36632574841742344,
          0.4016458131395273,
          0.36240001462367805,
          0.3961548705464534,
          0.39184565558866635,
          0.4057318763556791,
          0.403261496622062,
          0.3888201842287104,
          0.3723356224932886,
          0.4205542892566232,
          0.4030854733372593,
          0.3857251388692347,
          0.37747245570380256,
          0.4046193543658363,
          0.43517892309348855,
          0.35759235212834356,
          0.3692586483413988
         ],
         "y": [
          0.64140625,
          0.72421875,
          0.6625,
          0.6484375,
          0.67265625,
          0.765625,
          0.7421875,
          0.7828125,
          0.83125,
          0.82109375,
          0.771875,
          0.803125,
          0.8140625,
          0.815625,
          0.80078125,
          0.82890625,
          0.83671875,
          0.8359375,
          0.79296875,
          0.7921875,
          0.80546875,
          0.78359375,
          0.83203125,
          0.81640625,
          0.80546875,
          0.834375,
          0.81953125,
          0.82421875,
          0.8140625,
          0.82578125,
          0.8125,
          0.81015625,
          0.8140625,
          0.815625,
          0.81015625,
          0.825,
          0.81328125
         ],
         "type": "scatter",
         "xaxis": "x",
         "yaxis": "y"
        },
        {
         "marker": {
          "color": [
           0,
           1,
           4,
           5,
           8
          ],
          "colorbar": {
           "title": {
            "text": "#Trials"
           },
           "x": 1,
           "xpad": 40
          },
          "colorscale": [
           [
            0,
            "rgb(247,251,255)"
           ],
           [
            0.125,
            "rgb(222,235,247)"
           ],
           [
            0.25,
            "rgb(198,219,239)"
           ],
           [
            0.375,
            "rgb(158,202,225)"
           ],
           [
            0.5,
            "rgb(107,174,214)"
           ],
           [
            0.625,
            "rgb(66,146,198)"
           ],
           [
            0.75,
            "rgb(33,113,181)"
           ],
           [
            0.875,
            "rgb(8,81,156)"
           ],
           [
            1,
            "rgb(8,48,107)"
           ]
          ],
          "line": {
           "color": "Grey",
           "width": 0.5
          },
          "showscale": false
         },
         "mode": "markers",
         "showlegend": false,
         "x": [
          0.28047450280396624,
          0.48346363248991037,
          0.21575438576317588,
          0.2442535129253178,
          0.43022829131923823
         ],
         "y": [
          0.64140625,
          0.72421875,
          0.67265625,
          0.765625,
          0.7421875
         ],
         "type": "scatter",
         "xaxis": "x2",
         "yaxis": "y2"
        },
        {
         "marker": {
          "color": [
           5
          ],
          "colorbar": {
           "title": {
            "text": "#Trials"
           },
           "x": 1,
           "xpad": 40
          },
          "colorscale": [
           [
            0,
            "rgb(247,251,255)"
           ],
           [
            0.125,
            "rgb(222,235,247)"
           ],
           [
            0.25,
            "rgb(198,219,239)"
           ],
           [
            0.375,
            "rgb(158,202,225)"
           ],
           [
            0.5,
            "rgb(107,174,214)"
           ],
           [
            0.625,
            "rgb(66,146,198)"
           ],
           [
            0.75,
            "rgb(33,113,181)"
           ],
           [
            0.875,
            "rgb(8,81,156)"
           ],
           [
            1,
            "rgb(8,48,107)"
           ]
          ],
          "line": {
           "color": "Grey",
           "width": 0.5
          },
          "showscale": false
         },
         "mode": "markers",
         "showlegend": false,
         "x": [
          0.35179683855141297
         ],
         "y": [
          0.765625
         ],
         "type": "scatter",
         "xaxis": "x3",
         "yaxis": "y3"
        },
        {
         "marker": {
          "color": [
           0,
           1,
           2,
           3,
           4,
           5,
           8,
           9,
           15,
           16,
           20,
           21,
           25,
           27,
           30,
           31,
           33,
           34,
           35,
           41,
           44,
           50,
           54,
           57,
           61,
           62,
           63,
           64,
           68,
           80,
           84,
           85,
           86,
           91,
           93,
           94,
           96
          ],
          "colorbar": {
           "title": {
            "text": "#Trials"
           },
           "x": 1,
           "xpad": 40
          },
          "colorscale": [
           [
            0,
            "rgb(247,251,255)"
           ],
           [
            0.125,
            "rgb(222,235,247)"
           ],
           [
            0.25,
            "rgb(198,219,239)"
           ],
           [
            0.375,
            "rgb(158,202,225)"
           ],
           [
            0.5,
            "rgb(107,174,214)"
           ],
           [
            0.625,
            "rgb(66,146,198)"
           ],
           [
            0.75,
            "rgb(33,113,181)"
           ],
           [
            0.875,
            "rgb(8,81,156)"
           ],
           [
            1,
            "rgb(8,48,107)"
           ]
          ],
          "line": {
           "color": "Grey",
           "width": 0.5
          },
          "showscale": false
         },
         "mode": "markers",
         "showlegend": false,
         "x": [
          0.000059340666785345773,
          0.00016128853914478672,
          0.00006886403802372456,
          0.00005876258245472198,
          0.00013263632710883237,
          0.0016107198356598163,
          0.003158647044441662,
          0.00862979796607314,
          0.006743180886093113,
          0.00925112703353322,
          0.0005932598479371538,
          0.0077818194942438626,
          0.006103753537831752,
          0.000809462846076977,
          0.021155633400604067,
          0.005859850579234026,
          0.002745567533351846,
          0.002472706434914364,
          0.0023267868036857165,
          0.00287060969037103,
          0.01578188798534642,
          0.02382601574276138,
          0.0023377374445239987,
          0.013122970251652976,
          0.014140165464131263,
          0.004903316858108346,
          0.005146767582885322,
          0.003685350786811878,
          0.004498324859394809,
          0.0033980135026560787,
          0.006814264748541518,
          0.008854263806897779,
          0.0045394573000566854,
          0.005144944816934204,
          0.011635067929552913,
          0.003990868655044566,
          0.0026367205477363796
         ],
         "y": [
          0.64140625,
          0.72421875,
          0.6625,
          0.6484375,
          0.67265625,
          0.765625,
          0.7421875,
          0.7828125,
          0.83125,
          0.82109375,
          0.771875,
          0.803125,
          0.8140625,
          0.815625,
          0.80078125,
          0.82890625,
          0.83671875,
          0.8359375,
          0.79296875,
          0.7921875,
          0.80546875,
          0.78359375,
          0.83203125,
          0.81640625,
          0.80546875,
          0.834375,
          0.81953125,
          0.82421875,
          0.8140625,
          0.82578125,
          0.8125,
          0.81015625,
          0.8140625,
          0.815625,
          0.81015625,
          0.825,
          0.81328125
         ],
         "type": "scatter",
         "xaxis": "x4",
         "yaxis": "y4"
        },
        {
         "marker": {
          "color": [
           0,
           1,
           2,
           3,
           4,
           5,
           8,
           9,
           15,
           16,
           20,
           21,
           25,
           27,
           30,
           31,
           33,
           34,
           35,
           41,
           44,
           50,
           54,
           57,
           61,
           62,
           63,
           64,
           68,
           80,
           84,
           85,
           86,
           91,
           93,
           94,
           96
          ],
          "colorbar": {
           "title": {
            "text": "#Trials"
           },
           "x": 1,
           "xpad": 40
          },
          "colorscale": [
           [
            0,
            "rgb(247,251,255)"
           ],
           [
            0.125,
            "rgb(222,235,247)"
           ],
           [
            0.25,
            "rgb(198,219,239)"
           ],
           [
            0.375,
            "rgb(158,202,225)"
           ],
           [
            0.5,
            "rgb(107,174,214)"
           ],
           [
            0.625,
            "rgb(66,146,198)"
           ],
           [
            0.75,
            "rgb(33,113,181)"
           ],
           [
            0.875,
            "rgb(8,81,156)"
           ],
           [
            1,
            "rgb(8,48,107)"
           ]
          ],
          "line": {
           "color": "Grey",
           "width": 0.5
          },
          "showscale": false
         },
         "mode": "markers",
         "showlegend": false,
         "x": [
          2,
          2,
          1,
          1,
          2,
          3,
          2,
          1,
          1,
          1,
          1,
          1,
          1,
          1,
          1,
          1,
          1,
          1,
          1,
          1,
          1,
          1,
          1,
          1,
          1,
          1,
          1,
          1,
          1,
          1,
          1,
          1,
          1,
          1,
          1,
          1,
          1
         ],
         "y": [
          0.64140625,
          0.72421875,
          0.6625,
          0.6484375,
          0.67265625,
          0.765625,
          0.7421875,
          0.7828125,
          0.83125,
          0.82109375,
          0.771875,
          0.803125,
          0.8140625,
          0.815625,
          0.80078125,
          0.82890625,
          0.83671875,
          0.8359375,
          0.79296875,
          0.7921875,
          0.80546875,
          0.78359375,
          0.83203125,
          0.81640625,
          0.80546875,
          0.834375,
          0.81953125,
          0.82421875,
          0.8140625,
          0.82578125,
          0.8125,
          0.81015625,
          0.8140625,
          0.815625,
          0.81015625,
          0.825,
          0.81328125
         ],
         "type": "scatter",
         "xaxis": "x5",
         "yaxis": "y5"
        },
        {
         "marker": {
          "color": [
           0,
           1,
           2,
           3,
           4,
           5,
           8,
           9,
           15,
           16,
           20,
           21,
           25,
           27,
           30,
           31,
           33,
           34,
           35,
           41,
           44,
           50,
           54,
           57,
           61,
           62,
           63,
           64,
           68,
           80,
           84,
           85,
           86,
           91,
           93,
           94,
           96
          ],
          "colorbar": {
           "title": {
            "text": "#Trials"
           },
           "x": 1,
           "xpad": 40
          },
          "colorscale": [
           [
            0,
            "rgb(247,251,255)"
           ],
           [
            0.125,
            "rgb(222,235,247)"
           ],
           [
            0.25,
            "rgb(198,219,239)"
           ],
           [
            0.375,
            "rgb(158,202,225)"
           ],
           [
            0.5,
            "rgb(107,174,214)"
           ],
           [
            0.625,
            "rgb(66,146,198)"
           ],
           [
            0.75,
            "rgb(33,113,181)"
           ],
           [
            0.875,
            "rgb(8,81,156)"
           ],
           [
            1,
            "rgb(8,48,107)"
           ]
          ],
          "line": {
           "color": "Grey",
           "width": 0.5
          },
          "showscale": false
         },
         "mode": "markers",
         "showlegend": false,
         "x": [
          61,
          123,
          65,
          82,
          46,
          40,
          19,
          85,
          114,
          126,
          113,
          94,
          73,
          119,
          104,
          57,
          55,
          61,
          53,
          55,
          86,
          71,
          98,
          88,
          92,
          89,
          98,
          126,
          62,
          111,
          114,
          121,
          90,
          101,
          93,
          98,
          104
         ],
         "y": [
          0.64140625,
          0.72421875,
          0.6625,
          0.6484375,
          0.67265625,
          0.765625,
          0.7421875,
          0.7828125,
          0.83125,
          0.82109375,
          0.771875,
          0.803125,
          0.8140625,
          0.815625,
          0.80078125,
          0.82890625,
          0.83671875,
          0.8359375,
          0.79296875,
          0.7921875,
          0.80546875,
          0.78359375,
          0.83203125,
          0.81640625,
          0.80546875,
          0.834375,
          0.81953125,
          0.82421875,
          0.8140625,
          0.82578125,
          0.8125,
          0.81015625,
          0.8140625,
          0.815625,
          0.81015625,
          0.825,
          0.81328125
         ],
         "type": "scatter",
         "xaxis": "x6",
         "yaxis": "y6"
        },
        {
         "marker": {
          "color": [
           0,
           1,
           4,
           5,
           8
          ],
          "colorbar": {
           "title": {
            "text": "#Trials"
           },
           "x": 1,
           "xpad": 40
          },
          "colorscale": [
           [
            0,
            "rgb(247,251,255)"
           ],
           [
            0.125,
            "rgb(222,235,247)"
           ],
           [
            0.25,
            "rgb(198,219,239)"
           ],
           [
            0.375,
            "rgb(158,202,225)"
           ],
           [
            0.5,
            "rgb(107,174,214)"
           ],
           [
            0.625,
            "rgb(66,146,198)"
           ],
           [
            0.75,
            "rgb(33,113,181)"
           ],
           [
            0.875,
            "rgb(8,81,156)"
           ],
           [
            1,
            "rgb(8,48,107)"
           ]
          ],
          "line": {
           "color": "Grey",
           "width": 0.5
          },
          "showscale": false
         },
         "mode": "markers",
         "showlegend": false,
         "x": [
          114,
          108,
          43,
          101,
          61
         ],
         "y": [
          0.64140625,
          0.72421875,
          0.67265625,
          0.765625,
          0.7421875
         ],
         "type": "scatter",
         "xaxis": "x7",
         "yaxis": "y7"
        },
        {
         "marker": {
          "color": [
           5
          ],
          "colorbar": {
           "title": {
            "text": "#Trials"
           },
           "x": 1,
           "xpad": 40
          },
          "colorscale": [
           [
            0,
            "rgb(247,251,255)"
           ],
           [
            0.125,
            "rgb(222,235,247)"
           ],
           [
            0.25,
            "rgb(198,219,239)"
           ],
           [
            0.375,
            "rgb(158,202,225)"
           ],
           [
            0.5,
            "rgb(107,174,214)"
           ],
           [
            0.625,
            "rgb(66,146,198)"
           ],
           [
            0.75,
            "rgb(33,113,181)"
           ],
           [
            0.875,
            "rgb(8,81,156)"
           ],
           [
            1,
            "rgb(8,48,107)"
           ]
          ],
          "line": {
           "color": "Grey",
           "width": 0.5
          },
          "showscale": false
         },
         "mode": "markers",
         "showlegend": false,
         "x": [
          63
         ],
         "y": [
          0.765625
         ],
         "type": "scatter",
         "xaxis": "x8",
         "yaxis": "y8"
        },
        {
         "marker": {
          "color": [
           0,
           1,
           2,
           3,
           4,
           5,
           8,
           9,
           15,
           16,
           20,
           21,
           25,
           27,
           30,
           31,
           33,
           34,
           35,
           41,
           44,
           50,
           54,
           57,
           61,
           62,
           63,
           64,
           68,
           80,
           84,
           85,
           86,
           91,
           93,
           94,
           96
          ],
          "colorbar": {
           "title": {
            "text": "#Trials"
           },
           "x": 1,
           "xpad": 40
          },
          "colorscale": [
           [
            0,
            "rgb(247,251,255)"
           ],
           [
            0.125,
            "rgb(222,235,247)"
           ],
           [
            0.25,
            "rgb(198,219,239)"
           ],
           [
            0.375,
            "rgb(158,202,225)"
           ],
           [
            0.5,
            "rgb(107,174,214)"
           ],
           [
            0.625,
            "rgb(66,146,198)"
           ],
           [
            0.75,
            "rgb(33,113,181)"
           ],
           [
            0.875,
            "rgb(8,81,156)"
           ],
           [
            1,
            "rgb(8,48,107)"
           ]
          ],
          "line": {
           "color": "Grey",
           "width": 0.5
          },
          "showscale": false
         },
         "mode": "markers",
         "showlegend": false,
         "x": [
          "Adam",
          "RMSprop",
          "Adam",
          "Adam",
          "RMSprop",
          "Adam",
          "Adam",
          "RMSprop",
          "Adam",
          "RMSprop",
          "RMSprop",
          "RMSprop",
          "Adam",
          "Adam",
          "Adam",
          "Adam",
          "Adam",
          "Adam",
          "Adam",
          "Adam",
          "Adam",
          "Adam",
          "Adam",
          "Adam",
          "Adam",
          "Adam",
          "Adam",
          "Adam",
          "Adam",
          "Adam",
          "Adam",
          "Adam",
          "Adam",
          "Adam",
          "Adam",
          "Adam",
          "Adam"
         ],
         "y": [
          0.64140625,
          0.72421875,
          0.6625,
          0.6484375,
          0.67265625,
          0.765625,
          0.7421875,
          0.7828125,
          0.83125,
          0.82109375,
          0.771875,
          0.803125,
          0.8140625,
          0.815625,
          0.80078125,
          0.82890625,
          0.83671875,
          0.8359375,
          0.79296875,
          0.7921875,
          0.80546875,
          0.78359375,
          0.83203125,
          0.81640625,
          0.80546875,
          0.834375,
          0.81953125,
          0.82421875,
          0.8140625,
          0.82578125,
          0.8125,
          0.81015625,
          0.8140625,
          0.815625,
          0.81015625,
          0.825,
          0.81328125
         ],
         "type": "scatter",
         "xaxis": "x9",
         "yaxis": "y9"
        }
       ],
       "layout": {
        "template": {
         "data": {
          "bar": [
           {
            "error_x": {
             "color": "#2a3f5f"
            },
            "error_y": {
             "color": "#2a3f5f"
            },
            "marker": {
             "line": {
              "color": "#E5ECF6",
              "width": 0.5
             },
             "pattern": {
              "fillmode": "overlay",
              "size": 10,
              "solidity": 0.2
             }
            },
            "type": "bar"
           }
          ],
          "barpolar": [
           {
            "marker": {
             "line": {
              "color": "#E5ECF6",
              "width": 0.5
             },
             "pattern": {
              "fillmode": "overlay",
              "size": 10,
              "solidity": 0.2
             }
            },
            "type": "barpolar"
           }
          ],
          "carpet": [
           {
            "aaxis": {
             "endlinecolor": "#2a3f5f",
             "gridcolor": "white",
             "linecolor": "white",
             "minorgridcolor": "white",
             "startlinecolor": "#2a3f5f"
            },
            "baxis": {
             "endlinecolor": "#2a3f5f",
             "gridcolor": "white",
             "linecolor": "white",
             "minorgridcolor": "white",
             "startlinecolor": "#2a3f5f"
            },
            "type": "carpet"
           }
          ],
          "choropleth": [
           {
            "colorbar": {
             "outlinewidth": 0,
             "ticks": ""
            },
            "type": "choropleth"
           }
          ],
          "contour": [
           {
            "colorbar": {
             "outlinewidth": 0,
             "ticks": ""
            },
            "colorscale": [
             [
              0,
              "#0d0887"
             ],
             [
              0.1111111111111111,
              "#46039f"
             ],
             [
              0.2222222222222222,
              "#7201a8"
             ],
             [
              0.3333333333333333,
              "#9c179e"
             ],
             [
              0.4444444444444444,
              "#bd3786"
             ],
             [
              0.5555555555555556,
              "#d8576b"
             ],
             [
              0.6666666666666666,
              "#ed7953"
             ],
             [
              0.7777777777777778,
              "#fb9f3a"
             ],
             [
              0.8888888888888888,
              "#fdca26"
             ],
             [
              1,
              "#f0f921"
             ]
            ],
            "type": "contour"
           }
          ],
          "contourcarpet": [
           {
            "colorbar": {
             "outlinewidth": 0,
             "ticks": ""
            },
            "type": "contourcarpet"
           }
          ],
          "heatmap": [
           {
            "colorbar": {
             "outlinewidth": 0,
             "ticks": ""
            },
            "colorscale": [
             [
              0,
              "#0d0887"
             ],
             [
              0.1111111111111111,
              "#46039f"
             ],
             [
              0.2222222222222222,
              "#7201a8"
             ],
             [
              0.3333333333333333,
              "#9c179e"
             ],
             [
              0.4444444444444444,
              "#bd3786"
             ],
             [
              0.5555555555555556,
              "#d8576b"
             ],
             [
              0.6666666666666666,
              "#ed7953"
             ],
             [
              0.7777777777777778,
              "#fb9f3a"
             ],
             [
              0.8888888888888888,
              "#fdca26"
             ],
             [
              1,
              "#f0f921"
             ]
            ],
            "type": "heatmap"
           }
          ],
          "heatmapgl": [
           {
            "colorbar": {
             "outlinewidth": 0,
             "ticks": ""
            },
            "colorscale": [
             [
              0,
              "#0d0887"
             ],
             [
              0.1111111111111111,
              "#46039f"
             ],
             [
              0.2222222222222222,
              "#7201a8"
             ],
             [
              0.3333333333333333,
              "#9c179e"
             ],
             [
              0.4444444444444444,
              "#bd3786"
             ],
             [
              0.5555555555555556,
              "#d8576b"
             ],
             [
              0.6666666666666666,
              "#ed7953"
             ],
             [
              0.7777777777777778,
              "#fb9f3a"
             ],
             [
              0.8888888888888888,
              "#fdca26"
             ],
             [
              1,
              "#f0f921"
             ]
            ],
            "type": "heatmapgl"
           }
          ],
          "histogram": [
           {
            "marker": {
             "pattern": {
              "fillmode": "overlay",
              "size": 10,
              "solidity": 0.2
             }
            },
            "type": "histogram"
           }
          ],
          "histogram2d": [
           {
            "colorbar": {
             "outlinewidth": 0,
             "ticks": ""
            },
            "colorscale": [
             [
              0,
              "#0d0887"
             ],
             [
              0.1111111111111111,
              "#46039f"
             ],
             [
              0.2222222222222222,
              "#7201a8"
             ],
             [
              0.3333333333333333,
              "#9c179e"
             ],
             [
              0.4444444444444444,
              "#bd3786"
             ],
             [
              0.5555555555555556,
              "#d8576b"
             ],
             [
              0.6666666666666666,
              "#ed7953"
             ],
             [
              0.7777777777777778,
              "#fb9f3a"
             ],
             [
              0.8888888888888888,
              "#fdca26"
             ],
             [
              1,
              "#f0f921"
             ]
            ],
            "type": "histogram2d"
           }
          ],
          "histogram2dcontour": [
           {
            "colorbar": {
             "outlinewidth": 0,
             "ticks": ""
            },
            "colorscale": [
             [
              0,
              "#0d0887"
             ],
             [
              0.1111111111111111,
              "#46039f"
             ],
             [
              0.2222222222222222,
              "#7201a8"
             ],
             [
              0.3333333333333333,
              "#9c179e"
             ],
             [
              0.4444444444444444,
              "#bd3786"
             ],
             [
              0.5555555555555556,
              "#d8576b"
             ],
             [
              0.6666666666666666,
              "#ed7953"
             ],
             [
              0.7777777777777778,
              "#fb9f3a"
             ],
             [
              0.8888888888888888,
              "#fdca26"
             ],
             [
              1,
              "#f0f921"
             ]
            ],
            "type": "histogram2dcontour"
           }
          ],
          "mesh3d": [
           {
            "colorbar": {
             "outlinewidth": 0,
             "ticks": ""
            },
            "type": "mesh3d"
           }
          ],
          "parcoords": [
           {
            "line": {
             "colorbar": {
              "outlinewidth": 0,
              "ticks": ""
             }
            },
            "type": "parcoords"
           }
          ],
          "pie": [
           {
            "automargin": true,
            "type": "pie"
           }
          ],
          "scatter": [
           {
            "marker": {
             "colorbar": {
              "outlinewidth": 0,
              "ticks": ""
             }
            },
            "type": "scatter"
           }
          ],
          "scatter3d": [
           {
            "line": {
             "colorbar": {
              "outlinewidth": 0,
              "ticks": ""
             }
            },
            "marker": {
             "colorbar": {
              "outlinewidth": 0,
              "ticks": ""
             }
            },
            "type": "scatter3d"
           }
          ],
          "scattercarpet": [
           {
            "marker": {
             "colorbar": {
              "outlinewidth": 0,
              "ticks": ""
             }
            },
            "type": "scattercarpet"
           }
          ],
          "scattergeo": [
           {
            "marker": {
             "colorbar": {
              "outlinewidth": 0,
              "ticks": ""
             }
            },
            "type": "scattergeo"
           }
          ],
          "scattergl": [
           {
            "marker": {
             "colorbar": {
              "outlinewidth": 0,
              "ticks": ""
             }
            },
            "type": "scattergl"
           }
          ],
          "scattermapbox": [
           {
            "marker": {
             "colorbar": {
              "outlinewidth": 0,
              "ticks": ""
             }
            },
            "type": "scattermapbox"
           }
          ],
          "scatterpolar": [
           {
            "marker": {
             "colorbar": {
              "outlinewidth": 0,
              "ticks": ""
             }
            },
            "type": "scatterpolar"
           }
          ],
          "scatterpolargl": [
           {
            "marker": {
             "colorbar": {
              "outlinewidth": 0,
              "ticks": ""
             }
            },
            "type": "scatterpolargl"
           }
          ],
          "scatterternary": [
           {
            "marker": {
             "colorbar": {
              "outlinewidth": 0,
              "ticks": ""
             }
            },
            "type": "scatterternary"
           }
          ],
          "surface": [
           {
            "colorbar": {
             "outlinewidth": 0,
             "ticks": ""
            },
            "colorscale": [
             [
              0,
              "#0d0887"
             ],
             [
              0.1111111111111111,
              "#46039f"
             ],
             [
              0.2222222222222222,
              "#7201a8"
             ],
             [
              0.3333333333333333,
              "#9c179e"
             ],
             [
              0.4444444444444444,
              "#bd3786"
             ],
             [
              0.5555555555555556,
              "#d8576b"
             ],
             [
              0.6666666666666666,
              "#ed7953"
             ],
             [
              0.7777777777777778,
              "#fb9f3a"
             ],
             [
              0.8888888888888888,
              "#fdca26"
             ],
             [
              1,
              "#f0f921"
             ]
            ],
            "type": "surface"
           }
          ],
          "table": [
           {
            "cells": {
             "fill": {
              "color": "#EBF0F8"
             },
             "line": {
              "color": "white"
             }
            },
            "header": {
             "fill": {
              "color": "#C8D4E3"
             },
             "line": {
              "color": "white"
             }
            },
            "type": "table"
           }
          ]
         },
         "layout": {
          "annotationdefaults": {
           "arrowcolor": "#2a3f5f",
           "arrowhead": 0,
           "arrowwidth": 1
          },
          "autotypenumbers": "strict",
          "coloraxis": {
           "colorbar": {
            "outlinewidth": 0,
            "ticks": ""
           }
          },
          "colorscale": {
           "diverging": [
            [
             0,
             "#8e0152"
            ],
            [
             0.1,
             "#c51b7d"
            ],
            [
             0.2,
             "#de77ae"
            ],
            [
             0.3,
             "#f1b6da"
            ],
            [
             0.4,
             "#fde0ef"
            ],
            [
             0.5,
             "#f7f7f7"
            ],
            [
             0.6,
             "#e6f5d0"
            ],
            [
             0.7,
             "#b8e186"
            ],
            [
             0.8,
             "#7fbc41"
            ],
            [
             0.9,
             "#4d9221"
            ],
            [
             1,
             "#276419"
            ]
           ],
           "sequential": [
            [
             0,
             "#0d0887"
            ],
            [
             0.1111111111111111,
             "#46039f"
            ],
            [
             0.2222222222222222,
             "#7201a8"
            ],
            [
             0.3333333333333333,
             "#9c179e"
            ],
            [
             0.4444444444444444,
             "#bd3786"
            ],
            [
             0.5555555555555556,
             "#d8576b"
            ],
            [
             0.6666666666666666,
             "#ed7953"
            ],
            [
             0.7777777777777778,
             "#fb9f3a"
            ],
            [
             0.8888888888888888,
             "#fdca26"
            ],
            [
             1,
             "#f0f921"
            ]
           ],
           "sequentialminus": [
            [
             0,
             "#0d0887"
            ],
            [
             0.1111111111111111,
             "#46039f"
            ],
            [
             0.2222222222222222,
             "#7201a8"
            ],
            [
             0.3333333333333333,
             "#9c179e"
            ],
            [
             0.4444444444444444,
             "#bd3786"
            ],
            [
             0.5555555555555556,
             "#d8576b"
            ],
            [
             0.6666666666666666,
             "#ed7953"
            ],
            [
             0.7777777777777778,
             "#fb9f3a"
            ],
            [
             0.8888888888888888,
             "#fdca26"
            ],
            [
             1,
             "#f0f921"
            ]
           ]
          },
          "colorway": [
           "#636efa",
           "#EF553B",
           "#00cc96",
           "#ab63fa",
           "#FFA15A",
           "#19d3f3",
           "#FF6692",
           "#B6E880",
           "#FF97FF",
           "#FECB52"
          ],
          "font": {
           "color": "#2a3f5f"
          },
          "geo": {
           "bgcolor": "white",
           "lakecolor": "white",
           "landcolor": "#E5ECF6",
           "showlakes": true,
           "showland": true,
           "subunitcolor": "white"
          },
          "hoverlabel": {
           "align": "left"
          },
          "hovermode": "closest",
          "mapbox": {
           "style": "light"
          },
          "paper_bgcolor": "white",
          "plot_bgcolor": "#E5ECF6",
          "polar": {
           "angularaxis": {
            "gridcolor": "white",
            "linecolor": "white",
            "ticks": ""
           },
           "bgcolor": "#E5ECF6",
           "radialaxis": {
            "gridcolor": "white",
            "linecolor": "white",
            "ticks": ""
           }
          },
          "scene": {
           "xaxis": {
            "backgroundcolor": "#E5ECF6",
            "gridcolor": "white",
            "gridwidth": 2,
            "linecolor": "white",
            "showbackground": true,
            "ticks": "",
            "zerolinecolor": "white"
           },
           "yaxis": {
            "backgroundcolor": "#E5ECF6",
            "gridcolor": "white",
            "gridwidth": 2,
            "linecolor": "white",
            "showbackground": true,
            "ticks": "",
            "zerolinecolor": "white"
           },
           "zaxis": {
            "backgroundcolor": "#E5ECF6",
            "gridcolor": "white",
            "gridwidth": 2,
            "linecolor": "white",
            "showbackground": true,
            "ticks": "",
            "zerolinecolor": "white"
           }
          },
          "shapedefaults": {
           "line": {
            "color": "#2a3f5f"
           }
          },
          "ternary": {
           "aaxis": {
            "gridcolor": "white",
            "linecolor": "white",
            "ticks": ""
           },
           "baxis": {
            "gridcolor": "white",
            "linecolor": "white",
            "ticks": ""
           },
           "bgcolor": "#E5ECF6",
           "caxis": {
            "gridcolor": "white",
            "linecolor": "white",
            "ticks": ""
           }
          },
          "title": {
           "x": 0.05
          },
          "xaxis": {
           "automargin": true,
           "gridcolor": "white",
           "linecolor": "white",
           "ticks": "",
           "title": {
            "standoff": 15
           },
           "zerolinecolor": "white",
           "zerolinewidth": 2
          },
          "yaxis": {
           "automargin": true,
           "gridcolor": "white",
           "linecolor": "white",
           "ticks": "",
           "title": {
            "standoff": 15
           },
           "zerolinecolor": "white",
           "zerolinewidth": 2
          }
         }
        },
        "xaxis": {
         "anchor": "y",
         "domain": [
          0,
          0.09135802469135802
         ],
         "title": {
          "text": "dropout_l0"
         }
        },
        "yaxis": {
         "anchor": "x",
         "domain": [
          0,
          1
         ],
         "title": {
          "text": "Objective Value"
         }
        },
        "xaxis2": {
         "anchor": "y2",
         "domain": [
          0.11358024691358025,
          0.20493827160493827
         ],
         "title": {
          "text": "dropout_l1"
         }
        },
        "yaxis2": {
         "anchor": "x2",
         "domain": [
          0,
          1
         ],
         "matches": "y",
         "showticklabels": false
        },
        "xaxis3": {
         "anchor": "y3",
         "domain": [
          0.2271604938271605,
          0.31851851851851853
         ],
         "title": {
          "text": "dropout_l2"
         }
        },
        "yaxis3": {
         "anchor": "x3",
         "domain": [
          0,
          1
         ],
         "matches": "y",
         "showticklabels": false
        },
        "xaxis4": {
         "anchor": "y4",
         "domain": [
          0.34074074074074073,
          0.43209876543209874
         ],
         "title": {
          "text": "lr"
         },
         "type": "log"
        },
        "yaxis4": {
         "anchor": "x4",
         "domain": [
          0,
          1
         ],
         "matches": "y",
         "showticklabels": false
        },
        "xaxis5": {
         "anchor": "y5",
         "domain": [
          0.454320987654321,
          0.5456790123456791
         ],
         "title": {
          "text": "n_layers"
         }
        },
        "yaxis5": {
         "anchor": "x5",
         "domain": [
          0,
          1
         ],
         "matches": "y",
         "showticklabels": false
        },
        "xaxis6": {
         "anchor": "y6",
         "domain": [
          0.5679012345679012,
          0.6592592592592592
         ],
         "title": {
          "text": "n_units_l0"
         }
        },
        "yaxis6": {
         "anchor": "x6",
         "domain": [
          0,
          1
         ],
         "matches": "y",
         "showticklabels": false
        },
        "xaxis7": {
         "anchor": "y7",
         "domain": [
          0.6814814814814815,
          0.7728395061728395
         ],
         "title": {
          "text": "n_units_l1"
         }
        },
        "yaxis7": {
         "anchor": "x7",
         "domain": [
          0,
          1
         ],
         "matches": "y",
         "showticklabels": false
        },
        "xaxis8": {
         "anchor": "y8",
         "domain": [
          0.7950617283950617,
          0.8864197530864197
         ],
         "title": {
          "text": "n_units_l2"
         }
        },
        "yaxis8": {
         "anchor": "x8",
         "domain": [
          0,
          1
         ],
         "matches": "y",
         "showticklabels": false
        },
        "xaxis9": {
         "anchor": "y9",
         "domain": [
          0.908641975308642,
          1
         ],
         "title": {
          "text": "optimizer"
         }
        },
        "yaxis9": {
         "anchor": "x9",
         "domain": [
          0,
          1
         ],
         "matches": "y",
         "showticklabels": false
        },
        "title": {
         "text": "Slice Plot"
        },
        "width": 2700
       },
       "config": {
        "plotlyServerURL": "https://plot.ly"
       }
      }
     },
     "metadata": {}
    }
   ],
   "metadata": {}
  },
  {
   "cell_type": "code",
   "execution_count": 15,
   "source": [
    "plot_slice(study, params=['n_units_l0', 'n_units_l1'])"
   ],
   "outputs": [
    {
     "output_type": "display_data",
     "data": {
      "application/vnd.plotly.v1+json": {
       "data": [
        {
         "marker": {
          "color": [
           0,
           1,
           2,
           3,
           4,
           5,
           8,
           9,
           15,
           16,
           20,
           21,
           25,
           27,
           30,
           31,
           33,
           34,
           35,
           41,
           44,
           50,
           54,
           57,
           61,
           62,
           63,
           64,
           68,
           80,
           84,
           85,
           86,
           91,
           93,
           94,
           96
          ],
          "colorbar": {
           "title": {
            "text": "#Trials"
           },
           "x": 1,
           "xpad": 40
          },
          "colorscale": [
           [
            0,
            "rgb(247,251,255)"
           ],
           [
            0.125,
            "rgb(222,235,247)"
           ],
           [
            0.25,
            "rgb(198,219,239)"
           ],
           [
            0.375,
            "rgb(158,202,225)"
           ],
           [
            0.5,
            "rgb(107,174,214)"
           ],
           [
            0.625,
            "rgb(66,146,198)"
           ],
           [
            0.75,
            "rgb(33,113,181)"
           ],
           [
            0.875,
            "rgb(8,81,156)"
           ],
           [
            1,
            "rgb(8,48,107)"
           ]
          ],
          "line": {
           "color": "Grey",
           "width": 0.5
          },
          "showscale": true
         },
         "mode": "markers",
         "showlegend": false,
         "x": [
          61,
          123,
          65,
          82,
          46,
          40,
          19,
          85,
          114,
          126,
          113,
          94,
          73,
          119,
          104,
          57,
          55,
          61,
          53,
          55,
          86,
          71,
          98,
          88,
          92,
          89,
          98,
          126,
          62,
          111,
          114,
          121,
          90,
          101,
          93,
          98,
          104
         ],
         "y": [
          0.64140625,
          0.72421875,
          0.6625,
          0.6484375,
          0.67265625,
          0.765625,
          0.7421875,
          0.7828125,
          0.83125,
          0.82109375,
          0.771875,
          0.803125,
          0.8140625,
          0.815625,
          0.80078125,
          0.82890625,
          0.83671875,
          0.8359375,
          0.79296875,
          0.7921875,
          0.80546875,
          0.78359375,
          0.83203125,
          0.81640625,
          0.80546875,
          0.834375,
          0.81953125,
          0.82421875,
          0.8140625,
          0.82578125,
          0.8125,
          0.81015625,
          0.8140625,
          0.815625,
          0.81015625,
          0.825,
          0.81328125
         ],
         "type": "scatter",
         "xaxis": "x",
         "yaxis": "y"
        },
        {
         "marker": {
          "color": [
           0,
           1,
           4,
           5,
           8
          ],
          "colorbar": {
           "title": {
            "text": "#Trials"
           },
           "x": 1,
           "xpad": 40
          },
          "colorscale": [
           [
            0,
            "rgb(247,251,255)"
           ],
           [
            0.125,
            "rgb(222,235,247)"
           ],
           [
            0.25,
            "rgb(198,219,239)"
           ],
           [
            0.375,
            "rgb(158,202,225)"
           ],
           [
            0.5,
            "rgb(107,174,214)"
           ],
           [
            0.625,
            "rgb(66,146,198)"
           ],
           [
            0.75,
            "rgb(33,113,181)"
           ],
           [
            0.875,
            "rgb(8,81,156)"
           ],
           [
            1,
            "rgb(8,48,107)"
           ]
          ],
          "line": {
           "color": "Grey",
           "width": 0.5
          },
          "showscale": false
         },
         "mode": "markers",
         "showlegend": false,
         "x": [
          114,
          108,
          43,
          101,
          61
         ],
         "y": [
          0.64140625,
          0.72421875,
          0.67265625,
          0.765625,
          0.7421875
         ],
         "type": "scatter",
         "xaxis": "x2",
         "yaxis": "y2"
        }
       ],
       "layout": {
        "template": {
         "data": {
          "bar": [
           {
            "error_x": {
             "color": "#2a3f5f"
            },
            "error_y": {
             "color": "#2a3f5f"
            },
            "marker": {
             "line": {
              "color": "#E5ECF6",
              "width": 0.5
             },
             "pattern": {
              "fillmode": "overlay",
              "size": 10,
              "solidity": 0.2
             }
            },
            "type": "bar"
           }
          ],
          "barpolar": [
           {
            "marker": {
             "line": {
              "color": "#E5ECF6",
              "width": 0.5
             },
             "pattern": {
              "fillmode": "overlay",
              "size": 10,
              "solidity": 0.2
             }
            },
            "type": "barpolar"
           }
          ],
          "carpet": [
           {
            "aaxis": {
             "endlinecolor": "#2a3f5f",
             "gridcolor": "white",
             "linecolor": "white",
             "minorgridcolor": "white",
             "startlinecolor": "#2a3f5f"
            },
            "baxis": {
             "endlinecolor": "#2a3f5f",
             "gridcolor": "white",
             "linecolor": "white",
             "minorgridcolor": "white",
             "startlinecolor": "#2a3f5f"
            },
            "type": "carpet"
           }
          ],
          "choropleth": [
           {
            "colorbar": {
             "outlinewidth": 0,
             "ticks": ""
            },
            "type": "choropleth"
           }
          ],
          "contour": [
           {
            "colorbar": {
             "outlinewidth": 0,
             "ticks": ""
            },
            "colorscale": [
             [
              0,
              "#0d0887"
             ],
             [
              0.1111111111111111,
              "#46039f"
             ],
             [
              0.2222222222222222,
              "#7201a8"
             ],
             [
              0.3333333333333333,
              "#9c179e"
             ],
             [
              0.4444444444444444,
              "#bd3786"
             ],
             [
              0.5555555555555556,
              "#d8576b"
             ],
             [
              0.6666666666666666,
              "#ed7953"
             ],
             [
              0.7777777777777778,
              "#fb9f3a"
             ],
             [
              0.8888888888888888,
              "#fdca26"
             ],
             [
              1,
              "#f0f921"
             ]
            ],
            "type": "contour"
           }
          ],
          "contourcarpet": [
           {
            "colorbar": {
             "outlinewidth": 0,
             "ticks": ""
            },
            "type": "contourcarpet"
           }
          ],
          "heatmap": [
           {
            "colorbar": {
             "outlinewidth": 0,
             "ticks": ""
            },
            "colorscale": [
             [
              0,
              "#0d0887"
             ],
             [
              0.1111111111111111,
              "#46039f"
             ],
             [
              0.2222222222222222,
              "#7201a8"
             ],
             [
              0.3333333333333333,
              "#9c179e"
             ],
             [
              0.4444444444444444,
              "#bd3786"
             ],
             [
              0.5555555555555556,
              "#d8576b"
             ],
             [
              0.6666666666666666,
              "#ed7953"
             ],
             [
              0.7777777777777778,
              "#fb9f3a"
             ],
             [
              0.8888888888888888,
              "#fdca26"
             ],
             [
              1,
              "#f0f921"
             ]
            ],
            "type": "heatmap"
           }
          ],
          "heatmapgl": [
           {
            "colorbar": {
             "outlinewidth": 0,
             "ticks": ""
            },
            "colorscale": [
             [
              0,
              "#0d0887"
             ],
             [
              0.1111111111111111,
              "#46039f"
             ],
             [
              0.2222222222222222,
              "#7201a8"
             ],
             [
              0.3333333333333333,
              "#9c179e"
             ],
             [
              0.4444444444444444,
              "#bd3786"
             ],
             [
              0.5555555555555556,
              "#d8576b"
             ],
             [
              0.6666666666666666,
              "#ed7953"
             ],
             [
              0.7777777777777778,
              "#fb9f3a"
             ],
             [
              0.8888888888888888,
              "#fdca26"
             ],
             [
              1,
              "#f0f921"
             ]
            ],
            "type": "heatmapgl"
           }
          ],
          "histogram": [
           {
            "marker": {
             "pattern": {
              "fillmode": "overlay",
              "size": 10,
              "solidity": 0.2
             }
            },
            "type": "histogram"
           }
          ],
          "histogram2d": [
           {
            "colorbar": {
             "outlinewidth": 0,
             "ticks": ""
            },
            "colorscale": [
             [
              0,
              "#0d0887"
             ],
             [
              0.1111111111111111,
              "#46039f"
             ],
             [
              0.2222222222222222,
              "#7201a8"
             ],
             [
              0.3333333333333333,
              "#9c179e"
             ],
             [
              0.4444444444444444,
              "#bd3786"
             ],
             [
              0.5555555555555556,
              "#d8576b"
             ],
             [
              0.6666666666666666,
              "#ed7953"
             ],
             [
              0.7777777777777778,
              "#fb9f3a"
             ],
             [
              0.8888888888888888,
              "#fdca26"
             ],
             [
              1,
              "#f0f921"
             ]
            ],
            "type": "histogram2d"
           }
          ],
          "histogram2dcontour": [
           {
            "colorbar": {
             "outlinewidth": 0,
             "ticks": ""
            },
            "colorscale": [
             [
              0,
              "#0d0887"
             ],
             [
              0.1111111111111111,
              "#46039f"
             ],
             [
              0.2222222222222222,
              "#7201a8"
             ],
             [
              0.3333333333333333,
              "#9c179e"
             ],
             [
              0.4444444444444444,
              "#bd3786"
             ],
             [
              0.5555555555555556,
              "#d8576b"
             ],
             [
              0.6666666666666666,
              "#ed7953"
             ],
             [
              0.7777777777777778,
              "#fb9f3a"
             ],
             [
              0.8888888888888888,
              "#fdca26"
             ],
             [
              1,
              "#f0f921"
             ]
            ],
            "type": "histogram2dcontour"
           }
          ],
          "mesh3d": [
           {
            "colorbar": {
             "outlinewidth": 0,
             "ticks": ""
            },
            "type": "mesh3d"
           }
          ],
          "parcoords": [
           {
            "line": {
             "colorbar": {
              "outlinewidth": 0,
              "ticks": ""
             }
            },
            "type": "parcoords"
           }
          ],
          "pie": [
           {
            "automargin": true,
            "type": "pie"
           }
          ],
          "scatter": [
           {
            "marker": {
             "colorbar": {
              "outlinewidth": 0,
              "ticks": ""
             }
            },
            "type": "scatter"
           }
          ],
          "scatter3d": [
           {
            "line": {
             "colorbar": {
              "outlinewidth": 0,
              "ticks": ""
             }
            },
            "marker": {
             "colorbar": {
              "outlinewidth": 0,
              "ticks": ""
             }
            },
            "type": "scatter3d"
           }
          ],
          "scattercarpet": [
           {
            "marker": {
             "colorbar": {
              "outlinewidth": 0,
              "ticks": ""
             }
            },
            "type": "scattercarpet"
           }
          ],
          "scattergeo": [
           {
            "marker": {
             "colorbar": {
              "outlinewidth": 0,
              "ticks": ""
             }
            },
            "type": "scattergeo"
           }
          ],
          "scattergl": [
           {
            "marker": {
             "colorbar": {
              "outlinewidth": 0,
              "ticks": ""
             }
            },
            "type": "scattergl"
           }
          ],
          "scattermapbox": [
           {
            "marker": {
             "colorbar": {
              "outlinewidth": 0,
              "ticks": ""
             }
            },
            "type": "scattermapbox"
           }
          ],
          "scatterpolar": [
           {
            "marker": {
             "colorbar": {
              "outlinewidth": 0,
              "ticks": ""
             }
            },
            "type": "scatterpolar"
           }
          ],
          "scatterpolargl": [
           {
            "marker": {
             "colorbar": {
              "outlinewidth": 0,
              "ticks": ""
             }
            },
            "type": "scatterpolargl"
           }
          ],
          "scatterternary": [
           {
            "marker": {
             "colorbar": {
              "outlinewidth": 0,
              "ticks": ""
             }
            },
            "type": "scatterternary"
           }
          ],
          "surface": [
           {
            "colorbar": {
             "outlinewidth": 0,
             "ticks": ""
            },
            "colorscale": [
             [
              0,
              "#0d0887"
             ],
             [
              0.1111111111111111,
              "#46039f"
             ],
             [
              0.2222222222222222,
              "#7201a8"
             ],
             [
              0.3333333333333333,
              "#9c179e"
             ],
             [
              0.4444444444444444,
              "#bd3786"
             ],
             [
              0.5555555555555556,
              "#d8576b"
             ],
             [
              0.6666666666666666,
              "#ed7953"
             ],
             [
              0.7777777777777778,
              "#fb9f3a"
             ],
             [
              0.8888888888888888,
              "#fdca26"
             ],
             [
              1,
              "#f0f921"
             ]
            ],
            "type": "surface"
           }
          ],
          "table": [
           {
            "cells": {
             "fill": {
              "color": "#EBF0F8"
             },
             "line": {
              "color": "white"
             }
            },
            "header": {
             "fill": {
              "color": "#C8D4E3"
             },
             "line": {
              "color": "white"
             }
            },
            "type": "table"
           }
          ]
         },
         "layout": {
          "annotationdefaults": {
           "arrowcolor": "#2a3f5f",
           "arrowhead": 0,
           "arrowwidth": 1
          },
          "autotypenumbers": "strict",
          "coloraxis": {
           "colorbar": {
            "outlinewidth": 0,
            "ticks": ""
           }
          },
          "colorscale": {
           "diverging": [
            [
             0,
             "#8e0152"
            ],
            [
             0.1,
             "#c51b7d"
            ],
            [
             0.2,
             "#de77ae"
            ],
            [
             0.3,
             "#f1b6da"
            ],
            [
             0.4,
             "#fde0ef"
            ],
            [
             0.5,
             "#f7f7f7"
            ],
            [
             0.6,
             "#e6f5d0"
            ],
            [
             0.7,
             "#b8e186"
            ],
            [
             0.8,
             "#7fbc41"
            ],
            [
             0.9,
             "#4d9221"
            ],
            [
             1,
             "#276419"
            ]
           ],
           "sequential": [
            [
             0,
             "#0d0887"
            ],
            [
             0.1111111111111111,
             "#46039f"
            ],
            [
             0.2222222222222222,
             "#7201a8"
            ],
            [
             0.3333333333333333,
             "#9c179e"
            ],
            [
             0.4444444444444444,
             "#bd3786"
            ],
            [
             0.5555555555555556,
             "#d8576b"
            ],
            [
             0.6666666666666666,
             "#ed7953"
            ],
            [
             0.7777777777777778,
             "#fb9f3a"
            ],
            [
             0.8888888888888888,
             "#fdca26"
            ],
            [
             1,
             "#f0f921"
            ]
           ],
           "sequentialminus": [
            [
             0,
             "#0d0887"
            ],
            [
             0.1111111111111111,
             "#46039f"
            ],
            [
             0.2222222222222222,
             "#7201a8"
            ],
            [
             0.3333333333333333,
             "#9c179e"
            ],
            [
             0.4444444444444444,
             "#bd3786"
            ],
            [
             0.5555555555555556,
             "#d8576b"
            ],
            [
             0.6666666666666666,
             "#ed7953"
            ],
            [
             0.7777777777777778,
             "#fb9f3a"
            ],
            [
             0.8888888888888888,
             "#fdca26"
            ],
            [
             1,
             "#f0f921"
            ]
           ]
          },
          "colorway": [
           "#636efa",
           "#EF553B",
           "#00cc96",
           "#ab63fa",
           "#FFA15A",
           "#19d3f3",
           "#FF6692",
           "#B6E880",
           "#FF97FF",
           "#FECB52"
          ],
          "font": {
           "color": "#2a3f5f"
          },
          "geo": {
           "bgcolor": "white",
           "lakecolor": "white",
           "landcolor": "#E5ECF6",
           "showlakes": true,
           "showland": true,
           "subunitcolor": "white"
          },
          "hoverlabel": {
           "align": "left"
          },
          "hovermode": "closest",
          "mapbox": {
           "style": "light"
          },
          "paper_bgcolor": "white",
          "plot_bgcolor": "#E5ECF6",
          "polar": {
           "angularaxis": {
            "gridcolor": "white",
            "linecolor": "white",
            "ticks": ""
           },
           "bgcolor": "#E5ECF6",
           "radialaxis": {
            "gridcolor": "white",
            "linecolor": "white",
            "ticks": ""
           }
          },
          "scene": {
           "xaxis": {
            "backgroundcolor": "#E5ECF6",
            "gridcolor": "white",
            "gridwidth": 2,
            "linecolor": "white",
            "showbackground": true,
            "ticks": "",
            "zerolinecolor": "white"
           },
           "yaxis": {
            "backgroundcolor": "#E5ECF6",
            "gridcolor": "white",
            "gridwidth": 2,
            "linecolor": "white",
            "showbackground": true,
            "ticks": "",
            "zerolinecolor": "white"
           },
           "zaxis": {
            "backgroundcolor": "#E5ECF6",
            "gridcolor": "white",
            "gridwidth": 2,
            "linecolor": "white",
            "showbackground": true,
            "ticks": "",
            "zerolinecolor": "white"
           }
          },
          "shapedefaults": {
           "line": {
            "color": "#2a3f5f"
           }
          },
          "ternary": {
           "aaxis": {
            "gridcolor": "white",
            "linecolor": "white",
            "ticks": ""
           },
           "baxis": {
            "gridcolor": "white",
            "linecolor": "white",
            "ticks": ""
           },
           "bgcolor": "#E5ECF6",
           "caxis": {
            "gridcolor": "white",
            "linecolor": "white",
            "ticks": ""
           }
          },
          "title": {
           "x": 0.05
          },
          "xaxis": {
           "automargin": true,
           "gridcolor": "white",
           "linecolor": "white",
           "ticks": "",
           "title": {
            "standoff": 15
           },
           "zerolinecolor": "white",
           "zerolinewidth": 2
          },
          "yaxis": {
           "automargin": true,
           "gridcolor": "white",
           "linecolor": "white",
           "ticks": "",
           "title": {
            "standoff": 15
           },
           "zerolinecolor": "white",
           "zerolinewidth": 2
          }
         }
        },
        "xaxis": {
         "anchor": "y",
         "domain": [
          0,
          0.45
         ],
         "title": {
          "text": "n_units_l0"
         }
        },
        "yaxis": {
         "anchor": "x",
         "domain": [
          0,
          1
         ],
         "title": {
          "text": "Objective Value"
         }
        },
        "xaxis2": {
         "anchor": "y2",
         "domain": [
          0.55,
          1
         ],
         "title": {
          "text": "n_units_l1"
         }
        },
        "yaxis2": {
         "anchor": "x2",
         "domain": [
          0,
          1
         ],
         "matches": "y",
         "showticklabels": false
        },
        "title": {
         "text": "Slice Plot"
        }
       },
       "config": {
        "plotlyServerURL": "https://plot.ly"
       }
      }
     },
     "metadata": {}
    }
   ],
   "metadata": {}
  },
  {
   "cell_type": "code",
   "execution_count": 16,
   "source": [
    "from optuna.visualization import plot_param_importances\n",
    "\n",
    "plot_param_importances(study)"
   ],
   "outputs": [
    {
     "output_type": "display_data",
     "data": {
      "application/vnd.plotly.v1+json": {
       "data": [
        {
         "cliponaxis": false,
         "hovertemplate": [
          "optimizer (CategoricalDistribution): 0.026301046791213353<extra></extra>",
          "dropout_l0 (UniformDistribution): 0.13169966126057833<extra></extra>",
          "lr (LogUniformDistribution): 0.20961194344685893<extra></extra>",
          "n_layers (IntUniformDistribution): 0.2942535974812914<extra></extra>",
          "n_units_l0 (IntUniformDistribution): 0.33813375102005805<extra></extra>"
         ],
         "marker": {
          "color": "rgb(66,146,198)"
         },
         "orientation": "h",
         "text": [
          "0.026301046791213353",
          "0.13169966126057833",
          "0.20961194344685893",
          "0.2942535974812914",
          "0.33813375102005805"
         ],
         "textposition": "outside",
         "texttemplate": "%{text:.2f}",
         "x": [
          0.026301046791213353,
          0.13169966126057833,
          0.20961194344685893,
          0.2942535974812914,
          0.33813375102005805
         ],
         "y": [
          "optimizer",
          "dropout_l0",
          "lr",
          "n_layers",
          "n_units_l0"
         ],
         "type": "bar"
        }
       ],
       "layout": {
        "showlegend": false,
        "title": {
         "text": "Hyperparameter Importances"
        },
        "xaxis": {
         "title": {
          "text": "Importance for Objective Value"
         }
        },
        "yaxis": {
         "title": {
          "text": "Hyperparameter"
         }
        },
        "template": {
         "data": {
          "bar": [
           {
            "error_x": {
             "color": "#2a3f5f"
            },
            "error_y": {
             "color": "#2a3f5f"
            },
            "marker": {
             "line": {
              "color": "#E5ECF6",
              "width": 0.5
             },
             "pattern": {
              "fillmode": "overlay",
              "size": 10,
              "solidity": 0.2
             }
            },
            "type": "bar"
           }
          ],
          "barpolar": [
           {
            "marker": {
             "line": {
              "color": "#E5ECF6",
              "width": 0.5
             },
             "pattern": {
              "fillmode": "overlay",
              "size": 10,
              "solidity": 0.2
             }
            },
            "type": "barpolar"
           }
          ],
          "carpet": [
           {
            "aaxis": {
             "endlinecolor": "#2a3f5f",
             "gridcolor": "white",
             "linecolor": "white",
             "minorgridcolor": "white",
             "startlinecolor": "#2a3f5f"
            },
            "baxis": {
             "endlinecolor": "#2a3f5f",
             "gridcolor": "white",
             "linecolor": "white",
             "minorgridcolor": "white",
             "startlinecolor": "#2a3f5f"
            },
            "type": "carpet"
           }
          ],
          "choropleth": [
           {
            "colorbar": {
             "outlinewidth": 0,
             "ticks": ""
            },
            "type": "choropleth"
           }
          ],
          "contour": [
           {
            "colorbar": {
             "outlinewidth": 0,
             "ticks": ""
            },
            "colorscale": [
             [
              0,
              "#0d0887"
             ],
             [
              0.1111111111111111,
              "#46039f"
             ],
             [
              0.2222222222222222,
              "#7201a8"
             ],
             [
              0.3333333333333333,
              "#9c179e"
             ],
             [
              0.4444444444444444,
              "#bd3786"
             ],
             [
              0.5555555555555556,
              "#d8576b"
             ],
             [
              0.6666666666666666,
              "#ed7953"
             ],
             [
              0.7777777777777778,
              "#fb9f3a"
             ],
             [
              0.8888888888888888,
              "#fdca26"
             ],
             [
              1,
              "#f0f921"
             ]
            ],
            "type": "contour"
           }
          ],
          "contourcarpet": [
           {
            "colorbar": {
             "outlinewidth": 0,
             "ticks": ""
            },
            "type": "contourcarpet"
           }
          ],
          "heatmap": [
           {
            "colorbar": {
             "outlinewidth": 0,
             "ticks": ""
            },
            "colorscale": [
             [
              0,
              "#0d0887"
             ],
             [
              0.1111111111111111,
              "#46039f"
             ],
             [
              0.2222222222222222,
              "#7201a8"
             ],
             [
              0.3333333333333333,
              "#9c179e"
             ],
             [
              0.4444444444444444,
              "#bd3786"
             ],
             [
              0.5555555555555556,
              "#d8576b"
             ],
             [
              0.6666666666666666,
              "#ed7953"
             ],
             [
              0.7777777777777778,
              "#fb9f3a"
             ],
             [
              0.8888888888888888,
              "#fdca26"
             ],
             [
              1,
              "#f0f921"
             ]
            ],
            "type": "heatmap"
           }
          ],
          "heatmapgl": [
           {
            "colorbar": {
             "outlinewidth": 0,
             "ticks": ""
            },
            "colorscale": [
             [
              0,
              "#0d0887"
             ],
             [
              0.1111111111111111,
              "#46039f"
             ],
             [
              0.2222222222222222,
              "#7201a8"
             ],
             [
              0.3333333333333333,
              "#9c179e"
             ],
             [
              0.4444444444444444,
              "#bd3786"
             ],
             [
              0.5555555555555556,
              "#d8576b"
             ],
             [
              0.6666666666666666,
              "#ed7953"
             ],
             [
              0.7777777777777778,
              "#fb9f3a"
             ],
             [
              0.8888888888888888,
              "#fdca26"
             ],
             [
              1,
              "#f0f921"
             ]
            ],
            "type": "heatmapgl"
           }
          ],
          "histogram": [
           {
            "marker": {
             "pattern": {
              "fillmode": "overlay",
              "size": 10,
              "solidity": 0.2
             }
            },
            "type": "histogram"
           }
          ],
          "histogram2d": [
           {
            "colorbar": {
             "outlinewidth": 0,
             "ticks": ""
            },
            "colorscale": [
             [
              0,
              "#0d0887"
             ],
             [
              0.1111111111111111,
              "#46039f"
             ],
             [
              0.2222222222222222,
              "#7201a8"
             ],
             [
              0.3333333333333333,
              "#9c179e"
             ],
             [
              0.4444444444444444,
              "#bd3786"
             ],
             [
              0.5555555555555556,
              "#d8576b"
             ],
             [
              0.6666666666666666,
              "#ed7953"
             ],
             [
              0.7777777777777778,
              "#fb9f3a"
             ],
             [
              0.8888888888888888,
              "#fdca26"
             ],
             [
              1,
              "#f0f921"
             ]
            ],
            "type": "histogram2d"
           }
          ],
          "histogram2dcontour": [
           {
            "colorbar": {
             "outlinewidth": 0,
             "ticks": ""
            },
            "colorscale": [
             [
              0,
              "#0d0887"
             ],
             [
              0.1111111111111111,
              "#46039f"
             ],
             [
              0.2222222222222222,
              "#7201a8"
             ],
             [
              0.3333333333333333,
              "#9c179e"
             ],
             [
              0.4444444444444444,
              "#bd3786"
             ],
             [
              0.5555555555555556,
              "#d8576b"
             ],
             [
              0.6666666666666666,
              "#ed7953"
             ],
             [
              0.7777777777777778,
              "#fb9f3a"
             ],
             [
              0.8888888888888888,
              "#fdca26"
             ],
             [
              1,
              "#f0f921"
             ]
            ],
            "type": "histogram2dcontour"
           }
          ],
          "mesh3d": [
           {
            "colorbar": {
             "outlinewidth": 0,
             "ticks": ""
            },
            "type": "mesh3d"
           }
          ],
          "parcoords": [
           {
            "line": {
             "colorbar": {
              "outlinewidth": 0,
              "ticks": ""
             }
            },
            "type": "parcoords"
           }
          ],
          "pie": [
           {
            "automargin": true,
            "type": "pie"
           }
          ],
          "scatter": [
           {
            "marker": {
             "colorbar": {
              "outlinewidth": 0,
              "ticks": ""
             }
            },
            "type": "scatter"
           }
          ],
          "scatter3d": [
           {
            "line": {
             "colorbar": {
              "outlinewidth": 0,
              "ticks": ""
             }
            },
            "marker": {
             "colorbar": {
              "outlinewidth": 0,
              "ticks": ""
             }
            },
            "type": "scatter3d"
           }
          ],
          "scattercarpet": [
           {
            "marker": {
             "colorbar": {
              "outlinewidth": 0,
              "ticks": ""
             }
            },
            "type": "scattercarpet"
           }
          ],
          "scattergeo": [
           {
            "marker": {
             "colorbar": {
              "outlinewidth": 0,
              "ticks": ""
             }
            },
            "type": "scattergeo"
           }
          ],
          "scattergl": [
           {
            "marker": {
             "colorbar": {
              "outlinewidth": 0,
              "ticks": ""
             }
            },
            "type": "scattergl"
           }
          ],
          "scattermapbox": [
           {
            "marker": {
             "colorbar": {
              "outlinewidth": 0,
              "ticks": ""
             }
            },
            "type": "scattermapbox"
           }
          ],
          "scatterpolar": [
           {
            "marker": {
             "colorbar": {
              "outlinewidth": 0,
              "ticks": ""
             }
            },
            "type": "scatterpolar"
           }
          ],
          "scatterpolargl": [
           {
            "marker": {
             "colorbar": {
              "outlinewidth": 0,
              "ticks": ""
             }
            },
            "type": "scatterpolargl"
           }
          ],
          "scatterternary": [
           {
            "marker": {
             "colorbar": {
              "outlinewidth": 0,
              "ticks": ""
             }
            },
            "type": "scatterternary"
           }
          ],
          "surface": [
           {
            "colorbar": {
             "outlinewidth": 0,
             "ticks": ""
            },
            "colorscale": [
             [
              0,
              "#0d0887"
             ],
             [
              0.1111111111111111,
              "#46039f"
             ],
             [
              0.2222222222222222,
              "#7201a8"
             ],
             [
              0.3333333333333333,
              "#9c179e"
             ],
             [
              0.4444444444444444,
              "#bd3786"
             ],
             [
              0.5555555555555556,
              "#d8576b"
             ],
             [
              0.6666666666666666,
              "#ed7953"
             ],
             [
              0.7777777777777778,
              "#fb9f3a"
             ],
             [
              0.8888888888888888,
              "#fdca26"
             ],
             [
              1,
              "#f0f921"
             ]
            ],
            "type": "surface"
           }
          ],
          "table": [
           {
            "cells": {
             "fill": {
              "color": "#EBF0F8"
             },
             "line": {
              "color": "white"
             }
            },
            "header": {
             "fill": {
              "color": "#C8D4E3"
             },
             "line": {
              "color": "white"
             }
            },
            "type": "table"
           }
          ]
         },
         "layout": {
          "annotationdefaults": {
           "arrowcolor": "#2a3f5f",
           "arrowhead": 0,
           "arrowwidth": 1
          },
          "autotypenumbers": "strict",
          "coloraxis": {
           "colorbar": {
            "outlinewidth": 0,
            "ticks": ""
           }
          },
          "colorscale": {
           "diverging": [
            [
             0,
             "#8e0152"
            ],
            [
             0.1,
             "#c51b7d"
            ],
            [
             0.2,
             "#de77ae"
            ],
            [
             0.3,
             "#f1b6da"
            ],
            [
             0.4,
             "#fde0ef"
            ],
            [
             0.5,
             "#f7f7f7"
            ],
            [
             0.6,
             "#e6f5d0"
            ],
            [
             0.7,
             "#b8e186"
            ],
            [
             0.8,
             "#7fbc41"
            ],
            [
             0.9,
             "#4d9221"
            ],
            [
             1,
             "#276419"
            ]
           ],
           "sequential": [
            [
             0,
             "#0d0887"
            ],
            [
             0.1111111111111111,
             "#46039f"
            ],
            [
             0.2222222222222222,
             "#7201a8"
            ],
            [
             0.3333333333333333,
             "#9c179e"
            ],
            [
             0.4444444444444444,
             "#bd3786"
            ],
            [
             0.5555555555555556,
             "#d8576b"
            ],
            [
             0.6666666666666666,
             "#ed7953"
            ],
            [
             0.7777777777777778,
             "#fb9f3a"
            ],
            [
             0.8888888888888888,
             "#fdca26"
            ],
            [
             1,
             "#f0f921"
            ]
           ],
           "sequentialminus": [
            [
             0,
             "#0d0887"
            ],
            [
             0.1111111111111111,
             "#46039f"
            ],
            [
             0.2222222222222222,
             "#7201a8"
            ],
            [
             0.3333333333333333,
             "#9c179e"
            ],
            [
             0.4444444444444444,
             "#bd3786"
            ],
            [
             0.5555555555555556,
             "#d8576b"
            ],
            [
             0.6666666666666666,
             "#ed7953"
            ],
            [
             0.7777777777777778,
             "#fb9f3a"
            ],
            [
             0.8888888888888888,
             "#fdca26"
            ],
            [
             1,
             "#f0f921"
            ]
           ]
          },
          "colorway": [
           "#636efa",
           "#EF553B",
           "#00cc96",
           "#ab63fa",
           "#FFA15A",
           "#19d3f3",
           "#FF6692",
           "#B6E880",
           "#FF97FF",
           "#FECB52"
          ],
          "font": {
           "color": "#2a3f5f"
          },
          "geo": {
           "bgcolor": "white",
           "lakecolor": "white",
           "landcolor": "#E5ECF6",
           "showlakes": true,
           "showland": true,
           "subunitcolor": "white"
          },
          "hoverlabel": {
           "align": "left"
          },
          "hovermode": "closest",
          "mapbox": {
           "style": "light"
          },
          "paper_bgcolor": "white",
          "plot_bgcolor": "#E5ECF6",
          "polar": {
           "angularaxis": {
            "gridcolor": "white",
            "linecolor": "white",
            "ticks": ""
           },
           "bgcolor": "#E5ECF6",
           "radialaxis": {
            "gridcolor": "white",
            "linecolor": "white",
            "ticks": ""
           }
          },
          "scene": {
           "xaxis": {
            "backgroundcolor": "#E5ECF6",
            "gridcolor": "white",
            "gridwidth": 2,
            "linecolor": "white",
            "showbackground": true,
            "ticks": "",
            "zerolinecolor": "white"
           },
           "yaxis": {
            "backgroundcolor": "#E5ECF6",
            "gridcolor": "white",
            "gridwidth": 2,
            "linecolor": "white",
            "showbackground": true,
            "ticks": "",
            "zerolinecolor": "white"
           },
           "zaxis": {
            "backgroundcolor": "#E5ECF6",
            "gridcolor": "white",
            "gridwidth": 2,
            "linecolor": "white",
            "showbackground": true,
            "ticks": "",
            "zerolinecolor": "white"
           }
          },
          "shapedefaults": {
           "line": {
            "color": "#2a3f5f"
           }
          },
          "ternary": {
           "aaxis": {
            "gridcolor": "white",
            "linecolor": "white",
            "ticks": ""
           },
           "baxis": {
            "gridcolor": "white",
            "linecolor": "white",
            "ticks": ""
           },
           "bgcolor": "#E5ECF6",
           "caxis": {
            "gridcolor": "white",
            "linecolor": "white",
            "ticks": ""
           }
          },
          "title": {
           "x": 0.05
          },
          "xaxis": {
           "automargin": true,
           "gridcolor": "white",
           "linecolor": "white",
           "ticks": "",
           "title": {
            "standoff": 15
           },
           "zerolinecolor": "white",
           "zerolinewidth": 2
          },
          "yaxis": {
           "automargin": true,
           "gridcolor": "white",
           "linecolor": "white",
           "ticks": "",
           "title": {
            "standoff": 15
           },
           "zerolinecolor": "white",
           "zerolinewidth": 2
          }
         }
        }
       },
       "config": {
        "plotlyServerURL": "https://plot.ly"
       }
      }
     },
     "metadata": {}
    }
   ],
   "metadata": {}
  }
 ],
 "metadata": {
  "orig_nbformat": 4,
  "language_info": {
   "name": "python",
   "version": "3.7.11",
   "mimetype": "text/x-python",
   "codemirror_mode": {
    "name": "ipython",
    "version": 3
   },
   "pygments_lexer": "ipython3",
   "nbconvert_exporter": "python",
   "file_extension": ".py"
  },
  "kernelspec": {
   "name": "python3",
   "display_name": "Python 3.7.11 64-bit ('eann': conda)"
  },
  "interpreter": {
   "hash": "465fa90a28663a9eacb4f6b007ef9489041ea648cb9c03179d70018ef7b6160c"
  }
 },
 "nbformat": 4,
 "nbformat_minor": 2
}