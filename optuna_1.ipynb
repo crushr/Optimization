{
 "cells": [
  {
   "cell_type": "code",
   "execution_count": 2,
   "source": [
    "import optuna\n",
    "\n",
    "# objective：优化目标函数（loss）\n",
    "# trial：优化\n",
    "def objective(trial):\n",
    "    # suggest_uniform在范围内均匀选择参数\n",
    "    x = trial.suggest_uniform('x', -10, 10)\n",
    "    return (x-2) ** 2\n",
    "\n",
    "# study：基于目标函数的优化过程\n",
    "# 创建一个优化过程\n",
    "study = optuna.create_study()\n",
    "# 开始对目标函数进行100次优化，并记录在study中\n",
    "study.optimize(objective, n_trials=100)"
   ],
   "outputs": [
    {
     "output_type": "stream",
     "name": "stderr",
     "text": [
      "\u001b[32m[I 2022-03-25 10:48:15,861]\u001b[0m A new study created in memory with name: no-name-3467f5c7-6441-4323-a335-f5a9c082e85e\u001b[0m\n",
      "\u001b[32m[I 2022-03-25 10:48:15,865]\u001b[0m Trial 0 finished with value: 3.775821462010697 and parameters: {'x': 3.9431473083661714}. Best is trial 0 with value: 3.775821462010697.\u001b[0m\n",
      "\u001b[32m[I 2022-03-25 10:48:15,866]\u001b[0m Trial 1 finished with value: 81.2627786615522 and parameters: {'x': -7.014586993398655}. Best is trial 0 with value: 3.775821462010697.\u001b[0m\n",
      "\u001b[32m[I 2022-03-25 10:48:15,867]\u001b[0m Trial 2 finished with value: 40.89556637479307 and parameters: {'x': 8.394964141791029}. Best is trial 0 with value: 3.775821462010697.\u001b[0m\n",
      "\u001b[32m[I 2022-03-25 10:48:15,868]\u001b[0m Trial 3 finished with value: 52.61123327301719 and parameters: {'x': 9.253360136724027}. Best is trial 0 with value: 3.775821462010697.\u001b[0m\n",
      "\u001b[32m[I 2022-03-25 10:48:15,869]\u001b[0m Trial 4 finished with value: 76.56074688106261 and parameters: {'x': -6.749899821201533}. Best is trial 0 with value: 3.775821462010697.\u001b[0m\n",
      "\u001b[32m[I 2022-03-25 10:48:15,870]\u001b[0m Trial 5 finished with value: 3.8374081205952177 and parameters: {'x': 3.958930351134317}. Best is trial 0 with value: 3.775821462010697.\u001b[0m\n",
      "\u001b[32m[I 2022-03-25 10:48:15,871]\u001b[0m Trial 6 finished with value: 2.799819221213688 and parameters: {'x': 3.6732660342018804}. Best is trial 6 with value: 2.799819221213688.\u001b[0m\n",
      "\u001b[32m[I 2022-03-25 10:48:15,873]\u001b[0m Trial 7 finished with value: 1.18453206953204 and parameters: {'x': 0.9116378959500473}. Best is trial 7 with value: 1.18453206953204.\u001b[0m\n",
      "\u001b[32m[I 2022-03-25 10:48:15,874]\u001b[0m Trial 8 finished with value: 33.19389153802367 and parameters: {'x': -3.761414022444809}. Best is trial 7 with value: 1.18453206953204.\u001b[0m\n",
      "\u001b[32m[I 2022-03-25 10:48:15,876]\u001b[0m Trial 9 finished with value: 32.2661545706407 and parameters: {'x': 7.680330498363691}. Best is trial 7 with value: 1.18453206953204.\u001b[0m\n",
      "\u001b[32m[I 2022-03-25 10:48:15,883]\u001b[0m Trial 10 finished with value: 4.9128943391356295 and parameters: {'x': -0.21650498288084852}. Best is trial 7 with value: 1.18453206953204.\u001b[0m\n",
      "\u001b[32m[I 2022-03-25 10:48:15,886]\u001b[0m Trial 11 finished with value: 0.9500818427581388 and parameters: {'x': 1.025278581974245}. Best is trial 11 with value: 0.9500818427581388.\u001b[0m\n",
      "\u001b[32m[I 2022-03-25 10:48:15,890]\u001b[0m Trial 12 finished with value: 5.1839144947430285 and parameters: {'x': -0.2768211380657525}. Best is trial 11 with value: 0.9500818427581388.\u001b[0m\n",
      "\u001b[32m[I 2022-03-25 10:48:15,894]\u001b[0m Trial 13 finished with value: 23.089853617978708 and parameters: {'x': -2.805190279060623}. Best is trial 11 with value: 0.9500818427581388.\u001b[0m\n",
      "\u001b[32m[I 2022-03-25 10:48:15,897]\u001b[0m Trial 14 finished with value: 0.3829934875093141 and parameters: {'x': 2.618864676249432}. Best is trial 14 with value: 0.3829934875093141.\u001b[0m\n",
      "\u001b[32m[I 2022-03-25 10:48:15,902]\u001b[0m Trial 15 finished with value: 13.355113023289372 and parameters: {'x': 5.6544648066836505}. Best is trial 14 with value: 0.3829934875093141.\u001b[0m\n",
      "\u001b[32m[I 2022-03-25 10:48:15,906]\u001b[0m Trial 16 finished with value: 0.12070873577132875 and parameters: {'x': 1.652568372522983}. Best is trial 16 with value: 0.12070873577132875.\u001b[0m\n",
      "\u001b[32m[I 2022-03-25 10:48:15,910]\u001b[0m Trial 17 finished with value: 22.370688424747353 and parameters: {'x': -2.729766212483166}. Best is trial 16 with value: 0.12070873577132875.\u001b[0m\n",
      "\u001b[32m[I 2022-03-25 10:48:15,913]\u001b[0m Trial 18 finished with value: 18.01875417202508 and parameters: {'x': 6.244850312086998}. Best is trial 16 with value: 0.12070873577132875.\u001b[0m\n",
      "\u001b[32m[I 2022-03-25 10:48:15,917]\u001b[0m Trial 19 finished with value: 0.27342165644602845 and parameters: {'x': 2.5228973670291603}. Best is trial 16 with value: 0.12070873577132875.\u001b[0m\n",
      "\u001b[32m[I 2022-03-25 10:48:15,920]\u001b[0m Trial 20 finished with value: 120.98981376165045 and parameters: {'x': -8.999536979421018}. Best is trial 16 with value: 0.12070873577132875.\u001b[0m\n",
      "\u001b[32m[I 2022-03-25 10:48:15,923]\u001b[0m Trial 21 finished with value: 0.2624764204568393 and parameters: {'x': 2.5123245265033085}. Best is trial 16 with value: 0.12070873577132875.\u001b[0m\n",
      "\u001b[32m[I 2022-03-25 10:48:15,927]\u001b[0m Trial 22 finished with value: 0.2601097993975973 and parameters: {'x': 2.5100096071620586}. Best is trial 16 with value: 0.12070873577132875.\u001b[0m\n",
      "\u001b[32m[I 2022-03-25 10:48:15,930]\u001b[0m Trial 23 finished with value: 14.120540409922135 and parameters: {'x': -1.7577307527179398}. Best is trial 16 with value: 0.12070873577132875.\u001b[0m\n",
      "\u001b[32m[I 2022-03-25 10:48:15,933]\u001b[0m Trial 24 finished with value: 13.904324014587472 and parameters: {'x': 5.728850226891323}. Best is trial 16 with value: 0.12070873577132875.\u001b[0m\n",
      "\u001b[32m[I 2022-03-25 10:48:15,937]\u001b[0m Trial 25 finished with value: 0.018753234123874647 and parameters: {'x': 2.136942448217763}. Best is trial 25 with value: 0.018753234123874647.\u001b[0m\n",
      "\u001b[32m[I 2022-03-25 10:48:15,945]\u001b[0m Trial 26 finished with value: 10.65880903129337 and parameters: {'x': -1.2647831522619337}. Best is trial 25 with value: 0.018753234123874647.\u001b[0m\n",
      "\u001b[32m[I 2022-03-25 10:48:15,950]\u001b[0m Trial 27 finished with value: 0.2044520707059439 and parameters: {'x': 1.54783623463844}. Best is trial 25 with value: 0.018753234123874647.\u001b[0m\n",
      "\u001b[32m[I 2022-03-25 10:48:15,953]\u001b[0m Trial 28 finished with value: 43.31932581943193 and parameters: {'x': -4.581741852992407}. Best is trial 25 with value: 0.018753234123874647.\u001b[0m\n",
      "\u001b[32m[I 2022-03-25 10:48:15,956]\u001b[0m Trial 29 finished with value: 4.7722085635167355 and parameters: {'x': 4.18453852415487}. Best is trial 25 with value: 0.018753234123874647.\u001b[0m\n",
      "\u001b[32m[I 2022-03-25 10:48:15,960]\u001b[0m Trial 30 finished with value: 0.9503997433901645 and parameters: {'x': 1.0251155230540572}. Best is trial 25 with value: 0.018753234123874647.\u001b[0m\n",
      "\u001b[32m[I 2022-03-25 10:48:15,966]\u001b[0m Trial 31 finished with value: 0.35278271092120095 and parameters: {'x': 1.4060448578207265}. Best is trial 25 with value: 0.018753234123874647.\u001b[0m\n",
      "\u001b[32m[I 2022-03-25 10:48:15,969]\u001b[0m Trial 32 finished with value: 1.5862372218262368 and parameters: {'x': 3.259459098909622}. Best is trial 25 with value: 0.018753234123874647.\u001b[0m\n",
      "\u001b[32m[I 2022-03-25 10:48:15,973]\u001b[0m Trial 33 finished with value: 7.855166015803671 and parameters: {'x': 4.802706908651647}. Best is trial 25 with value: 0.018753234123874647.\u001b[0m\n",
      "\u001b[32m[I 2022-03-25 10:48:15,976]\u001b[0m Trial 34 finished with value: 0.016545120259395172 and parameters: {'x': 1.8713721637459637}. Best is trial 34 with value: 0.016545120259395172.\u001b[0m\n",
      "\u001b[32m[I 2022-03-25 10:48:15,980]\u001b[0m Trial 35 finished with value: 8.672512716928848 and parameters: {'x': -0.9449130236611145}. Best is trial 34 with value: 0.016545120259395172.\u001b[0m\n",
      "\u001b[32m[I 2022-03-25 10:48:15,983]\u001b[0m Trial 36 finished with value: 25.174508578055857 and parameters: {'x': 7.01742051038737}. Best is trial 34 with value: 0.016545120259395172.\u001b[0m\n",
      "\u001b[32m[I 2022-03-25 10:48:15,986]\u001b[0m Trial 37 finished with value: 0.29779024696432116 and parameters: {'x': 1.4542983901761686}. Best is trial 34 with value: 0.016545120259395172.\u001b[0m\n",
      "\u001b[32m[I 2022-03-25 10:48:15,990]\u001b[0m Trial 38 finished with value: 3.2292158268470104 and parameters: {'x': 0.20299810048875847}. Best is trial 34 with value: 0.016545120259395172.\u001b[0m\n",
      "\u001b[32m[I 2022-03-25 10:48:15,994]\u001b[0m Trial 39 finished with value: 53.3518333311066 and parameters: {'x': 9.304233931844365}. Best is trial 34 with value: 0.016545120259395172.\u001b[0m\n",
      "\u001b[32m[I 2022-03-25 10:48:15,997]\u001b[0m Trial 40 finished with value: 7.110593467860668 and parameters: {'x': 4.666569606790842}. Best is trial 34 with value: 0.016545120259395172.\u001b[0m\n",
      "\u001b[32m[I 2022-03-25 10:48:16,000]\u001b[0m Trial 41 finished with value: 0.0005920220305649994 and parameters: {'x': 1.975668497157697}. Best is trial 41 with value: 0.0005920220305649994.\u001b[0m\n",
      "\u001b[32m[I 2022-03-25 10:48:16,003]\u001b[0m Trial 42 finished with value: 0.030162423191019548 and parameters: {'x': 1.8263266768008986}. Best is trial 41 with value: 0.0005920220305649994.\u001b[0m\n",
      "\u001b[32m[I 2022-03-25 10:48:16,007]\u001b[0m Trial 43 finished with value: 1.4754650462637409 and parameters: {'x': 3.2146872215775306}. Best is trial 41 with value: 0.0005920220305649994.\u001b[0m\n",
      "\u001b[32m[I 2022-03-25 10:48:16,010]\u001b[0m Trial 44 finished with value: 3.8203621222710007 and parameters: {'x': 0.04542533469017851}. Best is trial 41 with value: 0.0005920220305649994.\u001b[0m\n",
      "\u001b[32m[I 2022-03-25 10:48:16,014]\u001b[0m Trial 45 finished with value: 2.4770540110051447 and parameters: {'x': 0.42613405557997264}. Best is trial 41 with value: 0.0005920220305649994.\u001b[0m\n",
      "\u001b[32m[I 2022-03-25 10:48:16,018]\u001b[0m Trial 46 finished with value: 0.014196220816182907 and parameters: {'x': 1.8808521052801062}. Best is trial 41 with value: 0.0005920220305649994.\u001b[0m\n",
      "\u001b[32m[I 2022-03-25 10:48:16,021]\u001b[0m Trial 47 finished with value: 3.135586330694308 and parameters: {'x': 3.770758687877687}. Best is trial 41 with value: 0.0005920220305649994.\u001b[0m\n",
      "\u001b[32m[I 2022-03-25 10:48:16,024]\u001b[0m Trial 48 finished with value: 8.87477136760603 and parameters: {'x': -0.9790554488975245}. Best is trial 41 with value: 0.0005920220305649994.\u001b[0m\n",
      "\u001b[32m[I 2022-03-25 10:48:16,027]\u001b[0m Trial 49 finished with value: 0.00544079397541194 and parameters: {'x': 2.073761737882265}. Best is trial 41 with value: 0.0005920220305649994.\u001b[0m\n",
      "\u001b[32m[I 2022-03-25 10:48:16,031]\u001b[0m Trial 50 finished with value: 9.55578593159797 and parameters: {'x': 5.091243428071942}. Best is trial 41 with value: 0.0005920220305649994.\u001b[0m\n",
      "\u001b[32m[I 2022-03-25 10:48:16,034]\u001b[0m Trial 51 finished with value: 0.0016119668648977563 and parameters: {'x': 1.9598506928466037}. Best is trial 41 with value: 0.0005920220305649994.\u001b[0m\n",
      "\u001b[32m[I 2022-03-25 10:48:16,038]\u001b[0m Trial 52 finished with value: 1.29123060050903 and parameters: {'x': 3.1363232816892515}. Best is trial 41 with value: 0.0005920220305649994.\u001b[0m\n",
      "\u001b[32m[I 2022-03-25 10:48:16,041]\u001b[0m Trial 53 finished with value: 0.019511022490294596 and parameters: {'x': 2.1396818617082927}. Best is trial 41 with value: 0.0005920220305649994.\u001b[0m\n",
      "\u001b[32m[I 2022-03-25 10:48:16,044]\u001b[0m Trial 54 finished with value: 4.166126670425792 and parameters: {'x': 4.0411091765081535}. Best is trial 41 with value: 0.0005920220305649994.\u001b[0m\n",
      "\u001b[32m[I 2022-03-25 10:48:16,048]\u001b[0m Trial 55 finished with value: 1.674163156851305 and parameters: {'x': 0.7061054305503462}. Best is trial 41 with value: 0.0005920220305649994.\u001b[0m\n",
      "\u001b[32m[I 2022-03-25 10:48:16,052]\u001b[0m Trial 56 finished with value: 15.484111425243997 and parameters: {'x': -1.9349855686195339}. Best is trial 41 with value: 0.0005920220305649994.\u001b[0m\n",
      "\u001b[32m[I 2022-03-25 10:48:16,056]\u001b[0m Trial 57 finished with value: 1.080643173481809 and parameters: {'x': 3.0395398854694364}. Best is trial 41 with value: 0.0005920220305649994.\u001b[0m\n",
      "\u001b[32m[I 2022-03-25 10:48:16,059]\u001b[0m Trial 58 finished with value: 6.749497343425808 and parameters: {'x': -0.5979794732495112}. Best is trial 41 with value: 0.0005920220305649994.\u001b[0m\n",
      "\u001b[32m[I 2022-03-25 10:48:16,063]\u001b[0m Trial 59 finished with value: 0.08146011465314448 and parameters: {'x': 2.2854121837853887}. Best is trial 41 with value: 0.0005920220305649994.\u001b[0m\n",
      "\u001b[32m[I 2022-03-25 10:48:16,067]\u001b[0m Trial 60 finished with value: 38.224708967619776 and parameters: {'x': 8.18261344154879}. Best is trial 41 with value: 0.0005920220305649994.\u001b[0m\n",
      "\u001b[32m[I 2022-03-25 10:48:16,070]\u001b[0m Trial 61 finished with value: 0.0005521519447554876 and parameters: {'x': 1.9765020863744143}. Best is trial 61 with value: 0.0005521519447554876.\u001b[0m\n",
      "\u001b[32m[I 2022-03-25 10:48:16,074]\u001b[0m Trial 62 finished with value: 0.051298745870258566 and parameters: {'x': 2.226492264482164}. Best is trial 61 with value: 0.0005521519447554876.\u001b[0m\n",
      "\u001b[32m[I 2022-03-25 10:48:16,078]\u001b[0m Trial 63 finished with value: 1.2937806128135108 and parameters: {'x': 0.8625552264775618}. Best is trial 61 with value: 0.0005521519447554876.\u001b[0m\n",
      "\u001b[32m[I 2022-03-25 10:48:16,081]\u001b[0m Trial 64 finished with value: 4.9025562926276365 and parameters: {'x': -0.21417169447801299}. Best is trial 61 with value: 0.0005521519447554876.\u001b[0m\n",
      "\u001b[32m[I 2022-03-25 10:48:16,084]\u001b[0m Trial 65 finished with value: 0.5207537122583946 and parameters: {'x': 1.2783673287202175}. Best is trial 61 with value: 0.0005521519447554876.\u001b[0m\n",
      "\u001b[32m[I 2022-03-25 10:48:16,088]\u001b[0m Trial 66 finished with value: 2.580200658814998 and parameters: {'x': 3.6063003015672375}. Best is trial 61 with value: 0.0005521519447554876.\u001b[0m\n",
      "\u001b[32m[I 2022-03-25 10:48:16,091]\u001b[0m Trial 67 finished with value: 0.378454095182076 and parameters: {'x': 2.6151862280497475}. Best is trial 61 with value: 0.0005521519447554876.\u001b[0m\n",
      "\u001b[32m[I 2022-03-25 10:48:16,095]\u001b[0m Trial 68 finished with value: 0.0077082459305297295 and parameters: {'x': 1.9122033831487242}. Best is trial 61 with value: 0.0005521519447554876.\u001b[0m\n",
      "\u001b[32m[I 2022-03-25 10:48:16,098]\u001b[0m Trial 69 finished with value: 2.5556435828260553 and parameters: {'x': 0.4013619600340872}. Best is trial 61 with value: 0.0005521519447554876.\u001b[0m\n",
      "\u001b[32m[I 2022-03-25 10:48:16,101]\u001b[0m Trial 70 finished with value: 6.171841378599189 and parameters: {'x': 4.484319097579695}. Best is trial 61 with value: 0.0005521519447554876.\u001b[0m\n",
      "\u001b[32m[I 2022-03-25 10:48:16,105]\u001b[0m Trial 71 finished with value: 0.013642372909762467 and parameters: {'x': 1.8831994310383615}. Best is trial 61 with value: 0.0005521519447554876.\u001b[0m\n",
      "\u001b[32m[I 2022-03-25 10:48:16,109]\u001b[0m Trial 72 finished with value: 0.029438585915107614 and parameters: {'x': 1.8284232360862707}. Best is trial 61 with value: 0.0005521519447554876.\u001b[0m\n",
      "\u001b[32m[I 2022-03-25 10:48:16,112]\u001b[0m Trial 73 finished with value: 0.8053089481955138 and parameters: {'x': 2.8973900758285183}. Best is trial 61 with value: 0.0005521519447554876.\u001b[0m\n",
      "\u001b[32m[I 2022-03-25 10:48:16,116]\u001b[0m Trial 74 finished with value: 0.971124607548776 and parameters: {'x': 1.0145434522269507}. Best is trial 61 with value: 0.0005521519447554876.\u001b[0m\n",
      "\u001b[32m[I 2022-03-25 10:48:16,121]\u001b[0m Trial 75 finished with value: 1.9267374301017675 and parameters: {'x': 3.3880696776825605}. Best is trial 61 with value: 0.0005521519447554876.\u001b[0m\n",
      "\u001b[32m[I 2022-03-25 10:48:16,125]\u001b[0m Trial 76 finished with value: 0.20378169930908183 and parameters: {'x': 1.5485781359868778}. Best is trial 61 with value: 0.0005521519447554876.\u001b[0m\n",
      "\u001b[32m[I 2022-03-25 10:48:16,130]\u001b[0m Trial 77 finished with value: 11.954816313048413 and parameters: {'x': 5.457573761042331}. Best is trial 61 with value: 0.0005521519447554876.\u001b[0m\n",
      "\u001b[32m[I 2022-03-25 10:48:16,134]\u001b[0m Trial 78 finished with value: 68.66435959663995 and parameters: {'x': -6.2863960559847705}. Best is trial 61 with value: 0.0005521519447554876.\u001b[0m\n",
      "\u001b[32m[I 2022-03-25 10:48:16,138]\u001b[0m Trial 79 finished with value: 0.0038799838541803957 and parameters: {'x': 1.9377104835933012}. Best is trial 61 with value: 0.0005521519447554876.\u001b[0m\n",
      "\u001b[32m[I 2022-03-25 10:48:16,142]\u001b[0m Trial 80 finished with value: 14.095794429262398 and parameters: {'x': -1.75443663274031}. Best is trial 61 with value: 0.0005521519447554876.\u001b[0m\n",
      "\u001b[32m[I 2022-03-25 10:48:16,146]\u001b[0m Trial 81 finished with value: 0.024503225566100777 and parameters: {'x': 1.8434649382211743}. Best is trial 61 with value: 0.0005521519447554876.\u001b[0m\n",
      "\u001b[32m[I 2022-03-25 10:48:16,151]\u001b[0m Trial 82 finished with value: 0.2878092987092337 and parameters: {'x': 2.536478609740625}. Best is trial 61 with value: 0.0005521519447554876.\u001b[0m\n",
      "\u001b[32m[I 2022-03-25 10:48:16,155]\u001b[0m Trial 83 finished with value: 1.4538253767251106 and parameters: {'x': 0.7942531871387299}. Best is trial 61 with value: 0.0005521519447554876.\u001b[0m\n",
      "\u001b[32m[I 2022-03-25 10:48:16,159]\u001b[0m Trial 84 finished with value: 4.342731266257688 and parameters: {'x': 4.083922087376994}. Best is trial 61 with value: 0.0005521519447554876.\u001b[0m\n",
      "\u001b[32m[I 2022-03-25 10:48:16,163]\u001b[0m Trial 85 finished with value: 3.9634870202843158 and parameters: {'x': 0.009149171764917072}. Best is trial 61 with value: 0.0005521519447554876.\u001b[0m\n",
      "\u001b[32m[I 2022-03-25 10:48:16,168]\u001b[0m Trial 86 finished with value: 0.4865041381781707 and parameters: {'x': 1.3025015138524165}. Best is trial 61 with value: 0.0005521519447554876.\u001b[0m\n",
      "\u001b[32m[I 2022-03-25 10:48:16,172]\u001b[0m Trial 87 finished with value: 0.00026332743959996173 and parameters: {'x': 1.9837726330047059}. Best is trial 87 with value: 0.00026332743959996173.\u001b[0m\n",
      "\u001b[32m[I 2022-03-25 10:48:16,177]\u001b[0m Trial 88 finished with value: 0.6380466911711731 and parameters: {'x': 2.7987782490598834}. Best is trial 87 with value: 0.00026332743959996173.\u001b[0m\n",
      "\u001b[32m[I 2022-03-25 10:48:16,183]\u001b[0m Trial 89 finished with value: 2.7244448034152704 and parameters: {'x': 3.6505892291588693}. Best is trial 87 with value: 0.00026332743959996173.\u001b[0m\n",
      "\u001b[32m[I 2022-03-25 10:48:16,187]\u001b[0m Trial 90 finished with value: 2.3039086624687917 and parameters: {'x': 0.48213681035845934}. Best is trial 87 with value: 0.00026332743959996173.\u001b[0m\n",
      "\u001b[32m[I 2022-03-25 10:48:16,192]\u001b[0m Trial 91 finished with value: 0.00922304592073238 and parameters: {'x': 1.9039633095076034}. Best is trial 87 with value: 0.00026332743959996173.\u001b[0m\n",
      "\u001b[32m[I 2022-03-25 10:48:16,196]\u001b[0m Trial 92 finished with value: 0.031320863187845084 and parameters: {'x': 1.8230229868377108}. Best is trial 87 with value: 0.00026332743959996173.\u001b[0m\n",
      "\u001b[32m[I 2022-03-25 10:48:16,201]\u001b[0m Trial 93 finished with value: 0.059008612513162105 and parameters: {'x': 2.242916883960671}. Best is trial 87 with value: 0.00026332743959996173.\u001b[0m\n",
      "\u001b[32m[I 2022-03-25 10:48:16,205]\u001b[0m Trial 94 finished with value: 0.6451498583298387 and parameters: {'x': 1.1967877874871182}. Best is trial 87 with value: 0.00026332743959996173.\u001b[0m\n",
      "\u001b[32m[I 2022-03-25 10:48:16,210]\u001b[0m Trial 95 finished with value: 1.365820079820038 and parameters: {'x': 3.168683053620629}. Best is trial 87 with value: 0.00026332743959996173.\u001b[0m\n",
      "\u001b[32m[I 2022-03-25 10:48:16,216]\u001b[0m Trial 96 finished with value: 6.7981586550129265 and parameters: {'x': -0.6073278763924046}. Best is trial 87 with value: 0.00026332743959996173.\u001b[0m\n",
      "\u001b[32m[I 2022-03-25 10:48:16,220]\u001b[0m Trial 97 finished with value: 0.2997044264034223 and parameters: {'x': 2.5474526704688016}. Best is trial 87 with value: 0.00026332743959996173.\u001b[0m\n",
      "\u001b[32m[I 2022-03-25 10:48:16,223]\u001b[0m Trial 98 finished with value: 1.694809568319864 and parameters: {'x': 0.6981514802712783}. Best is trial 87 with value: 0.00026332743959996173.\u001b[0m\n",
      "\u001b[32m[I 2022-03-25 10:48:16,227]\u001b[0m Trial 99 finished with value: 0.020684382434220893 and parameters: {'x': 2.143820660665361}. Best is trial 87 with value: 0.00026332743959996173.\u001b[0m\n"
     ]
    }
   ],
   "metadata": {}
  },
  {
   "cell_type": "code",
   "execution_count": 3,
   "source": [
    "study.best_params"
   ],
   "outputs": [
    {
     "output_type": "execute_result",
     "data": {
      "text/plain": [
       "{'x': 1.9837726330047059}"
      ]
     },
     "metadata": {},
     "execution_count": 3
    }
   ],
   "metadata": {}
  },
  {
   "cell_type": "code",
   "execution_count": 4,
   "source": [
    "study.best_value"
   ],
   "outputs": [
    {
     "output_type": "execute_result",
     "data": {
      "text/plain": [
       "0.00026332743959996173"
      ]
     },
     "metadata": {},
     "execution_count": 4
    }
   ],
   "metadata": {}
  },
  {
   "cell_type": "code",
   "execution_count": 5,
   "source": [
    "study.best_trial"
   ],
   "outputs": [
    {
     "output_type": "execute_result",
     "data": {
      "text/plain": [
       "FrozenTrial(number=87, values=[0.00026332743959996173], datetime_start=datetime.datetime(2022, 3, 25, 10, 48, 16, 169207), datetime_complete=datetime.datetime(2022, 3, 25, 10, 48, 16, 172300), params={'x': 1.9837726330047059}, distributions={'x': UniformDistribution(high=10.0, low=-10.0)}, user_attrs={}, system_attrs={}, intermediate_values={}, trial_id=87, state=TrialState.COMPLETE, value=None)"
      ]
     },
     "metadata": {},
     "execution_count": 5
    }
   ],
   "metadata": {}
  },
  {
   "cell_type": "code",
   "execution_count": 6,
   "source": [
    "study.trials"
   ],
   "outputs": [
    {
     "output_type": "execute_result",
     "data": {
      "text/plain": [
       "[FrozenTrial(number=0, values=[3.775821462010697], datetime_start=datetime.datetime(2022, 3, 25, 10, 48, 15, 863313), datetime_complete=datetime.datetime(2022, 3, 25, 10, 48, 15, 865208), params={'x': 3.9431473083661714}, distributions={'x': UniformDistribution(high=10.0, low=-10.0)}, user_attrs={}, system_attrs={}, intermediate_values={}, trial_id=0, state=TrialState.COMPLETE, value=None),\n",
       " FrozenTrial(number=1, values=[81.2627786615522], datetime_start=datetime.datetime(2022, 3, 25, 10, 48, 15, 866296), datetime_complete=datetime.datetime(2022, 3, 25, 10, 48, 15, 866625), params={'x': -7.014586993398655}, distributions={'x': UniformDistribution(high=10.0, low=-10.0)}, user_attrs={}, system_attrs={}, intermediate_values={}, trial_id=1, state=TrialState.COMPLETE, value=None),\n",
       " FrozenTrial(number=2, values=[40.89556637479307], datetime_start=datetime.datetime(2022, 3, 25, 10, 48, 15, 867327), datetime_complete=datetime.datetime(2022, 3, 25, 10, 48, 15, 867553), params={'x': 8.394964141791029}, distributions={'x': UniformDistribution(high=10.0, low=-10.0)}, user_attrs={}, system_attrs={}, intermediate_values={}, trial_id=2, state=TrialState.COMPLETE, value=None),\n",
       " FrozenTrial(number=3, values=[52.61123327301719], datetime_start=datetime.datetime(2022, 3, 25, 10, 48, 15, 868259), datetime_complete=datetime.datetime(2022, 3, 25, 10, 48, 15, 868484), params={'x': 9.253360136724027}, distributions={'x': UniformDistribution(high=10.0, low=-10.0)}, user_attrs={}, system_attrs={}, intermediate_values={}, trial_id=3, state=TrialState.COMPLETE, value=None),\n",
       " FrozenTrial(number=4, values=[76.56074688106261], datetime_start=datetime.datetime(2022, 3, 25, 10, 48, 15, 869240), datetime_complete=datetime.datetime(2022, 3, 25, 10, 48, 15, 869456), params={'x': -6.749899821201533}, distributions={'x': UniformDistribution(high=10.0, low=-10.0)}, user_attrs={}, system_attrs={}, intermediate_values={}, trial_id=4, state=TrialState.COMPLETE, value=None),\n",
       " FrozenTrial(number=5, values=[3.8374081205952177], datetime_start=datetime.datetime(2022, 3, 25, 10, 48, 15, 870018), datetime_complete=datetime.datetime(2022, 3, 25, 10, 48, 15, 870258), params={'x': 3.958930351134317}, distributions={'x': UniformDistribution(high=10.0, low=-10.0)}, user_attrs={}, system_attrs={}, intermediate_values={}, trial_id=5, state=TrialState.COMPLETE, value=None),\n",
       " FrozenTrial(number=6, values=[2.799819221213688], datetime_start=datetime.datetime(2022, 3, 25, 10, 48, 15, 871279), datetime_complete=datetime.datetime(2022, 3, 25, 10, 48, 15, 871579), params={'x': 3.6732660342018804}, distributions={'x': UniformDistribution(high=10.0, low=-10.0)}, user_attrs={}, system_attrs={}, intermediate_values={}, trial_id=6, state=TrialState.COMPLETE, value=None),\n",
       " FrozenTrial(number=7, values=[1.18453206953204], datetime_start=datetime.datetime(2022, 3, 25, 10, 48, 15, 873111), datetime_complete=datetime.datetime(2022, 3, 25, 10, 48, 15, 873448), params={'x': 0.9116378959500473}, distributions={'x': UniformDistribution(high=10.0, low=-10.0)}, user_attrs={}, system_attrs={}, intermediate_values={}, trial_id=7, state=TrialState.COMPLETE, value=None),\n",
       " FrozenTrial(number=8, values=[33.19389153802367], datetime_start=datetime.datetime(2022, 3, 25, 10, 48, 15, 874236), datetime_complete=datetime.datetime(2022, 3, 25, 10, 48, 15, 874745), params={'x': -3.761414022444809}, distributions={'x': UniformDistribution(high=10.0, low=-10.0)}, user_attrs={}, system_attrs={}, intermediate_values={}, trial_id=8, state=TrialState.COMPLETE, value=None),\n",
       " FrozenTrial(number=9, values=[32.2661545706407], datetime_start=datetime.datetime(2022, 3, 25, 10, 48, 15, 875721), datetime_complete=datetime.datetime(2022, 3, 25, 10, 48, 15, 875996), params={'x': 7.680330498363691}, distributions={'x': UniformDistribution(high=10.0, low=-10.0)}, user_attrs={}, system_attrs={}, intermediate_values={}, trial_id=9, state=TrialState.COMPLETE, value=None),\n",
       " FrozenTrial(number=10, values=[4.9128943391356295], datetime_start=datetime.datetime(2022, 3, 25, 10, 48, 15, 876699), datetime_complete=datetime.datetime(2022, 3, 25, 10, 48, 15, 883100), params={'x': -0.21650498288084852}, distributions={'x': UniformDistribution(high=10.0, low=-10.0)}, user_attrs={}, system_attrs={}, intermediate_values={}, trial_id=10, state=TrialState.COMPLETE, value=None),\n",
       " FrozenTrial(number=11, values=[0.9500818427581388], datetime_start=datetime.datetime(2022, 3, 25, 10, 48, 15, 883861), datetime_complete=datetime.datetime(2022, 3, 25, 10, 48, 15, 886572), params={'x': 1.025278581974245}, distributions={'x': UniformDistribution(high=10.0, low=-10.0)}, user_attrs={}, system_attrs={}, intermediate_values={}, trial_id=11, state=TrialState.COMPLETE, value=None),\n",
       " FrozenTrial(number=12, values=[5.1839144947430285], datetime_start=datetime.datetime(2022, 3, 25, 10, 48, 15, 887392), datetime_complete=datetime.datetime(2022, 3, 25, 10, 48, 15, 890505), params={'x': -0.2768211380657525}, distributions={'x': UniformDistribution(high=10.0, low=-10.0)}, user_attrs={}, system_attrs={}, intermediate_values={}, trial_id=12, state=TrialState.COMPLETE, value=None),\n",
       " FrozenTrial(number=13, values=[23.089853617978708], datetime_start=datetime.datetime(2022, 3, 25, 10, 48, 15, 891341), datetime_complete=datetime.datetime(2022, 3, 25, 10, 48, 15, 894216), params={'x': -2.805190279060623}, distributions={'x': UniformDistribution(high=10.0, low=-10.0)}, user_attrs={}, system_attrs={}, intermediate_values={}, trial_id=13, state=TrialState.COMPLETE, value=None),\n",
       " FrozenTrial(number=14, values=[0.3829934875093141], datetime_start=datetime.datetime(2022, 3, 25, 10, 48, 15, 895328), datetime_complete=datetime.datetime(2022, 3, 25, 10, 48, 15, 897602), params={'x': 2.618864676249432}, distributions={'x': UniformDistribution(high=10.0, low=-10.0)}, user_attrs={}, system_attrs={}, intermediate_values={}, trial_id=14, state=TrialState.COMPLETE, value=None),\n",
       " FrozenTrial(number=15, values=[13.355113023289372], datetime_start=datetime.datetime(2022, 3, 25, 10, 48, 15, 899653), datetime_complete=datetime.datetime(2022, 3, 25, 10, 48, 15, 902348), params={'x': 5.6544648066836505}, distributions={'x': UniformDistribution(high=10.0, low=-10.0)}, user_attrs={}, system_attrs={}, intermediate_values={}, trial_id=15, state=TrialState.COMPLETE, value=None),\n",
       " FrozenTrial(number=16, values=[0.12070873577132875], datetime_start=datetime.datetime(2022, 3, 25, 10, 48, 15, 904110), datetime_complete=datetime.datetime(2022, 3, 25, 10, 48, 15, 906768), params={'x': 1.652568372522983}, distributions={'x': UniformDistribution(high=10.0, low=-10.0)}, user_attrs={}, system_attrs={}, intermediate_values={}, trial_id=16, state=TrialState.COMPLETE, value=None),\n",
       " FrozenTrial(number=17, values=[22.370688424747353], datetime_start=datetime.datetime(2022, 3, 25, 10, 48, 15, 907712), datetime_complete=datetime.datetime(2022, 3, 25, 10, 48, 15, 910280), params={'x': -2.729766212483166}, distributions={'x': UniformDistribution(high=10.0, low=-10.0)}, user_attrs={}, system_attrs={}, intermediate_values={}, trial_id=17, state=TrialState.COMPLETE, value=None),\n",
       " FrozenTrial(number=18, values=[18.01875417202508], datetime_start=datetime.datetime(2022, 3, 25, 10, 48, 15, 910981), datetime_complete=datetime.datetime(2022, 3, 25, 10, 48, 15, 913428), params={'x': 6.244850312086998}, distributions={'x': UniformDistribution(high=10.0, low=-10.0)}, user_attrs={}, system_attrs={}, intermediate_values={}, trial_id=18, state=TrialState.COMPLETE, value=None),\n",
       " FrozenTrial(number=19, values=[0.27342165644602845], datetime_start=datetime.datetime(2022, 3, 25, 10, 48, 15, 914935), datetime_complete=datetime.datetime(2022, 3, 25, 10, 48, 15, 917471), params={'x': 2.5228973670291603}, distributions={'x': UniformDistribution(high=10.0, low=-10.0)}, user_attrs={}, system_attrs={}, intermediate_values={}, trial_id=19, state=TrialState.COMPLETE, value=None),\n",
       " FrozenTrial(number=20, values=[120.98981376165045], datetime_start=datetime.datetime(2022, 3, 25, 10, 48, 15, 918237), datetime_complete=datetime.datetime(2022, 3, 25, 10, 48, 15, 920559), params={'x': -8.999536979421018}, distributions={'x': UniformDistribution(high=10.0, low=-10.0)}, user_attrs={}, system_attrs={}, intermediate_values={}, trial_id=20, state=TrialState.COMPLETE, value=None),\n",
       " FrozenTrial(number=21, values=[0.2624764204568393], datetime_start=datetime.datetime(2022, 3, 25, 10, 48, 15, 921307), datetime_complete=datetime.datetime(2022, 3, 25, 10, 48, 15, 923689), params={'x': 2.5123245265033085}, distributions={'x': UniformDistribution(high=10.0, low=-10.0)}, user_attrs={}, system_attrs={}, intermediate_values={}, trial_id=21, state=TrialState.COMPLETE, value=None),\n",
       " FrozenTrial(number=22, values=[0.2601097993975973], datetime_start=datetime.datetime(2022, 3, 25, 10, 48, 15, 924460), datetime_complete=datetime.datetime(2022, 3, 25, 10, 48, 15, 927207), params={'x': 2.5100096071620586}, distributions={'x': UniformDistribution(high=10.0, low=-10.0)}, user_attrs={}, system_attrs={}, intermediate_values={}, trial_id=22, state=TrialState.COMPLETE, value=None),\n",
       " FrozenTrial(number=23, values=[14.120540409922135], datetime_start=datetime.datetime(2022, 3, 25, 10, 48, 15, 927970), datetime_complete=datetime.datetime(2022, 3, 25, 10, 48, 15, 930384), params={'x': -1.7577307527179398}, distributions={'x': UniformDistribution(high=10.0, low=-10.0)}, user_attrs={}, system_attrs={}, intermediate_values={}, trial_id=23, state=TrialState.COMPLETE, value=None),\n",
       " FrozenTrial(number=24, values=[13.904324014587472], datetime_start=datetime.datetime(2022, 3, 25, 10, 48, 15, 931048), datetime_complete=datetime.datetime(2022, 3, 25, 10, 48, 15, 933516), params={'x': 5.728850226891323}, distributions={'x': UniformDistribution(high=10.0, low=-10.0)}, user_attrs={}, system_attrs={}, intermediate_values={}, trial_id=24, state=TrialState.COMPLETE, value=None),\n",
       " FrozenTrial(number=25, values=[0.018753234123874647], datetime_start=datetime.datetime(2022, 3, 25, 10, 48, 15, 935023), datetime_complete=datetime.datetime(2022, 3, 25, 10, 48, 15, 937648), params={'x': 2.136942448217763}, distributions={'x': UniformDistribution(high=10.0, low=-10.0)}, user_attrs={}, system_attrs={}, intermediate_values={}, trial_id=25, state=TrialState.COMPLETE, value=None),\n",
       " FrozenTrial(number=26, values=[10.65880903129337], datetime_start=datetime.datetime(2022, 3, 25, 10, 48, 15, 941751), datetime_complete=datetime.datetime(2022, 3, 25, 10, 48, 15, 945052), params={'x': -1.2647831522619337}, distributions={'x': UniformDistribution(high=10.0, low=-10.0)}, user_attrs={}, system_attrs={}, intermediate_values={}, trial_id=26, state=TrialState.COMPLETE, value=None),\n",
       " FrozenTrial(number=27, values=[0.2044520707059439], datetime_start=datetime.datetime(2022, 3, 25, 10, 48, 15, 947419), datetime_complete=datetime.datetime(2022, 3, 25, 10, 48, 15, 949894), params={'x': 1.54783623463844}, distributions={'x': UniformDistribution(high=10.0, low=-10.0)}, user_attrs={}, system_attrs={}, intermediate_values={}, trial_id=27, state=TrialState.COMPLETE, value=None),\n",
       " FrozenTrial(number=28, values=[43.31932581943193], datetime_start=datetime.datetime(2022, 3, 25, 10, 48, 15, 951295), datetime_complete=datetime.datetime(2022, 3, 25, 10, 48, 15, 953744), params={'x': -4.581741852992407}, distributions={'x': UniformDistribution(high=10.0, low=-10.0)}, user_attrs={}, system_attrs={}, intermediate_values={}, trial_id=28, state=TrialState.COMPLETE, value=None),\n",
       " FrozenTrial(number=29, values=[4.7722085635167355], datetime_start=datetime.datetime(2022, 3, 25, 10, 48, 15, 954375), datetime_complete=datetime.datetime(2022, 3, 25, 10, 48, 15, 956783), params={'x': 4.18453852415487}, distributions={'x': UniformDistribution(high=10.0, low=-10.0)}, user_attrs={}, system_attrs={}, intermediate_values={}, trial_id=29, state=TrialState.COMPLETE, value=None),\n",
       " FrozenTrial(number=30, values=[0.9503997433901645], datetime_start=datetime.datetime(2022, 3, 25, 10, 48, 15, 957456), datetime_complete=datetime.datetime(2022, 3, 25, 10, 48, 15, 960205), params={'x': 1.0251155230540572}, distributions={'x': UniformDistribution(high=10.0, low=-10.0)}, user_attrs={}, system_attrs={}, intermediate_values={}, trial_id=30, state=TrialState.COMPLETE, value=None),\n",
       " FrozenTrial(number=31, values=[0.35278271092120095], datetime_start=datetime.datetime(2022, 3, 25, 10, 48, 15, 961854), datetime_complete=datetime.datetime(2022, 3, 25, 10, 48, 15, 966146), params={'x': 1.4060448578207265}, distributions={'x': UniformDistribution(high=10.0, low=-10.0)}, user_attrs={}, system_attrs={}, intermediate_values={}, trial_id=31, state=TrialState.COMPLETE, value=None),\n",
       " FrozenTrial(number=32, values=[1.5862372218262368], datetime_start=datetime.datetime(2022, 3, 25, 10, 48, 15, 966817), datetime_complete=datetime.datetime(2022, 3, 25, 10, 48, 15, 969416), params={'x': 3.259459098909622}, distributions={'x': UniformDistribution(high=10.0, low=-10.0)}, user_attrs={}, system_attrs={}, intermediate_values={}, trial_id=32, state=TrialState.COMPLETE, value=None),\n",
       " FrozenTrial(number=33, values=[7.855166015803671], datetime_start=datetime.datetime(2022, 3, 25, 10, 48, 15, 970216), datetime_complete=datetime.datetime(2022, 3, 25, 10, 48, 15, 973287), params={'x': 4.802706908651647}, distributions={'x': UniformDistribution(high=10.0, low=-10.0)}, user_attrs={}, system_attrs={}, intermediate_values={}, trial_id=33, state=TrialState.COMPLETE, value=None),\n",
       " FrozenTrial(number=34, values=[0.016545120259395172], datetime_start=datetime.datetime(2022, 3, 25, 10, 48, 15, 973968), datetime_complete=datetime.datetime(2022, 3, 25, 10, 48, 15, 976355), params={'x': 1.8713721637459637}, distributions={'x': UniformDistribution(high=10.0, low=-10.0)}, user_attrs={}, system_attrs={}, intermediate_values={}, trial_id=34, state=TrialState.COMPLETE, value=None),\n",
       " FrozenTrial(number=35, values=[8.672512716928848], datetime_start=datetime.datetime(2022, 3, 25, 10, 48, 15, 977321), datetime_complete=datetime.datetime(2022, 3, 25, 10, 48, 15, 980528), params={'x': -0.9449130236611145}, distributions={'x': UniformDistribution(high=10.0, low=-10.0)}, user_attrs={}, system_attrs={}, intermediate_values={}, trial_id=35, state=TrialState.COMPLETE, value=None),\n",
       " FrozenTrial(number=36, values=[25.174508578055857], datetime_start=datetime.datetime(2022, 3, 25, 10, 48, 15, 981202), datetime_complete=datetime.datetime(2022, 3, 25, 10, 48, 15, 983542), params={'x': 7.01742051038737}, distributions={'x': UniformDistribution(high=10.0, low=-10.0)}, user_attrs={}, system_attrs={}, intermediate_values={}, trial_id=36, state=TrialState.COMPLETE, value=None),\n",
       " FrozenTrial(number=37, values=[0.29779024696432116], datetime_start=datetime.datetime(2022, 3, 25, 10, 48, 15, 984144), datetime_complete=datetime.datetime(2022, 3, 25, 10, 48, 15, 986636), params={'x': 1.4542983901761686}, distributions={'x': UniformDistribution(high=10.0, low=-10.0)}, user_attrs={}, system_attrs={}, intermediate_values={}, trial_id=37, state=TrialState.COMPLETE, value=None),\n",
       " FrozenTrial(number=38, values=[3.2292158268470104], datetime_start=datetime.datetime(2022, 3, 25, 10, 48, 15, 987471), datetime_complete=datetime.datetime(2022, 3, 25, 10, 48, 15, 990401), params={'x': 0.20299810048875847}, distributions={'x': UniformDistribution(high=10.0, low=-10.0)}, user_attrs={}, system_attrs={}, intermediate_values={}, trial_id=38, state=TrialState.COMPLETE, value=None),\n",
       " FrozenTrial(number=39, values=[53.3518333311066], datetime_start=datetime.datetime(2022, 3, 25, 10, 48, 15, 991336), datetime_complete=datetime.datetime(2022, 3, 25, 10, 48, 15, 994095), params={'x': 9.304233931844365}, distributions={'x': UniformDistribution(high=10.0, low=-10.0)}, user_attrs={}, system_attrs={}, intermediate_values={}, trial_id=39, state=TrialState.COMPLETE, value=None),\n",
       " FrozenTrial(number=40, values=[7.110593467860668], datetime_start=datetime.datetime(2022, 3, 25, 10, 48, 15, 994763), datetime_complete=datetime.datetime(2022, 3, 25, 10, 48, 15, 997070), params={'x': 4.666569606790842}, distributions={'x': UniformDistribution(high=10.0, low=-10.0)}, user_attrs={}, system_attrs={}, intermediate_values={}, trial_id=40, state=TrialState.COMPLETE, value=None),\n",
       " FrozenTrial(number=41, values=[0.0005920220305649994], datetime_start=datetime.datetime(2022, 3, 25, 10, 48, 15, 997655), datetime_complete=datetime.datetime(2022, 3, 25, 10, 48, 16, 483), params={'x': 1.975668497157697}, distributions={'x': UniformDistribution(high=10.0, low=-10.0)}, user_attrs={}, system_attrs={}, intermediate_values={}, trial_id=41, state=TrialState.COMPLETE, value=None),\n",
       " FrozenTrial(number=42, values=[0.030162423191019548], datetime_start=datetime.datetime(2022, 3, 25, 10, 48, 16, 1174), datetime_complete=datetime.datetime(2022, 3, 25, 10, 48, 16, 3677), params={'x': 1.8263266768008986}, distributions={'x': UniformDistribution(high=10.0, low=-10.0)}, user_attrs={}, system_attrs={}, intermediate_values={}, trial_id=42, state=TrialState.COMPLETE, value=None),\n",
       " FrozenTrial(number=43, values=[1.4754650462637409], datetime_start=datetime.datetime(2022, 3, 25, 10, 48, 16, 5001), datetime_complete=datetime.datetime(2022, 3, 25, 10, 48, 16, 7566), params={'x': 3.2146872215775306}, distributions={'x': UniformDistribution(high=10.0, low=-10.0)}, user_attrs={}, system_attrs={}, intermediate_values={}, trial_id=43, state=TrialState.COMPLETE, value=None),\n",
       " FrozenTrial(number=44, values=[3.8203621222710007], datetime_start=datetime.datetime(2022, 3, 25, 10, 48, 16, 8335), datetime_complete=datetime.datetime(2022, 3, 25, 10, 48, 16, 10814), params={'x': 0.04542533469017851}, distributions={'x': UniformDistribution(high=10.0, low=-10.0)}, user_attrs={}, system_attrs={}, intermediate_values={}, trial_id=44, state=TrialState.COMPLETE, value=None),\n",
       " FrozenTrial(number=45, values=[2.4770540110051447], datetime_start=datetime.datetime(2022, 3, 25, 10, 48, 16, 11792), datetime_complete=datetime.datetime(2022, 3, 25, 10, 48, 16, 14387), params={'x': 0.42613405557997264}, distributions={'x': UniformDistribution(high=10.0, low=-10.0)}, user_attrs={}, system_attrs={}, intermediate_values={}, trial_id=45, state=TrialState.COMPLETE, value=None),\n",
       " FrozenTrial(number=46, values=[0.014196220816182907], datetime_start=datetime.datetime(2022, 3, 25, 10, 48, 16, 15297), datetime_complete=datetime.datetime(2022, 3, 25, 10, 48, 16, 18078), params={'x': 1.8808521052801062}, distributions={'x': UniformDistribution(high=10.0, low=-10.0)}, user_attrs={}, system_attrs={}, intermediate_values={}, trial_id=46, state=TrialState.COMPLETE, value=None),\n",
       " FrozenTrial(number=47, values=[3.135586330694308], datetime_start=datetime.datetime(2022, 3, 25, 10, 48, 16, 18838), datetime_complete=datetime.datetime(2022, 3, 25, 10, 48, 16, 21355), params={'x': 3.770758687877687}, distributions={'x': UniformDistribution(high=10.0, low=-10.0)}, user_attrs={}, system_attrs={}, intermediate_values={}, trial_id=47, state=TrialState.COMPLETE, value=None),\n",
       " FrozenTrial(number=48, values=[8.87477136760603], datetime_start=datetime.datetime(2022, 3, 25, 10, 48, 16, 21999), datetime_complete=datetime.datetime(2022, 3, 25, 10, 48, 16, 24586), params={'x': -0.9790554488975245}, distributions={'x': UniformDistribution(high=10.0, low=-10.0)}, user_attrs={}, system_attrs={}, intermediate_values={}, trial_id=48, state=TrialState.COMPLETE, value=None),\n",
       " FrozenTrial(number=49, values=[0.00544079397541194], datetime_start=datetime.datetime(2022, 3, 25, 10, 48, 16, 25211), datetime_complete=datetime.datetime(2022, 3, 25, 10, 48, 16, 27798), params={'x': 2.073761737882265}, distributions={'x': UniformDistribution(high=10.0, low=-10.0)}, user_attrs={}, system_attrs={}, intermediate_values={}, trial_id=49, state=TrialState.COMPLETE, value=None),\n",
       " FrozenTrial(number=50, values=[9.55578593159797], datetime_start=datetime.datetime(2022, 3, 25, 10, 48, 16, 28702), datetime_complete=datetime.datetime(2022, 3, 25, 10, 48, 16, 31318), params={'x': 5.091243428071942}, distributions={'x': UniformDistribution(high=10.0, low=-10.0)}, user_attrs={}, system_attrs={}, intermediate_values={}, trial_id=50, state=TrialState.COMPLETE, value=None),\n",
       " FrozenTrial(number=51, values=[0.0016119668648977563], datetime_start=datetime.datetime(2022, 3, 25, 10, 48, 16, 32042), datetime_complete=datetime.datetime(2022, 3, 25, 10, 48, 16, 34614), params={'x': 1.9598506928466037}, distributions={'x': UniformDistribution(high=10.0, low=-10.0)}, user_attrs={}, system_attrs={}, intermediate_values={}, trial_id=51, state=TrialState.COMPLETE, value=None),\n",
       " FrozenTrial(number=52, values=[1.29123060050903], datetime_start=datetime.datetime(2022, 3, 25, 10, 48, 16, 35367), datetime_complete=datetime.datetime(2022, 3, 25, 10, 48, 16, 38194), params={'x': 3.1363232816892515}, distributions={'x': UniformDistribution(high=10.0, low=-10.0)}, user_attrs={}, system_attrs={}, intermediate_values={}, trial_id=52, state=TrialState.COMPLETE, value=None),\n",
       " FrozenTrial(number=53, values=[0.019511022490294596], datetime_start=datetime.datetime(2022, 3, 25, 10, 48, 16, 39277), datetime_complete=datetime.datetime(2022, 3, 25, 10, 48, 16, 41781), params={'x': 2.1396818617082927}, distributions={'x': UniformDistribution(high=10.0, low=-10.0)}, user_attrs={}, system_attrs={}, intermediate_values={}, trial_id=53, state=TrialState.COMPLETE, value=None),\n",
       " FrozenTrial(number=54, values=[4.166126670425792], datetime_start=datetime.datetime(2022, 3, 25, 10, 48, 16, 42528), datetime_complete=datetime.datetime(2022, 3, 25, 10, 48, 16, 44863), params={'x': 4.0411091765081535}, distributions={'x': UniformDistribution(high=10.0, low=-10.0)}, user_attrs={}, system_attrs={}, intermediate_values={}, trial_id=54, state=TrialState.COMPLETE, value=None),\n",
       " FrozenTrial(number=55, values=[1.674163156851305], datetime_start=datetime.datetime(2022, 3, 25, 10, 48, 16, 45464), datetime_complete=datetime.datetime(2022, 3, 25, 10, 48, 16, 48204), params={'x': 0.7061054305503462}, distributions={'x': UniformDistribution(high=10.0, low=-10.0)}, user_attrs={}, system_attrs={}, intermediate_values={}, trial_id=55, state=TrialState.COMPLETE, value=None),\n",
       " FrozenTrial(number=56, values=[15.484111425243997], datetime_start=datetime.datetime(2022, 3, 25, 10, 48, 16, 49618), datetime_complete=datetime.datetime(2022, 3, 25, 10, 48, 16, 52443), params={'x': -1.9349855686195339}, distributions={'x': UniformDistribution(high=10.0, low=-10.0)}, user_attrs={}, system_attrs={}, intermediate_values={}, trial_id=56, state=TrialState.COMPLETE, value=None),\n",
       " FrozenTrial(number=57, values=[1.080643173481809], datetime_start=datetime.datetime(2022, 3, 25, 10, 48, 16, 53327), datetime_complete=datetime.datetime(2022, 3, 25, 10, 48, 16, 56104), params={'x': 3.0395398854694364}, distributions={'x': UniformDistribution(high=10.0, low=-10.0)}, user_attrs={}, system_attrs={}, intermediate_values={}, trial_id=57, state=TrialState.COMPLETE, value=None),\n",
       " FrozenTrial(number=58, values=[6.749497343425808], datetime_start=datetime.datetime(2022, 3, 25, 10, 48, 16, 56786), datetime_complete=datetime.datetime(2022, 3, 25, 10, 48, 16, 59230), params={'x': -0.5979794732495112}, distributions={'x': UniformDistribution(high=10.0, low=-10.0)}, user_attrs={}, system_attrs={}, intermediate_values={}, trial_id=58, state=TrialState.COMPLETE, value=None),\n",
       " FrozenTrial(number=59, values=[0.08146011465314448], datetime_start=datetime.datetime(2022, 3, 25, 10, 48, 16, 60103), datetime_complete=datetime.datetime(2022, 3, 25, 10, 48, 16, 63043), params={'x': 2.2854121837853887}, distributions={'x': UniformDistribution(high=10.0, low=-10.0)}, user_attrs={}, system_attrs={}, intermediate_values={}, trial_id=59, state=TrialState.COMPLETE, value=None),\n",
       " FrozenTrial(number=60, values=[38.224708967619776], datetime_start=datetime.datetime(2022, 3, 25, 10, 48, 16, 63964), datetime_complete=datetime.datetime(2022, 3, 25, 10, 48, 16, 66975), params={'x': 8.18261344154879}, distributions={'x': UniformDistribution(high=10.0, low=-10.0)}, user_attrs={}, system_attrs={}, intermediate_values={}, trial_id=60, state=TrialState.COMPLETE, value=None),\n",
       " FrozenTrial(number=61, values=[0.0005521519447554876], datetime_start=datetime.datetime(2022, 3, 25, 10, 48, 16, 67788), datetime_complete=datetime.datetime(2022, 3, 25, 10, 48, 16, 70386), params={'x': 1.9765020863744143}, distributions={'x': UniformDistribution(high=10.0, low=-10.0)}, user_attrs={}, system_attrs={}, intermediate_values={}, trial_id=61, state=TrialState.COMPLETE, value=None),\n",
       " FrozenTrial(number=62, values=[0.051298745870258566], datetime_start=datetime.datetime(2022, 3, 25, 10, 48, 16, 71357), datetime_complete=datetime.datetime(2022, 3, 25, 10, 48, 16, 74796), params={'x': 2.226492264482164}, distributions={'x': UniformDistribution(high=10.0, low=-10.0)}, user_attrs={}, system_attrs={}, intermediate_values={}, trial_id=62, state=TrialState.COMPLETE, value=None),\n",
       " FrozenTrial(number=63, values=[1.2937806128135108], datetime_start=datetime.datetime(2022, 3, 25, 10, 48, 16, 75486), datetime_complete=datetime.datetime(2022, 3, 25, 10, 48, 16, 77917), params={'x': 0.8625552264775618}, distributions={'x': UniformDistribution(high=10.0, low=-10.0)}, user_attrs={}, system_attrs={}, intermediate_values={}, trial_id=63, state=TrialState.COMPLETE, value=None),\n",
       " FrozenTrial(number=64, values=[4.9025562926276365], datetime_start=datetime.datetime(2022, 3, 25, 10, 48, 16, 78536), datetime_complete=datetime.datetime(2022, 3, 25, 10, 48, 16, 81242), params={'x': -0.21417169447801299}, distributions={'x': UniformDistribution(high=10.0, low=-10.0)}, user_attrs={}, system_attrs={}, intermediate_values={}, trial_id=64, state=TrialState.COMPLETE, value=None),\n",
       " FrozenTrial(number=65, values=[0.5207537122583946], datetime_start=datetime.datetime(2022, 3, 25, 10, 48, 16, 81918), datetime_complete=datetime.datetime(2022, 3, 25, 10, 48, 16, 84416), params={'x': 1.2783673287202175}, distributions={'x': UniformDistribution(high=10.0, low=-10.0)}, user_attrs={}, system_attrs={}, intermediate_values={}, trial_id=65, state=TrialState.COMPLETE, value=None),\n",
       " FrozenTrial(number=66, values=[2.580200658814998], datetime_start=datetime.datetime(2022, 3, 25, 10, 48, 16, 85384), datetime_complete=datetime.datetime(2022, 3, 25, 10, 48, 16, 87995), params={'x': 3.6063003015672375}, distributions={'x': UniformDistribution(high=10.0, low=-10.0)}, user_attrs={}, system_attrs={}, intermediate_values={}, trial_id=66, state=TrialState.COMPLETE, value=None),\n",
       " FrozenTrial(number=67, values=[0.378454095182076], datetime_start=datetime.datetime(2022, 3, 25, 10, 48, 16, 88644), datetime_complete=datetime.datetime(2022, 3, 25, 10, 48, 16, 90919), params={'x': 2.6151862280497475}, distributions={'x': UniformDistribution(high=10.0, low=-10.0)}, user_attrs={}, system_attrs={}, intermediate_values={}, trial_id=67, state=TrialState.COMPLETE, value=None),\n",
       " FrozenTrial(number=68, values=[0.0077082459305297295], datetime_start=datetime.datetime(2022, 3, 25, 10, 48, 16, 91509), datetime_complete=datetime.datetime(2022, 3, 25, 10, 48, 16, 94895), params={'x': 1.9122033831487242}, distributions={'x': UniformDistribution(high=10.0, low=-10.0)}, user_attrs={}, system_attrs={}, intermediate_values={}, trial_id=68, state=TrialState.COMPLETE, value=None),\n",
       " FrozenTrial(number=69, values=[2.5556435828260553], datetime_start=datetime.datetime(2022, 3, 25, 10, 48, 16, 95656), datetime_complete=datetime.datetime(2022, 3, 25, 10, 48, 16, 98144), params={'x': 0.4013619600340872}, distributions={'x': UniformDistribution(high=10.0, low=-10.0)}, user_attrs={}, system_attrs={}, intermediate_values={}, trial_id=69, state=TrialState.COMPLETE, value=None),\n",
       " FrozenTrial(number=70, values=[6.171841378599189], datetime_start=datetime.datetime(2022, 3, 25, 10, 48, 16, 98865), datetime_complete=datetime.datetime(2022, 3, 25, 10, 48, 16, 101428), params={'x': 4.484319097579695}, distributions={'x': UniformDistribution(high=10.0, low=-10.0)}, user_attrs={}, system_attrs={}, intermediate_values={}, trial_id=70, state=TrialState.COMPLETE, value=None),\n",
       " FrozenTrial(number=71, values=[0.013642372909762467], datetime_start=datetime.datetime(2022, 3, 25, 10, 48, 16, 102178), datetime_complete=datetime.datetime(2022, 3, 25, 10, 48, 16, 104964), params={'x': 1.8831994310383615}, distributions={'x': UniformDistribution(high=10.0, low=-10.0)}, user_attrs={}, system_attrs={}, intermediate_values={}, trial_id=71, state=TrialState.COMPLETE, value=None),\n",
       " FrozenTrial(number=72, values=[0.029438585915107614], datetime_start=datetime.datetime(2022, 3, 25, 10, 48, 16, 105900), datetime_complete=datetime.datetime(2022, 3, 25, 10, 48, 16, 109058), params={'x': 1.8284232360862707}, distributions={'x': UniformDistribution(high=10.0, low=-10.0)}, user_attrs={}, system_attrs={}, intermediate_values={}, trial_id=72, state=TrialState.COMPLETE, value=None),\n",
       " FrozenTrial(number=73, values=[0.8053089481955138], datetime_start=datetime.datetime(2022, 3, 25, 10, 48, 16, 109996), datetime_complete=datetime.datetime(2022, 3, 25, 10, 48, 16, 112634), params={'x': 2.8973900758285183}, distributions={'x': UniformDistribution(high=10.0, low=-10.0)}, user_attrs={}, system_attrs={}, intermediate_values={}, trial_id=73, state=TrialState.COMPLETE, value=None),\n",
       " FrozenTrial(number=74, values=[0.971124607548776], datetime_start=datetime.datetime(2022, 3, 25, 10, 48, 16, 113508), datetime_complete=datetime.datetime(2022, 3, 25, 10, 48, 16, 116588), params={'x': 1.0145434522269507}, distributions={'x': UniformDistribution(high=10.0, low=-10.0)}, user_attrs={}, system_attrs={}, intermediate_values={}, trial_id=74, state=TrialState.COMPLETE, value=None),\n",
       " FrozenTrial(number=75, values=[1.9267374301017675], datetime_start=datetime.datetime(2022, 3, 25, 10, 48, 16, 117648), datetime_complete=datetime.datetime(2022, 3, 25, 10, 48, 16, 121681), params={'x': 3.3880696776825605}, distributions={'x': UniformDistribution(high=10.0, low=-10.0)}, user_attrs={}, system_attrs={}, intermediate_values={}, trial_id=75, state=TrialState.COMPLETE, value=None),\n",
       " FrozenTrial(number=76, values=[0.20378169930908183], datetime_start=datetime.datetime(2022, 3, 25, 10, 48, 16, 122428), datetime_complete=datetime.datetime(2022, 3, 25, 10, 48, 16, 125154), params={'x': 1.5485781359868778}, distributions={'x': UniformDistribution(high=10.0, low=-10.0)}, user_attrs={}, system_attrs={}, intermediate_values={}, trial_id=76, state=TrialState.COMPLETE, value=None),\n",
       " FrozenTrial(number=77, values=[11.954816313048413], datetime_start=datetime.datetime(2022, 3, 25, 10, 48, 16, 126085), datetime_complete=datetime.datetime(2022, 3, 25, 10, 48, 16, 129882), params={'x': 5.457573761042331}, distributions={'x': UniformDistribution(high=10.0, low=-10.0)}, user_attrs={}, system_attrs={}, intermediate_values={}, trial_id=77, state=TrialState.COMPLETE, value=None),\n",
       " FrozenTrial(number=78, values=[68.66435959663995], datetime_start=datetime.datetime(2022, 3, 25, 10, 48, 16, 130755), datetime_complete=datetime.datetime(2022, 3, 25, 10, 48, 16, 133927), params={'x': -6.2863960559847705}, distributions={'x': UniformDistribution(high=10.0, low=-10.0)}, user_attrs={}, system_attrs={}, intermediate_values={}, trial_id=78, state=TrialState.COMPLETE, value=None),\n",
       " FrozenTrial(number=79, values=[0.0038799838541803957], datetime_start=datetime.datetime(2022, 3, 25, 10, 48, 16, 135016), datetime_complete=datetime.datetime(2022, 3, 25, 10, 48, 16, 138403), params={'x': 1.9377104835933012}, distributions={'x': UniformDistribution(high=10.0, low=-10.0)}, user_attrs={}, system_attrs={}, intermediate_values={}, trial_id=79, state=TrialState.COMPLETE, value=None),\n",
       " FrozenTrial(number=80, values=[14.095794429262398], datetime_start=datetime.datetime(2022, 3, 25, 10, 48, 16, 139150), datetime_complete=datetime.datetime(2022, 3, 25, 10, 48, 16, 142000), params={'x': -1.75443663274031}, distributions={'x': UniformDistribution(high=10.0, low=-10.0)}, user_attrs={}, system_attrs={}, intermediate_values={}, trial_id=80, state=TrialState.COMPLETE, value=None),\n",
       " FrozenTrial(number=81, values=[0.024503225566100777], datetime_start=datetime.datetime(2022, 3, 25, 10, 48, 16, 143602), datetime_complete=datetime.datetime(2022, 3, 25, 10, 48, 16, 146618), params={'x': 1.8434649382211743}, distributions={'x': UniformDistribution(high=10.0, low=-10.0)}, user_attrs={}, system_attrs={}, intermediate_values={}, trial_id=81, state=TrialState.COMPLETE, value=None),\n",
       " FrozenTrial(number=82, values=[0.2878092987092337], datetime_start=datetime.datetime(2022, 3, 25, 10, 48, 16, 148007), datetime_complete=datetime.datetime(2022, 3, 25, 10, 48, 16, 151772), params={'x': 2.536478609740625}, distributions={'x': UniformDistribution(high=10.0, low=-10.0)}, user_attrs={}, system_attrs={}, intermediate_values={}, trial_id=82, state=TrialState.COMPLETE, value=None),\n",
       " FrozenTrial(number=83, values=[1.4538253767251106], datetime_start=datetime.datetime(2022, 3, 25, 10, 48, 16, 152617), datetime_complete=datetime.datetime(2022, 3, 25, 10, 48, 16, 155819), params={'x': 0.7942531871387299}, distributions={'x': UniformDistribution(high=10.0, low=-10.0)}, user_attrs={}, system_attrs={}, intermediate_values={}, trial_id=83, state=TrialState.COMPLETE, value=None),\n",
       " FrozenTrial(number=84, values=[4.342731266257688], datetime_start=datetime.datetime(2022, 3, 25, 10, 48, 16, 156612), datetime_complete=datetime.datetime(2022, 3, 25, 10, 48, 16, 159338), params={'x': 4.083922087376994}, distributions={'x': UniformDistribution(high=10.0, low=-10.0)}, user_attrs={}, system_attrs={}, intermediate_values={}, trial_id=84, state=TrialState.COMPLETE, value=None),\n",
       " FrozenTrial(number=85, values=[3.9634870202843158], datetime_start=datetime.datetime(2022, 3, 25, 10, 48, 16, 160526), datetime_complete=datetime.datetime(2022, 3, 25, 10, 48, 16, 163432), params={'x': 0.009149171764917072}, distributions={'x': UniformDistribution(high=10.0, low=-10.0)}, user_attrs={}, system_attrs={}, intermediate_values={}, trial_id=85, state=TrialState.COMPLETE, value=None),\n",
       " FrozenTrial(number=86, values=[0.4865041381781707], datetime_start=datetime.datetime(2022, 3, 25, 10, 48, 16, 164767), datetime_complete=datetime.datetime(2022, 3, 25, 10, 48, 16, 167883), params={'x': 1.3025015138524165}, distributions={'x': UniformDistribution(high=10.0, low=-10.0)}, user_attrs={}, system_attrs={}, intermediate_values={}, trial_id=86, state=TrialState.COMPLETE, value=None),\n",
       " FrozenTrial(number=87, values=[0.00026332743959996173], datetime_start=datetime.datetime(2022, 3, 25, 10, 48, 16, 169207), datetime_complete=datetime.datetime(2022, 3, 25, 10, 48, 16, 172300), params={'x': 1.9837726330047059}, distributions={'x': UniformDistribution(high=10.0, low=-10.0)}, user_attrs={}, system_attrs={}, intermediate_values={}, trial_id=87, state=TrialState.COMPLETE, value=None),\n",
       " FrozenTrial(number=88, values=[0.6380466911711731], datetime_start=datetime.datetime(2022, 3, 25, 10, 48, 16, 173486), datetime_complete=datetime.datetime(2022, 3, 25, 10, 48, 16, 177352), params={'x': 2.7987782490598834}, distributions={'x': UniformDistribution(high=10.0, low=-10.0)}, user_attrs={}, system_attrs={}, intermediate_values={}, trial_id=88, state=TrialState.COMPLETE, value=None),\n",
       " FrozenTrial(number=89, values=[2.7244448034152704], datetime_start=datetime.datetime(2022, 3, 25, 10, 48, 16, 178575), datetime_complete=datetime.datetime(2022, 3, 25, 10, 48, 16, 182949), params={'x': 3.6505892291588693}, distributions={'x': UniformDistribution(high=10.0, low=-10.0)}, user_attrs={}, system_attrs={}, intermediate_values={}, trial_id=89, state=TrialState.COMPLETE, value=None),\n",
       " FrozenTrial(number=90, values=[2.3039086624687917], datetime_start=datetime.datetime(2022, 3, 25, 10, 48, 16, 184105), datetime_complete=datetime.datetime(2022, 3, 25, 10, 48, 16, 187167), params={'x': 0.48213681035845934}, distributions={'x': UniformDistribution(high=10.0, low=-10.0)}, user_attrs={}, system_attrs={}, intermediate_values={}, trial_id=90, state=TrialState.COMPLETE, value=None),\n",
       " FrozenTrial(number=91, values=[0.00922304592073238], datetime_start=datetime.datetime(2022, 3, 25, 10, 48, 16, 188577), datetime_complete=datetime.datetime(2022, 3, 25, 10, 48, 16, 192213), params={'x': 1.9039633095076034}, distributions={'x': UniformDistribution(high=10.0, low=-10.0)}, user_attrs={}, system_attrs={}, intermediate_values={}, trial_id=91, state=TrialState.COMPLETE, value=None),\n",
       " FrozenTrial(number=92, values=[0.031320863187845084], datetime_start=datetime.datetime(2022, 3, 25, 10, 48, 16, 193265), datetime_complete=datetime.datetime(2022, 3, 25, 10, 48, 16, 196289), params={'x': 1.8230229868377108}, distributions={'x': UniformDistribution(high=10.0, low=-10.0)}, user_attrs={}, system_attrs={}, intermediate_values={}, trial_id=92, state=TrialState.COMPLETE, value=None),\n",
       " FrozenTrial(number=93, values=[0.059008612513162105], datetime_start=datetime.datetime(2022, 3, 25, 10, 48, 16, 197360), datetime_complete=datetime.datetime(2022, 3, 25, 10, 48, 16, 201494), params={'x': 2.242916883960671}, distributions={'x': UniformDistribution(high=10.0, low=-10.0)}, user_attrs={}, system_attrs={}, intermediate_values={}, trial_id=93, state=TrialState.COMPLETE, value=None),\n",
       " FrozenTrial(number=94, values=[0.6451498583298387], datetime_start=datetime.datetime(2022, 3, 25, 10, 48, 16, 202251), datetime_complete=datetime.datetime(2022, 3, 25, 10, 48, 16, 205560), params={'x': 1.1967877874871182}, distributions={'x': UniformDistribution(high=10.0, low=-10.0)}, user_attrs={}, system_attrs={}, intermediate_values={}, trial_id=94, state=TrialState.COMPLETE, value=None),\n",
       " FrozenTrial(number=95, values=[1.365820079820038], datetime_start=datetime.datetime(2022, 3, 25, 10, 48, 16, 206763), datetime_complete=datetime.datetime(2022, 3, 25, 10, 48, 16, 210612), params={'x': 3.168683053620629}, distributions={'x': UniformDistribution(high=10.0, low=-10.0)}, user_attrs={}, system_attrs={}, intermediate_values={}, trial_id=95, state=TrialState.COMPLETE, value=None),\n",
       " FrozenTrial(number=96, values=[6.7981586550129265], datetime_start=datetime.datetime(2022, 3, 25, 10, 48, 16, 212064), datetime_complete=datetime.datetime(2022, 3, 25, 10, 48, 16, 215913), params={'x': -0.6073278763924046}, distributions={'x': UniformDistribution(high=10.0, low=-10.0)}, user_attrs={}, system_attrs={}, intermediate_values={}, trial_id=96, state=TrialState.COMPLETE, value=None),\n",
       " FrozenTrial(number=97, values=[0.2997044264034223], datetime_start=datetime.datetime(2022, 3, 25, 10, 48, 16, 217423), datetime_complete=datetime.datetime(2022, 3, 25, 10, 48, 16, 220131), params={'x': 2.5474526704688016}, distributions={'x': UniformDistribution(high=10.0, low=-10.0)}, user_attrs={}, system_attrs={}, intermediate_values={}, trial_id=97, state=TrialState.COMPLETE, value=None),\n",
       " FrozenTrial(number=98, values=[1.694809568319864], datetime_start=datetime.datetime(2022, 3, 25, 10, 48, 16, 220736), datetime_complete=datetime.datetime(2022, 3, 25, 10, 48, 16, 223160), params={'x': 0.6981514802712783}, distributions={'x': UniformDistribution(high=10.0, low=-10.0)}, user_attrs={}, system_attrs={}, intermediate_values={}, trial_id=98, state=TrialState.COMPLETE, value=None),\n",
       " FrozenTrial(number=99, values=[0.020684382434220893], datetime_start=datetime.datetime(2022, 3, 25, 10, 48, 16, 224090), datetime_complete=datetime.datetime(2022, 3, 25, 10, 48, 16, 227299), params={'x': 2.143820660665361}, distributions={'x': UniformDistribution(high=10.0, low=-10.0)}, user_attrs={}, system_attrs={}, intermediate_values={}, trial_id=99, state=TrialState.COMPLETE, value=None)]"
      ]
     },
     "metadata": {},
     "execution_count": 6
    }
   ],
   "metadata": {}
  }
 ],
 "metadata": {
  "orig_nbformat": 4,
  "language_info": {
   "name": "python",
   "version": "3.7.11",
   "mimetype": "text/x-python",
   "codemirror_mode": {
    "name": "ipython",
    "version": 3
   },
   "pygments_lexer": "ipython3",
   "nbconvert_exporter": "python",
   "file_extension": ".py"
  },
  "kernelspec": {
   "name": "python3",
   "display_name": "Python 3.7.11 64-bit ('eann': conda)"
  },
  "interpreter": {
   "hash": "465fa90a28663a9eacb4f6b007ef9489041ea648cb9c03179d70018ef7b6160c"
  }
 },
 "nbformat": 4,
 "nbformat_minor": 2
}